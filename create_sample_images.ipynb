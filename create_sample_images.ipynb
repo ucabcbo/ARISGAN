{
 "cells": [
  {
   "cell_type": "code",
   "execution_count": null,
   "metadata": {},
   "outputs": [],
   "source": [
    "EXPERIMENT = 'aris-c/land/s3'\n",
    "# TIMESTAMP = '0731-1633'\n"
   ]
  },
  {
   "cell_type": "code",
   "execution_count": null,
   "metadata": {},
   "outputs": [],
   "source": [
    "import sys\n",
    "import os\n",
    "import json\n",
    "sys.path.append(os.getcwd())\n",
    "\n",
    "from environment import Environment\n",
    "\n",
    "env = Environment()\n",
    "\n",
    "import tensorflow as tf\n",
    "\n",
    "import importlib\n",
    "import pandas as pd\n",
    "\n",
    "from experiment import Experiment\n",
    "from dataset import Reader\n",
    "import toolbox as tbx\n",
    "\n",
    "from models import metrics\n"
   ]
  },
  {
   "cell_type": "code",
   "execution_count": null,
   "metadata": {},
   "outputs": [],
   "source": [
    "experiment_root = os.path.join(env.EXPERIMENT_ROOT, EXPERIMENT)\n",
    "\n",
    "try:\n",
    "    timestamp = TIMESTAMP\n",
    "except:\n",
    "    timestamp = max(os.listdir(os.path.join(experiment_root, 'ckpt')))\n",
    "\n",
    "exp = Experiment(experiment_root, EXPERIMENT, timestamp, restore=True)\n"
   ]
  },
  {
   "cell_type": "code",
   "execution_count": null,
   "metadata": {},
   "outputs": [],
   "source": [
    "modules = []\n",
    "for filename in os.listdir(os.path.join(exp.PROJECT_ROOT, 'models')):\n",
    "    if filename.endswith('.py'):\n",
    "        module_name = filename[:-3]\n",
    "        modules.append(importlib.import_module(\".\" + module_name, package='models'))\n",
    "\n",
    "model = None\n",
    "for module in modules:\n",
    "    if module.__name__[-len(exp.MODEL_NAME):] == exp.MODEL_NAME:\n",
    "        model = module.GAN(exp)\n",
    "assert model is not None\n",
    "\n",
    "generator:tf.keras.Model = model.generator\n",
    "discriminator:tf.keras.Model = model.discriminator\n"
   ]
  },
  {
   "cell_type": "code",
   "execution_count": null,
   "metadata": {},
   "outputs": [],
   "source": [
    "dataset_reader = Reader(exp, 'create_sample_images.py')\n",
    "train_dataset = dataset_reader.train_dataset\n",
    "test_dataset = dataset_reader.test_dataset\n"
   ]
  },
  {
   "cell_type": "code",
   "execution_count": null,
   "metadata": {},
   "outputs": [],
   "source": [
    "checkpoint = tf.train.Checkpoint(\n",
    "    generator_optimizer=model.generator_optimizer,\n",
    "    discriminator_optimizer=model.discriminator_optimizer,\n",
    "    generator=generator,\n",
    "    discriminator=discriminator,\n",
    "    step=tf.Variable(0, dtype=tf.int64))\n",
    "\n",
    "stepoffset = 0\n",
    "latest_checkpoint = None\n",
    "\n",
    "print('Trying to restore: ' + os.path.join(exp.output.CKPT))\n",
    "latest_checkpoint = tf.train.latest_checkpoint(os.path.join(exp.output.CKPT))\n",
    "checkpoint.restore(latest_checkpoint).expect_partial()\n",
    "stepoffset = int(checkpoint.step)\n",
    "print(\"Loaded checkpoint:\", latest_checkpoint)\n",
    "print(\"Continue at step:\", stepoffset)\n"
   ]
  },
  {
   "cell_type": "code",
   "execution_count": null,
   "metadata": {},
   "outputs": [],
   "source": [
    "from matplotlib import pyplot as plt\n",
    "\n",
    "os.makedirs(os.path.join(env.EXPERIMENT_ROOT, EXPERIMENT, 'test/'), exist_ok=True)\n",
    "\n",
    "for step, (example_target, example_input) in test_dataset.enumerate():\n",
    "    print(os.path.join(env.EXPERIMENT_ROOT, EXPERIMENT, 'test/', f'{int(step)}.png'))\n",
    "\n",
    "    prediction = generator(example_input, training=False)\n",
    "\n",
    "    num_images = 5\n",
    "\n",
    "    fig, ax = plt.subplots(num_images, 3, figsize=(15,5*num_images))\n",
    "\n",
    "    for i in range(num_images):\n",
    "        display_list = [example_input[i], example_target[i], prediction[i]]\n",
    "        tempax = ax[i] if num_images > 1 else ax\n",
    "\n",
    "        # Change to color profile S3 for Sentinel-3 input images\n",
    "        # Change to color profile S2 for Sentinel-2 input images\n",
    "        tbx.plot_tensor(display_list[0], tbx.RGBProfile.S3, ax=tempax[0])\n",
    "        tempax[0].set_title('Input Image')\n",
    "        tempax[0].axis('off')\n",
    "\n",
    "        tbx.plot_tensor(display_list[1], tbx.RGBProfile.S2, ax=tempax[1])\n",
    "        tempax[1].set_title('Ground Truth')\n",
    "        tempax[1].axis('off')\n",
    "\n",
    "        tbx.plot_tensor(display_list[2], tbx.RGBProfile.S2, ax=tempax[2])\n",
    "        tempax[2].set_title('Predicted Image')\n",
    "        tempax[2].axis('off')\n",
    "\n",
    "    plt.tight_layout()\n",
    "    plt.savefig(os.path.join(env.EXPERIMENT_ROOT, EXPERIMENT, 'test/', f'{int(step)}.png'))\n",
    "    plt.close()\n"
   ]
  },
  {
   "cell_type": "code",
   "execution_count": null,
   "metadata": {},
   "outputs": [],
   "source": []
  }
 ],
 "metadata": {
  "kernelspec": {
   "display_name": "pygdal38",
   "language": "python",
   "name": "python3"
  },
  "language_info": {
   "codemirror_mode": {
    "name": "ipython",
    "version": 3
   },
   "file_extension": ".py",
   "mimetype": "text/x-python",
   "name": "python",
   "nbconvert_exporter": "python",
   "pygments_lexer": "ipython3",
   "version": "3.8.16"
  },
  "orig_nbformat": 4
 },
 "nbformat": 4,
 "nbformat_minor": 2
}
