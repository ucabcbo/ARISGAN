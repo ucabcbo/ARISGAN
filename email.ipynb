{
 "cells": [
  {
   "cell_type": "code",
   "execution_count": 7,
   "metadata": {},
   "outputs": [
    {
     "name": "stdout",
     "output_type": "stream",
     "text": [
      "Email sent successfully!\n"
     ]
    }
   ],
   "source": [
    "import os\n",
    "import smtplib\n",
    "from email.mime.text import MIMEText\n",
    "\n",
    "def send_email(subject, body, sender_email, receiver_email, password):\n",
    "    message = MIMEText(body)\n",
    "    message[\"Subject\"] = subject\n",
    "    message[\"From\"] = sender_email\n",
    "    message[\"To\"] = receiver_email\n",
    "\n",
    "    try:\n",
    "        server = smtplib.SMTP(\"smtp.gmail.com\", 587)\n",
    "        server.starttls()\n",
    "        server.login(sender_email, password)\n",
    "        server.sendmail(sender_email, [receiver_email], message.as_string())\n",
    "        print(\"Email sent successfully!\")\n",
    "    except Exception as e:\n",
    "        print(f\"Error sending email: {e}\")\n",
    "    finally:\n",
    "        server.quit()\n",
    "\n",
    "# Example usage:\n",
    "subject = \"Job Completed\"\n",
    "body = \"Your job has been completed successfully.\"\n",
    "sender_email = \"c49040@gmail.com\"\n",
    "receiver_email = \"ucabcbo@ucl.ac.uk\"\n",
    "password = os.environ.get(\"EMAIL_PASSWORD\")\n",
    "\n",
    "send_email(subject, body, sender_email, receiver_email, password)\n"
   ]
  },
  {
   "cell_type": "code",
   "execution_count": 2,
   "metadata": {},
   "outputs": [],
   "source": [
    "def send_email(subject, body, sender_email:str='c49040@gmail.com', receiver_email:str='ucabcbo@ucl.ac.uk', password:str=None):\n",
    "    import smtplib\n",
    "    import os\n",
    "    from email.mime.text import MIMEText\n",
    "\n",
    "    message = MIMEText(body)\n",
    "    message['Subject'] = subject\n",
    "    message['From'] = sender_email\n",
    "    message['To'] = receiver_email\n",
    "\n",
    "    if password is None:\n",
    "        password = os.environ.get(\"EMAIL_PASSWORD\")\n",
    "\n",
    "    # try:\n",
    "    server = smtplib.SMTP('smtp.gmail.com', 587)\n",
    "    server.starttls()\n",
    "    server.login(sender_email, password)\n",
    "    server.sendmail(sender_email, [receiver_email], message.as_string())\n",
    "    print('Email sent successfully!')\n",
    "    # except Exception as e:\n",
    "    #     print(f'Error sending email: {e}')\n",
    "    # finally:\n",
    "    #     server.quit()\n",
    "\n"
   ]
  },
  {
   "cell_type": "code",
   "execution_count": 4,
   "metadata": {},
   "outputs": [
    {
     "name": "stdout",
     "output_type": "stream",
     "text": [
      "None\n"
     ]
    }
   ],
   "source": [
    "import os\n",
    "print(os.environ.get(\"EMAIL_PASSWORD\"))"
   ]
  },
  {
   "cell_type": "code",
   "execution_count": 10,
   "metadata": {},
   "outputs": [
    {
     "ename": "AttributeError",
     "evalue": "'NoneType' object has no attribute 'encode'",
     "output_type": "error",
     "traceback": [
      "\u001b[0;31m---------------------------------------------------------------------------\u001b[0m",
      "\u001b[0;31mAttributeError\u001b[0m                            Traceback (most recent call last)",
      "Cell \u001b[0;32mIn[10], line 3\u001b[0m\n\u001b[1;32m      1\u001b[0m \u001b[39mimport\u001b[39;00m \u001b[39mtoolbox\u001b[39;00m \u001b[39mas\u001b[39;00m \u001b[39mtbx\u001b[39;00m\n\u001b[0;32m----> 3\u001b[0m send_email(\u001b[39m'\u001b[39;49m\u001b[39mtest\u001b[39;49m\u001b[39m'\u001b[39;49m, \u001b[39m'\u001b[39;49m\u001b[39mtest\u001b[39;49m\u001b[39m'\u001b[39;49m)\n",
      "Cell \u001b[0;32mIn[2], line 17\u001b[0m, in \u001b[0;36msend_email\u001b[0;34m(subject, body, sender_email, receiver_email, password)\u001b[0m\n\u001b[1;32m     15\u001b[0m server \u001b[39m=\u001b[39m smtplib\u001b[39m.\u001b[39mSMTP(\u001b[39m'\u001b[39m\u001b[39msmtp.gmail.com\u001b[39m\u001b[39m'\u001b[39m, \u001b[39m587\u001b[39m)\n\u001b[1;32m     16\u001b[0m server\u001b[39m.\u001b[39mstarttls()\n\u001b[0;32m---> 17\u001b[0m server\u001b[39m.\u001b[39;49mlogin(sender_email, password)\n\u001b[1;32m     18\u001b[0m server\u001b[39m.\u001b[39msendmail(sender_email, [receiver_email], message\u001b[39m.\u001b[39mas_string())\n\u001b[1;32m     19\u001b[0m \u001b[39mprint\u001b[39m(\u001b[39m'\u001b[39m\u001b[39mEmail sent successfully!\u001b[39m\u001b[39m'\u001b[39m)\n",
      "File \u001b[0;32m~/.conda/envs/pygdal38/lib/python3.8/smtplib.py:737\u001b[0m, in \u001b[0;36mSMTP.login\u001b[0;34m(self, user, password, initial_response_ok)\u001b[0m\n\u001b[1;32m    735\u001b[0m method_name \u001b[39m=\u001b[39m \u001b[39m'\u001b[39m\u001b[39mauth_\u001b[39m\u001b[39m'\u001b[39m \u001b[39m+\u001b[39m authmethod\u001b[39m.\u001b[39mlower()\u001b[39m.\u001b[39mreplace(\u001b[39m'\u001b[39m\u001b[39m-\u001b[39m\u001b[39m'\u001b[39m, \u001b[39m'\u001b[39m\u001b[39m_\u001b[39m\u001b[39m'\u001b[39m)\n\u001b[1;32m    736\u001b[0m \u001b[39mtry\u001b[39;00m:\n\u001b[0;32m--> 737\u001b[0m     (code, resp) \u001b[39m=\u001b[39m \u001b[39mself\u001b[39;49m\u001b[39m.\u001b[39;49mauth(\n\u001b[1;32m    738\u001b[0m         authmethod, \u001b[39mgetattr\u001b[39;49m(\u001b[39mself\u001b[39;49m, method_name),\n\u001b[1;32m    739\u001b[0m         initial_response_ok\u001b[39m=\u001b[39;49minitial_response_ok)\n\u001b[1;32m    740\u001b[0m     \u001b[39m# 235 == 'Authentication successful'\u001b[39;00m\n\u001b[1;32m    741\u001b[0m     \u001b[39m# 503 == 'Error: already authenticated'\u001b[39;00m\n\u001b[1;32m    742\u001b[0m     \u001b[39mif\u001b[39;00m code \u001b[39min\u001b[39;00m (\u001b[39m235\u001b[39m, \u001b[39m503\u001b[39m):\n",
      "File \u001b[0;32m~/.conda/envs/pygdal38/lib/python3.8/smtplib.py:650\u001b[0m, in \u001b[0;36mSMTP.auth\u001b[0;34m(self, mechanism, authobject, initial_response_ok)\u001b[0m\n\u001b[1;32m    647\u001b[0m \u001b[39mself\u001b[39m\u001b[39m.\u001b[39m_auth_challenge_count \u001b[39m+\u001b[39m\u001b[39m=\u001b[39m \u001b[39m1\u001b[39m\n\u001b[1;32m    648\u001b[0m challenge \u001b[39m=\u001b[39m base64\u001b[39m.\u001b[39mdecodebytes(resp)\n\u001b[1;32m    649\u001b[0m response \u001b[39m=\u001b[39m encode_base64(\n\u001b[0;32m--> 650\u001b[0m     authobject(challenge)\u001b[39m.\u001b[39;49mencode(\u001b[39m'\u001b[39m\u001b[39mascii\u001b[39m\u001b[39m'\u001b[39m), eol\u001b[39m=\u001b[39m\u001b[39m'\u001b[39m\u001b[39m'\u001b[39m)\n\u001b[1;32m    651\u001b[0m (code, resp) \u001b[39m=\u001b[39m \u001b[39mself\u001b[39m\u001b[39m.\u001b[39mdocmd(response)\n\u001b[1;32m    652\u001b[0m \u001b[39m# If server keeps sending challenges, something is wrong.\u001b[39;00m\n",
      "\u001b[0;31mAttributeError\u001b[0m: 'NoneType' object has no attribute 'encode'"
     ]
    }
   ],
   "source": [
    "import toolbox as tbx\n",
    "\n",
    "send_email('test', 'test')"
   ]
  }
 ],
 "metadata": {
  "kernelspec": {
   "display_name": "pygdal38",
   "language": "python",
   "name": "python3"
  },
  "language_info": {
   "codemirror_mode": {
    "name": "ipython",
    "version": 3
   },
   "file_extension": ".py",
   "mimetype": "text/x-python",
   "name": "python",
   "nbconvert_exporter": "python",
   "pygments_lexer": "ipython3",
   "version": "3.8.16"
  },
  "orig_nbformat": 4
 },
 "nbformat": 4,
 "nbformat_minor": 2
}
