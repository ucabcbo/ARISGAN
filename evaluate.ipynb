{
 "cells": [
  {
   "cell_type": "code",
   "execution_count": 1,
   "metadata": {},
   "outputs": [],
   "source": [
    "EXPERIMENT = 'zzQuick/sis2'\n",
    "# TIMESTAMP = '0731-1633'\n"
   ]
  },
  {
   "cell_type": "code",
   "execution_count": 2,
   "metadata": {},
   "outputs": [
    {
     "name": "stdout",
     "output_type": "stream",
     "text": [
      "environment loaded\n"
     ]
    },
    {
     "name": "stderr",
     "output_type": "stream",
     "text": [
      "2023-08-01 13:34:26.703956: I tensorflow/core/platform/cpu_feature_guard.cc:193] This TensorFlow binary is optimized with oneAPI Deep Neural Network Library (oneDNN) to use the following CPU instructions in performance-critical operations:  SSE4.1 SSE4.2 AVX AVX2 AVX512F AVX512_VNNI FMA\n",
      "To enable them in other operations, rebuild TensorFlow with the appropriate compiler flags.\n",
      "2023-08-01 13:34:26.765805: I tensorflow/core/util/port.cc:104] oneDNN custom operations are on. You may see slightly different numerical results due to floating-point round-off errors from different computation orders. To turn them off, set the environment variable `TF_ENABLE_ONEDNN_OPTS=0`.\n"
     ]
    }
   ],
   "source": [
    "import sys\n",
    "import os\n",
    "import json\n",
    "sys.path.append(os.getcwd())\n",
    "\n",
    "from environment import Environment\n",
    "\n",
    "env = Environment()\n",
    "\n",
    "import tensorflow as tf\n",
    "\n",
    "import importlib\n",
    "import pandas as pd\n",
    "\n",
    "from experiment import Experiment\n",
    "from dataset import Reader\n",
    "import toolbox as tbx\n",
    "\n",
    "from models import metrics\n"
   ]
  },
  {
   "cell_type": "code",
   "execution_count": 4,
   "metadata": {},
   "outputs": [],
   "source": [
    "experiment_root = os.path.join(env.EXPERIMENT_ROOT, EXPERIMENT)\n",
    "\n",
    "try:\n",
    "    timestamp = TIMESTAMP\n",
    "except:\n",
    "    timestamp = max(os.listdir(os.path.join(experiment_root, 'ckpt')))\n",
    "\n",
    "exp = Experiment(experiment_root, EXPERIMENT, timestamp, restore=True)\n"
   ]
  },
  {
   "cell_type": "code",
   "execution_count": 5,
   "metadata": {},
   "outputs": [],
   "source": [
    "modules = []\n",
    "for filename in os.listdir(os.path.join(exp.PROJECT_ROOT, 'models')):\n",
    "    if filename.endswith('.py'):\n",
    "        module_name = filename[:-3]\n",
    "        modules.append(importlib.import_module(\".\" + module_name, package='models'))\n",
    "\n",
    "model = None\n",
    "for module in modules:\n",
    "    if module.__name__[-len(exp.MODEL_NAME):] == exp.MODEL_NAME:\n",
    "        model = module.GAN(exp)\n",
    "assert model is not None\n",
    "\n",
    "generator:tf.keras.Model = model.generator\n",
    "discriminator:tf.keras.Model = model.discriminator\n"
   ]
  },
  {
   "cell_type": "code",
   "execution_count": 6,
   "metadata": {},
   "outputs": [
    {
     "name": "stdout",
     "output_type": "stream",
     "text": [
      "datamodel.Reader called by evaluate.py\n",
      "full train dataset: 610\n",
      "selected random sample train: 50\n",
      "full test dataset: 58\n",
      "selected random sample val: 10\n"
     ]
    }
   ],
   "source": [
    "dataset_reader = Reader(exp, 'evaluate.py')\n",
    "train_dataset = dataset_reader.train_dataset\n",
    "test_dataset = dataset_reader.test_dataset\n"
   ]
  },
  {
   "cell_type": "code",
   "execution_count": 7,
   "metadata": {},
   "outputs": [
    {
     "name": "stdout",
     "output_type": "stream",
     "text": [
      "Trying to restore: /home/cb/sis2/experiments/zzQuick/sis2/ckpt/0731-1458\n",
      "Loaded checkpoint: /home/cb/sis2/experiments/zzQuick/sis2/ckpt/0731-1458/ckpt-5\n",
      "Continue at step: 499\n"
     ]
    }
   ],
   "source": [
    "checkpoint = tf.train.Checkpoint(\n",
    "    generator_optimizer=model.generator_optimizer,\n",
    "    discriminator_optimizer=model.discriminator_optimizer,\n",
    "    generator=generator,\n",
    "    discriminator=discriminator,\n",
    "    step=tf.Variable(0, dtype=tf.int64))\n",
    "\n",
    "stepoffset = 0\n",
    "latest_checkpoint = None\n",
    "\n",
    "print('Trying to restore: ' + os.path.join(exp.output.CKPT))\n",
    "latest_checkpoint = tf.train.latest_checkpoint(os.path.join(exp.output.CKPT))\n",
    "checkpoint.restore(latest_checkpoint).expect_partial()\n",
    "stepoffset = int(checkpoint.step)\n",
    "print(\"Loaded checkpoint:\", latest_checkpoint)\n",
    "print(\"Continue at step:\", stepoffset)\n"
   ]
  },
  {
   "cell_type": "code",
   "execution_count": 12,
   "metadata": {},
   "outputs": [],
   "source": [
    "importlib.reload(metrics)\n",
    "\n",
    "def evaluate(test_ds:tf.data.Dataset) -> pd.DataFrame:\n",
    "\n",
    "    metric_results = pd.DataFrame()\n",
    "\n",
    "    for step, (target, input_image) in test_ds.enumerate():\n",
    "        # print(input_image.shape)\n",
    "        prediction = generator(input_image, training=False)\n",
    "\n",
    "        for (single_target, single_prediction) in zip(target, prediction):\n",
    "\n",
    "            metric = metrics.Metrics(single_target.numpy(), single_prediction.numpy())\n",
    "            df = pd.DataFrame([metric.getall()])\n",
    "            metric_results = pd.concat([metric_results, df], ignore_index=True)\n",
    "            # metric_results.append(metric.getall())\n",
    "    \n",
    "    return metric_results\n"
   ]
  },
  {
   "cell_type": "code",
   "execution_count": 11,
   "metadata": {},
   "outputs": [],
   "source": [
    "eval_results = evaluate(test_dataset)\n"
   ]
  },
  {
   "cell_type": "code",
   "execution_count": 16,
   "metadata": {},
   "outputs": [],
   "source": [
    "eval_results.to_csv(os.path.join(exp.EXPERIMENT_ROOT, f'{EXPERIMENT.replace(\"/\", \"_\")}_{timestamp}.csv'), index_label='index')\n"
   ]
  }
 ],
 "metadata": {
  "kernelspec": {
   "display_name": "pygdal38",
   "language": "python",
   "name": "python3"
  },
  "language_info": {
   "codemirror_mode": {
    "name": "ipython",
    "version": 3
   },
   "file_extension": ".py",
   "mimetype": "text/x-python",
   "name": "python",
   "nbconvert_exporter": "python",
   "pygments_lexer": "ipython3",
   "version": "3.8.16"
  },
  "orig_nbformat": 4
 },
 "nbformat": 4,
 "nbformat_minor": 2
}
