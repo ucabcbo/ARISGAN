{
 "cells": [
  {
   "cell_type": "markdown",
   "metadata": {},
   "source": [
    "# Create List of Tile IDs\n",
    "\n",
    "Run this notebook to create a list of Sentinel-2 tile IDs stored on the CPOM server.\n",
    "\n",
    "1) Maintain the path to the S2 files (all in a flat directory) as `s2_root` in the environment.json\n",
    "2) Run the below cell\n",
    "\n",
    "Output will be displayed in this notebook only, not saved to file. Use the Tilecodes one by one to proceed with the next steps."
   ]
  },
  {
   "cell_type": "code",
   "execution_count": 29,
   "metadata": {},
   "outputs": [
    {
     "name": "stdout",
     "output_type": "stream",
     "text": [
      "environment loaded\n",
      "Tilecode\tCount\n",
      "---------------------\n",
      "T17XNC\t         1711\n",
      "T16WFE\t         1671\n",
      "T17WNU\t         1375\n",
      "T18XVG\t         1501\n",
      "T17WPU\t         1351\n",
      "T18XWH\t         1709\n",
      "T17XMC\t         1723\n",
      "T16XFF\t         1631\n",
      "T18XVH\t         1713\n",
      "T17WPV\t         1328\n",
      "T18WWD\t         1483\n",
      "T17WMV\t         1664\n",
      "T17WNV\t         1623\n",
      "T17XMA\t         1633\n",
      "T16WFD\t         1363\n",
      "T17XMB\t         1832\n",
      "T17XNB\t         1518\n",
      "T18XWF\t         1547\n",
      "T18XWG\t         1498\n",
      "T18XVF\t         1556\n",
      "T17WMU\t         1365\n",
      "T18WWE\t         1322\n",
      "T18WVD\t         1618\n",
      "T17XNA\t         1536\n",
      "T18WVE\t         1327\n",
      "T17XPA\t         1556\n"
     ]
    }
   ],
   "source": [
    "import os\n",
    "import sys\n",
    "\n",
    "sys.path.append('.')\n",
    "sys.path.append('..')\n",
    "from environment import Environment\n",
    "env = Environment()\n",
    "\n",
    "# Read the list of files in the S2 directory\n",
    "file_list = os.listdir(env.S2_ROOT)\n",
    "\n",
    "# Extract the filenames from character 38 to 43\n",
    "tilecodes = [file[38:44] for file in file_list]\n",
    "\n",
    "# De-duplicate\n",
    "unique_tilecodes = list(set(tilecodes))\n",
    "\n",
    "print(f'Tilecode\\tCount')\n",
    "print(f'---------------------')\n",
    "for tilecode in unique_tilecodes:\n",
    "    print(f'{tilecode}\\t{tilecodes.count(tilecode):>13}')\n"
   ]
  }
 ],
 "metadata": {
  "kernelspec": {
   "display_name": "pysnap36",
   "language": "python",
   "name": "python3"
  },
  "language_info": {
   "codemirror_mode": {
    "name": "ipython",
    "version": 3
   },
   "file_extension": ".py",
   "mimetype": "text/x-python",
   "name": "python",
   "nbconvert_exporter": "python",
   "pygments_lexer": "ipython3",
   "version": "3.6.15"
  },
  "orig_nbformat": 4
 },
 "nbformat": 4,
 "nbformat_minor": 2
}
