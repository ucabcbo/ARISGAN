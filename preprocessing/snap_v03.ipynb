{
 "cells": [
  {
   "cell_type": "code",
   "execution_count": 1,
   "metadata": {},
   "outputs": [
    {
     "name": "stdout",
     "output_type": "stream",
     "text": [
      "environment loaded\n"
     ]
    }
   ],
   "source": [
    "import sys\n",
    "sys.path.append('..')\n",
    "from environment import Environment\n",
    "\n",
    "import os\n",
    "import sys\n",
    "import pandas as pd\n",
    "\n",
    "sys.path.append(os.path.expanduser('~/.snap/snap-python'))\n",
    "import snappy\n",
    "from snappy import ProductIO\n",
    "from snappy import jpy\n",
    "HashMap = snappy.jpy.get_type('java.util.HashMap')\n",
    "\n",
    "sys.path.append('../')\n",
    "import toolbox as tbx\n",
    "import preprocessing.snap_toolbox as stbx\n",
    "\n",
    "env = Environment()\n"
   ]
  },
  {
   "cell_type": "code",
   "execution_count": 2,
   "metadata": {},
   "outputs": [],
   "source": [
    "TILESIZE = 32"
   ]
  },
  {
   "cell_type": "code",
   "execution_count": 3,
   "metadata": {},
   "outputs": [],
   "source": [
    "img_pairs_inventory = pd.read_csv(os.path.join(env.DATA_ROOT, 'inventory/img_pairs.csv'), index_col='index')\n",
    "\n",
    "curated_pairs = [34,\n",
    "                 41,\n",
    "                 47,\n",
    "                 77,\n",
    "                 81,\n",
    "                 89,\n",
    "                 103,\n",
    "                 126,\n",
    "                 141,\n",
    "                 149,\n",
    "                 170,\n",
    "                 178,\n",
    "                 264]\n",
    "\n",
    "\n",
    "# In reality, only executed for parts of image 77, as 15,000 images was reached after 10hrs.\n",
    "perfect_pairs = [77,\n",
    "                 149]\n"
   ]
  },
  {
   "cell_type": "code",
   "execution_count": 4,
   "metadata": {},
   "outputs": [
    {
     "ename": "KeyboardInterrupt",
     "evalue": "",
     "output_type": "error",
     "traceback": [
      "\u001b[0;31m---------------------------------------------------------------------------\u001b[0m",
      "\u001b[0;31mKeyboardInterrupt\u001b[0m                         Traceback (most recent call last)",
      "\u001b[0;32m<ipython-input-4-1c4be2cee13e>\u001b[0m in \u001b[0;36m<module>\u001b[0;34m()\u001b[0m\n\u001b[1;32m     20\u001b[0m                                             \u001b[0msave_if_errors\u001b[0m\u001b[0;34m=\u001b[0m\u001b[0;32mFalse\u001b[0m\u001b[0;34m,\u001b[0m\u001b[0;34m\u001b[0m\u001b[0;34m\u001b[0m\u001b[0m\n\u001b[1;32m     21\u001b[0m                                             \u001b[0mensure_intersect_with\u001b[0m\u001b[0;34m=\u001b[0m\u001b[0;34m[\u001b[0m\u001b[0ms2_polygon\u001b[0m\u001b[0;34m,\u001b[0m\u001b[0ms3_polygon\u001b[0m\u001b[0;34m]\u001b[0m\u001b[0;34m,\u001b[0m\u001b[0;34m\u001b[0m\u001b[0;34m\u001b[0m\u001b[0m\n\u001b[0;32m---> 22\u001b[0;31m                                             cloud_threshold=1.0)\n\u001b[0m",
      "\u001b[0;32m/home/cb/sis2/preprocessing/snap_toolbox.py\u001b[0m in \u001b[0;36mcut_tiles\u001b[0;34m(product, tilesize, file_index, output_path, save_if_errors, ensure_intersect_with, intersect_threshold, cloud_threshold)\u001b[0m\n\u001b[1;32m    187\u001b[0m \u001b[0;34m\u001b[0m\u001b[0m\n\u001b[1;32m    188\u001b[0m                 \u001b[0;32mif\u001b[0m \u001b[0mtile_inventory\u001b[0m\u001b[0;34m.\u001b[0m\u001b[0mat\u001b[0m\u001b[0;34m[\u001b[0m\u001b[0mtile_index\u001b[0m\u001b[0;34m,\u001b[0m \u001b[0;34m'status'\u001b[0m\u001b[0;34m]\u001b[0m \u001b[0;34m==\u001b[0m \u001b[0;34m'ok'\u001b[0m\u001b[0;34m:\u001b[0m\u001b[0;34m\u001b[0m\u001b[0;34m\u001b[0m\u001b[0m\n\u001b[0;32m--> 189\u001b[0;31m                     \u001b[0mProductIO\u001b[0m\u001b[0;34m.\u001b[0m\u001b[0mwriteProduct\u001b[0m\u001b[0;34m(\u001b[0m\u001b[0mtile\u001b[0m\u001b[0;34m,\u001b[0m \u001b[0mos\u001b[0m\u001b[0;34m.\u001b[0m\u001b[0mpath\u001b[0m\u001b[0;34m.\u001b[0m\u001b[0mjoin\u001b[0m\u001b[0;34m(\u001b[0m\u001b[0moutput_path\u001b[0m\u001b[0;34m,\u001b[0m \u001b[0moutput_tif\u001b[0m\u001b[0;34m)\u001b[0m\u001b[0;34m,\u001b[0m \u001b[0;34m'GeoTIFF'\u001b[0m\u001b[0;34m)\u001b[0m\u001b[0;34m\u001b[0m\u001b[0;34m\u001b[0m\u001b[0m\n\u001b[0m\u001b[1;32m    190\u001b[0m                     \u001b[0mtile_inventory\u001b[0m\u001b[0;34m.\u001b[0m\u001b[0mat\u001b[0m\u001b[0;34m[\u001b[0m\u001b[0mtile_index\u001b[0m\u001b[0;34m,\u001b[0m \u001b[0;34m'filename'\u001b[0m\u001b[0;34m]\u001b[0m \u001b[0;34m=\u001b[0m \u001b[0mos\u001b[0m\u001b[0;34m.\u001b[0m\u001b[0mpath\u001b[0m\u001b[0;34m.\u001b[0m\u001b[0mjoin\u001b[0m\u001b[0;34m(\u001b[0m\u001b[0moutput_path\u001b[0m\u001b[0;34m,\u001b[0m \u001b[0moutput_tif\u001b[0m\u001b[0;34m)\u001b[0m\u001b[0;34m\u001b[0m\u001b[0;34m\u001b[0m\u001b[0m\n\u001b[1;32m    191\u001b[0m                 \u001b[0;32melif\u001b[0m \u001b[0msave_if_errors\u001b[0m\u001b[0;34m:\u001b[0m\u001b[0;34m\u001b[0m\u001b[0;34m\u001b[0m\u001b[0m\n",
      "\u001b[0;31mKeyboardInterrupt\u001b[0m: "
     ]
    }
   ],
   "source": [
    "for i in range(len(perfect_pairs)):\n",
    "    img_index = perfect_pairs[i]\n",
    "    img_pair = img_pairs_inventory.iloc[img_index]\n",
    "\n",
    "    s2_raw = ProductIO.readProduct(img_pair['s2'])\n",
    "    s3_raw = ProductIO.readProduct(img_pair['s3'])\n",
    "\n",
    "    s2_bands = stbx.band_subset(s2_raw, 'B2,B3,B4')\n",
    "    s3_bands = stbx.band_subset(s3_raw, 'Oa01_radiance,Oa02_radiance,Oa03_radiance,Oa04_radiance,Oa05_radiance,Oa06_radiance,Oa07_radiance,Oa08_radiance,Oa09_radiance,Oa10_radiance,Oa11_radiance,Oa12_radiance,Oa13_radiance,Oa14_radiance,Oa15_radiance,Oa16_radiance,Oa17_radiance,Oa18_radiance,Oa19_radiance,Oa20_radiance,Oa21_radiance')\n",
    "    collocated = stbx.collocate(s2_bands, s3_bands)\n",
    "    collocated = stbx.band_subset(collocated,'B2,B3,B4,Oa01_radiance,Oa02_radiance,Oa03_radiance,Oa04_radiance,Oa05_radiance,Oa06_radiance,Oa07_radiance,Oa08_radiance,Oa09_radiance,Oa10_radiance,Oa11_radiance,Oa12_radiance,Oa13_radiance,Oa14_radiance,Oa15_radiance,Oa16_radiance,Oa17_radiance,Oa18_radiance,Oa19_radiance,Oa20_radiance,Oa21_radiance,quality_flags,collocationFlags')\n",
    "\n",
    "    s2_polygon = stbx.get_metadata_polygon(s2_raw, 's2')\n",
    "    s3_polygon = stbx.get_metadata_polygon(s3_raw, 's3')\n",
    "\n",
    "    tile_list, quality_list = stbx.cut_tiles(collocated,\n",
    "                                            tilesize=TILESIZE,\n",
    "                                            file_index=img_index,\n",
    "                                            output_path=env.DATA_ROOT,\n",
    "                                            save_if_errors=False,\n",
    "                                            ensure_intersect_with=[s2_polygon,s3_polygon],\n",
    "                                            cloud_threshold=1.0)\n"
   ]
  }
 ],
 "metadata": {
  "kernelspec": {
   "display_name": "pysnap36",
   "language": "python",
   "name": "python3"
  },
  "language_info": {
   "codemirror_mode": {
    "name": "ipython",
    "version": 3
   },
   "file_extension": ".py",
   "mimetype": "text/x-python",
   "name": "python",
   "nbconvert_exporter": "python",
   "pygments_lexer": "ipython3",
   "version": "3.6.15"
  },
  "orig_nbformat": 4
 },
 "nbformat": 4,
 "nbformat_minor": 2
}
