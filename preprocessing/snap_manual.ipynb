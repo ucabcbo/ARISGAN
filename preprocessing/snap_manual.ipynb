{
 "cells": [
  {
   "cell_type": "code",
   "execution_count": 1,
   "metadata": {},
   "outputs": [
    {
     "name": "stdout",
     "output_type": "stream",
     "text": [
      "running on environment: \"cpom\"\n"
     ]
    }
   ],
   "source": [
    "import sys\n",
    "sys.path.append('/home/cb/sis2/')\n",
    "\n",
    "with open('../env.txt') as f:\n",
    "    ENVIRONMENT = f.readlines()[0][:-1]\n",
    "print(f'running on environment: \"{ENVIRONMENT}\"')\n",
    "assert ENVIRONMENT in ['blaze',\n",
    "                       'colab',\n",
    "                       'local',\n",
    "                       'cpom']\n",
    "\n",
    "import os\n",
    "import sys\n",
    "import numpy as np\n",
    "from matplotlib import pyplot as plt\n",
    "import pandas as pd\n",
    "\n",
    "sys.path.append(os.path.expanduser('~/.snap/snap-python'))\n",
    "import snappy\n",
    "from snappy import ProductIO\n",
    "from snappy import jpy\n",
    "HashMap = snappy.jpy.get_type('java.util.HashMap')\n",
    "\n",
    "sys.path.append('../')\n",
    "import sis_toolbox as toolbox\n",
    "import preprocessing.snap_toolbox as snap_toolbox\n",
    "\n",
    "from datetime import datetime\n",
    "datetime_string = datetime.now().strftime(\"%m%d-%H%M\")\n",
    "\n",
    "if ENVIRONMENT == 'cpom':\n",
    "    PATH_DATA = '/home/cb/sis2/data/'\n",
    "elif ENVIRONMENT == 'local':\n",
    "    PATH_DATA = '/Users/christianboehm/projects/sis2/data/'\n",
    "\n",
    "TILESIZE = 256\n",
    "# TILESIZE = 960\n",
    "\n",
    "img_pairs_inventory = pd.read_csv(os.path.join(PATH_DATA, 'inventory/img_pairs.csv'), index_col='index').loc[[13]]\n",
    "\n",
    "# for index, row in img_pairs_inventory.iterrows():\n",
    "\n",
    "index = 13\n",
    "row = img_pairs_inventory.loc[index]\n"
   ]
  },
  {
   "cell_type": "code",
   "execution_count": 2,
   "metadata": {},
   "outputs": [
    {
     "name": "stdout",
     "output_type": "stream",
     "text": [
      "/cpnet/projects/sikuttiaq/pond_inlet/Sentinel_2/DATA/S2B_MSIL1C_20220428T173859_N0400_R098_T17XPA_20220428T205006.SAFE\n",
      "/cpnet/projects/sikuttiaq/pond_inlet/Sentinel_3/OLCI/2022/04/S3A_OL_1_EFR____20220428T152128_20220428T152428_20220429T200056_0179_084_339_1800_MAR_O_NT_002.SEN3\n"
     ]
    }
   ],
   "source": [
    "\n",
    "# if not (pd.isna(img_pairs_inventory['status'].iloc[index]) or img_pairs_inventory['status'].iloc[index] == 'new'):\n",
    "#     status = row['status']\n",
    "#     print(f'index {index} skipped due to status \\'{status}\\'')\n",
    "#     continue\n",
    "\n",
    "S2_FILE = row['s2']\n",
    "S3_FILE = row['s3']\n",
    "print(row['s2'])\n",
    "print(row['s3'])\n",
    "\n",
    "s2_raw = ProductIO.readProduct(S2_FILE)\n",
    "s3_raw = ProductIO.readProduct(S3_FILE)\n",
    "\n",
    "s2_bands = snap_toolbox.band_subset(s2_raw, 'B2,B3,B4,B_opaque_clouds')\n",
    "s3_bands = snap_toolbox.band_subset(s3_raw, 'Oa01_radiance,Oa02_radiance,Oa03_radiance,Oa04_radiance,Oa05_radiance,Oa06_radiance,Oa07_radiance,Oa08_radiance,Oa09_radiance,Oa10_radiance,Oa11_radiance,Oa12_radiance,Oa13_radiance,Oa14_radiance,Oa15_radiance,Oa16_radiance,Oa17_radiance,Oa18_radiance,Oa19_radiance,Oa20_radiance,Oa21_radiance')\n",
    "s2_bands = snap_toolbox.resample(s2_bands, 'B2')\n",
    "collocated = snap_toolbox.collocate(s2_bands, s3_bands)\n",
    "collocated = snap_toolbox.band_subset(collocated,'B2,B3,B4,Oa01_radiance,Oa02_radiance,Oa03_radiance,Oa04_radiance,Oa05_radiance,Oa06_radiance,Oa07_radiance,Oa08_radiance,Oa09_radiance,Oa10_radiance,Oa11_radiance,Oa12_radiance,Oa13_radiance,Oa14_radiance,Oa15_radiance,Oa16_radiance,Oa17_radiance,Oa18_radiance,Oa19_radiance,Oa20_radiance,Oa21_radiance,B_opaque_clouds,quality_flags,collocationFlags')\n",
    "\n",
    "s2_polygon = snap_toolbox.get_metadata_polygon(s2_raw, 's2')\n",
    "s3_polygon = snap_toolbox.get_metadata_polygon(s3_raw, 's3')\n"
   ]
  },
  {
   "cell_type": "code",
   "execution_count": 3,
   "metadata": {},
   "outputs": [],
   "source": [
    "TILE_XPOS = 12\n",
    "TILE_YPOS = 8103\n",
    "tilesize = TILESIZE\n",
    "file_index = f'{index:05d}'\n",
    "product = collocated\n",
    "cloud_threshold = 1.0\n",
    "ensure_intersect_with = [s2_polygon, s3_polygon]\n",
    "intersect_threshold = 0.95\n",
    "output_path = PATH_DATA\n",
    "\n",
    "tile_inventory = pd.DataFrame(columns=['pair_index', 'tile', 'size', 'status', 'comment', 'filename'])\n",
    "tile_inventory = tile_inventory.astype({'pair_index': str,\n",
    "                    'tile': str,\n",
    "                    'size': int,\n",
    "                    'status': str,\n",
    "                    'comment': str,\n",
    "                    'filename': str})\n",
    "\n",
    "# TILE_XPOS = x_offset+x*x_step\n",
    "# TILE_YPOS = y_offset+y*y_step\n",
    "TILECODE = f'{TILE_XPOS}x{TILE_YPOS}'\n",
    "output_tif = f'tif{tilesize}/{file_index}_{TILECODE}.tif'\n",
    "status = 'ok'\n",
    "comment = ''\n",
    "\n",
    "# if os.path.exists(os.path.join(PATH_DATA, output_filename)):\n",
    "#     tif_inventory = tif_inventory.append({'img_pair_id': TILE_PREFIX,\n",
    "#                             'tile': TILECODE,\n",
    "#                             'size': TILESIZE,\n",
    "#                             'tif_status': 'exists'}, ignore_index=True)\n",
    "#     print(f'File {output_filename} already exists')\n",
    "#     continue\n",
    "\n",
    "try:\n",
    "    region = f'{TILE_XPOS},{TILE_YPOS},{tilesize},{tilesize}'\n",
    "    tile = snap_toolbox.region_subset(product, region)\n",
    "\n",
    "    cloud_array = snap_toolbox.nparray(tile, 'B_opaque_clouds')\n",
    "    cloudpct = np.sum(cloud_array) / np.size(cloud_array)\n",
    "    if cloudpct > cloud_threshold:\n",
    "        status = 'quality'\n",
    "        comment = f'cloud coverage: {int(cloudpct * 100)}%'\n",
    "\n",
    "    tile_polygon = snap_toolbox.get_bbox_polygon(tile)\n",
    "    for i in range(len(ensure_intersect_with)):\n",
    "        intersect = tile_polygon.intersection(ensure_intersect_with[i]).area / tile_polygon.area\n",
    "        if intersect < intersect_threshold:\n",
    "            status = 'intersect'\n",
    "            comment = f'Intersect with item {i}: {int(intersect * 100)}%'\n",
    "            \n",
    "    # black_array_s2 = nparray(tile, 'B2')\n",
    "    # blackpct_s2 = np.count_nonzero(black_array_s2 == -0.1) / np.size(black_array_s2)\n",
    "    # if blackpct_s2 > 0.05:\n",
    "    #     status = 'quality'\n",
    "    #     comment = f'S2 black: {int(blackpct_s2 * 100)}%'\n",
    "\n",
    "    black_array_s3 = snap_toolbox.nparray(tile, 'Oa17_radiance')\n",
    "    max_value = np.max(black_array_s3)\n",
    "    blackpct_s3 = np.count_nonzero(black_array_s3 == max_value) / np.size(black_array_s3)\n",
    "    if blackpct_s3 > 0.05:\n",
    "        status = 'quality'\n",
    "        comment = f'S3 (likely) black: {int(blackpct_s3 * 100)}%'\n",
    "\n",
    "    if status == 'ok':\n",
    "        ProductIO.writeProduct(tile, os.path.join(output_path, output_tif), 'GeoTIFF')\n",
    "    else:\n",
    "        ProductIO.writeProduct(tile, os.path.join(output_path, output_tif + 'x'), 'GeoTIFF')\n",
    "    \n",
    "    tile_inventory = tile_inventory.append({'pair_index': file_index,\n",
    "                            'tile': TILECODE,\n",
    "                            'size': tilesize,\n",
    "                            'status': status,\n",
    "                            'comment': comment,\n",
    "                            'filename': output_tif}, ignore_index=True)\n",
    "        \n",
    "except Exception as e:\n",
    "    tile_inventory = tile_inventory.append({'pair_index': file_index,\n",
    "                            'tile': TILECODE,\n",
    "                            'size': tilesize,\n",
    "                            'status': 'error',\n",
    "                            'comment': str(e)}, ignore_index=True)\n"
   ]
  },
  {
   "cell_type": "code",
   "execution_count": 4,
   "metadata": {},
   "outputs": [
    {
     "data": {
      "text/html": [
       "<div>\n",
       "<style scoped>\n",
       "    .dataframe tbody tr th:only-of-type {\n",
       "        vertical-align: middle;\n",
       "    }\n",
       "\n",
       "    .dataframe tbody tr th {\n",
       "        vertical-align: top;\n",
       "    }\n",
       "\n",
       "    .dataframe thead th {\n",
       "        text-align: right;\n",
       "    }\n",
       "</style>\n",
       "<table border=\"1\" class=\"dataframe\">\n",
       "  <thead>\n",
       "    <tr style=\"text-align: right;\">\n",
       "      <th></th>\n",
       "      <th>pair_index</th>\n",
       "      <th>tile</th>\n",
       "      <th>size</th>\n",
       "      <th>status</th>\n",
       "      <th>comment</th>\n",
       "      <th>filename</th>\n",
       "    </tr>\n",
       "  </thead>\n",
       "  <tbody>\n",
       "    <tr>\n",
       "      <th>0</th>\n",
       "      <td>00013</td>\n",
       "      <td>12x8103</td>\n",
       "      <td>256</td>\n",
       "      <td>ok</td>\n",
       "      <td></td>\n",
       "      <td>tif256/00013_12x8103.tif</td>\n",
       "    </tr>\n",
       "  </tbody>\n",
       "</table>\n",
       "</div>"
      ],
      "text/plain": [
       "  pair_index     tile  size status comment                  filename\n",
       "0      00013  12x8103   256     ok          tif256/00013_12x8103.tif"
      ]
     },
     "execution_count": 4,
     "metadata": {},
     "output_type": "execute_result"
    }
   ],
   "source": [
    "tile_inventory"
   ]
  },
  {
   "cell_type": "code",
   "execution_count": 5,
   "metadata": {},
   "outputs": [],
   "source": [
    "# import importlib\n",
    "# importlib.reload(snap_toolbox)"
   ]
  },
  {
   "cell_type": "code",
   "execution_count": null,
   "metadata": {},
   "outputs": [],
   "source": [
    "tile_list, quality_list = snap_toolbox.cut_tiles(collocated,\n",
    "                                                    tilesize=TILESIZE,\n",
    "                                                    file_index=index,\n",
    "                                                    output_path=PATH_DATA,\n",
    "                                                    ensure_intersect_with=[s2_polygon,s3_polygon])\n"
   ]
  },
  {
   "cell_type": "code",
   "execution_count": null,
   "metadata": {},
   "outputs": [],
   "source": [
    "\n",
    "    img_pairs_inventory.loc[index, 'status'] = 'tifs created'\n",
    "    img_pairs_inventory.to_csv(os.path.join(PATH_DATA, f'inventory/img_pairs_{datetime_string}.csv'))\n",
    "\n",
    "    s2_raw.dispose()\n",
    "    s3_raw.dispose()\n",
    "    s2_bands.dispose()\n",
    "    s3_bands.dispose()\n",
    "    collocated.dispose()\n",
    "\n",
    "img_pairs_inventory.to_csv(os.path.join(PATH_DATA, f'inventory/img_pairs_{datetime_string}.csv'))\n"
   ]
  }
 ],
 "metadata": {
  "kernelspec": {
   "display_name": "pysnap36",
   "language": "python",
   "name": "python3"
  },
  "language_info": {
   "codemirror_mode": {
    "name": "ipython",
    "version": 3
   },
   "file_extension": ".py",
   "mimetype": "text/x-python",
   "name": "python",
   "nbconvert_exporter": "python",
   "pygments_lexer": "ipython3",
   "version": "3.6.15"
  },
  "orig_nbformat": 4
 },
 "nbformat": 4,
 "nbformat_minor": 2
}
