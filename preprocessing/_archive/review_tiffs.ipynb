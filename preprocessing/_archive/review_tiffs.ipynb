{
 "cells": [
  {
   "cell_type": "code",
   "execution_count": null,
   "metadata": {},
   "outputs": [],
   "source": [
    "import os\n",
    "import random\n",
    "import rasterio\n",
    "import numpy as np\n",
    "import sis_toolbox as tbx\n",
    "from sis_toolbox import RGBProfile as rgb\n",
    "\n",
    "import warnings\n",
    "warnings.filterwarnings('ignore')\n",
    "\n",
    "from osgeo import gdal\n",
    "gdal.PushErrorHandler('CPLQuietErrorHandler')\n",
    "\n",
    "path = '/home/cb/sis2/data/tif256/'\n",
    "\n",
    "filelist = [filename for filename in os.listdir(path) if filename.startswith('001')]\n",
    "\n",
    "for filename in filelist:\n",
    "    try:\n",
    "        raw_tiff = rasterio.open(os.path.join(path, filename))\n",
    "        tiff_np = raw_tiff.read()[0:3]\n",
    "    except:\n",
    "        os.rename(os.path.join(path, filename),\n",
    "                os.path.join(path, f'unknownerror_{filename}'))\n",
    "        print(f'renamed unknownerror_{filename}')\n",
    "        continue\n",
    "    total_elements = tiff_np.size\n",
    "    zero_count = np.count_nonzero(tiff_np == 0)\n",
    "    zero_percentage = (zero_count * 100 // total_elements)\n",
    "    # helper.plot_tiff_sbs(raw_tiff, title=filename)\n",
    "    if zero_percentage > 10:\n",
    "        os.rename(os.path.join(path, filename),\n",
    "                os.path.join(path, f'black_{zero_percentage}_{filename}'))\n",
    "        print(f'renamed black_{zero_percentage}_{filename}')\n",
    "        \n"
   ]
  },
  {
   "cell_type": "code",
   "execution_count": null,
   "metadata": {},
   "outputs": [],
   "source": [
    "filelist = [filename for filename in os.listdir(path) if filename.startswith('black')]\n",
    "random_entries = random.sample(filelist, 10)\n",
    "\n",
    "for filename in random_entries:\n",
    "    raw_tiff = rasterio.open(os.path.join(path, filename))\n",
    "    tiff_np = raw_tiff.read()[0:3]\n",
    "    total_elements = tiff_np.size\n",
    "    zero_count = np.count_nonzero(tiff_np == 0)\n",
    "    zero_percentage = (zero_count * 100 // total_elements)\n",
    "    tbx.plot_tiff_sbs(raw_tiff, title=filename)\n"
   ]
  },
  {
   "cell_type": "code",
   "execution_count": 73,
   "metadata": {},
   "outputs": [],
   "source": [
    "\n",
    "tfpath = '/home/cb/sis2/data/tfrecords256_train/'\n",
    "filelist = [filename for filename in os.listdir(tfpath) if filename.startswith('001')]\n",
    "\n",
    "for filename in filelist:\n",
    "    if not os.path.exists(os.path.join(path, f'{filename[:-9]}.tif')):\n",
    "        os.remove(os.path.join(tfpath, filename))\n",
    "        print(f'{filename} deleted')\n"
   ]
  },
  {
   "cell_type": "code",
   "execution_count": 75,
   "metadata": {},
   "outputs": [
    {
     "name": "stdout",
     "output_type": "stream",
     "text": [
      "Number of files in /home/cb/sis2/data/tfrecords256/: 882\n"
     ]
    }
   ],
   "source": [
    "\n",
    "file_count = 0\n",
    "for _, _, files in os.walk(tfpath):\n",
    "    file_count += len(files)\n",
    "\n",
    "print(f\"Number of files in {tfpath}: {file_count}\")"
   ]
  }
 ],
 "metadata": {
  "kernelspec": {
   "display_name": "pygdal38",
   "language": "python",
   "name": "python3"
  },
  "language_info": {
   "codemirror_mode": {
    "name": "ipython",
    "version": 3
   },
   "file_extension": ".py",
   "mimetype": "text/x-python",
   "name": "python",
   "nbconvert_exporter": "python",
   "pygments_lexer": "ipython3",
   "version": "3.8.16"
  },
  "orig_nbformat": 4
 },
 "nbformat": 4,
 "nbformat_minor": 2
}
