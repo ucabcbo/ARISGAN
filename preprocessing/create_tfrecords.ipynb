{
 "cells": [
  {
   "cell_type": "code",
   "execution_count": 7,
   "metadata": {},
   "outputs": [],
   "source": [
    "# import snappy\n",
    "# from snappy import GPF\n",
    "# from snappy import ProductIO\n",
    "\n",
    "import os\n",
    "import glob\n",
    "import matplotlib.pyplot as plt\n",
    "import numpy as np\n",
    "import rasterio\n",
    "import tensorflow as tf\n",
    "\n",
    "import sys\n",
    "sys.path.append('../')\n",
    "import sis_helper as helper\n",
    "from sis_helper import RGBProfile as rgb\n",
    "\n",
    "# PATH = '/Users/christianboehm/projects/sis2/data'\n",
    "PATH = '/home/cb/sis2/data/'\n",
    "TILESIZE = 256\n"
   ]
  },
  {
   "cell_type": "code",
   "execution_count": 13,
   "metadata": {},
   "outputs": [
    {
     "name": "stdout",
     "output_type": "stream",
     "text": [
      "File /home/cb/sis2/data/tfrecords256/00001_12x12.tfrecord is new\n"
     ]
    },
    {
     "name": "stderr",
     "output_type": "stream",
     "text": [
      "Warning 1: TIFFReadDirectory:Sum of Photometric type-related color channels and ExtraSamples doesn't match SamplesPerPixel. Defining non-color channels as ExtraSamples.\n"
     ]
    },
    {
     "name": "stdout",
     "output_type": "stream",
     "text": [
      "File /home/cb/sis2/data/tfrecords256/00001_12x273.tfrecord is new\n"
     ]
    },
    {
     "name": "stderr",
     "output_type": "stream",
     "text": [
      "Warning 1: TIFFReadDirectory:Sum of Photometric type-related color channels and ExtraSamples doesn't match SamplesPerPixel. Defining non-color channels as ExtraSamples.\n"
     ]
    },
    {
     "name": "stdout",
     "output_type": "stream",
     "text": [
      "File /home/cb/sis2/data/tfrecords256/00001_12x534.tfrecord is new\n"
     ]
    },
    {
     "name": "stderr",
     "output_type": "stream",
     "text": [
      "Warning 1: TIFFReadDirectory:Sum of Photometric type-related color channels and ExtraSamples doesn't match SamplesPerPixel. Defining non-color channels as ExtraSamples.\n"
     ]
    },
    {
     "name": "stdout",
     "output_type": "stream",
     "text": [
      "File /home/cb/sis2/data/tfrecords256/00001_12x795.tfrecord is new\n"
     ]
    },
    {
     "name": "stderr",
     "output_type": "stream",
     "text": [
      "Warning 1: TIFFReadDirectory:Sum of Photometric type-related color channels and ExtraSamples doesn't match SamplesPerPixel. Defining non-color channels as ExtraSamples.\n"
     ]
    },
    {
     "name": "stdout",
     "output_type": "stream",
     "text": [
      "File /home/cb/sis2/data/tfrecords256/00001_12x1056.tfrecord is new\n"
     ]
    },
    {
     "name": "stderr",
     "output_type": "stream",
     "text": [
      "Warning 1: TIFFReadDirectory:Sum of Photometric type-related color channels and ExtraSamples doesn't match SamplesPerPixel. Defining non-color channels as ExtraSamples.\n"
     ]
    },
    {
     "name": "stdout",
     "output_type": "stream",
     "text": [
      "File /home/cb/sis2/data/tfrecords256/00001_12x1317.tfrecord is new\n"
     ]
    },
    {
     "name": "stderr",
     "output_type": "stream",
     "text": [
      "Warning 1: TIFFReadDirectory:Sum of Photometric type-related color channels and ExtraSamples doesn't match SamplesPerPixel. Defining non-color channels as ExtraSamples.\n"
     ]
    },
    {
     "name": "stdout",
     "output_type": "stream",
     "text": [
      "File /home/cb/sis2/data/tfrecords256/00001_12x1578.tfrecord is new\n"
     ]
    },
    {
     "name": "stderr",
     "output_type": "stream",
     "text": [
      "Warning 1: TIFFReadDirectory:Sum of Photometric type-related color channels and ExtraSamples doesn't match SamplesPerPixel. Defining non-color channels as ExtraSamples.\n"
     ]
    },
    {
     "name": "stdout",
     "output_type": "stream",
     "text": [
      "File /home/cb/sis2/data/tfrecords256/00001_12x1839.tfrecord is new\n"
     ]
    },
    {
     "name": "stderr",
     "output_type": "stream",
     "text": [
      "Warning 1: TIFFReadDirectory:Sum of Photometric type-related color channels and ExtraSamples doesn't match SamplesPerPixel. Defining non-color channels as ExtraSamples.\n"
     ]
    },
    {
     "name": "stdout",
     "output_type": "stream",
     "text": [
      "File /home/cb/sis2/data/tfrecords256/00001_12x2100.tfrecord is new\n"
     ]
    },
    {
     "name": "stderr",
     "output_type": "stream",
     "text": [
      "Warning 1: TIFFReadDirectory:Sum of Photometric type-related color channels and ExtraSamples doesn't match SamplesPerPixel. Defining non-color channels as ExtraSamples.\n"
     ]
    },
    {
     "name": "stdout",
     "output_type": "stream",
     "text": [
      "File /home/cb/sis2/data/tfrecords256/00001_12x2361.tfrecord is new\n"
     ]
    },
    {
     "name": "stderr",
     "output_type": "stream",
     "text": [
      "Warning 1: TIFFReadDirectory:Sum of Photometric type-related color channels and ExtraSamples doesn't match SamplesPerPixel. Defining non-color channels as ExtraSamples.\n"
     ]
    },
    {
     "name": "stdout",
     "output_type": "stream",
     "text": [
      "File /home/cb/sis2/data/tfrecords256/00001_12x2622.tfrecord is new\n"
     ]
    },
    {
     "name": "stderr",
     "output_type": "stream",
     "text": [
      "Warning 1: TIFFReadDirectory:Sum of Photometric type-related color channels and ExtraSamples doesn't match SamplesPerPixel. Defining non-color channels as ExtraSamples.\n"
     ]
    },
    {
     "name": "stdout",
     "output_type": "stream",
     "text": [
      "File /home/cb/sis2/data/tfrecords256/00001_12x2883.tfrecord is new\n"
     ]
    },
    {
     "name": "stderr",
     "output_type": "stream",
     "text": [
      "Warning 1: TIFFReadDirectory:Sum of Photometric type-related color channels and ExtraSamples doesn't match SamplesPerPixel. Defining non-color channels as ExtraSamples.\n"
     ]
    },
    {
     "name": "stdout",
     "output_type": "stream",
     "text": [
      "File /home/cb/sis2/data/tfrecords256/00001_12x3144.tfrecord is new\n"
     ]
    },
    {
     "name": "stderr",
     "output_type": "stream",
     "text": [
      "Warning 1: TIFFReadDirectory:Sum of Photometric type-related color channels and ExtraSamples doesn't match SamplesPerPixel. Defining non-color channels as ExtraSamples.\n"
     ]
    },
    {
     "name": "stdout",
     "output_type": "stream",
     "text": [
      "File /home/cb/sis2/data/tfrecords256/00001_12x3405.tfrecord is new\n"
     ]
    },
    {
     "name": "stderr",
     "output_type": "stream",
     "text": [
      "Warning 1: TIFFReadDirectory:Sum of Photometric type-related color channels and ExtraSamples doesn't match SamplesPerPixel. Defining non-color channels as ExtraSamples.\n"
     ]
    },
    {
     "name": "stdout",
     "output_type": "stream",
     "text": [
      "File /home/cb/sis2/data/tfrecords256/00001_12x3666.tfrecord is new\n"
     ]
    },
    {
     "name": "stderr",
     "output_type": "stream",
     "text": [
      "Warning 1: TIFFReadDirectory:Sum of Photometric type-related color channels and ExtraSamples doesn't match SamplesPerPixel. Defining non-color channels as ExtraSamples.\n"
     ]
    },
    {
     "name": "stdout",
     "output_type": "stream",
     "text": [
      "File /home/cb/sis2/data/tfrecords256/00001_12x3927.tfrecord is new\n"
     ]
    },
    {
     "name": "stderr",
     "output_type": "stream",
     "text": [
      "Warning 1: TIFFReadDirectory:Sum of Photometric type-related color channels and ExtraSamples doesn't match SamplesPerPixel. Defining non-color channels as ExtraSamples.\n"
     ]
    },
    {
     "name": "stdout",
     "output_type": "stream",
     "text": [
      "File /home/cb/sis2/data/tfrecords256/00001_273x12.tfrecord is new\n"
     ]
    },
    {
     "name": "stderr",
     "output_type": "stream",
     "text": [
      "Warning 1: TIFFReadDirectory:Sum of Photometric type-related color channels and ExtraSamples doesn't match SamplesPerPixel. Defining non-color channels as ExtraSamples.\n"
     ]
    },
    {
     "name": "stdout",
     "output_type": "stream",
     "text": [
      "File /home/cb/sis2/data/tfrecords256/00001_273x273.tfrecord is new\n"
     ]
    },
    {
     "name": "stderr",
     "output_type": "stream",
     "text": [
      "Warning 1: TIFFReadDirectory:Sum of Photometric type-related color channels and ExtraSamples doesn't match SamplesPerPixel. Defining non-color channels as ExtraSamples.\n"
     ]
    },
    {
     "name": "stdout",
     "output_type": "stream",
     "text": [
      "File /home/cb/sis2/data/tfrecords256/00001_273x534.tfrecord is new\n"
     ]
    },
    {
     "name": "stderr",
     "output_type": "stream",
     "text": [
      "Warning 1: TIFFReadDirectory:Sum of Photometric type-related color channels and ExtraSamples doesn't match SamplesPerPixel. Defining non-color channels as ExtraSamples.\n"
     ]
    },
    {
     "name": "stdout",
     "output_type": "stream",
     "text": [
      "File /home/cb/sis2/data/tfrecords256/00001_273x795.tfrecord is new\n"
     ]
    },
    {
     "name": "stderr",
     "output_type": "stream",
     "text": [
      "Warning 1: TIFFReadDirectory:Sum of Photometric type-related color channels and ExtraSamples doesn't match SamplesPerPixel. Defining non-color channels as ExtraSamples.\n"
     ]
    },
    {
     "name": "stdout",
     "output_type": "stream",
     "text": [
      "File /home/cb/sis2/data/tfrecords256/00001_273x1056.tfrecord is new\n"
     ]
    },
    {
     "name": "stderr",
     "output_type": "stream",
     "text": [
      "Warning 1: TIFFReadDirectory:Sum of Photometric type-related color channels and ExtraSamples doesn't match SamplesPerPixel. Defining non-color channels as ExtraSamples.\n"
     ]
    },
    {
     "name": "stdout",
     "output_type": "stream",
     "text": [
      "File /home/cb/sis2/data/tfrecords256/00001_273x1317.tfrecord is new\n"
     ]
    },
    {
     "name": "stderr",
     "output_type": "stream",
     "text": [
      "Warning 1: TIFFReadDirectory:Sum of Photometric type-related color channels and ExtraSamples doesn't match SamplesPerPixel. Defining non-color channels as ExtraSamples.\n"
     ]
    },
    {
     "name": "stdout",
     "output_type": "stream",
     "text": [
      "File /home/cb/sis2/data/tfrecords256/00001_273x1578.tfrecord is new\n"
     ]
    },
    {
     "name": "stderr",
     "output_type": "stream",
     "text": [
      "Warning 1: TIFFReadDirectory:Sum of Photometric type-related color channels and ExtraSamples doesn't match SamplesPerPixel. Defining non-color channels as ExtraSamples.\n"
     ]
    },
    {
     "name": "stdout",
     "output_type": "stream",
     "text": [
      "File /home/cb/sis2/data/tfrecords256/00001_273x1839.tfrecord is new\n"
     ]
    },
    {
     "name": "stderr",
     "output_type": "stream",
     "text": [
      "Warning 1: TIFFReadDirectory:Sum of Photometric type-related color channels and ExtraSamples doesn't match SamplesPerPixel. Defining non-color channels as ExtraSamples.\n"
     ]
    },
    {
     "name": "stdout",
     "output_type": "stream",
     "text": [
      "File /home/cb/sis2/data/tfrecords256/00001_273x2100.tfrecord is new\n"
     ]
    },
    {
     "name": "stderr",
     "output_type": "stream",
     "text": [
      "Warning 1: TIFFReadDirectory:Sum of Photometric type-related color channels and ExtraSamples doesn't match SamplesPerPixel. Defining non-color channels as ExtraSamples.\n"
     ]
    },
    {
     "name": "stdout",
     "output_type": "stream",
     "text": [
      "File /home/cb/sis2/data/tfrecords256/00001_273x2361.tfrecord is new\n"
     ]
    },
    {
     "name": "stderr",
     "output_type": "stream",
     "text": [
      "Warning 1: TIFFReadDirectory:Sum of Photometric type-related color channels and ExtraSamples doesn't match SamplesPerPixel. Defining non-color channels as ExtraSamples.\n"
     ]
    },
    {
     "name": "stdout",
     "output_type": "stream",
     "text": [
      "File /home/cb/sis2/data/tfrecords256/00001_273x2622.tfrecord is new\n"
     ]
    },
    {
     "name": "stderr",
     "output_type": "stream",
     "text": [
      "Warning 1: TIFFReadDirectory:Sum of Photometric type-related color channels and ExtraSamples doesn't match SamplesPerPixel. Defining non-color channels as ExtraSamples.\n"
     ]
    },
    {
     "name": "stdout",
     "output_type": "stream",
     "text": [
      "File /home/cb/sis2/data/tfrecords256/00001_273x2883.tfrecord is new\n"
     ]
    },
    {
     "name": "stderr",
     "output_type": "stream",
     "text": [
      "Warning 1: TIFFReadDirectory:Sum of Photometric type-related color channels and ExtraSamples doesn't match SamplesPerPixel. Defining non-color channels as ExtraSamples.\n"
     ]
    },
    {
     "name": "stdout",
     "output_type": "stream",
     "text": [
      "File /home/cb/sis2/data/tfrecords256/00001_273x3144.tfrecord is new\n"
     ]
    },
    {
     "name": "stderr",
     "output_type": "stream",
     "text": [
      "Warning 1: TIFFReadDirectory:Sum of Photometric type-related color channels and ExtraSamples doesn't match SamplesPerPixel. Defining non-color channels as ExtraSamples.\n"
     ]
    },
    {
     "name": "stdout",
     "output_type": "stream",
     "text": [
      "File /home/cb/sis2/data/tfrecords256/00001_273x3405.tfrecord is new\n"
     ]
    },
    {
     "name": "stderr",
     "output_type": "stream",
     "text": [
      "Warning 1: TIFFReadDirectory:Sum of Photometric type-related color channels and ExtraSamples doesn't match SamplesPerPixel. Defining non-color channels as ExtraSamples.\n"
     ]
    },
    {
     "name": "stdout",
     "output_type": "stream",
     "text": [
      "File /home/cb/sis2/data/tfrecords256/00001_273x3666.tfrecord is new\n"
     ]
    },
    {
     "name": "stderr",
     "output_type": "stream",
     "text": [
      "Warning 1: TIFFReadDirectory:Sum of Photometric type-related color channels and ExtraSamples doesn't match SamplesPerPixel. Defining non-color channels as ExtraSamples.\n"
     ]
    },
    {
     "name": "stdout",
     "output_type": "stream",
     "text": [
      "File /home/cb/sis2/data/tfrecords256/00001_534x12.tfrecord is new\n"
     ]
    },
    {
     "name": "stderr",
     "output_type": "stream",
     "text": [
      "Warning 1: TIFFReadDirectory:Sum of Photometric type-related color channels and ExtraSamples doesn't match SamplesPerPixel. Defining non-color channels as ExtraSamples.\n"
     ]
    },
    {
     "name": "stdout",
     "output_type": "stream",
     "text": [
      "File /home/cb/sis2/data/tfrecords256/00001_534x273.tfrecord is new\n"
     ]
    },
    {
     "name": "stderr",
     "output_type": "stream",
     "text": [
      "Warning 1: TIFFReadDirectory:Sum of Photometric type-related color channels and ExtraSamples doesn't match SamplesPerPixel. Defining non-color channels as ExtraSamples.\n"
     ]
    },
    {
     "name": "stdout",
     "output_type": "stream",
     "text": [
      "File /home/cb/sis2/data/tfrecords256/00001_534x534.tfrecord is new\n"
     ]
    },
    {
     "name": "stderr",
     "output_type": "stream",
     "text": [
      "Warning 1: TIFFReadDirectory:Sum of Photometric type-related color channels and ExtraSamples doesn't match SamplesPerPixel. Defining non-color channels as ExtraSamples.\n"
     ]
    },
    {
     "name": "stdout",
     "output_type": "stream",
     "text": [
      "File /home/cb/sis2/data/tfrecords256/00001_534x795.tfrecord is new\n"
     ]
    },
    {
     "name": "stderr",
     "output_type": "stream",
     "text": [
      "Warning 1: TIFFReadDirectory:Sum of Photometric type-related color channels and ExtraSamples doesn't match SamplesPerPixel. Defining non-color channels as ExtraSamples.\n"
     ]
    },
    {
     "name": "stdout",
     "output_type": "stream",
     "text": [
      "File /home/cb/sis2/data/tfrecords256/00001_534x1056.tfrecord is new\n"
     ]
    },
    {
     "name": "stderr",
     "output_type": "stream",
     "text": [
      "Warning 1: TIFFReadDirectory:Sum of Photometric type-related color channels and ExtraSamples doesn't match SamplesPerPixel. Defining non-color channels as ExtraSamples.\n"
     ]
    },
    {
     "name": "stdout",
     "output_type": "stream",
     "text": [
      "File /home/cb/sis2/data/tfrecords256/00001_534x1317.tfrecord is new\n"
     ]
    },
    {
     "name": "stderr",
     "output_type": "stream",
     "text": [
      "Warning 1: TIFFReadDirectory:Sum of Photometric type-related color channels and ExtraSamples doesn't match SamplesPerPixel. Defining non-color channels as ExtraSamples.\n"
     ]
    },
    {
     "name": "stdout",
     "output_type": "stream",
     "text": [
      "File /home/cb/sis2/data/tfrecords256/00001_534x1578.tfrecord is new\n"
     ]
    },
    {
     "name": "stderr",
     "output_type": "stream",
     "text": [
      "Warning 1: TIFFReadDirectory:Sum of Photometric type-related color channels and ExtraSamples doesn't match SamplesPerPixel. Defining non-color channels as ExtraSamples.\n"
     ]
    },
    {
     "name": "stdout",
     "output_type": "stream",
     "text": [
      "File /home/cb/sis2/data/tfrecords256/00001_534x1839.tfrecord is new\n"
     ]
    },
    {
     "name": "stderr",
     "output_type": "stream",
     "text": [
      "Warning 1: TIFFReadDirectory:Sum of Photometric type-related color channels and ExtraSamples doesn't match SamplesPerPixel. Defining non-color channels as ExtraSamples.\n"
     ]
    },
    {
     "name": "stdout",
     "output_type": "stream",
     "text": [
      "File /home/cb/sis2/data/tfrecords256/00001_534x2100.tfrecord is new\n"
     ]
    },
    {
     "name": "stderr",
     "output_type": "stream",
     "text": [
      "Warning 1: TIFFReadDirectory:Sum of Photometric type-related color channels and ExtraSamples doesn't match SamplesPerPixel. Defining non-color channels as ExtraSamples.\n"
     ]
    },
    {
     "name": "stdout",
     "output_type": "stream",
     "text": [
      "File /home/cb/sis2/data/tfrecords256/00001_534x2361.tfrecord is new\n"
     ]
    },
    {
     "name": "stderr",
     "output_type": "stream",
     "text": [
      "Warning 1: TIFFReadDirectory:Sum of Photometric type-related color channels and ExtraSamples doesn't match SamplesPerPixel. Defining non-color channels as ExtraSamples.\n"
     ]
    },
    {
     "name": "stdout",
     "output_type": "stream",
     "text": [
      "File /home/cb/sis2/data/tfrecords256/00001_534x2622.tfrecord is new\n"
     ]
    },
    {
     "name": "stderr",
     "output_type": "stream",
     "text": [
      "Warning 1: TIFFReadDirectory:Sum of Photometric type-related color channels and ExtraSamples doesn't match SamplesPerPixel. Defining non-color channels as ExtraSamples.\n"
     ]
    },
    {
     "name": "stdout",
     "output_type": "stream",
     "text": [
      "File /home/cb/sis2/data/tfrecords256/00001_534x2883.tfrecord is new\n"
     ]
    },
    {
     "name": "stderr",
     "output_type": "stream",
     "text": [
      "Warning 1: TIFFReadDirectory:Sum of Photometric type-related color channels and ExtraSamples doesn't match SamplesPerPixel. Defining non-color channels as ExtraSamples.\n"
     ]
    },
    {
     "name": "stdout",
     "output_type": "stream",
     "text": [
      "File /home/cb/sis2/data/tfrecords256/00001_534x3144.tfrecord is new\n"
     ]
    },
    {
     "name": "stderr",
     "output_type": "stream",
     "text": [
      "Warning 1: TIFFReadDirectory:Sum of Photometric type-related color channels and ExtraSamples doesn't match SamplesPerPixel. Defining non-color channels as ExtraSamples.\n"
     ]
    },
    {
     "name": "stdout",
     "output_type": "stream",
     "text": [
      "File /home/cb/sis2/data/tfrecords256/00001_534x3405.tfrecord is new\n"
     ]
    },
    {
     "name": "stderr",
     "output_type": "stream",
     "text": [
      "Warning 1: TIFFReadDirectory:Sum of Photometric type-related color channels and ExtraSamples doesn't match SamplesPerPixel. Defining non-color channels as ExtraSamples.\n"
     ]
    },
    {
     "name": "stdout",
     "output_type": "stream",
     "text": [
      "File /home/cb/sis2/data/tfrecords256/00001_534x3666.tfrecord is new\n"
     ]
    },
    {
     "name": "stderr",
     "output_type": "stream",
     "text": [
      "Warning 1: TIFFReadDirectory:Sum of Photometric type-related color channels and ExtraSamples doesn't match SamplesPerPixel. Defining non-color channels as ExtraSamples.\n"
     ]
    },
    {
     "name": "stdout",
     "output_type": "stream",
     "text": [
      "File /home/cb/sis2/data/tfrecords256/00001_795x273.tfrecord is new\n"
     ]
    },
    {
     "name": "stderr",
     "output_type": "stream",
     "text": [
      "Warning 1: TIFFReadDirectory:Sum of Photometric type-related color channels and ExtraSamples doesn't match SamplesPerPixel. Defining non-color channels as ExtraSamples.\n"
     ]
    },
    {
     "name": "stdout",
     "output_type": "stream",
     "text": [
      "File /home/cb/sis2/data/tfrecords256/00001_795x534.tfrecord is new\n"
     ]
    },
    {
     "name": "stderr",
     "output_type": "stream",
     "text": [
      "Warning 1: TIFFReadDirectory:Sum of Photometric type-related color channels and ExtraSamples doesn't match SamplesPerPixel. Defining non-color channels as ExtraSamples.\n"
     ]
    },
    {
     "name": "stdout",
     "output_type": "stream",
     "text": [
      "File /home/cb/sis2/data/tfrecords256/00001_795x795.tfrecord is new\n"
     ]
    },
    {
     "name": "stderr",
     "output_type": "stream",
     "text": [
      "Warning 1: TIFFReadDirectory:Sum of Photometric type-related color channels and ExtraSamples doesn't match SamplesPerPixel. Defining non-color channels as ExtraSamples.\n"
     ]
    },
    {
     "name": "stdout",
     "output_type": "stream",
     "text": [
      "File /home/cb/sis2/data/tfrecords256/00001_795x1056.tfrecord is new\n"
     ]
    },
    {
     "name": "stderr",
     "output_type": "stream",
     "text": [
      "Warning 1: TIFFReadDirectory:Sum of Photometric type-related color channels and ExtraSamples doesn't match SamplesPerPixel. Defining non-color channels as ExtraSamples.\n"
     ]
    },
    {
     "name": "stdout",
     "output_type": "stream",
     "text": [
      "File /home/cb/sis2/data/tfrecords256/00001_795x1317.tfrecord is new\n"
     ]
    },
    {
     "name": "stderr",
     "output_type": "stream",
     "text": [
      "Warning 1: TIFFReadDirectory:Sum of Photometric type-related color channels and ExtraSamples doesn't match SamplesPerPixel. Defining non-color channels as ExtraSamples.\n"
     ]
    },
    {
     "name": "stdout",
     "output_type": "stream",
     "text": [
      "File /home/cb/sis2/data/tfrecords256/00001_795x1578.tfrecord is new\n"
     ]
    },
    {
     "name": "stderr",
     "output_type": "stream",
     "text": [
      "Warning 1: TIFFReadDirectory:Sum of Photometric type-related color channels and ExtraSamples doesn't match SamplesPerPixel. Defining non-color channels as ExtraSamples.\n"
     ]
    },
    {
     "name": "stdout",
     "output_type": "stream",
     "text": [
      "File /home/cb/sis2/data/tfrecords256/00001_795x1839.tfrecord is new\n"
     ]
    },
    {
     "name": "stderr",
     "output_type": "stream",
     "text": [
      "Warning 1: TIFFReadDirectory:Sum of Photometric type-related color channels and ExtraSamples doesn't match SamplesPerPixel. Defining non-color channels as ExtraSamples.\n"
     ]
    },
    {
     "name": "stdout",
     "output_type": "stream",
     "text": [
      "File /home/cb/sis2/data/tfrecords256/00001_795x2100.tfrecord is new\n"
     ]
    },
    {
     "name": "stderr",
     "output_type": "stream",
     "text": [
      "Warning 1: TIFFReadDirectory:Sum of Photometric type-related color channels and ExtraSamples doesn't match SamplesPerPixel. Defining non-color channels as ExtraSamples.\n"
     ]
    },
    {
     "name": "stdout",
     "output_type": "stream",
     "text": [
      "File /home/cb/sis2/data/tfrecords256/00001_795x2361.tfrecord is new\n"
     ]
    },
    {
     "name": "stderr",
     "output_type": "stream",
     "text": [
      "Warning 1: TIFFReadDirectory:Sum of Photometric type-related color channels and ExtraSamples doesn't match SamplesPerPixel. Defining non-color channels as ExtraSamples.\n"
     ]
    },
    {
     "name": "stdout",
     "output_type": "stream",
     "text": [
      "File /home/cb/sis2/data/tfrecords256/00001_795x2622.tfrecord is new\n"
     ]
    },
    {
     "name": "stderr",
     "output_type": "stream",
     "text": [
      "Warning 1: TIFFReadDirectory:Sum of Photometric type-related color channels and ExtraSamples doesn't match SamplesPerPixel. Defining non-color channels as ExtraSamples.\n"
     ]
    },
    {
     "name": "stdout",
     "output_type": "stream",
     "text": [
      "File /home/cb/sis2/data/tfrecords256/00001_795x2883.tfrecord is new\n"
     ]
    },
    {
     "name": "stderr",
     "output_type": "stream",
     "text": [
      "Warning 1: TIFFReadDirectory:Sum of Photometric type-related color channels and ExtraSamples doesn't match SamplesPerPixel. Defining non-color channels as ExtraSamples.\n"
     ]
    },
    {
     "name": "stdout",
     "output_type": "stream",
     "text": [
      "File /home/cb/sis2/data/tfrecords256/00001_795x3144.tfrecord is new\n"
     ]
    },
    {
     "name": "stderr",
     "output_type": "stream",
     "text": [
      "Warning 1: TIFFReadDirectory:Sum of Photometric type-related color channels and ExtraSamples doesn't match SamplesPerPixel. Defining non-color channels as ExtraSamples.\n"
     ]
    },
    {
     "name": "stdout",
     "output_type": "stream",
     "text": [
      "File /home/cb/sis2/data/tfrecords256/00001_795x3405.tfrecord is new\n"
     ]
    },
    {
     "name": "stderr",
     "output_type": "stream",
     "text": [
      "Warning 1: TIFFReadDirectory:Sum of Photometric type-related color channels and ExtraSamples doesn't match SamplesPerPixel. Defining non-color channels as ExtraSamples.\n"
     ]
    },
    {
     "name": "stdout",
     "output_type": "stream",
     "text": [
      "File /home/cb/sis2/data/tfrecords256/00001_795x6015.tfrecord is new\n"
     ]
    },
    {
     "name": "stderr",
     "output_type": "stream",
     "text": [
      "Warning 1: TIFFReadDirectory:Sum of Photometric type-related color channels and ExtraSamples doesn't match SamplesPerPixel. Defining non-color channels as ExtraSamples.\n"
     ]
    },
    {
     "name": "stdout",
     "output_type": "stream",
     "text": [
      "File /home/cb/sis2/data/tfrecords256/00001_1056x273.tfrecord is new\n"
     ]
    },
    {
     "name": "stderr",
     "output_type": "stream",
     "text": [
      "Warning 1: TIFFReadDirectory:Sum of Photometric type-related color channels and ExtraSamples doesn't match SamplesPerPixel. Defining non-color channels as ExtraSamples.\n"
     ]
    },
    {
     "name": "stdout",
     "output_type": "stream",
     "text": [
      "File /home/cb/sis2/data/tfrecords256/00001_1056x534.tfrecord is new\n"
     ]
    },
    {
     "name": "stderr",
     "output_type": "stream",
     "text": [
      "Warning 1: TIFFReadDirectory:Sum of Photometric type-related color channels and ExtraSamples doesn't match SamplesPerPixel. Defining non-color channels as ExtraSamples.\n"
     ]
    },
    {
     "name": "stdout",
     "output_type": "stream",
     "text": [
      "File /home/cb/sis2/data/tfrecords256/00001_1056x795.tfrecord is new\n"
     ]
    },
    {
     "name": "stderr",
     "output_type": "stream",
     "text": [
      "Warning 1: TIFFReadDirectory:Sum of Photometric type-related color channels and ExtraSamples doesn't match SamplesPerPixel. Defining non-color channels as ExtraSamples.\n"
     ]
    },
    {
     "name": "stdout",
     "output_type": "stream",
     "text": [
      "File /home/cb/sis2/data/tfrecords256/00001_1056x1056.tfrecord is new\n"
     ]
    },
    {
     "name": "stderr",
     "output_type": "stream",
     "text": [
      "Warning 1: TIFFReadDirectory:Sum of Photometric type-related color channels and ExtraSamples doesn't match SamplesPerPixel. Defining non-color channels as ExtraSamples.\n"
     ]
    },
    {
     "name": "stdout",
     "output_type": "stream",
     "text": [
      "File /home/cb/sis2/data/tfrecords256/00001_1056x1317.tfrecord is new\n"
     ]
    },
    {
     "name": "stderr",
     "output_type": "stream",
     "text": [
      "Warning 1: TIFFReadDirectory:Sum of Photometric type-related color channels and ExtraSamples doesn't match SamplesPerPixel. Defining non-color channels as ExtraSamples.\n"
     ]
    },
    {
     "name": "stdout",
     "output_type": "stream",
     "text": [
      "File /home/cb/sis2/data/tfrecords256/00001_1056x1578.tfrecord is new\n"
     ]
    },
    {
     "name": "stderr",
     "output_type": "stream",
     "text": [
      "Warning 1: TIFFReadDirectory:Sum of Photometric type-related color channels and ExtraSamples doesn't match SamplesPerPixel. Defining non-color channels as ExtraSamples.\n"
     ]
    },
    {
     "name": "stdout",
     "output_type": "stream",
     "text": [
      "File /home/cb/sis2/data/tfrecords256/00001_1056x1839.tfrecord is new\n"
     ]
    },
    {
     "name": "stderr",
     "output_type": "stream",
     "text": [
      "Warning 1: TIFFReadDirectory:Sum of Photometric type-related color channels and ExtraSamples doesn't match SamplesPerPixel. Defining non-color channels as ExtraSamples.\n"
     ]
    },
    {
     "name": "stdout",
     "output_type": "stream",
     "text": [
      "File /home/cb/sis2/data/tfrecords256/00001_1056x2100.tfrecord is new\n"
     ]
    },
    {
     "name": "stderr",
     "output_type": "stream",
     "text": [
      "Warning 1: TIFFReadDirectory:Sum of Photometric type-related color channels and ExtraSamples doesn't match SamplesPerPixel. Defining non-color channels as ExtraSamples.\n"
     ]
    },
    {
     "name": "stdout",
     "output_type": "stream",
     "text": [
      "File /home/cb/sis2/data/tfrecords256/00001_1056x2361.tfrecord is new\n"
     ]
    },
    {
     "name": "stderr",
     "output_type": "stream",
     "text": [
      "Warning 1: TIFFReadDirectory:Sum of Photometric type-related color channels and ExtraSamples doesn't match SamplesPerPixel. Defining non-color channels as ExtraSamples.\n"
     ]
    },
    {
     "name": "stdout",
     "output_type": "stream",
     "text": [
      "File /home/cb/sis2/data/tfrecords256/00001_1056x2622.tfrecord is new\n"
     ]
    },
    {
     "name": "stderr",
     "output_type": "stream",
     "text": [
      "Warning 1: TIFFReadDirectory:Sum of Photometric type-related color channels and ExtraSamples doesn't match SamplesPerPixel. Defining non-color channels as ExtraSamples.\n"
     ]
    },
    {
     "name": "stdout",
     "output_type": "stream",
     "text": [
      "File /home/cb/sis2/data/tfrecords256/00001_1056x2883.tfrecord is new\n"
     ]
    },
    {
     "name": "stderr",
     "output_type": "stream",
     "text": [
      "Warning 1: TIFFReadDirectory:Sum of Photometric type-related color channels and ExtraSamples doesn't match SamplesPerPixel. Defining non-color channels as ExtraSamples.\n"
     ]
    },
    {
     "name": "stdout",
     "output_type": "stream",
     "text": [
      "File /home/cb/sis2/data/tfrecords256/00001_1056x3144.tfrecord is new\n"
     ]
    },
    {
     "name": "stderr",
     "output_type": "stream",
     "text": [
      "Warning 1: TIFFReadDirectory:Sum of Photometric type-related color channels and ExtraSamples doesn't match SamplesPerPixel. Defining non-color channels as ExtraSamples.\n"
     ]
    },
    {
     "name": "stdout",
     "output_type": "stream",
     "text": [
      "File /home/cb/sis2/data/tfrecords256/00001_1056x3405.tfrecord is new\n"
     ]
    },
    {
     "name": "stderr",
     "output_type": "stream",
     "text": [
      "Warning 1: TIFFReadDirectory:Sum of Photometric type-related color channels and ExtraSamples doesn't match SamplesPerPixel. Defining non-color channels as ExtraSamples.\n"
     ]
    },
    {
     "name": "stdout",
     "output_type": "stream",
     "text": [
      "File /home/cb/sis2/data/tfrecords256/00001_1056x5754.tfrecord is new\n"
     ]
    },
    {
     "name": "stderr",
     "output_type": "stream",
     "text": [
      "Warning 1: TIFFReadDirectory:Sum of Photometric type-related color channels and ExtraSamples doesn't match SamplesPerPixel. Defining non-color channels as ExtraSamples.\n"
     ]
    },
    {
     "name": "stdout",
     "output_type": "stream",
     "text": [
      "File /home/cb/sis2/data/tfrecords256/00001_1056x6015.tfrecord is new\n"
     ]
    },
    {
     "name": "stderr",
     "output_type": "stream",
     "text": [
      "Warning 1: TIFFReadDirectory:Sum of Photometric type-related color channels and ExtraSamples doesn't match SamplesPerPixel. Defining non-color channels as ExtraSamples.\n"
     ]
    },
    {
     "name": "stdout",
     "output_type": "stream",
     "text": [
      "File /home/cb/sis2/data/tfrecords256/00001_1317x273.tfrecord is new\n"
     ]
    },
    {
     "name": "stderr",
     "output_type": "stream",
     "text": [
      "Warning 1: TIFFReadDirectory:Sum of Photometric type-related color channels and ExtraSamples doesn't match SamplesPerPixel. Defining non-color channels as ExtraSamples.\n"
     ]
    },
    {
     "name": "stdout",
     "output_type": "stream",
     "text": [
      "File /home/cb/sis2/data/tfrecords256/00001_1317x534.tfrecord is new\n"
     ]
    },
    {
     "name": "stderr",
     "output_type": "stream",
     "text": [
      "Warning 1: TIFFReadDirectory:Sum of Photometric type-related color channels and ExtraSamples doesn't match SamplesPerPixel. Defining non-color channels as ExtraSamples.\n"
     ]
    },
    {
     "name": "stdout",
     "output_type": "stream",
     "text": [
      "File /home/cb/sis2/data/tfrecords256/00001_1317x795.tfrecord is new\n"
     ]
    },
    {
     "name": "stderr",
     "output_type": "stream",
     "text": [
      "Warning 1: TIFFReadDirectory:Sum of Photometric type-related color channels and ExtraSamples doesn't match SamplesPerPixel. Defining non-color channels as ExtraSamples.\n"
     ]
    },
    {
     "name": "stdout",
     "output_type": "stream",
     "text": [
      "File /home/cb/sis2/data/tfrecords256/00001_1317x1056.tfrecord is new\n"
     ]
    },
    {
     "name": "stderr",
     "output_type": "stream",
     "text": [
      "Warning 1: TIFFReadDirectory:Sum of Photometric type-related color channels and ExtraSamples doesn't match SamplesPerPixel. Defining non-color channels as ExtraSamples.\n"
     ]
    },
    {
     "name": "stdout",
     "output_type": "stream",
     "text": [
      "File /home/cb/sis2/data/tfrecords256/00001_1317x1317.tfrecord is new\n"
     ]
    },
    {
     "name": "stderr",
     "output_type": "stream",
     "text": [
      "Warning 1: TIFFReadDirectory:Sum of Photometric type-related color channels and ExtraSamples doesn't match SamplesPerPixel. Defining non-color channels as ExtraSamples.\n"
     ]
    },
    {
     "name": "stdout",
     "output_type": "stream",
     "text": [
      "File /home/cb/sis2/data/tfrecords256/00001_1317x1578.tfrecord is new\n"
     ]
    },
    {
     "name": "stderr",
     "output_type": "stream",
     "text": [
      "Warning 1: TIFFReadDirectory:Sum of Photometric type-related color channels and ExtraSamples doesn't match SamplesPerPixel. Defining non-color channels as ExtraSamples.\n"
     ]
    },
    {
     "name": "stdout",
     "output_type": "stream",
     "text": [
      "File /home/cb/sis2/data/tfrecords256/00001_1317x1839.tfrecord is new\n"
     ]
    },
    {
     "name": "stderr",
     "output_type": "stream",
     "text": [
      "Warning 1: TIFFReadDirectory:Sum of Photometric type-related color channels and ExtraSamples doesn't match SamplesPerPixel. Defining non-color channels as ExtraSamples.\n"
     ]
    },
    {
     "name": "stdout",
     "output_type": "stream",
     "text": [
      "File /home/cb/sis2/data/tfrecords256/00001_1317x2100.tfrecord is new\n"
     ]
    },
    {
     "name": "stderr",
     "output_type": "stream",
     "text": [
      "Warning 1: TIFFReadDirectory:Sum of Photometric type-related color channels and ExtraSamples doesn't match SamplesPerPixel. Defining non-color channels as ExtraSamples.\n"
     ]
    },
    {
     "name": "stdout",
     "output_type": "stream",
     "text": [
      "File /home/cb/sis2/data/tfrecords256/00001_1317x2361.tfrecord is new\n"
     ]
    },
    {
     "name": "stderr",
     "output_type": "stream",
     "text": [
      "Warning 1: TIFFReadDirectory:Sum of Photometric type-related color channels and ExtraSamples doesn't match SamplesPerPixel. Defining non-color channels as ExtraSamples.\n"
     ]
    },
    {
     "name": "stdout",
     "output_type": "stream",
     "text": [
      "File /home/cb/sis2/data/tfrecords256/00001_1317x2622.tfrecord is new\n"
     ]
    },
    {
     "name": "stderr",
     "output_type": "stream",
     "text": [
      "Warning 1: TIFFReadDirectory:Sum of Photometric type-related color channels and ExtraSamples doesn't match SamplesPerPixel. Defining non-color channels as ExtraSamples.\n"
     ]
    },
    {
     "name": "stdout",
     "output_type": "stream",
     "text": [
      "File /home/cb/sis2/data/tfrecords256/00001_1317x2883.tfrecord is new\n"
     ]
    },
    {
     "name": "stderr",
     "output_type": "stream",
     "text": [
      "Warning 1: TIFFReadDirectory:Sum of Photometric type-related color channels and ExtraSamples doesn't match SamplesPerPixel. Defining non-color channels as ExtraSamples.\n"
     ]
    },
    {
     "name": "stdout",
     "output_type": "stream",
     "text": [
      "File /home/cb/sis2/data/tfrecords256/00001_1317x3144.tfrecord is new\n"
     ]
    },
    {
     "name": "stderr",
     "output_type": "stream",
     "text": [
      "Warning 1: TIFFReadDirectory:Sum of Photometric type-related color channels and ExtraSamples doesn't match SamplesPerPixel. Defining non-color channels as ExtraSamples.\n"
     ]
    },
    {
     "name": "stdout",
     "output_type": "stream",
     "text": [
      "File /home/cb/sis2/data/tfrecords256/00001_1317x6015.tfrecord is new\n"
     ]
    },
    {
     "name": "stderr",
     "output_type": "stream",
     "text": [
      "Warning 1: TIFFReadDirectory:Sum of Photometric type-related color channels and ExtraSamples doesn't match SamplesPerPixel. Defining non-color channels as ExtraSamples.\n"
     ]
    },
    {
     "name": "stdout",
     "output_type": "stream",
     "text": [
      "File /home/cb/sis2/data/tfrecords256/00001_1578x273.tfrecord is new\n"
     ]
    },
    {
     "name": "stderr",
     "output_type": "stream",
     "text": [
      "Warning 1: TIFFReadDirectory:Sum of Photometric type-related color channels and ExtraSamples doesn't match SamplesPerPixel. Defining non-color channels as ExtraSamples.\n"
     ]
    },
    {
     "name": "stdout",
     "output_type": "stream",
     "text": [
      "File /home/cb/sis2/data/tfrecords256/00001_1578x795.tfrecord is new\n"
     ]
    },
    {
     "name": "stderr",
     "output_type": "stream",
     "text": [
      "Warning 1: TIFFReadDirectory:Sum of Photometric type-related color channels and ExtraSamples doesn't match SamplesPerPixel. Defining non-color channels as ExtraSamples.\n"
     ]
    },
    {
     "name": "stdout",
     "output_type": "stream",
     "text": [
      "File /home/cb/sis2/data/tfrecords256/00001_1578x1056.tfrecord is new\n"
     ]
    },
    {
     "name": "stderr",
     "output_type": "stream",
     "text": [
      "Warning 1: TIFFReadDirectory:Sum of Photometric type-related color channels and ExtraSamples doesn't match SamplesPerPixel. Defining non-color channels as ExtraSamples.\n"
     ]
    },
    {
     "name": "stdout",
     "output_type": "stream",
     "text": [
      "File /home/cb/sis2/data/tfrecords256/00001_1578x1317.tfrecord is new\n"
     ]
    },
    {
     "name": "stderr",
     "output_type": "stream",
     "text": [
      "Warning 1: TIFFReadDirectory:Sum of Photometric type-related color channels and ExtraSamples doesn't match SamplesPerPixel. Defining non-color channels as ExtraSamples.\n"
     ]
    },
    {
     "name": "stdout",
     "output_type": "stream",
     "text": [
      "File /home/cb/sis2/data/tfrecords256/00001_1578x1578.tfrecord is new\n"
     ]
    },
    {
     "name": "stderr",
     "output_type": "stream",
     "text": [
      "Warning 1: TIFFReadDirectory:Sum of Photometric type-related color channels and ExtraSamples doesn't match SamplesPerPixel. Defining non-color channels as ExtraSamples.\n"
     ]
    },
    {
     "name": "stdout",
     "output_type": "stream",
     "text": [
      "File /home/cb/sis2/data/tfrecords256/00001_1578x1839.tfrecord is new\n"
     ]
    },
    {
     "name": "stderr",
     "output_type": "stream",
     "text": [
      "Warning 1: TIFFReadDirectory:Sum of Photometric type-related color channels and ExtraSamples doesn't match SamplesPerPixel. Defining non-color channels as ExtraSamples.\n"
     ]
    },
    {
     "name": "stdout",
     "output_type": "stream",
     "text": [
      "File /home/cb/sis2/data/tfrecords256/00001_1578x2100.tfrecord is new\n"
     ]
    },
    {
     "name": "stderr",
     "output_type": "stream",
     "text": [
      "Warning 1: TIFFReadDirectory:Sum of Photometric type-related color channels and ExtraSamples doesn't match SamplesPerPixel. Defining non-color channels as ExtraSamples.\n"
     ]
    },
    {
     "name": "stdout",
     "output_type": "stream",
     "text": [
      "File /home/cb/sis2/data/tfrecords256/00001_1578x2361.tfrecord is new\n"
     ]
    },
    {
     "name": "stderr",
     "output_type": "stream",
     "text": [
      "Warning 1: TIFFReadDirectory:Sum of Photometric type-related color channels and ExtraSamples doesn't match SamplesPerPixel. Defining non-color channels as ExtraSamples.\n"
     ]
    },
    {
     "name": "stdout",
     "output_type": "stream",
     "text": [
      "File /home/cb/sis2/data/tfrecords256/00001_1578x2622.tfrecord is new\n"
     ]
    },
    {
     "name": "stderr",
     "output_type": "stream",
     "text": [
      "Warning 1: TIFFReadDirectory:Sum of Photometric type-related color channels and ExtraSamples doesn't match SamplesPerPixel. Defining non-color channels as ExtraSamples.\n"
     ]
    },
    {
     "name": "stdout",
     "output_type": "stream",
     "text": [
      "File /home/cb/sis2/data/tfrecords256/00001_1578x2883.tfrecord is new\n"
     ]
    },
    {
     "name": "stderr",
     "output_type": "stream",
     "text": [
      "Warning 1: TIFFReadDirectory:Sum of Photometric type-related color channels and ExtraSamples doesn't match SamplesPerPixel. Defining non-color channels as ExtraSamples.\n"
     ]
    },
    {
     "name": "stdout",
     "output_type": "stream",
     "text": [
      "File /home/cb/sis2/data/tfrecords256/00001_1578x3144.tfrecord is new\n"
     ]
    },
    {
     "name": "stderr",
     "output_type": "stream",
     "text": [
      "Warning 1: TIFFReadDirectory:Sum of Photometric type-related color channels and ExtraSamples doesn't match SamplesPerPixel. Defining non-color channels as ExtraSamples.\n"
     ]
    },
    {
     "name": "stdout",
     "output_type": "stream",
     "text": [
      "File /home/cb/sis2/data/tfrecords256/00001_1578x5754.tfrecord is new\n"
     ]
    },
    {
     "name": "stderr",
     "output_type": "stream",
     "text": [
      "Warning 1: TIFFReadDirectory:Sum of Photometric type-related color channels and ExtraSamples doesn't match SamplesPerPixel. Defining non-color channels as ExtraSamples.\n"
     ]
    },
    {
     "name": "stdout",
     "output_type": "stream",
     "text": [
      "File /home/cb/sis2/data/tfrecords256/00001_1578x6015.tfrecord is new\n"
     ]
    },
    {
     "name": "stderr",
     "output_type": "stream",
     "text": [
      "Warning 1: TIFFReadDirectory:Sum of Photometric type-related color channels and ExtraSamples doesn't match SamplesPerPixel. Defining non-color channels as ExtraSamples.\n"
     ]
    },
    {
     "name": "stdout",
     "output_type": "stream",
     "text": [
      "File /home/cb/sis2/data/tfrecords256/00001_1578x6276.tfrecord is new\n"
     ]
    },
    {
     "name": "stderr",
     "output_type": "stream",
     "text": [
      "Warning 1: TIFFReadDirectory:Sum of Photometric type-related color channels and ExtraSamples doesn't match SamplesPerPixel. Defining non-color channels as ExtraSamples.\n"
     ]
    },
    {
     "name": "stdout",
     "output_type": "stream",
     "text": [
      "File /home/cb/sis2/data/tfrecords256/00001_1839x795.tfrecord is new\n"
     ]
    },
    {
     "name": "stderr",
     "output_type": "stream",
     "text": [
      "Warning 1: TIFFReadDirectory:Sum of Photometric type-related color channels and ExtraSamples doesn't match SamplesPerPixel. Defining non-color channels as ExtraSamples.\n"
     ]
    },
    {
     "name": "stdout",
     "output_type": "stream",
     "text": [
      "File /home/cb/sis2/data/tfrecords256/00001_1839x1056.tfrecord is new\n"
     ]
    },
    {
     "name": "stderr",
     "output_type": "stream",
     "text": [
      "Warning 1: TIFFReadDirectory:Sum of Photometric type-related color channels and ExtraSamples doesn't match SamplesPerPixel. Defining non-color channels as ExtraSamples.\n"
     ]
    },
    {
     "name": "stdout",
     "output_type": "stream",
     "text": [
      "File /home/cb/sis2/data/tfrecords256/00001_1839x1317.tfrecord is new\n"
     ]
    },
    {
     "name": "stderr",
     "output_type": "stream",
     "text": [
      "Warning 1: TIFFReadDirectory:Sum of Photometric type-related color channels and ExtraSamples doesn't match SamplesPerPixel. Defining non-color channels as ExtraSamples.\n"
     ]
    },
    {
     "name": "stdout",
     "output_type": "stream",
     "text": [
      "File /home/cb/sis2/data/tfrecords256/00001_1839x1578.tfrecord is new\n"
     ]
    },
    {
     "name": "stderr",
     "output_type": "stream",
     "text": [
      "Warning 1: TIFFReadDirectory:Sum of Photometric type-related color channels and ExtraSamples doesn't match SamplesPerPixel. Defining non-color channels as ExtraSamples.\n"
     ]
    },
    {
     "name": "stdout",
     "output_type": "stream",
     "text": [
      "File /home/cb/sis2/data/tfrecords256/00001_1839x1839.tfrecord is new\n"
     ]
    },
    {
     "name": "stderr",
     "output_type": "stream",
     "text": [
      "Warning 1: TIFFReadDirectory:Sum of Photometric type-related color channels and ExtraSamples doesn't match SamplesPerPixel. Defining non-color channels as ExtraSamples.\n"
     ]
    },
    {
     "name": "stdout",
     "output_type": "stream",
     "text": [
      "File /home/cb/sis2/data/tfrecords256/00001_1839x2100.tfrecord is new\n"
     ]
    },
    {
     "name": "stderr",
     "output_type": "stream",
     "text": [
      "Warning 1: TIFFReadDirectory:Sum of Photometric type-related color channels and ExtraSamples doesn't match SamplesPerPixel. Defining non-color channels as ExtraSamples.\n"
     ]
    },
    {
     "name": "stdout",
     "output_type": "stream",
     "text": [
      "File /home/cb/sis2/data/tfrecords256/00001_1839x2361.tfrecord is new\n"
     ]
    },
    {
     "name": "stderr",
     "output_type": "stream",
     "text": [
      "Warning 1: TIFFReadDirectory:Sum of Photometric type-related color channels and ExtraSamples doesn't match SamplesPerPixel. Defining non-color channels as ExtraSamples.\n"
     ]
    },
    {
     "name": "stdout",
     "output_type": "stream",
     "text": [
      "File /home/cb/sis2/data/tfrecords256/00001_1839x2622.tfrecord is new\n"
     ]
    },
    {
     "name": "stderr",
     "output_type": "stream",
     "text": [
      "Warning 1: TIFFReadDirectory:Sum of Photometric type-related color channels and ExtraSamples doesn't match SamplesPerPixel. Defining non-color channels as ExtraSamples.\n"
     ]
    },
    {
     "name": "stdout",
     "output_type": "stream",
     "text": [
      "File /home/cb/sis2/data/tfrecords256/00001_1839x2883.tfrecord is new\n"
     ]
    },
    {
     "name": "stderr",
     "output_type": "stream",
     "text": [
      "Warning 1: TIFFReadDirectory:Sum of Photometric type-related color channels and ExtraSamples doesn't match SamplesPerPixel. Defining non-color channels as ExtraSamples.\n"
     ]
    },
    {
     "name": "stdout",
     "output_type": "stream",
     "text": [
      "File /home/cb/sis2/data/tfrecords256/00001_1839x3144.tfrecord is new\n"
     ]
    },
    {
     "name": "stderr",
     "output_type": "stream",
     "text": [
      "Warning 1: TIFFReadDirectory:Sum of Photometric type-related color channels and ExtraSamples doesn't match SamplesPerPixel. Defining non-color channels as ExtraSamples.\n"
     ]
    },
    {
     "name": "stdout",
     "output_type": "stream",
     "text": [
      "File /home/cb/sis2/data/tfrecords256/00001_1839x5232.tfrecord is new\n"
     ]
    },
    {
     "name": "stderr",
     "output_type": "stream",
     "text": [
      "Warning 1: TIFFReadDirectory:Sum of Photometric type-related color channels and ExtraSamples doesn't match SamplesPerPixel. Defining non-color channels as ExtraSamples.\n"
     ]
    },
    {
     "name": "stdout",
     "output_type": "stream",
     "text": [
      "File /home/cb/sis2/data/tfrecords256/00001_1839x5493.tfrecord is new\n"
     ]
    },
    {
     "name": "stderr",
     "output_type": "stream",
     "text": [
      "Warning 1: TIFFReadDirectory:Sum of Photometric type-related color channels and ExtraSamples doesn't match SamplesPerPixel. Defining non-color channels as ExtraSamples.\n"
     ]
    },
    {
     "name": "stdout",
     "output_type": "stream",
     "text": [
      "File /home/cb/sis2/data/tfrecords256/00001_1839x5754.tfrecord is new\n"
     ]
    },
    {
     "name": "stderr",
     "output_type": "stream",
     "text": [
      "Warning 1: TIFFReadDirectory:Sum of Photometric type-related color channels and ExtraSamples doesn't match SamplesPerPixel. Defining non-color channels as ExtraSamples.\n"
     ]
    },
    {
     "name": "stdout",
     "output_type": "stream",
     "text": [
      "File /home/cb/sis2/data/tfrecords256/00001_1839x6015.tfrecord is new\n"
     ]
    },
    {
     "name": "stderr",
     "output_type": "stream",
     "text": [
      "Warning 1: TIFFReadDirectory:Sum of Photometric type-related color channels and ExtraSamples doesn't match SamplesPerPixel. Defining non-color channels as ExtraSamples.\n"
     ]
    },
    {
     "name": "stdout",
     "output_type": "stream",
     "text": [
      "File /home/cb/sis2/data/tfrecords256/00001_2100x795.tfrecord is new\n"
     ]
    },
    {
     "name": "stderr",
     "output_type": "stream",
     "text": [
      "Warning 1: TIFFReadDirectory:Sum of Photometric type-related color channels and ExtraSamples doesn't match SamplesPerPixel. Defining non-color channels as ExtraSamples.\n"
     ]
    },
    {
     "name": "stdout",
     "output_type": "stream",
     "text": [
      "File /home/cb/sis2/data/tfrecords256/00001_2100x1056.tfrecord is new\n"
     ]
    },
    {
     "name": "stderr",
     "output_type": "stream",
     "text": [
      "Warning 1: TIFFReadDirectory:Sum of Photometric type-related color channels and ExtraSamples doesn't match SamplesPerPixel. Defining non-color channels as ExtraSamples.\n"
     ]
    },
    {
     "name": "stdout",
     "output_type": "stream",
     "text": [
      "File /home/cb/sis2/data/tfrecords256/00001_2100x1317.tfrecord is new\n"
     ]
    },
    {
     "name": "stderr",
     "output_type": "stream",
     "text": [
      "Warning 1: TIFFReadDirectory:Sum of Photometric type-related color channels and ExtraSamples doesn't match SamplesPerPixel. Defining non-color channels as ExtraSamples.\n"
     ]
    },
    {
     "name": "stdout",
     "output_type": "stream",
     "text": [
      "File /home/cb/sis2/data/tfrecords256/00001_2100x1578.tfrecord is new\n"
     ]
    },
    {
     "name": "stderr",
     "output_type": "stream",
     "text": [
      "Warning 1: TIFFReadDirectory:Sum of Photometric type-related color channels and ExtraSamples doesn't match SamplesPerPixel. Defining non-color channels as ExtraSamples.\n"
     ]
    },
    {
     "name": "stdout",
     "output_type": "stream",
     "text": [
      "File /home/cb/sis2/data/tfrecords256/00001_2100x1839.tfrecord is new\n"
     ]
    },
    {
     "name": "stderr",
     "output_type": "stream",
     "text": [
      "Warning 1: TIFFReadDirectory:Sum of Photometric type-related color channels and ExtraSamples doesn't match SamplesPerPixel. Defining non-color channels as ExtraSamples.\n"
     ]
    },
    {
     "name": "stdout",
     "output_type": "stream",
     "text": [
      "File /home/cb/sis2/data/tfrecords256/00001_2100x2100.tfrecord is new\n"
     ]
    },
    {
     "name": "stderr",
     "output_type": "stream",
     "text": [
      "Warning 1: TIFFReadDirectory:Sum of Photometric type-related color channels and ExtraSamples doesn't match SamplesPerPixel. Defining non-color channels as ExtraSamples.\n"
     ]
    },
    {
     "name": "stdout",
     "output_type": "stream",
     "text": [
      "File /home/cb/sis2/data/tfrecords256/00001_2100x2361.tfrecord is new\n"
     ]
    },
    {
     "name": "stderr",
     "output_type": "stream",
     "text": [
      "Warning 1: TIFFReadDirectory:Sum of Photometric type-related color channels and ExtraSamples doesn't match SamplesPerPixel. Defining non-color channels as ExtraSamples.\n"
     ]
    },
    {
     "name": "stdout",
     "output_type": "stream",
     "text": [
      "File /home/cb/sis2/data/tfrecords256/00001_2100x2622.tfrecord is new\n"
     ]
    },
    {
     "name": "stderr",
     "output_type": "stream",
     "text": [
      "Warning 1: TIFFReadDirectory:Sum of Photometric type-related color channels and ExtraSamples doesn't match SamplesPerPixel. Defining non-color channels as ExtraSamples.\n"
     ]
    },
    {
     "name": "stdout",
     "output_type": "stream",
     "text": [
      "File /home/cb/sis2/data/tfrecords256/00001_2100x3405.tfrecord is new\n"
     ]
    },
    {
     "name": "stderr",
     "output_type": "stream",
     "text": [
      "Warning 1: TIFFReadDirectory:Sum of Photometric type-related color channels and ExtraSamples doesn't match SamplesPerPixel. Defining non-color channels as ExtraSamples.\n"
     ]
    },
    {
     "name": "stdout",
     "output_type": "stream",
     "text": [
      "File /home/cb/sis2/data/tfrecords256/00001_2100x5232.tfrecord is new\n"
     ]
    },
    {
     "name": "stderr",
     "output_type": "stream",
     "text": [
      "Warning 1: TIFFReadDirectory:Sum of Photometric type-related color channels and ExtraSamples doesn't match SamplesPerPixel. Defining non-color channels as ExtraSamples.\n"
     ]
    },
    {
     "name": "stdout",
     "output_type": "stream",
     "text": [
      "File /home/cb/sis2/data/tfrecords256/00001_2100x5493.tfrecord is new\n"
     ]
    },
    {
     "name": "stderr",
     "output_type": "stream",
     "text": [
      "Warning 1: TIFFReadDirectory:Sum of Photometric type-related color channels and ExtraSamples doesn't match SamplesPerPixel. Defining non-color channels as ExtraSamples.\n"
     ]
    },
    {
     "name": "stdout",
     "output_type": "stream",
     "text": [
      "File /home/cb/sis2/data/tfrecords256/00001_2361x795.tfrecord is new\n"
     ]
    },
    {
     "name": "stderr",
     "output_type": "stream",
     "text": [
      "Warning 1: TIFFReadDirectory:Sum of Photometric type-related color channels and ExtraSamples doesn't match SamplesPerPixel. Defining non-color channels as ExtraSamples.\n"
     ]
    },
    {
     "name": "stdout",
     "output_type": "stream",
     "text": [
      "File /home/cb/sis2/data/tfrecords256/00001_2361x1056.tfrecord is new\n"
     ]
    },
    {
     "name": "stderr",
     "output_type": "stream",
     "text": [
      "Warning 1: TIFFReadDirectory:Sum of Photometric type-related color channels and ExtraSamples doesn't match SamplesPerPixel. Defining non-color channels as ExtraSamples.\n"
     ]
    },
    {
     "name": "stdout",
     "output_type": "stream",
     "text": [
      "File /home/cb/sis2/data/tfrecords256/00001_2361x1317.tfrecord is new\n"
     ]
    },
    {
     "name": "stderr",
     "output_type": "stream",
     "text": [
      "Warning 1: TIFFReadDirectory:Sum of Photometric type-related color channels and ExtraSamples doesn't match SamplesPerPixel. Defining non-color channels as ExtraSamples.\n"
     ]
    },
    {
     "name": "stdout",
     "output_type": "stream",
     "text": [
      "File /home/cb/sis2/data/tfrecords256/00001_2361x1578.tfrecord is new\n"
     ]
    },
    {
     "name": "stderr",
     "output_type": "stream",
     "text": [
      "Warning 1: TIFFReadDirectory:Sum of Photometric type-related color channels and ExtraSamples doesn't match SamplesPerPixel. Defining non-color channels as ExtraSamples.\n"
     ]
    },
    {
     "name": "stdout",
     "output_type": "stream",
     "text": [
      "File /home/cb/sis2/data/tfrecords256/00001_2361x1839.tfrecord is new\n"
     ]
    },
    {
     "name": "stderr",
     "output_type": "stream",
     "text": [
      "Warning 1: TIFFReadDirectory:Sum of Photometric type-related color channels and ExtraSamples doesn't match SamplesPerPixel. Defining non-color channels as ExtraSamples.\n"
     ]
    },
    {
     "name": "stdout",
     "output_type": "stream",
     "text": [
      "File /home/cb/sis2/data/tfrecords256/00001_2361x2100.tfrecord is new\n"
     ]
    },
    {
     "name": "stderr",
     "output_type": "stream",
     "text": [
      "Warning 1: TIFFReadDirectory:Sum of Photometric type-related color channels and ExtraSamples doesn't match SamplesPerPixel. Defining non-color channels as ExtraSamples.\n"
     ]
    },
    {
     "name": "stdout",
     "output_type": "stream",
     "text": [
      "File /home/cb/sis2/data/tfrecords256/00001_2361x3405.tfrecord is new\n"
     ]
    },
    {
     "name": "stderr",
     "output_type": "stream",
     "text": [
      "Warning 1: TIFFReadDirectory:Sum of Photometric type-related color channels and ExtraSamples doesn't match SamplesPerPixel. Defining non-color channels as ExtraSamples.\n"
     ]
    },
    {
     "name": "stdout",
     "output_type": "stream",
     "text": [
      "File /home/cb/sis2/data/tfrecords256/00001_2361x4710.tfrecord is new\n"
     ]
    },
    {
     "name": "stderr",
     "output_type": "stream",
     "text": [
      "Warning 1: TIFFReadDirectory:Sum of Photometric type-related color channels and ExtraSamples doesn't match SamplesPerPixel. Defining non-color channels as ExtraSamples.\n"
     ]
    },
    {
     "name": "stdout",
     "output_type": "stream",
     "text": [
      "File /home/cb/sis2/data/tfrecords256/00001_2361x4971.tfrecord is new\n"
     ]
    },
    {
     "name": "stderr",
     "output_type": "stream",
     "text": [
      "Warning 1: TIFFReadDirectory:Sum of Photometric type-related color channels and ExtraSamples doesn't match SamplesPerPixel. Defining non-color channels as ExtraSamples.\n"
     ]
    },
    {
     "name": "stdout",
     "output_type": "stream",
     "text": [
      "File /home/cb/sis2/data/tfrecords256/00001_2622x534.tfrecord is new\n"
     ]
    },
    {
     "name": "stderr",
     "output_type": "stream",
     "text": [
      "Warning 1: TIFFReadDirectory:Sum of Photometric type-related color channels and ExtraSamples doesn't match SamplesPerPixel. Defining non-color channels as ExtraSamples.\n"
     ]
    },
    {
     "name": "stdout",
     "output_type": "stream",
     "text": [
      "File /home/cb/sis2/data/tfrecords256/00001_2622x795.tfrecord is new\n"
     ]
    },
    {
     "name": "stderr",
     "output_type": "stream",
     "text": [
      "Warning 1: TIFFReadDirectory:Sum of Photometric type-related color channels and ExtraSamples doesn't match SamplesPerPixel. Defining non-color channels as ExtraSamples.\n"
     ]
    },
    {
     "name": "stdout",
     "output_type": "stream",
     "text": [
      "File /home/cb/sis2/data/tfrecords256/00001_2622x1056.tfrecord is new\n"
     ]
    },
    {
     "name": "stderr",
     "output_type": "stream",
     "text": [
      "Warning 1: TIFFReadDirectory:Sum of Photometric type-related color channels and ExtraSamples doesn't match SamplesPerPixel. Defining non-color channels as ExtraSamples.\n"
     ]
    },
    {
     "name": "stdout",
     "output_type": "stream",
     "text": [
      "File /home/cb/sis2/data/tfrecords256/00001_2622x1317.tfrecord is new\n"
     ]
    },
    {
     "name": "stderr",
     "output_type": "stream",
     "text": [
      "Warning 1: TIFFReadDirectory:Sum of Photometric type-related color channels and ExtraSamples doesn't match SamplesPerPixel. Defining non-color channels as ExtraSamples.\n"
     ]
    },
    {
     "name": "stdout",
     "output_type": "stream",
     "text": [
      "File /home/cb/sis2/data/tfrecords256/00001_2622x1578.tfrecord is new\n"
     ]
    },
    {
     "name": "stderr",
     "output_type": "stream",
     "text": [
      "Warning 1: TIFFReadDirectory:Sum of Photometric type-related color channels and ExtraSamples doesn't match SamplesPerPixel. Defining non-color channels as ExtraSamples.\n"
     ]
    },
    {
     "name": "stdout",
     "output_type": "stream",
     "text": [
      "File /home/cb/sis2/data/tfrecords256/00001_2622x1839.tfrecord is new\n"
     ]
    },
    {
     "name": "stderr",
     "output_type": "stream",
     "text": [
      "Warning 1: TIFFReadDirectory:Sum of Photometric type-related color channels and ExtraSamples doesn't match SamplesPerPixel. Defining non-color channels as ExtraSamples.\n"
     ]
    },
    {
     "name": "stdout",
     "output_type": "stream",
     "text": [
      "File /home/cb/sis2/data/tfrecords256/00001_2622x3666.tfrecord is new\n"
     ]
    },
    {
     "name": "stderr",
     "output_type": "stream",
     "text": [
      "Warning 1: TIFFReadDirectory:Sum of Photometric type-related color channels and ExtraSamples doesn't match SamplesPerPixel. Defining non-color channels as ExtraSamples.\n"
     ]
    },
    {
     "name": "stdout",
     "output_type": "stream",
     "text": [
      "File /home/cb/sis2/data/tfrecords256/00001_2622x4710.tfrecord is new\n"
     ]
    },
    {
     "name": "stderr",
     "output_type": "stream",
     "text": [
      "Warning 1: TIFFReadDirectory:Sum of Photometric type-related color channels and ExtraSamples doesn't match SamplesPerPixel. Defining non-color channels as ExtraSamples.\n"
     ]
    },
    {
     "name": "stdout",
     "output_type": "stream",
     "text": [
      "File /home/cb/sis2/data/tfrecords256/00001_2883x534.tfrecord is new\n"
     ]
    },
    {
     "name": "stderr",
     "output_type": "stream",
     "text": [
      "Warning 1: TIFFReadDirectory:Sum of Photometric type-related color channels and ExtraSamples doesn't match SamplesPerPixel. Defining non-color channels as ExtraSamples.\n"
     ]
    },
    {
     "name": "stdout",
     "output_type": "stream",
     "text": [
      "File /home/cb/sis2/data/tfrecords256/00001_2883x795.tfrecord is new\n"
     ]
    },
    {
     "name": "stderr",
     "output_type": "stream",
     "text": [
      "Warning 1: TIFFReadDirectory:Sum of Photometric type-related color channels and ExtraSamples doesn't match SamplesPerPixel. Defining non-color channels as ExtraSamples.\n"
     ]
    },
    {
     "name": "stdout",
     "output_type": "stream",
     "text": [
      "File /home/cb/sis2/data/tfrecords256/00001_2883x1056.tfrecord is new\n"
     ]
    },
    {
     "name": "stderr",
     "output_type": "stream",
     "text": [
      "Warning 1: TIFFReadDirectory:Sum of Photometric type-related color channels and ExtraSamples doesn't match SamplesPerPixel. Defining non-color channels as ExtraSamples.\n"
     ]
    },
    {
     "name": "stdout",
     "output_type": "stream",
     "text": [
      "File /home/cb/sis2/data/tfrecords256/00001_2883x1317.tfrecord is new\n"
     ]
    },
    {
     "name": "stderr",
     "output_type": "stream",
     "text": [
      "Warning 1: TIFFReadDirectory:Sum of Photometric type-related color channels and ExtraSamples doesn't match SamplesPerPixel. Defining non-color channels as ExtraSamples.\n"
     ]
    },
    {
     "name": "stdout",
     "output_type": "stream",
     "text": [
      "File /home/cb/sis2/data/tfrecords256/00001_2883x1578.tfrecord is new\n"
     ]
    },
    {
     "name": "stderr",
     "output_type": "stream",
     "text": [
      "Warning 1: TIFFReadDirectory:Sum of Photometric type-related color channels and ExtraSamples doesn't match SamplesPerPixel. Defining non-color channels as ExtraSamples.\n"
     ]
    },
    {
     "name": "stdout",
     "output_type": "stream",
     "text": [
      "File /home/cb/sis2/data/tfrecords256/00001_2883x1839.tfrecord is new\n"
     ]
    },
    {
     "name": "stderr",
     "output_type": "stream",
     "text": [
      "Warning 1: TIFFReadDirectory:Sum of Photometric type-related color channels and ExtraSamples doesn't match SamplesPerPixel. Defining non-color channels as ExtraSamples.\n"
     ]
    },
    {
     "name": "stdout",
     "output_type": "stream",
     "text": [
      "File /home/cb/sis2/data/tfrecords256/00001_3144x534.tfrecord is new\n"
     ]
    },
    {
     "name": "stderr",
     "output_type": "stream",
     "text": [
      "Warning 1: TIFFReadDirectory:Sum of Photometric type-related color channels and ExtraSamples doesn't match SamplesPerPixel. Defining non-color channels as ExtraSamples.\n"
     ]
    },
    {
     "name": "stdout",
     "output_type": "stream",
     "text": [
      "File /home/cb/sis2/data/tfrecords256/00001_3144x795.tfrecord is new\n"
     ]
    },
    {
     "name": "stderr",
     "output_type": "stream",
     "text": [
      "Warning 1: TIFFReadDirectory:Sum of Photometric type-related color channels and ExtraSamples doesn't match SamplesPerPixel. Defining non-color channels as ExtraSamples.\n"
     ]
    },
    {
     "name": "stdout",
     "output_type": "stream",
     "text": [
      "File /home/cb/sis2/data/tfrecords256/00001_3144x1056.tfrecord is new\n"
     ]
    },
    {
     "name": "stderr",
     "output_type": "stream",
     "text": [
      "Warning 1: TIFFReadDirectory:Sum of Photometric type-related color channels and ExtraSamples doesn't match SamplesPerPixel. Defining non-color channels as ExtraSamples.\n"
     ]
    },
    {
     "name": "stdout",
     "output_type": "stream",
     "text": [
      "File /home/cb/sis2/data/tfrecords256/00001_3144x1317.tfrecord is new\n"
     ]
    },
    {
     "name": "stderr",
     "output_type": "stream",
     "text": [
      "Warning 1: TIFFReadDirectory:Sum of Photometric type-related color channels and ExtraSamples doesn't match SamplesPerPixel. Defining non-color channels as ExtraSamples.\n"
     ]
    },
    {
     "name": "stdout",
     "output_type": "stream",
     "text": [
      "File /home/cb/sis2/data/tfrecords256/00001_3144x1578.tfrecord is new\n"
     ]
    },
    {
     "name": "stderr",
     "output_type": "stream",
     "text": [
      "Warning 1: TIFFReadDirectory:Sum of Photometric type-related color channels and ExtraSamples doesn't match SamplesPerPixel. Defining non-color channels as ExtraSamples.\n"
     ]
    },
    {
     "name": "stdout",
     "output_type": "stream",
     "text": [
      "File /home/cb/sis2/data/tfrecords256/00001_3144x1839.tfrecord is new\n"
     ]
    },
    {
     "name": "stderr",
     "output_type": "stream",
     "text": [
      "Warning 1: TIFFReadDirectory:Sum of Photometric type-related color channels and ExtraSamples doesn't match SamplesPerPixel. Defining non-color channels as ExtraSamples.\n"
     ]
    },
    {
     "name": "stdout",
     "output_type": "stream",
     "text": [
      "File /home/cb/sis2/data/tfrecords256/00001_3144x2622.tfrecord is new\n"
     ]
    },
    {
     "name": "stderr",
     "output_type": "stream",
     "text": [
      "Warning 1: TIFFReadDirectory:Sum of Photometric type-related color channels and ExtraSamples doesn't match SamplesPerPixel. Defining non-color channels as ExtraSamples.\n"
     ]
    },
    {
     "name": "stdout",
     "output_type": "stream",
     "text": [
      "File /home/cb/sis2/data/tfrecords256/00001_3405x534.tfrecord is new\n"
     ]
    },
    {
     "name": "stderr",
     "output_type": "stream",
     "text": [
      "Warning 1: TIFFReadDirectory:Sum of Photometric type-related color channels and ExtraSamples doesn't match SamplesPerPixel. Defining non-color channels as ExtraSamples.\n"
     ]
    },
    {
     "name": "stdout",
     "output_type": "stream",
     "text": [
      "File /home/cb/sis2/data/tfrecords256/00001_3405x795.tfrecord is new\n"
     ]
    },
    {
     "name": "stderr",
     "output_type": "stream",
     "text": [
      "Warning 1: TIFFReadDirectory:Sum of Photometric type-related color channels and ExtraSamples doesn't match SamplesPerPixel. Defining non-color channels as ExtraSamples.\n"
     ]
    },
    {
     "name": "stdout",
     "output_type": "stream",
     "text": [
      "File /home/cb/sis2/data/tfrecords256/00001_3405x1056.tfrecord is new\n"
     ]
    },
    {
     "name": "stderr",
     "output_type": "stream",
     "text": [
      "Warning 1: TIFFReadDirectory:Sum of Photometric type-related color channels and ExtraSamples doesn't match SamplesPerPixel. Defining non-color channels as ExtraSamples.\n"
     ]
    },
    {
     "name": "stdout",
     "output_type": "stream",
     "text": [
      "File /home/cb/sis2/data/tfrecords256/00001_3405x1317.tfrecord is new\n"
     ]
    },
    {
     "name": "stderr",
     "output_type": "stream",
     "text": [
      "Warning 1: TIFFReadDirectory:Sum of Photometric type-related color channels and ExtraSamples doesn't match SamplesPerPixel. Defining non-color channels as ExtraSamples.\n"
     ]
    },
    {
     "name": "stdout",
     "output_type": "stream",
     "text": [
      "File /home/cb/sis2/data/tfrecords256/00001_3405x1578.tfrecord is new\n"
     ]
    },
    {
     "name": "stderr",
     "output_type": "stream",
     "text": [
      "Warning 1: TIFFReadDirectory:Sum of Photometric type-related color channels and ExtraSamples doesn't match SamplesPerPixel. Defining non-color channels as ExtraSamples.\n"
     ]
    },
    {
     "name": "stdout",
     "output_type": "stream",
     "text": [
      "File /home/cb/sis2/data/tfrecords256/00001_3666x534.tfrecord is new\n"
     ]
    },
    {
     "name": "stderr",
     "output_type": "stream",
     "text": [
      "Warning 1: TIFFReadDirectory:Sum of Photometric type-related color channels and ExtraSamples doesn't match SamplesPerPixel. Defining non-color channels as ExtraSamples.\n"
     ]
    },
    {
     "name": "stdout",
     "output_type": "stream",
     "text": [
      "File /home/cb/sis2/data/tfrecords256/00001_3666x795.tfrecord is new\n"
     ]
    },
    {
     "name": "stderr",
     "output_type": "stream",
     "text": [
      "Warning 1: TIFFReadDirectory:Sum of Photometric type-related color channels and ExtraSamples doesn't match SamplesPerPixel. Defining non-color channels as ExtraSamples.\n"
     ]
    },
    {
     "name": "stdout",
     "output_type": "stream",
     "text": [
      "File /home/cb/sis2/data/tfrecords256/00001_3666x1056.tfrecord is new\n"
     ]
    },
    {
     "name": "stderr",
     "output_type": "stream",
     "text": [
      "Warning 1: TIFFReadDirectory:Sum of Photometric type-related color channels and ExtraSamples doesn't match SamplesPerPixel. Defining non-color channels as ExtraSamples.\n"
     ]
    },
    {
     "name": "stdout",
     "output_type": "stream",
     "text": [
      "File /home/cb/sis2/data/tfrecords256/00001_3666x1317.tfrecord is new\n"
     ]
    },
    {
     "name": "stderr",
     "output_type": "stream",
     "text": [
      "Warning 1: TIFFReadDirectory:Sum of Photometric type-related color channels and ExtraSamples doesn't match SamplesPerPixel. Defining non-color channels as ExtraSamples.\n"
     ]
    },
    {
     "name": "stdout",
     "output_type": "stream",
     "text": [
      "File /home/cb/sis2/data/tfrecords256/00001_3666x1578.tfrecord is new\n"
     ]
    },
    {
     "name": "stderr",
     "output_type": "stream",
     "text": [
      "Warning 1: TIFFReadDirectory:Sum of Photometric type-related color channels and ExtraSamples doesn't match SamplesPerPixel. Defining non-color channels as ExtraSamples.\n"
     ]
    },
    {
     "name": "stdout",
     "output_type": "stream",
     "text": [
      "File /home/cb/sis2/data/tfrecords256/00001_3927x795.tfrecord is new\n"
     ]
    },
    {
     "name": "stderr",
     "output_type": "stream",
     "text": [
      "Warning 1: TIFFReadDirectory:Sum of Photometric type-related color channels and ExtraSamples doesn't match SamplesPerPixel. Defining non-color channels as ExtraSamples.\n"
     ]
    },
    {
     "name": "stdout",
     "output_type": "stream",
     "text": [
      "File /home/cb/sis2/data/tfrecords256/00001_3927x1056.tfrecord is new\n"
     ]
    },
    {
     "name": "stderr",
     "output_type": "stream",
     "text": [
      "Warning 1: TIFFReadDirectory:Sum of Photometric type-related color channels and ExtraSamples doesn't match SamplesPerPixel. Defining non-color channels as ExtraSamples.\n"
     ]
    },
    {
     "name": "stdout",
     "output_type": "stream",
     "text": [
      "File /home/cb/sis2/data/tfrecords256/00001_4188x795.tfrecord is new\n"
     ]
    },
    {
     "name": "stderr",
     "output_type": "stream",
     "text": [
      "Warning 1: TIFFReadDirectory:Sum of Photometric type-related color channels and ExtraSamples doesn't match SamplesPerPixel. Defining non-color channels as ExtraSamples.\n"
     ]
    },
    {
     "name": "stdout",
     "output_type": "stream",
     "text": [
      "File /home/cb/sis2/data/tfrecords256/00001_4188x1056.tfrecord is new\n"
     ]
    },
    {
     "name": "stderr",
     "output_type": "stream",
     "text": [
      "Warning 1: TIFFReadDirectory:Sum of Photometric type-related color channels and ExtraSamples doesn't match SamplesPerPixel. Defining non-color channels as ExtraSamples.\n"
     ]
    },
    {
     "name": "stdout",
     "output_type": "stream",
     "text": [
      "File /home/cb/sis2/data/tfrecords256/00001_4449x795.tfrecord is new\n"
     ]
    },
    {
     "name": "stderr",
     "output_type": "stream",
     "text": [
      "Warning 1: TIFFReadDirectory:Sum of Photometric type-related color channels and ExtraSamples doesn't match SamplesPerPixel. Defining non-color channels as ExtraSamples.\n"
     ]
    },
    {
     "name": "stdout",
     "output_type": "stream",
     "text": [
      "File /home/cb/sis2/data/tfrecords256/00001_4449x1056.tfrecord is new\n"
     ]
    },
    {
     "name": "stderr",
     "output_type": "stream",
     "text": [
      "Warning 1: TIFFReadDirectory:Sum of Photometric type-related color channels and ExtraSamples doesn't match SamplesPerPixel. Defining non-color channels as ExtraSamples.\n"
     ]
    },
    {
     "name": "stdout",
     "output_type": "stream",
     "text": [
      "File /home/cb/sis2/data/tfrecords256/00001_4710x795.tfrecord is new\n"
     ]
    },
    {
     "name": "stderr",
     "output_type": "stream",
     "text": [
      "Warning 1: TIFFReadDirectory:Sum of Photometric type-related color channels and ExtraSamples doesn't match SamplesPerPixel. Defining non-color channels as ExtraSamples.\n"
     ]
    },
    {
     "name": "stdout",
     "output_type": "stream",
     "text": [
      "File /home/cb/sis2/data/tfrecords256/00001_4710x1056.tfrecord is new\n"
     ]
    },
    {
     "name": "stderr",
     "output_type": "stream",
     "text": [
      "Warning 1: TIFFReadDirectory:Sum of Photometric type-related color channels and ExtraSamples doesn't match SamplesPerPixel. Defining non-color channels as ExtraSamples.\n"
     ]
    },
    {
     "name": "stdout",
     "output_type": "stream",
     "text": [
      "File /home/cb/sis2/data/tfrecords256/00001_4971x795.tfrecord is new\n"
     ]
    },
    {
     "name": "stderr",
     "output_type": "stream",
     "text": [
      "Warning 1: TIFFReadDirectory:Sum of Photometric type-related color channels and ExtraSamples doesn't match SamplesPerPixel. Defining non-color channels as ExtraSamples.\n"
     ]
    },
    {
     "name": "stdout",
     "output_type": "stream",
     "text": [
      "File /home/cb/sis2/data/tfrecords256/00002_1317x12.tfrecord is new\n"
     ]
    },
    {
     "name": "stderr",
     "output_type": "stream",
     "text": [
      "Warning 1: TIFFReadDirectory:Sum of Photometric type-related color channels and ExtraSamples doesn't match SamplesPerPixel. Defining non-color channels as ExtraSamples.\n"
     ]
    },
    {
     "name": "stdout",
     "output_type": "stream",
     "text": [
      "File /home/cb/sis2/data/tfrecords256/00002_1578x12.tfrecord is new\n"
     ]
    },
    {
     "name": "stderr",
     "output_type": "stream",
     "text": [
      "Warning 1: TIFFReadDirectory:Sum of Photometric type-related color channels and ExtraSamples doesn't match SamplesPerPixel. Defining non-color channels as ExtraSamples.\n"
     ]
    },
    {
     "name": "stdout",
     "output_type": "stream",
     "text": [
      "File /home/cb/sis2/data/tfrecords256/00002_1839x12.tfrecord is new\n"
     ]
    },
    {
     "name": "stderr",
     "output_type": "stream",
     "text": [
      "Warning 1: TIFFReadDirectory:Sum of Photometric type-related color channels and ExtraSamples doesn't match SamplesPerPixel. Defining non-color channels as ExtraSamples.\n"
     ]
    },
    {
     "name": "stdout",
     "output_type": "stream",
     "text": [
      "File /home/cb/sis2/data/tfrecords256/00002_2622x12.tfrecord is new\n"
     ]
    },
    {
     "name": "stderr",
     "output_type": "stream",
     "text": [
      "Warning 1: TIFFReadDirectory:Sum of Photometric type-related color channels and ExtraSamples doesn't match SamplesPerPixel. Defining non-color channels as ExtraSamples.\n"
     ]
    },
    {
     "name": "stdout",
     "output_type": "stream",
     "text": [
      "File /home/cb/sis2/data/tfrecords256/00002_2883x12.tfrecord is new\n"
     ]
    },
    {
     "name": "stderr",
     "output_type": "stream",
     "text": [
      "Warning 1: TIFFReadDirectory:Sum of Photometric type-related color channels and ExtraSamples doesn't match SamplesPerPixel. Defining non-color channels as ExtraSamples.\n"
     ]
    },
    {
     "name": "stdout",
     "output_type": "stream",
     "text": [
      "File /home/cb/sis2/data/tfrecords256/00002_3144x273.tfrecord is new\n"
     ]
    },
    {
     "name": "stderr",
     "output_type": "stream",
     "text": [
      "Warning 1: TIFFReadDirectory:Sum of Photometric type-related color channels and ExtraSamples doesn't match SamplesPerPixel. Defining non-color channels as ExtraSamples.\n"
     ]
    },
    {
     "name": "stdout",
     "output_type": "stream",
     "text": [
      "File /home/cb/sis2/data/tfrecords256/00002_3405x12.tfrecord is new\n"
     ]
    },
    {
     "name": "stderr",
     "output_type": "stream",
     "text": [
      "Warning 1: TIFFReadDirectory:Sum of Photometric type-related color channels and ExtraSamples doesn't match SamplesPerPixel. Defining non-color channels as ExtraSamples.\n"
     ]
    },
    {
     "name": "stdout",
     "output_type": "stream",
     "text": [
      "File /home/cb/sis2/data/tfrecords256/00002_3405x273.tfrecord is new\n"
     ]
    },
    {
     "name": "stderr",
     "output_type": "stream",
     "text": [
      "Warning 1: TIFFReadDirectory:Sum of Photometric type-related color channels and ExtraSamples doesn't match SamplesPerPixel. Defining non-color channels as ExtraSamples.\n"
     ]
    },
    {
     "name": "stdout",
     "output_type": "stream",
     "text": [
      "File /home/cb/sis2/data/tfrecords256/00002_3666x12.tfrecord is new\n"
     ]
    },
    {
     "name": "stderr",
     "output_type": "stream",
     "text": [
      "Warning 1: TIFFReadDirectory:Sum of Photometric type-related color channels and ExtraSamples doesn't match SamplesPerPixel. Defining non-color channels as ExtraSamples.\n"
     ]
    },
    {
     "name": "stdout",
     "output_type": "stream",
     "text": [
      "File /home/cb/sis2/data/tfrecords256/00002_3666x273.tfrecord is new\n"
     ]
    },
    {
     "name": "stderr",
     "output_type": "stream",
     "text": [
      "Warning 1: TIFFReadDirectory:Sum of Photometric type-related color channels and ExtraSamples doesn't match SamplesPerPixel. Defining non-color channels as ExtraSamples.\n"
     ]
    },
    {
     "name": "stdout",
     "output_type": "stream",
     "text": [
      "File /home/cb/sis2/data/tfrecords256/00002_3927x12.tfrecord is new\n"
     ]
    },
    {
     "name": "stderr",
     "output_type": "stream",
     "text": [
      "Warning 1: TIFFReadDirectory:Sum of Photometric type-related color channels and ExtraSamples doesn't match SamplesPerPixel. Defining non-color channels as ExtraSamples.\n"
     ]
    },
    {
     "name": "stdout",
     "output_type": "stream",
     "text": [
      "File /home/cb/sis2/data/tfrecords256/00002_3927x273.tfrecord is new\n"
     ]
    },
    {
     "name": "stderr",
     "output_type": "stream",
     "text": [
      "Warning 1: TIFFReadDirectory:Sum of Photometric type-related color channels and ExtraSamples doesn't match SamplesPerPixel. Defining non-color channels as ExtraSamples.\n"
     ]
    },
    {
     "name": "stdout",
     "output_type": "stream",
     "text": [
      "File /home/cb/sis2/data/tfrecords256/00002_4188x12.tfrecord is new\n"
     ]
    },
    {
     "name": "stderr",
     "output_type": "stream",
     "text": [
      "Warning 1: TIFFReadDirectory:Sum of Photometric type-related color channels and ExtraSamples doesn't match SamplesPerPixel. Defining non-color channels as ExtraSamples.\n"
     ]
    },
    {
     "name": "stdout",
     "output_type": "stream",
     "text": [
      "File /home/cb/sis2/data/tfrecords256/00002_4188x273.tfrecord is new\n"
     ]
    },
    {
     "name": "stderr",
     "output_type": "stream",
     "text": [
      "Warning 1: TIFFReadDirectory:Sum of Photometric type-related color channels and ExtraSamples doesn't match SamplesPerPixel. Defining non-color channels as ExtraSamples.\n"
     ]
    },
    {
     "name": "stdout",
     "output_type": "stream",
     "text": [
      "File /home/cb/sis2/data/tfrecords256/00002_4449x12.tfrecord is new\n"
     ]
    },
    {
     "name": "stderr",
     "output_type": "stream",
     "text": [
      "Warning 1: TIFFReadDirectory:Sum of Photometric type-related color channels and ExtraSamples doesn't match SamplesPerPixel. Defining non-color channels as ExtraSamples.\n"
     ]
    },
    {
     "name": "stdout",
     "output_type": "stream",
     "text": [
      "File /home/cb/sis2/data/tfrecords256/00002_4449x273.tfrecord is new\n"
     ]
    },
    {
     "name": "stderr",
     "output_type": "stream",
     "text": [
      "Warning 1: TIFFReadDirectory:Sum of Photometric type-related color channels and ExtraSamples doesn't match SamplesPerPixel. Defining non-color channels as ExtraSamples.\n"
     ]
    },
    {
     "name": "stdout",
     "output_type": "stream",
     "text": [
      "File /home/cb/sis2/data/tfrecords256/00002_4710x12.tfrecord is new\n"
     ]
    },
    {
     "name": "stderr",
     "output_type": "stream",
     "text": [
      "Warning 1: TIFFReadDirectory:Sum of Photometric type-related color channels and ExtraSamples doesn't match SamplesPerPixel. Defining non-color channels as ExtraSamples.\n"
     ]
    },
    {
     "name": "stdout",
     "output_type": "stream",
     "text": [
      "File /home/cb/sis2/data/tfrecords256/00002_4710x273.tfrecord is new\n"
     ]
    },
    {
     "name": "stderr",
     "output_type": "stream",
     "text": [
      "Warning 1: TIFFReadDirectory:Sum of Photometric type-related color channels and ExtraSamples doesn't match SamplesPerPixel. Defining non-color channels as ExtraSamples.\n"
     ]
    },
    {
     "name": "stdout",
     "output_type": "stream",
     "text": [
      "File /home/cb/sis2/data/tfrecords256/00002_4710x534.tfrecord is new\n"
     ]
    },
    {
     "name": "stderr",
     "output_type": "stream",
     "text": [
      "Warning 1: TIFFReadDirectory:Sum of Photometric type-related color channels and ExtraSamples doesn't match SamplesPerPixel. Defining non-color channels as ExtraSamples.\n"
     ]
    },
    {
     "name": "stdout",
     "output_type": "stream",
     "text": [
      "File /home/cb/sis2/data/tfrecords256/00002_4971x12.tfrecord is new\n"
     ]
    },
    {
     "name": "stderr",
     "output_type": "stream",
     "text": [
      "Warning 1: TIFFReadDirectory:Sum of Photometric type-related color channels and ExtraSamples doesn't match SamplesPerPixel. Defining non-color channels as ExtraSamples.\n"
     ]
    },
    {
     "name": "stdout",
     "output_type": "stream",
     "text": [
      "File /home/cb/sis2/data/tfrecords256/00002_4971x273.tfrecord is new\n"
     ]
    },
    {
     "name": "stderr",
     "output_type": "stream",
     "text": [
      "Warning 1: TIFFReadDirectory:Sum of Photometric type-related color channels and ExtraSamples doesn't match SamplesPerPixel. Defining non-color channels as ExtraSamples.\n"
     ]
    },
    {
     "name": "stdout",
     "output_type": "stream",
     "text": [
      "File /home/cb/sis2/data/tfrecords256/00002_4971x534.tfrecord is new\n"
     ]
    },
    {
     "name": "stderr",
     "output_type": "stream",
     "text": [
      "Warning 1: TIFFReadDirectory:Sum of Photometric type-related color channels and ExtraSamples doesn't match SamplesPerPixel. Defining non-color channels as ExtraSamples.\n"
     ]
    },
    {
     "name": "stdout",
     "output_type": "stream",
     "text": [
      "File /home/cb/sis2/data/tfrecords256/00002_5232x12.tfrecord is new\n"
     ]
    },
    {
     "name": "stderr",
     "output_type": "stream",
     "text": [
      "Warning 1: TIFFReadDirectory:Sum of Photometric type-related color channels and ExtraSamples doesn't match SamplesPerPixel. Defining non-color channels as ExtraSamples.\n"
     ]
    },
    {
     "name": "stdout",
     "output_type": "stream",
     "text": [
      "File /home/cb/sis2/data/tfrecords256/00002_5232x273.tfrecord is new\n"
     ]
    },
    {
     "name": "stderr",
     "output_type": "stream",
     "text": [
      "Warning 1: TIFFReadDirectory:Sum of Photometric type-related color channels and ExtraSamples doesn't match SamplesPerPixel. Defining non-color channels as ExtraSamples.\n"
     ]
    },
    {
     "name": "stdout",
     "output_type": "stream",
     "text": [
      "File /home/cb/sis2/data/tfrecords256/00002_5232x534.tfrecord is new\n"
     ]
    },
    {
     "name": "stderr",
     "output_type": "stream",
     "text": [
      "Warning 1: TIFFReadDirectory:Sum of Photometric type-related color channels and ExtraSamples doesn't match SamplesPerPixel. Defining non-color channels as ExtraSamples.\n"
     ]
    },
    {
     "name": "stdout",
     "output_type": "stream",
     "text": [
      "File /home/cb/sis2/data/tfrecords256/00002_5493x12.tfrecord is new\n"
     ]
    },
    {
     "name": "stderr",
     "output_type": "stream",
     "text": [
      "Warning 1: TIFFReadDirectory:Sum of Photometric type-related color channels and ExtraSamples doesn't match SamplesPerPixel. Defining non-color channels as ExtraSamples.\n"
     ]
    },
    {
     "name": "stdout",
     "output_type": "stream",
     "text": [
      "File /home/cb/sis2/data/tfrecords256/00004_795x6015.tfrecord is new\n"
     ]
    },
    {
     "name": "stderr",
     "output_type": "stream",
     "text": [
      "Warning 1: TIFFReadDirectory:Sum of Photometric type-related color channels and ExtraSamples doesn't match SamplesPerPixel. Defining non-color channels as ExtraSamples.\n"
     ]
    },
    {
     "name": "stdout",
     "output_type": "stream",
     "text": [
      "File /home/cb/sis2/data/tfrecords256/00004_1578x6276.tfrecord is new\n"
     ]
    },
    {
     "name": "stderr",
     "output_type": "stream",
     "text": [
      "Warning 1: TIFFReadDirectory:Sum of Photometric type-related color channels and ExtraSamples doesn't match SamplesPerPixel. Defining non-color channels as ExtraSamples.\n"
     ]
    },
    {
     "name": "stdout",
     "output_type": "stream",
     "text": [
      "File /home/cb/sis2/data/tfrecords256/00005_12x12.tfrecord is new\n"
     ]
    },
    {
     "name": "stderr",
     "output_type": "stream",
     "text": [
      "Warning 1: TIFFReadDirectory:Sum of Photometric type-related color channels and ExtraSamples doesn't match SamplesPerPixel. Defining non-color channels as ExtraSamples.\n"
     ]
    },
    {
     "name": "stdout",
     "output_type": "stream",
     "text": [
      "File /home/cb/sis2/data/tfrecords256/00005_12x273.tfrecord is new\n"
     ]
    },
    {
     "name": "stderr",
     "output_type": "stream",
     "text": [
      "Warning 1: TIFFReadDirectory:Sum of Photometric type-related color channels and ExtraSamples doesn't match SamplesPerPixel. Defining non-color channels as ExtraSamples.\n"
     ]
    },
    {
     "name": "stdout",
     "output_type": "stream",
     "text": [
      "File /home/cb/sis2/data/tfrecords256/00005_12x534.tfrecord is new\n"
     ]
    },
    {
     "name": "stderr",
     "output_type": "stream",
     "text": [
      "Warning 1: TIFFReadDirectory:Sum of Photometric type-related color channels and ExtraSamples doesn't match SamplesPerPixel. Defining non-color channels as ExtraSamples.\n"
     ]
    },
    {
     "name": "stdout",
     "output_type": "stream",
     "text": [
      "File /home/cb/sis2/data/tfrecords256/00005_12x795.tfrecord is new\n"
     ]
    },
    {
     "name": "stderr",
     "output_type": "stream",
     "text": [
      "Warning 1: TIFFReadDirectory:Sum of Photometric type-related color channels and ExtraSamples doesn't match SamplesPerPixel. Defining non-color channels as ExtraSamples.\n"
     ]
    },
    {
     "name": "stdout",
     "output_type": "stream",
     "text": [
      "File /home/cb/sis2/data/tfrecords256/00005_12x1056.tfrecord is new\n"
     ]
    },
    {
     "name": "stderr",
     "output_type": "stream",
     "text": [
      "Warning 1: TIFFReadDirectory:Sum of Photometric type-related color channels and ExtraSamples doesn't match SamplesPerPixel. Defining non-color channels as ExtraSamples.\n"
     ]
    },
    {
     "name": "stdout",
     "output_type": "stream",
     "text": [
      "File /home/cb/sis2/data/tfrecords256/00005_12x1317.tfrecord is new\n"
     ]
    },
    {
     "name": "stderr",
     "output_type": "stream",
     "text": [
      "Warning 1: TIFFReadDirectory:Sum of Photometric type-related color channels and ExtraSamples doesn't match SamplesPerPixel. Defining non-color channels as ExtraSamples.\n"
     ]
    },
    {
     "name": "stdout",
     "output_type": "stream",
     "text": [
      "File /home/cb/sis2/data/tfrecords256/00005_12x1578.tfrecord is new\n"
     ]
    },
    {
     "name": "stderr",
     "output_type": "stream",
     "text": [
      "Warning 1: TIFFReadDirectory:Sum of Photometric type-related color channels and ExtraSamples doesn't match SamplesPerPixel. Defining non-color channels as ExtraSamples.\n"
     ]
    },
    {
     "name": "stdout",
     "output_type": "stream",
     "text": [
      "File /home/cb/sis2/data/tfrecords256/00005_12x1839.tfrecord is new\n"
     ]
    },
    {
     "name": "stderr",
     "output_type": "stream",
     "text": [
      "Warning 1: TIFFReadDirectory:Sum of Photometric type-related color channels and ExtraSamples doesn't match SamplesPerPixel. Defining non-color channels as ExtraSamples.\n"
     ]
    },
    {
     "name": "stdout",
     "output_type": "stream",
     "text": [
      "File /home/cb/sis2/data/tfrecords256/00005_12x2100.tfrecord is new\n"
     ]
    },
    {
     "name": "stderr",
     "output_type": "stream",
     "text": [
      "Warning 1: TIFFReadDirectory:Sum of Photometric type-related color channels and ExtraSamples doesn't match SamplesPerPixel. Defining non-color channels as ExtraSamples.\n"
     ]
    },
    {
     "name": "stdout",
     "output_type": "stream",
     "text": [
      "File /home/cb/sis2/data/tfrecords256/00005_12x2361.tfrecord is new\n"
     ]
    },
    {
     "name": "stderr",
     "output_type": "stream",
     "text": [
      "Warning 1: TIFFReadDirectory:Sum of Photometric type-related color channels and ExtraSamples doesn't match SamplesPerPixel. Defining non-color channels as ExtraSamples.\n"
     ]
    },
    {
     "name": "stdout",
     "output_type": "stream",
     "text": [
      "File /home/cb/sis2/data/tfrecords256/00005_12x2622.tfrecord is new\n"
     ]
    },
    {
     "name": "stderr",
     "output_type": "stream",
     "text": [
      "Warning 1: TIFFReadDirectory:Sum of Photometric type-related color channels and ExtraSamples doesn't match SamplesPerPixel. Defining non-color channels as ExtraSamples.\n"
     ]
    },
    {
     "name": "stdout",
     "output_type": "stream",
     "text": [
      "File /home/cb/sis2/data/tfrecords256/00005_12x2883.tfrecord is new\n"
     ]
    },
    {
     "name": "stderr",
     "output_type": "stream",
     "text": [
      "Warning 1: TIFFReadDirectory:Sum of Photometric type-related color channels and ExtraSamples doesn't match SamplesPerPixel. Defining non-color channels as ExtraSamples.\n"
     ]
    },
    {
     "name": "stdout",
     "output_type": "stream",
     "text": [
      "File /home/cb/sis2/data/tfrecords256/00005_12x3144.tfrecord is new\n"
     ]
    },
    {
     "name": "stderr",
     "output_type": "stream",
     "text": [
      "Warning 1: TIFFReadDirectory:Sum of Photometric type-related color channels and ExtraSamples doesn't match SamplesPerPixel. Defining non-color channels as ExtraSamples.\n"
     ]
    },
    {
     "name": "stdout",
     "output_type": "stream",
     "text": [
      "File /home/cb/sis2/data/tfrecords256/00074_7320x1839.tfrecord is new\n"
     ]
    },
    {
     "name": "stderr",
     "output_type": "stream",
     "text": [
      "Warning 1: TIFFReadDirectory:Sum of Photometric type-related color channels and ExtraSamples doesn't match SamplesPerPixel. Defining non-color channels as ExtraSamples.\n"
     ]
    },
    {
     "name": "stdout",
     "output_type": "stream",
     "text": [
      "File /home/cb/sis2/data/tfrecords256/00005_12x3666.tfrecord is new\n"
     ]
    },
    {
     "name": "stderr",
     "output_type": "stream",
     "text": [
      "Warning 1: TIFFReadDirectory:Sum of Photometric type-related color channels and ExtraSamples doesn't match SamplesPerPixel. Defining non-color channels as ExtraSamples.\n"
     ]
    },
    {
     "name": "stdout",
     "output_type": "stream",
     "text": [
      "File /home/cb/sis2/data/tfrecords256/00005_12x3927.tfrecord is new\n"
     ]
    },
    {
     "name": "stderr",
     "output_type": "stream",
     "text": [
      "Warning 1: TIFFReadDirectory:Sum of Photometric type-related color channels and ExtraSamples doesn't match SamplesPerPixel. Defining non-color channels as ExtraSamples.\n"
     ]
    },
    {
     "name": "stdout",
     "output_type": "stream",
     "text": [
      "File /home/cb/sis2/data/tfrecords256/00005_273x12.tfrecord is new\n"
     ]
    },
    {
     "name": "stderr",
     "output_type": "stream",
     "text": [
      "Warning 1: TIFFReadDirectory:Sum of Photometric type-related color channels and ExtraSamples doesn't match SamplesPerPixel. Defining non-color channels as ExtraSamples.\n"
     ]
    },
    {
     "name": "stdout",
     "output_type": "stream",
     "text": [
      "File /home/cb/sis2/data/tfrecords256/00005_273x273.tfrecord is new\n"
     ]
    },
    {
     "name": "stderr",
     "output_type": "stream",
     "text": [
      "Warning 1: TIFFReadDirectory:Sum of Photometric type-related color channels and ExtraSamples doesn't match SamplesPerPixel. Defining non-color channels as ExtraSamples.\n"
     ]
    },
    {
     "name": "stdout",
     "output_type": "stream",
     "text": [
      "File /home/cb/sis2/data/tfrecords256/00005_273x534.tfrecord is new\n"
     ]
    },
    {
     "name": "stderr",
     "output_type": "stream",
     "text": [
      "Warning 1: TIFFReadDirectory:Sum of Photometric type-related color channels and ExtraSamples doesn't match SamplesPerPixel. Defining non-color channels as ExtraSamples.\n"
     ]
    },
    {
     "name": "stdout",
     "output_type": "stream",
     "text": [
      "File /home/cb/sis2/data/tfrecords256/00005_273x795.tfrecord is new\n"
     ]
    },
    {
     "name": "stderr",
     "output_type": "stream",
     "text": [
      "Warning 1: TIFFReadDirectory:Sum of Photometric type-related color channels and ExtraSamples doesn't match SamplesPerPixel. Defining non-color channels as ExtraSamples.\n"
     ]
    },
    {
     "name": "stdout",
     "output_type": "stream",
     "text": [
      "File /home/cb/sis2/data/tfrecords256/00005_273x1056.tfrecord is new\n"
     ]
    },
    {
     "name": "stderr",
     "output_type": "stream",
     "text": [
      "Warning 1: TIFFReadDirectory:Sum of Photometric type-related color channels and ExtraSamples doesn't match SamplesPerPixel. Defining non-color channels as ExtraSamples.\n"
     ]
    },
    {
     "name": "stdout",
     "output_type": "stream",
     "text": [
      "File /home/cb/sis2/data/tfrecords256/00005_273x1317.tfrecord is new\n"
     ]
    },
    {
     "name": "stderr",
     "output_type": "stream",
     "text": [
      "Warning 1: TIFFReadDirectory:Sum of Photometric type-related color channels and ExtraSamples doesn't match SamplesPerPixel. Defining non-color channels as ExtraSamples.\n"
     ]
    },
    {
     "name": "stdout",
     "output_type": "stream",
     "text": [
      "File /home/cb/sis2/data/tfrecords256/00005_273x1578.tfrecord is new\n"
     ]
    },
    {
     "name": "stderr",
     "output_type": "stream",
     "text": [
      "Warning 1: TIFFReadDirectory:Sum of Photometric type-related color channels and ExtraSamples doesn't match SamplesPerPixel. Defining non-color channels as ExtraSamples.\n"
     ]
    },
    {
     "name": "stdout",
     "output_type": "stream",
     "text": [
      "File /home/cb/sis2/data/tfrecords256/00005_273x1839.tfrecord is new\n"
     ]
    },
    {
     "name": "stderr",
     "output_type": "stream",
     "text": [
      "Warning 1: TIFFReadDirectory:Sum of Photometric type-related color channels and ExtraSamples doesn't match SamplesPerPixel. Defining non-color channels as ExtraSamples.\n"
     ]
    },
    {
     "name": "stdout",
     "output_type": "stream",
     "text": [
      "File /home/cb/sis2/data/tfrecords256/00005_273x2100.tfrecord is new\n"
     ]
    },
    {
     "name": "stderr",
     "output_type": "stream",
     "text": [
      "Warning 1: TIFFReadDirectory:Sum of Photometric type-related color channels and ExtraSamples doesn't match SamplesPerPixel. Defining non-color channels as ExtraSamples.\n"
     ]
    },
    {
     "name": "stdout",
     "output_type": "stream",
     "text": [
      "File /home/cb/sis2/data/tfrecords256/00005_273x2361.tfrecord is new\n"
     ]
    },
    {
     "name": "stderr",
     "output_type": "stream",
     "text": [
      "Warning 1: TIFFReadDirectory:Sum of Photometric type-related color channels and ExtraSamples doesn't match SamplesPerPixel. Defining non-color channels as ExtraSamples.\n"
     ]
    },
    {
     "name": "stdout",
     "output_type": "stream",
     "text": [
      "File /home/cb/sis2/data/tfrecords256/00005_273x2622.tfrecord is new\n"
     ]
    },
    {
     "name": "stderr",
     "output_type": "stream",
     "text": [
      "Warning 1: TIFFReadDirectory:Sum of Photometric type-related color channels and ExtraSamples doesn't match SamplesPerPixel. Defining non-color channels as ExtraSamples.\n"
     ]
    },
    {
     "name": "stdout",
     "output_type": "stream",
     "text": [
      "File /home/cb/sis2/data/tfrecords256/00005_273x2883.tfrecord is new\n"
     ]
    },
    {
     "name": "stderr",
     "output_type": "stream",
     "text": [
      "Warning 1: TIFFReadDirectory:Sum of Photometric type-related color channels and ExtraSamples doesn't match SamplesPerPixel. Defining non-color channels as ExtraSamples.\n"
     ]
    },
    {
     "name": "stdout",
     "output_type": "stream",
     "text": [
      "File /home/cb/sis2/data/tfrecords256/00005_273x3144.tfrecord is new\n"
     ]
    },
    {
     "name": "stderr",
     "output_type": "stream",
     "text": [
      "Warning 1: TIFFReadDirectory:Sum of Photometric type-related color channels and ExtraSamples doesn't match SamplesPerPixel. Defining non-color channels as ExtraSamples.\n"
     ]
    },
    {
     "name": "stdout",
     "output_type": "stream",
     "text": [
      "File /home/cb/sis2/data/tfrecords256/00005_273x3405.tfrecord is new\n"
     ]
    },
    {
     "name": "stderr",
     "output_type": "stream",
     "text": [
      "Warning 1: TIFFReadDirectory:Sum of Photometric type-related color channels and ExtraSamples doesn't match SamplesPerPixel. Defining non-color channels as ExtraSamples.\n"
     ]
    },
    {
     "name": "stdout",
     "output_type": "stream",
     "text": [
      "File /home/cb/sis2/data/tfrecords256/00005_273x3666.tfrecord is new\n"
     ]
    },
    {
     "name": "stderr",
     "output_type": "stream",
     "text": [
      "Warning 1: TIFFReadDirectory:Sum of Photometric type-related color channels and ExtraSamples doesn't match SamplesPerPixel. Defining non-color channels as ExtraSamples.\n"
     ]
    },
    {
     "name": "stdout",
     "output_type": "stream",
     "text": [
      "File /home/cb/sis2/data/tfrecords256/00005_534x12.tfrecord is new\n"
     ]
    },
    {
     "name": "stderr",
     "output_type": "stream",
     "text": [
      "Warning 1: TIFFReadDirectory:Sum of Photometric type-related color channels and ExtraSamples doesn't match SamplesPerPixel. Defining non-color channels as ExtraSamples.\n"
     ]
    },
    {
     "name": "stdout",
     "output_type": "stream",
     "text": [
      "File /home/cb/sis2/data/tfrecords256/00005_534x273.tfrecord is new\n"
     ]
    },
    {
     "name": "stderr",
     "output_type": "stream",
     "text": [
      "Warning 1: TIFFReadDirectory:Sum of Photometric type-related color channels and ExtraSamples doesn't match SamplesPerPixel. Defining non-color channels as ExtraSamples.\n"
     ]
    },
    {
     "name": "stdout",
     "output_type": "stream",
     "text": [
      "File /home/cb/sis2/data/tfrecords256/00005_534x534.tfrecord is new\n"
     ]
    },
    {
     "name": "stderr",
     "output_type": "stream",
     "text": [
      "Warning 1: TIFFReadDirectory:Sum of Photometric type-related color channels and ExtraSamples doesn't match SamplesPerPixel. Defining non-color channels as ExtraSamples.\n"
     ]
    },
    {
     "name": "stdout",
     "output_type": "stream",
     "text": [
      "File /home/cb/sis2/data/tfrecords256/00005_534x795.tfrecord is new\n"
     ]
    },
    {
     "name": "stderr",
     "output_type": "stream",
     "text": [
      "Warning 1: TIFFReadDirectory:Sum of Photometric type-related color channels and ExtraSamples doesn't match SamplesPerPixel. Defining non-color channels as ExtraSamples.\n"
     ]
    },
    {
     "name": "stdout",
     "output_type": "stream",
     "text": [
      "File /home/cb/sis2/data/tfrecords256/00005_534x1056.tfrecord is new\n"
     ]
    },
    {
     "name": "stderr",
     "output_type": "stream",
     "text": [
      "Warning 1: TIFFReadDirectory:Sum of Photometric type-related color channels and ExtraSamples doesn't match SamplesPerPixel. Defining non-color channels as ExtraSamples.\n"
     ]
    },
    {
     "name": "stdout",
     "output_type": "stream",
     "text": [
      "File /home/cb/sis2/data/tfrecords256/00005_534x1317.tfrecord is new\n"
     ]
    },
    {
     "name": "stderr",
     "output_type": "stream",
     "text": [
      "Warning 1: TIFFReadDirectory:Sum of Photometric type-related color channels and ExtraSamples doesn't match SamplesPerPixel. Defining non-color channels as ExtraSamples.\n"
     ]
    },
    {
     "name": "stdout",
     "output_type": "stream",
     "text": [
      "File /home/cb/sis2/data/tfrecords256/00005_534x1578.tfrecord is new\n"
     ]
    },
    {
     "name": "stderr",
     "output_type": "stream",
     "text": [
      "Warning 1: TIFFReadDirectory:Sum of Photometric type-related color channels and ExtraSamples doesn't match SamplesPerPixel. Defining non-color channels as ExtraSamples.\n"
     ]
    },
    {
     "name": "stdout",
     "output_type": "stream",
     "text": [
      "File /home/cb/sis2/data/tfrecords256/00005_534x1839.tfrecord is new\n"
     ]
    },
    {
     "name": "stderr",
     "output_type": "stream",
     "text": [
      "Warning 1: TIFFReadDirectory:Sum of Photometric type-related color channels and ExtraSamples doesn't match SamplesPerPixel. Defining non-color channels as ExtraSamples.\n"
     ]
    },
    {
     "name": "stdout",
     "output_type": "stream",
     "text": [
      "File /home/cb/sis2/data/tfrecords256/00005_534x2100.tfrecord is new\n"
     ]
    },
    {
     "name": "stderr",
     "output_type": "stream",
     "text": [
      "Warning 1: TIFFReadDirectory:Sum of Photometric type-related color channels and ExtraSamples doesn't match SamplesPerPixel. Defining non-color channels as ExtraSamples.\n"
     ]
    },
    {
     "name": "stdout",
     "output_type": "stream",
     "text": [
      "File /home/cb/sis2/data/tfrecords256/00005_534x2361.tfrecord is new\n"
     ]
    },
    {
     "name": "stderr",
     "output_type": "stream",
     "text": [
      "Warning 1: TIFFReadDirectory:Sum of Photometric type-related color channels and ExtraSamples doesn't match SamplesPerPixel. Defining non-color channels as ExtraSamples.\n"
     ]
    },
    {
     "name": "stdout",
     "output_type": "stream",
     "text": [
      "File /home/cb/sis2/data/tfrecords256/00005_534x2622.tfrecord is new\n"
     ]
    },
    {
     "name": "stderr",
     "output_type": "stream",
     "text": [
      "Warning 1: TIFFReadDirectory:Sum of Photometric type-related color channels and ExtraSamples doesn't match SamplesPerPixel. Defining non-color channels as ExtraSamples.\n"
     ]
    },
    {
     "name": "stdout",
     "output_type": "stream",
     "text": [
      "File /home/cb/sis2/data/tfrecords256/00005_534x2883.tfrecord is new\n"
     ]
    },
    {
     "name": "stderr",
     "output_type": "stream",
     "text": [
      "Warning 1: TIFFReadDirectory:Sum of Photometric type-related color channels and ExtraSamples doesn't match SamplesPerPixel. Defining non-color channels as ExtraSamples.\n"
     ]
    },
    {
     "name": "stdout",
     "output_type": "stream",
     "text": [
      "File /home/cb/sis2/data/tfrecords256/00005_534x3144.tfrecord is new\n"
     ]
    },
    {
     "name": "stderr",
     "output_type": "stream",
     "text": [
      "Warning 1: TIFFReadDirectory:Sum of Photometric type-related color channels and ExtraSamples doesn't match SamplesPerPixel. Defining non-color channels as ExtraSamples.\n"
     ]
    },
    {
     "name": "stdout",
     "output_type": "stream",
     "text": [
      "File /home/cb/sis2/data/tfrecords256/00005_534x3405.tfrecord is new\n"
     ]
    },
    {
     "name": "stderr",
     "output_type": "stream",
     "text": [
      "Warning 1: TIFFReadDirectory:Sum of Photometric type-related color channels and ExtraSamples doesn't match SamplesPerPixel. Defining non-color channels as ExtraSamples.\n"
     ]
    },
    {
     "name": "stdout",
     "output_type": "stream",
     "text": [
      "File /home/cb/sis2/data/tfrecords256/00005_534x3666.tfrecord is new\n"
     ]
    },
    {
     "name": "stderr",
     "output_type": "stream",
     "text": [
      "Warning 1: TIFFReadDirectory:Sum of Photometric type-related color channels and ExtraSamples doesn't match SamplesPerPixel. Defining non-color channels as ExtraSamples.\n"
     ]
    },
    {
     "name": "stdout",
     "output_type": "stream",
     "text": [
      "File /home/cb/sis2/data/tfrecords256/00005_795x12.tfrecord is new\n"
     ]
    },
    {
     "name": "stderr",
     "output_type": "stream",
     "text": [
      "Warning 1: TIFFReadDirectory:Sum of Photometric type-related color channels and ExtraSamples doesn't match SamplesPerPixel. Defining non-color channels as ExtraSamples.\n"
     ]
    },
    {
     "name": "stdout",
     "output_type": "stream",
     "text": [
      "File /home/cb/sis2/data/tfrecords256/00005_795x273.tfrecord is new\n"
     ]
    },
    {
     "name": "stderr",
     "output_type": "stream",
     "text": [
      "Warning 1: TIFFReadDirectory:Sum of Photometric type-related color channels and ExtraSamples doesn't match SamplesPerPixel. Defining non-color channels as ExtraSamples.\n"
     ]
    },
    {
     "name": "stdout",
     "output_type": "stream",
     "text": [
      "File /home/cb/sis2/data/tfrecords256/00005_795x534.tfrecord is new\n"
     ]
    },
    {
     "name": "stderr",
     "output_type": "stream",
     "text": [
      "Warning 1: TIFFReadDirectory:Sum of Photometric type-related color channels and ExtraSamples doesn't match SamplesPerPixel. Defining non-color channels as ExtraSamples.\n"
     ]
    },
    {
     "name": "stdout",
     "output_type": "stream",
     "text": [
      "File /home/cb/sis2/data/tfrecords256/00005_795x795.tfrecord is new\n"
     ]
    },
    {
     "name": "stderr",
     "output_type": "stream",
     "text": [
      "Warning 1: TIFFReadDirectory:Sum of Photometric type-related color channels and ExtraSamples doesn't match SamplesPerPixel. Defining non-color channels as ExtraSamples.\n"
     ]
    },
    {
     "name": "stdout",
     "output_type": "stream",
     "text": [
      "File /home/cb/sis2/data/tfrecords256/00005_795x1056.tfrecord is new\n"
     ]
    },
    {
     "name": "stderr",
     "output_type": "stream",
     "text": [
      "Warning 1: TIFFReadDirectory:Sum of Photometric type-related color channels and ExtraSamples doesn't match SamplesPerPixel. Defining non-color channels as ExtraSamples.\n"
     ]
    },
    {
     "name": "stdout",
     "output_type": "stream",
     "text": [
      "File /home/cb/sis2/data/tfrecords256/00005_795x1317.tfrecord is new\n"
     ]
    },
    {
     "name": "stderr",
     "output_type": "stream",
     "text": [
      "Warning 1: TIFFReadDirectory:Sum of Photometric type-related color channels and ExtraSamples doesn't match SamplesPerPixel. Defining non-color channels as ExtraSamples.\n"
     ]
    },
    {
     "name": "stdout",
     "output_type": "stream",
     "text": [
      "File /home/cb/sis2/data/tfrecords256/00005_795x1578.tfrecord is new\n"
     ]
    },
    {
     "name": "stderr",
     "output_type": "stream",
     "text": [
      "Warning 1: TIFFReadDirectory:Sum of Photometric type-related color channels and ExtraSamples doesn't match SamplesPerPixel. Defining non-color channels as ExtraSamples.\n"
     ]
    },
    {
     "name": "stdout",
     "output_type": "stream",
     "text": [
      "File /home/cb/sis2/data/tfrecords256/00005_795x1839.tfrecord is new\n"
     ]
    },
    {
     "name": "stderr",
     "output_type": "stream",
     "text": [
      "Warning 1: TIFFReadDirectory:Sum of Photometric type-related color channels and ExtraSamples doesn't match SamplesPerPixel. Defining non-color channels as ExtraSamples.\n"
     ]
    },
    {
     "name": "stdout",
     "output_type": "stream",
     "text": [
      "File /home/cb/sis2/data/tfrecords256/00005_795x2100.tfrecord is new\n"
     ]
    },
    {
     "name": "stderr",
     "output_type": "stream",
     "text": [
      "Warning 1: TIFFReadDirectory:Sum of Photometric type-related color channels and ExtraSamples doesn't match SamplesPerPixel. Defining non-color channels as ExtraSamples.\n"
     ]
    },
    {
     "name": "stdout",
     "output_type": "stream",
     "text": [
      "File /home/cb/sis2/data/tfrecords256/00005_795x2361.tfrecord is new\n"
     ]
    },
    {
     "name": "stderr",
     "output_type": "stream",
     "text": [
      "Warning 1: TIFFReadDirectory:Sum of Photometric type-related color channels and ExtraSamples doesn't match SamplesPerPixel. Defining non-color channels as ExtraSamples.\n"
     ]
    },
    {
     "name": "stdout",
     "output_type": "stream",
     "text": [
      "File /home/cb/sis2/data/tfrecords256/00005_795x2622.tfrecord is new\n"
     ]
    },
    {
     "name": "stderr",
     "output_type": "stream",
     "text": [
      "Warning 1: TIFFReadDirectory:Sum of Photometric type-related color channels and ExtraSamples doesn't match SamplesPerPixel. Defining non-color channels as ExtraSamples.\n"
     ]
    },
    {
     "name": "stdout",
     "output_type": "stream",
     "text": [
      "File /home/cb/sis2/data/tfrecords256/00005_795x2883.tfrecord is new\n"
     ]
    },
    {
     "name": "stderr",
     "output_type": "stream",
     "text": [
      "Warning 1: TIFFReadDirectory:Sum of Photometric type-related color channels and ExtraSamples doesn't match SamplesPerPixel. Defining non-color channels as ExtraSamples.\n"
     ]
    },
    {
     "name": "stdout",
     "output_type": "stream",
     "text": [
      "File /home/cb/sis2/data/tfrecords256/00005_795x3144.tfrecord is new\n"
     ]
    },
    {
     "name": "stderr",
     "output_type": "stream",
     "text": [
      "Warning 1: TIFFReadDirectory:Sum of Photometric type-related color channels and ExtraSamples doesn't match SamplesPerPixel. Defining non-color channels as ExtraSamples.\n"
     ]
    },
    {
     "name": "stdout",
     "output_type": "stream",
     "text": [
      "File /home/cb/sis2/data/tfrecords256/00005_795x3405.tfrecord is new\n"
     ]
    },
    {
     "name": "stderr",
     "output_type": "stream",
     "text": [
      "Warning 1: TIFFReadDirectory:Sum of Photometric type-related color channels and ExtraSamples doesn't match SamplesPerPixel. Defining non-color channels as ExtraSamples.\n"
     ]
    },
    {
     "name": "stdout",
     "output_type": "stream",
     "text": [
      "File /home/cb/sis2/data/tfrecords256/00005_1056x12.tfrecord is new\n"
     ]
    },
    {
     "name": "stderr",
     "output_type": "stream",
     "text": [
      "Warning 1: TIFFReadDirectory:Sum of Photometric type-related color channels and ExtraSamples doesn't match SamplesPerPixel. Defining non-color channels as ExtraSamples.\n"
     ]
    },
    {
     "name": "stdout",
     "output_type": "stream",
     "text": [
      "File /home/cb/sis2/data/tfrecords256/00005_1056x273.tfrecord is new\n"
     ]
    },
    {
     "name": "stderr",
     "output_type": "stream",
     "text": [
      "Warning 1: TIFFReadDirectory:Sum of Photometric type-related color channels and ExtraSamples doesn't match SamplesPerPixel. Defining non-color channels as ExtraSamples.\n"
     ]
    },
    {
     "name": "stdout",
     "output_type": "stream",
     "text": [
      "File /home/cb/sis2/data/tfrecords256/00005_1056x534.tfrecord is new\n"
     ]
    },
    {
     "name": "stderr",
     "output_type": "stream",
     "text": [
      "Warning 1: TIFFReadDirectory:Sum of Photometric type-related color channels and ExtraSamples doesn't match SamplesPerPixel. Defining non-color channels as ExtraSamples.\n"
     ]
    },
    {
     "name": "stdout",
     "output_type": "stream",
     "text": [
      "File /home/cb/sis2/data/tfrecords256/00005_1056x795.tfrecord is new\n"
     ]
    },
    {
     "name": "stderr",
     "output_type": "stream",
     "text": [
      "Warning 1: TIFFReadDirectory:Sum of Photometric type-related color channels and ExtraSamples doesn't match SamplesPerPixel. Defining non-color channels as ExtraSamples.\n"
     ]
    },
    {
     "name": "stdout",
     "output_type": "stream",
     "text": [
      "File /home/cb/sis2/data/tfrecords256/00005_1056x1056.tfrecord is new\n"
     ]
    },
    {
     "name": "stderr",
     "output_type": "stream",
     "text": [
      "Warning 1: TIFFReadDirectory:Sum of Photometric type-related color channels and ExtraSamples doesn't match SamplesPerPixel. Defining non-color channels as ExtraSamples.\n"
     ]
    },
    {
     "name": "stdout",
     "output_type": "stream",
     "text": [
      "File /home/cb/sis2/data/tfrecords256/00005_1056x1317.tfrecord is new\n"
     ]
    },
    {
     "name": "stderr",
     "output_type": "stream",
     "text": [
      "Warning 1: TIFFReadDirectory:Sum of Photometric type-related color channels and ExtraSamples doesn't match SamplesPerPixel. Defining non-color channels as ExtraSamples.\n"
     ]
    },
    {
     "name": "stdout",
     "output_type": "stream",
     "text": [
      "File /home/cb/sis2/data/tfrecords256/00005_1056x1578.tfrecord is new\n"
     ]
    },
    {
     "name": "stderr",
     "output_type": "stream",
     "text": [
      "Warning 1: TIFFReadDirectory:Sum of Photometric type-related color channels and ExtraSamples doesn't match SamplesPerPixel. Defining non-color channels as ExtraSamples.\n"
     ]
    },
    {
     "name": "stdout",
     "output_type": "stream",
     "text": [
      "File /home/cb/sis2/data/tfrecords256/00005_1056x1839.tfrecord is new\n"
     ]
    },
    {
     "name": "stderr",
     "output_type": "stream",
     "text": [
      "Warning 1: TIFFReadDirectory:Sum of Photometric type-related color channels and ExtraSamples doesn't match SamplesPerPixel. Defining non-color channels as ExtraSamples.\n"
     ]
    },
    {
     "name": "stdout",
     "output_type": "stream",
     "text": [
      "File /home/cb/sis2/data/tfrecords256/00005_1056x2100.tfrecord is new\n"
     ]
    },
    {
     "name": "stderr",
     "output_type": "stream",
     "text": [
      "Warning 1: TIFFReadDirectory:Sum of Photometric type-related color channels and ExtraSamples doesn't match SamplesPerPixel. Defining non-color channels as ExtraSamples.\n"
     ]
    },
    {
     "name": "stdout",
     "output_type": "stream",
     "text": [
      "File /home/cb/sis2/data/tfrecords256/00005_1056x2361.tfrecord is new\n"
     ]
    },
    {
     "name": "stderr",
     "output_type": "stream",
     "text": [
      "Warning 1: TIFFReadDirectory:Sum of Photometric type-related color channels and ExtraSamples doesn't match SamplesPerPixel. Defining non-color channels as ExtraSamples.\n"
     ]
    },
    {
     "name": "stdout",
     "output_type": "stream",
     "text": [
      "File /home/cb/sis2/data/tfrecords256/00005_1056x2622.tfrecord is new\n"
     ]
    },
    {
     "name": "stderr",
     "output_type": "stream",
     "text": [
      "Warning 1: TIFFReadDirectory:Sum of Photometric type-related color channels and ExtraSamples doesn't match SamplesPerPixel. Defining non-color channels as ExtraSamples.\n"
     ]
    },
    {
     "name": "stdout",
     "output_type": "stream",
     "text": [
      "File /home/cb/sis2/data/tfrecords256/00005_1056x2883.tfrecord is new\n"
     ]
    },
    {
     "name": "stderr",
     "output_type": "stream",
     "text": [
      "Warning 1: TIFFReadDirectory:Sum of Photometric type-related color channels and ExtraSamples doesn't match SamplesPerPixel. Defining non-color channels as ExtraSamples.\n"
     ]
    },
    {
     "name": "stdout",
     "output_type": "stream",
     "text": [
      "File /home/cb/sis2/data/tfrecords256/00005_1056x3144.tfrecord is new\n"
     ]
    },
    {
     "name": "stderr",
     "output_type": "stream",
     "text": [
      "Warning 1: TIFFReadDirectory:Sum of Photometric type-related color channels and ExtraSamples doesn't match SamplesPerPixel. Defining non-color channels as ExtraSamples.\n"
     ]
    },
    {
     "name": "stdout",
     "output_type": "stream",
     "text": [
      "File /home/cb/sis2/data/tfrecords256/00005_1056x3405.tfrecord is new\n"
     ]
    },
    {
     "name": "stderr",
     "output_type": "stream",
     "text": [
      "Warning 1: TIFFReadDirectory:Sum of Photometric type-related color channels and ExtraSamples doesn't match SamplesPerPixel. Defining non-color channels as ExtraSamples.\n"
     ]
    },
    {
     "name": "stdout",
     "output_type": "stream",
     "text": [
      "File /home/cb/sis2/data/tfrecords256/00005_1056x5754.tfrecord is new\n"
     ]
    },
    {
     "name": "stderr",
     "output_type": "stream",
     "text": [
      "Warning 1: TIFFReadDirectory:Sum of Photometric type-related color channels and ExtraSamples doesn't match SamplesPerPixel. Defining non-color channels as ExtraSamples.\n"
     ]
    },
    {
     "name": "stdout",
     "output_type": "stream",
     "text": [
      "File /home/cb/sis2/data/tfrecords256/00005_1317x12.tfrecord is new\n"
     ]
    },
    {
     "name": "stderr",
     "output_type": "stream",
     "text": [
      "Warning 1: TIFFReadDirectory:Sum of Photometric type-related color channels and ExtraSamples doesn't match SamplesPerPixel. Defining non-color channels as ExtraSamples.\n"
     ]
    },
    {
     "name": "stdout",
     "output_type": "stream",
     "text": [
      "File /home/cb/sis2/data/tfrecords256/00005_1317x273.tfrecord is new\n"
     ]
    },
    {
     "name": "stderr",
     "output_type": "stream",
     "text": [
      "Warning 1: TIFFReadDirectory:Sum of Photometric type-related color channels and ExtraSamples doesn't match SamplesPerPixel. Defining non-color channels as ExtraSamples.\n"
     ]
    },
    {
     "name": "stdout",
     "output_type": "stream",
     "text": [
      "File /home/cb/sis2/data/tfrecords256/00005_1317x534.tfrecord is new\n"
     ]
    },
    {
     "name": "stderr",
     "output_type": "stream",
     "text": [
      "Warning 1: TIFFReadDirectory:Sum of Photometric type-related color channels and ExtraSamples doesn't match SamplesPerPixel. Defining non-color channels as ExtraSamples.\n"
     ]
    },
    {
     "name": "stdout",
     "output_type": "stream",
     "text": [
      "File /home/cb/sis2/data/tfrecords256/00005_1317x795.tfrecord is new\n"
     ]
    },
    {
     "name": "stderr",
     "output_type": "stream",
     "text": [
      "Warning 1: TIFFReadDirectory:Sum of Photometric type-related color channels and ExtraSamples doesn't match SamplesPerPixel. Defining non-color channels as ExtraSamples.\n"
     ]
    },
    {
     "name": "stdout",
     "output_type": "stream",
     "text": [
      "File /home/cb/sis2/data/tfrecords256/00005_1317x1056.tfrecord is new\n"
     ]
    },
    {
     "name": "stderr",
     "output_type": "stream",
     "text": [
      "Warning 1: TIFFReadDirectory:Sum of Photometric type-related color channels and ExtraSamples doesn't match SamplesPerPixel. Defining non-color channels as ExtraSamples.\n"
     ]
    },
    {
     "name": "stdout",
     "output_type": "stream",
     "text": [
      "File /home/cb/sis2/data/tfrecords256/00005_1317x1317.tfrecord already exists\n",
      "File /home/cb/sis2/data/tfrecords256/00005_1317x1578.tfrecord is new\n"
     ]
    },
    {
     "name": "stderr",
     "output_type": "stream",
     "text": [
      "Warning 1: TIFFReadDirectory:Sum of Photometric type-related color channels and ExtraSamples doesn't match SamplesPerPixel. Defining non-color channels as ExtraSamples.\n"
     ]
    },
    {
     "name": "stdout",
     "output_type": "stream",
     "text": [
      "File /home/cb/sis2/data/tfrecords256/00005_1317x1839.tfrecord is new\n"
     ]
    },
    {
     "name": "stderr",
     "output_type": "stream",
     "text": [
      "Warning 1: TIFFReadDirectory:Sum of Photometric type-related color channels and ExtraSamples doesn't match SamplesPerPixel. Defining non-color channels as ExtraSamples.\n"
     ]
    },
    {
     "name": "stdout",
     "output_type": "stream",
     "text": [
      "File /home/cb/sis2/data/tfrecords256/00005_1317x2100.tfrecord is new\n"
     ]
    },
    {
     "name": "stderr",
     "output_type": "stream",
     "text": [
      "Warning 1: TIFFReadDirectory:Sum of Photometric type-related color channels and ExtraSamples doesn't match SamplesPerPixel. Defining non-color channels as ExtraSamples.\n"
     ]
    },
    {
     "name": "stdout",
     "output_type": "stream",
     "text": [
      "File /home/cb/sis2/data/tfrecords256/00005_1317x2361.tfrecord is new\n"
     ]
    },
    {
     "name": "stderr",
     "output_type": "stream",
     "text": [
      "Warning 1: TIFFReadDirectory:Sum of Photometric type-related color channels and ExtraSamples doesn't match SamplesPerPixel. Defining non-color channels as ExtraSamples.\n"
     ]
    },
    {
     "name": "stdout",
     "output_type": "stream",
     "text": [
      "File /home/cb/sis2/data/tfrecords256/00005_1317x2622.tfrecord is new\n"
     ]
    },
    {
     "name": "stderr",
     "output_type": "stream",
     "text": [
      "Warning 1: TIFFReadDirectory:Sum of Photometric type-related color channels and ExtraSamples doesn't match SamplesPerPixel. Defining non-color channels as ExtraSamples.\n"
     ]
    },
    {
     "name": "stdout",
     "output_type": "stream",
     "text": [
      "File /home/cb/sis2/data/tfrecords256/00005_1317x2883.tfrecord is new\n"
     ]
    },
    {
     "name": "stderr",
     "output_type": "stream",
     "text": [
      "Warning 1: TIFFReadDirectory:Sum of Photometric type-related color channels and ExtraSamples doesn't match SamplesPerPixel. Defining non-color channels as ExtraSamples.\n"
     ]
    },
    {
     "name": "stdout",
     "output_type": "stream",
     "text": [
      "File /home/cb/sis2/data/tfrecords256/00005_1317x3144.tfrecord is new\n"
     ]
    },
    {
     "name": "stderr",
     "output_type": "stream",
     "text": [
      "Warning 1: TIFFReadDirectory:Sum of Photometric type-related color channels and ExtraSamples doesn't match SamplesPerPixel. Defining non-color channels as ExtraSamples.\n"
     ]
    },
    {
     "name": "stdout",
     "output_type": "stream",
     "text": [
      "File /home/cb/sis2/data/tfrecords256/00005_1317x6015.tfrecord is new\n"
     ]
    },
    {
     "name": "stderr",
     "output_type": "stream",
     "text": [
      "Warning 1: TIFFReadDirectory:Sum of Photometric type-related color channels and ExtraSamples doesn't match SamplesPerPixel. Defining non-color channels as ExtraSamples.\n"
     ]
    },
    {
     "name": "stdout",
     "output_type": "stream",
     "text": [
      "File /home/cb/sis2/data/tfrecords256/00005_1578x12.tfrecord is new\n"
     ]
    },
    {
     "name": "stderr",
     "output_type": "stream",
     "text": [
      "Warning 1: TIFFReadDirectory:Sum of Photometric type-related color channels and ExtraSamples doesn't match SamplesPerPixel. Defining non-color channels as ExtraSamples.\n"
     ]
    },
    {
     "name": "stdout",
     "output_type": "stream",
     "text": [
      "File /home/cb/sis2/data/tfrecords256/00005_1578x273.tfrecord is new\n"
     ]
    },
    {
     "name": "stderr",
     "output_type": "stream",
     "text": [
      "Warning 1: TIFFReadDirectory:Sum of Photometric type-related color channels and ExtraSamples doesn't match SamplesPerPixel. Defining non-color channels as ExtraSamples.\n"
     ]
    },
    {
     "name": "stdout",
     "output_type": "stream",
     "text": [
      "File /home/cb/sis2/data/tfrecords256/00005_1578x795.tfrecord is new\n"
     ]
    },
    {
     "name": "stderr",
     "output_type": "stream",
     "text": [
      "Warning 1: TIFFReadDirectory:Sum of Photometric type-related color channels and ExtraSamples doesn't match SamplesPerPixel. Defining non-color channels as ExtraSamples.\n"
     ]
    },
    {
     "name": "stdout",
     "output_type": "stream",
     "text": [
      "File /home/cb/sis2/data/tfrecords256/00005_1578x1056.tfrecord is new\n"
     ]
    },
    {
     "name": "stderr",
     "output_type": "stream",
     "text": [
      "Warning 1: TIFFReadDirectory:Sum of Photometric type-related color channels and ExtraSamples doesn't match SamplesPerPixel. Defining non-color channels as ExtraSamples.\n"
     ]
    },
    {
     "name": "stdout",
     "output_type": "stream",
     "text": [
      "File /home/cb/sis2/data/tfrecords256/00005_1578x1317.tfrecord is new\n"
     ]
    },
    {
     "name": "stderr",
     "output_type": "stream",
     "text": [
      "Warning 1: TIFFReadDirectory:Sum of Photometric type-related color channels and ExtraSamples doesn't match SamplesPerPixel. Defining non-color channels as ExtraSamples.\n"
     ]
    },
    {
     "name": "stdout",
     "output_type": "stream",
     "text": [
      "File /home/cb/sis2/data/tfrecords256/00005_1578x1578.tfrecord is new\n"
     ]
    },
    {
     "name": "stderr",
     "output_type": "stream",
     "text": [
      "Warning 1: TIFFReadDirectory:Sum of Photometric type-related color channels and ExtraSamples doesn't match SamplesPerPixel. Defining non-color channels as ExtraSamples.\n"
     ]
    },
    {
     "name": "stdout",
     "output_type": "stream",
     "text": [
      "File /home/cb/sis2/data/tfrecords256/00005_1578x1839.tfrecord is new\n"
     ]
    },
    {
     "name": "stderr",
     "output_type": "stream",
     "text": [
      "Warning 1: TIFFReadDirectory:Sum of Photometric type-related color channels and ExtraSamples doesn't match SamplesPerPixel. Defining non-color channels as ExtraSamples.\n"
     ]
    },
    {
     "name": "stdout",
     "output_type": "stream",
     "text": [
      "File /home/cb/sis2/data/tfrecords256/00005_1578x2100.tfrecord is new\n"
     ]
    },
    {
     "name": "stderr",
     "output_type": "stream",
     "text": [
      "Warning 1: TIFFReadDirectory:Sum of Photometric type-related color channels and ExtraSamples doesn't match SamplesPerPixel. Defining non-color channels as ExtraSamples.\n"
     ]
    },
    {
     "name": "stdout",
     "output_type": "stream",
     "text": [
      "File /home/cb/sis2/data/tfrecords256/00005_1578x2361.tfrecord is new\n"
     ]
    },
    {
     "name": "stderr",
     "output_type": "stream",
     "text": [
      "Warning 1: TIFFReadDirectory:Sum of Photometric type-related color channels and ExtraSamples doesn't match SamplesPerPixel. Defining non-color channels as ExtraSamples.\n"
     ]
    },
    {
     "name": "stdout",
     "output_type": "stream",
     "text": [
      "File /home/cb/sis2/data/tfrecords256/00005_1578x2622.tfrecord is new\n"
     ]
    },
    {
     "name": "stderr",
     "output_type": "stream",
     "text": [
      "Warning 1: TIFFReadDirectory:Sum of Photometric type-related color channels and ExtraSamples doesn't match SamplesPerPixel. Defining non-color channels as ExtraSamples.\n"
     ]
    },
    {
     "name": "stdout",
     "output_type": "stream",
     "text": [
      "File /home/cb/sis2/data/tfrecords256/00005_1578x2883.tfrecord is new\n"
     ]
    },
    {
     "name": "stderr",
     "output_type": "stream",
     "text": [
      "Warning 1: TIFFReadDirectory:Sum of Photometric type-related color channels and ExtraSamples doesn't match SamplesPerPixel. Defining non-color channels as ExtraSamples.\n"
     ]
    },
    {
     "name": "stdout",
     "output_type": "stream",
     "text": [
      "File /home/cb/sis2/data/tfrecords256/00005_1578x3144.tfrecord is new\n"
     ]
    },
    {
     "name": "stderr",
     "output_type": "stream",
     "text": [
      "Warning 1: TIFFReadDirectory:Sum of Photometric type-related color channels and ExtraSamples doesn't match SamplesPerPixel. Defining non-color channels as ExtraSamples.\n"
     ]
    },
    {
     "name": "stdout",
     "output_type": "stream",
     "text": [
      "File /home/cb/sis2/data/tfrecords256/00005_1578x5754.tfrecord is new\n"
     ]
    },
    {
     "name": "stderr",
     "output_type": "stream",
     "text": [
      "Warning 1: TIFFReadDirectory:Sum of Photometric type-related color channels and ExtraSamples doesn't match SamplesPerPixel. Defining non-color channels as ExtraSamples.\n"
     ]
    },
    {
     "name": "stdout",
     "output_type": "stream",
     "text": [
      "File /home/cb/sis2/data/tfrecords256/00005_1578x6015.tfrecord is new\n"
     ]
    },
    {
     "name": "stderr",
     "output_type": "stream",
     "text": [
      "Warning 1: TIFFReadDirectory:Sum of Photometric type-related color channels and ExtraSamples doesn't match SamplesPerPixel. Defining non-color channels as ExtraSamples.\n"
     ]
    },
    {
     "name": "stdout",
     "output_type": "stream",
     "text": [
      "File /home/cb/sis2/data/tfrecords256/00005_1839x12.tfrecord is new\n"
     ]
    },
    {
     "name": "stderr",
     "output_type": "stream",
     "text": [
      "Warning 1: TIFFReadDirectory:Sum of Photometric type-related color channels and ExtraSamples doesn't match SamplesPerPixel. Defining non-color channels as ExtraSamples.\n"
     ]
    },
    {
     "name": "stdout",
     "output_type": "stream",
     "text": [
      "File /home/cb/sis2/data/tfrecords256/00005_1839x795.tfrecord is new\n"
     ]
    },
    {
     "name": "stderr",
     "output_type": "stream",
     "text": [
      "Warning 1: TIFFReadDirectory:Sum of Photometric type-related color channels and ExtraSamples doesn't match SamplesPerPixel. Defining non-color channels as ExtraSamples.\n"
     ]
    },
    {
     "name": "stdout",
     "output_type": "stream",
     "text": [
      "File /home/cb/sis2/data/tfrecords256/00005_1839x1056.tfrecord is new\n"
     ]
    },
    {
     "name": "stderr",
     "output_type": "stream",
     "text": [
      "Warning 1: TIFFReadDirectory:Sum of Photometric type-related color channels and ExtraSamples doesn't match SamplesPerPixel. Defining non-color channels as ExtraSamples.\n"
     ]
    },
    {
     "name": "stdout",
     "output_type": "stream",
     "text": [
      "File /home/cb/sis2/data/tfrecords256/00005_1839x1317.tfrecord is new\n"
     ]
    },
    {
     "name": "stderr",
     "output_type": "stream",
     "text": [
      "Warning 1: TIFFReadDirectory:Sum of Photometric type-related color channels and ExtraSamples doesn't match SamplesPerPixel. Defining non-color channels as ExtraSamples.\n"
     ]
    },
    {
     "name": "stdout",
     "output_type": "stream",
     "text": [
      "File /home/cb/sis2/data/tfrecords256/00005_1839x1578.tfrecord is new\n"
     ]
    },
    {
     "name": "stderr",
     "output_type": "stream",
     "text": [
      "Warning 1: TIFFReadDirectory:Sum of Photometric type-related color channels and ExtraSamples doesn't match SamplesPerPixel. Defining non-color channels as ExtraSamples.\n"
     ]
    },
    {
     "name": "stdout",
     "output_type": "stream",
     "text": [
      "File /home/cb/sis2/data/tfrecords256/00005_1839x1839.tfrecord is new\n"
     ]
    },
    {
     "name": "stderr",
     "output_type": "stream",
     "text": [
      "Warning 1: TIFFReadDirectory:Sum of Photometric type-related color channels and ExtraSamples doesn't match SamplesPerPixel. Defining non-color channels as ExtraSamples.\n"
     ]
    },
    {
     "name": "stdout",
     "output_type": "stream",
     "text": [
      "File /home/cb/sis2/data/tfrecords256/00005_1839x2100.tfrecord is new\n"
     ]
    },
    {
     "name": "stderr",
     "output_type": "stream",
     "text": [
      "Warning 1: TIFFReadDirectory:Sum of Photometric type-related color channels and ExtraSamples doesn't match SamplesPerPixel. Defining non-color channels as ExtraSamples.\n"
     ]
    },
    {
     "name": "stdout",
     "output_type": "stream",
     "text": [
      "File /home/cb/sis2/data/tfrecords256/00005_1839x2361.tfrecord is new\n"
     ]
    },
    {
     "name": "stderr",
     "output_type": "stream",
     "text": [
      "Warning 1: TIFFReadDirectory:Sum of Photometric type-related color channels and ExtraSamples doesn't match SamplesPerPixel. Defining non-color channels as ExtraSamples.\n"
     ]
    },
    {
     "name": "stdout",
     "output_type": "stream",
     "text": [
      "File /home/cb/sis2/data/tfrecords256/00005_1839x2622.tfrecord is new\n"
     ]
    },
    {
     "name": "stderr",
     "output_type": "stream",
     "text": [
      "Warning 1: TIFFReadDirectory:Sum of Photometric type-related color channels and ExtraSamples doesn't match SamplesPerPixel. Defining non-color channels as ExtraSamples.\n"
     ]
    },
    {
     "name": "stdout",
     "output_type": "stream",
     "text": [
      "File /home/cb/sis2/data/tfrecords256/00005_1839x2883.tfrecord is new\n"
     ]
    },
    {
     "name": "stderr",
     "output_type": "stream",
     "text": [
      "Warning 1: TIFFReadDirectory:Sum of Photometric type-related color channels and ExtraSamples doesn't match SamplesPerPixel. Defining non-color channels as ExtraSamples.\n"
     ]
    },
    {
     "name": "stdout",
     "output_type": "stream",
     "text": [
      "File /home/cb/sis2/data/tfrecords256/00005_1839x3144.tfrecord is new\n"
     ]
    },
    {
     "name": "stderr",
     "output_type": "stream",
     "text": [
      "Warning 1: TIFFReadDirectory:Sum of Photometric type-related color channels and ExtraSamples doesn't match SamplesPerPixel. Defining non-color channels as ExtraSamples.\n"
     ]
    },
    {
     "name": "stdout",
     "output_type": "stream",
     "text": [
      "File /home/cb/sis2/data/tfrecords256/00005_1839x5232.tfrecord is new\n"
     ]
    },
    {
     "name": "stderr",
     "output_type": "stream",
     "text": [
      "Warning 1: TIFFReadDirectory:Sum of Photometric type-related color channels and ExtraSamples doesn't match SamplesPerPixel. Defining non-color channels as ExtraSamples.\n"
     ]
    },
    {
     "name": "stdout",
     "output_type": "stream",
     "text": [
      "File /home/cb/sis2/data/tfrecords256/00005_1839x5493.tfrecord is new\n"
     ]
    },
    {
     "name": "stderr",
     "output_type": "stream",
     "text": [
      "Warning 1: TIFFReadDirectory:Sum of Photometric type-related color channels and ExtraSamples doesn't match SamplesPerPixel. Defining non-color channels as ExtraSamples.\n"
     ]
    },
    {
     "name": "stdout",
     "output_type": "stream",
     "text": [
      "File /home/cb/sis2/data/tfrecords256/00005_1839x5754.tfrecord is new\n"
     ]
    },
    {
     "name": "stderr",
     "output_type": "stream",
     "text": [
      "Warning 1: TIFFReadDirectory:Sum of Photometric type-related color channels and ExtraSamples doesn't match SamplesPerPixel. Defining non-color channels as ExtraSamples.\n"
     ]
    },
    {
     "name": "stdout",
     "output_type": "stream",
     "text": [
      "File /home/cb/sis2/data/tfrecords256/00005_1839x6015.tfrecord is new\n"
     ]
    },
    {
     "name": "stderr",
     "output_type": "stream",
     "text": [
      "Warning 1: TIFFReadDirectory:Sum of Photometric type-related color channels and ExtraSamples doesn't match SamplesPerPixel. Defining non-color channels as ExtraSamples.\n"
     ]
    },
    {
     "name": "stdout",
     "output_type": "stream",
     "text": [
      "File /home/cb/sis2/data/tfrecords256/00005_2100x795.tfrecord is new\n"
     ]
    },
    {
     "name": "stderr",
     "output_type": "stream",
     "text": [
      "Warning 1: TIFFReadDirectory:Sum of Photometric type-related color channels and ExtraSamples doesn't match SamplesPerPixel. Defining non-color channels as ExtraSamples.\n"
     ]
    },
    {
     "name": "stdout",
     "output_type": "stream",
     "text": [
      "File /home/cb/sis2/data/tfrecords256/00005_2100x1056.tfrecord is new\n"
     ]
    },
    {
     "name": "stderr",
     "output_type": "stream",
     "text": [
      "Warning 1: TIFFReadDirectory:Sum of Photometric type-related color channels and ExtraSamples doesn't match SamplesPerPixel. Defining non-color channels as ExtraSamples.\n"
     ]
    },
    {
     "name": "stdout",
     "output_type": "stream",
     "text": [
      "File /home/cb/sis2/data/tfrecords256/00005_2100x1317.tfrecord is new\n"
     ]
    },
    {
     "name": "stderr",
     "output_type": "stream",
     "text": [
      "Warning 1: TIFFReadDirectory:Sum of Photometric type-related color channels and ExtraSamples doesn't match SamplesPerPixel. Defining non-color channels as ExtraSamples.\n"
     ]
    },
    {
     "name": "stdout",
     "output_type": "stream",
     "text": [
      "File /home/cb/sis2/data/tfrecords256/00005_2100x1578.tfrecord is new\n"
     ]
    },
    {
     "name": "stderr",
     "output_type": "stream",
     "text": [
      "Warning 1: TIFFReadDirectory:Sum of Photometric type-related color channels and ExtraSamples doesn't match SamplesPerPixel. Defining non-color channels as ExtraSamples.\n"
     ]
    },
    {
     "name": "stdout",
     "output_type": "stream",
     "text": [
      "File /home/cb/sis2/data/tfrecords256/00005_2100x1839.tfrecord is new\n"
     ]
    },
    {
     "name": "stderr",
     "output_type": "stream",
     "text": [
      "Warning 1: TIFFReadDirectory:Sum of Photometric type-related color channels and ExtraSamples doesn't match SamplesPerPixel. Defining non-color channels as ExtraSamples.\n"
     ]
    },
    {
     "name": "stdout",
     "output_type": "stream",
     "text": [
      "File /home/cb/sis2/data/tfrecords256/00005_2100x2100.tfrecord is new\n"
     ]
    },
    {
     "name": "stderr",
     "output_type": "stream",
     "text": [
      "Warning 1: TIFFReadDirectory:Sum of Photometric type-related color channels and ExtraSamples doesn't match SamplesPerPixel. Defining non-color channels as ExtraSamples.\n"
     ]
    },
    {
     "name": "stdout",
     "output_type": "stream",
     "text": [
      "File /home/cb/sis2/data/tfrecords256/00005_2100x2361.tfrecord is new\n"
     ]
    },
    {
     "name": "stderr",
     "output_type": "stream",
     "text": [
      "Warning 1: TIFFReadDirectory:Sum of Photometric type-related color channels and ExtraSamples doesn't match SamplesPerPixel. Defining non-color channels as ExtraSamples.\n"
     ]
    },
    {
     "name": "stdout",
     "output_type": "stream",
     "text": [
      "File /home/cb/sis2/data/tfrecords256/00005_2100x2622.tfrecord is new\n"
     ]
    },
    {
     "name": "stderr",
     "output_type": "stream",
     "text": [
      "Warning 1: TIFFReadDirectory:Sum of Photometric type-related color channels and ExtraSamples doesn't match SamplesPerPixel. Defining non-color channels as ExtraSamples.\n"
     ]
    },
    {
     "name": "stdout",
     "output_type": "stream",
     "text": [
      "File /home/cb/sis2/data/tfrecords256/00005_2100x3405.tfrecord is new\n"
     ]
    },
    {
     "name": "stderr",
     "output_type": "stream",
     "text": [
      "Warning 1: TIFFReadDirectory:Sum of Photometric type-related color channels and ExtraSamples doesn't match SamplesPerPixel. Defining non-color channels as ExtraSamples.\n"
     ]
    },
    {
     "name": "stdout",
     "output_type": "stream",
     "text": [
      "File /home/cb/sis2/data/tfrecords256/00005_2100x5232.tfrecord is new\n"
     ]
    },
    {
     "name": "stderr",
     "output_type": "stream",
     "text": [
      "Warning 1: TIFFReadDirectory:Sum of Photometric type-related color channels and ExtraSamples doesn't match SamplesPerPixel. Defining non-color channels as ExtraSamples.\n"
     ]
    },
    {
     "name": "stdout",
     "output_type": "stream",
     "text": [
      "File /home/cb/sis2/data/tfrecords256/00005_2100x5493.tfrecord is new\n"
     ]
    },
    {
     "name": "stderr",
     "output_type": "stream",
     "text": [
      "Warning 1: TIFFReadDirectory:Sum of Photometric type-related color channels and ExtraSamples doesn't match SamplesPerPixel. Defining non-color channels as ExtraSamples.\n"
     ]
    },
    {
     "name": "stdout",
     "output_type": "stream",
     "text": [
      "File /home/cb/sis2/data/tfrecords256/00005_2361x795.tfrecord is new\n"
     ]
    },
    {
     "name": "stderr",
     "output_type": "stream",
     "text": [
      "Warning 1: TIFFReadDirectory:Sum of Photometric type-related color channels and ExtraSamples doesn't match SamplesPerPixel. Defining non-color channels as ExtraSamples.\n"
     ]
    },
    {
     "name": "stdout",
     "output_type": "stream",
     "text": [
      "File /home/cb/sis2/data/tfrecords256/00005_2361x1056.tfrecord is new\n"
     ]
    },
    {
     "name": "stderr",
     "output_type": "stream",
     "text": [
      "Warning 1: TIFFReadDirectory:Sum of Photometric type-related color channels and ExtraSamples doesn't match SamplesPerPixel. Defining non-color channels as ExtraSamples.\n"
     ]
    },
    {
     "name": "stdout",
     "output_type": "stream",
     "text": [
      "File /home/cb/sis2/data/tfrecords256/00005_2361x1317.tfrecord is new\n"
     ]
    },
    {
     "name": "stderr",
     "output_type": "stream",
     "text": [
      "Warning 1: TIFFReadDirectory:Sum of Photometric type-related color channels and ExtraSamples doesn't match SamplesPerPixel. Defining non-color channels as ExtraSamples.\n"
     ]
    },
    {
     "name": "stdout",
     "output_type": "stream",
     "text": [
      "File /home/cb/sis2/data/tfrecords256/00005_2361x1578.tfrecord is new\n"
     ]
    },
    {
     "name": "stderr",
     "output_type": "stream",
     "text": [
      "Warning 1: TIFFReadDirectory:Sum of Photometric type-related color channels and ExtraSamples doesn't match SamplesPerPixel. Defining non-color channels as ExtraSamples.\n"
     ]
    },
    {
     "name": "stdout",
     "output_type": "stream",
     "text": [
      "File /home/cb/sis2/data/tfrecords256/00005_2361x1839.tfrecord is new\n"
     ]
    },
    {
     "name": "stderr",
     "output_type": "stream",
     "text": [
      "Warning 1: TIFFReadDirectory:Sum of Photometric type-related color channels and ExtraSamples doesn't match SamplesPerPixel. Defining non-color channels as ExtraSamples.\n"
     ]
    },
    {
     "name": "stdout",
     "output_type": "stream",
     "text": [
      "File /home/cb/sis2/data/tfrecords256/00005_2361x2100.tfrecord is new\n"
     ]
    },
    {
     "name": "stderr",
     "output_type": "stream",
     "text": [
      "Warning 1: TIFFReadDirectory:Sum of Photometric type-related color channels and ExtraSamples doesn't match SamplesPerPixel. Defining non-color channels as ExtraSamples.\n"
     ]
    },
    {
     "name": "stdout",
     "output_type": "stream",
     "text": [
      "File /home/cb/sis2/data/tfrecords256/00005_2361x3405.tfrecord is new\n"
     ]
    },
    {
     "name": "stderr",
     "output_type": "stream",
     "text": [
      "Warning 1: TIFFReadDirectory:Sum of Photometric type-related color channels and ExtraSamples doesn't match SamplesPerPixel. Defining non-color channels as ExtraSamples.\n"
     ]
    },
    {
     "name": "stdout",
     "output_type": "stream",
     "text": [
      "File /home/cb/sis2/data/tfrecords256/00005_2361x4710.tfrecord is new\n"
     ]
    },
    {
     "name": "stderr",
     "output_type": "stream",
     "text": [
      "Warning 1: TIFFReadDirectory:Sum of Photometric type-related color channels and ExtraSamples doesn't match SamplesPerPixel. Defining non-color channels as ExtraSamples.\n"
     ]
    },
    {
     "name": "stdout",
     "output_type": "stream",
     "text": [
      "File /home/cb/sis2/data/tfrecords256/00005_2361x4971.tfrecord is new\n"
     ]
    },
    {
     "name": "stderr",
     "output_type": "stream",
     "text": [
      "Warning 1: TIFFReadDirectory:Sum of Photometric type-related color channels and ExtraSamples doesn't match SamplesPerPixel. Defining non-color channels as ExtraSamples.\n"
     ]
    },
    {
     "name": "stdout",
     "output_type": "stream",
     "text": [
      "File /home/cb/sis2/data/tfrecords256/00005_2622x12.tfrecord is new\n"
     ]
    },
    {
     "name": "stderr",
     "output_type": "stream",
     "text": [
      "Warning 1: TIFFReadDirectory:Sum of Photometric type-related color channels and ExtraSamples doesn't match SamplesPerPixel. Defining non-color channels as ExtraSamples.\n"
     ]
    },
    {
     "name": "stdout",
     "output_type": "stream",
     "text": [
      "File /home/cb/sis2/data/tfrecords256/00005_2622x273.tfrecord is new\n"
     ]
    },
    {
     "name": "stderr",
     "output_type": "stream",
     "text": [
      "Warning 1: TIFFReadDirectory:Sum of Photometric type-related color channels and ExtraSamples doesn't match SamplesPerPixel. Defining non-color channels as ExtraSamples.\n"
     ]
    },
    {
     "name": "stdout",
     "output_type": "stream",
     "text": [
      "File /home/cb/sis2/data/tfrecords256/00005_2622x534.tfrecord is new\n"
     ]
    },
    {
     "name": "stderr",
     "output_type": "stream",
     "text": [
      "Warning 1: TIFFReadDirectory:Sum of Photometric type-related color channels and ExtraSamples doesn't match SamplesPerPixel. Defining non-color channels as ExtraSamples.\n"
     ]
    },
    {
     "name": "stdout",
     "output_type": "stream",
     "text": [
      "File /home/cb/sis2/data/tfrecords256/00005_2622x795.tfrecord is new\n"
     ]
    },
    {
     "name": "stderr",
     "output_type": "stream",
     "text": [
      "Warning 1: TIFFReadDirectory:Sum of Photometric type-related color channels and ExtraSamples doesn't match SamplesPerPixel. Defining non-color channels as ExtraSamples.\n"
     ]
    },
    {
     "name": "stdout",
     "output_type": "stream",
     "text": [
      "File /home/cb/sis2/data/tfrecords256/00005_2622x1056.tfrecord is new\n"
     ]
    },
    {
     "name": "stderr",
     "output_type": "stream",
     "text": [
      "Warning 1: TIFFReadDirectory:Sum of Photometric type-related color channels and ExtraSamples doesn't match SamplesPerPixel. Defining non-color channels as ExtraSamples.\n"
     ]
    },
    {
     "name": "stdout",
     "output_type": "stream",
     "text": [
      "File /home/cb/sis2/data/tfrecords256/00005_2622x1317.tfrecord is new\n"
     ]
    },
    {
     "name": "stderr",
     "output_type": "stream",
     "text": [
      "Warning 1: TIFFReadDirectory:Sum of Photometric type-related color channels and ExtraSamples doesn't match SamplesPerPixel. Defining non-color channels as ExtraSamples.\n"
     ]
    },
    {
     "name": "stdout",
     "output_type": "stream",
     "text": [
      "File /home/cb/sis2/data/tfrecords256/00005_2622x1578.tfrecord is new\n"
     ]
    },
    {
     "name": "stderr",
     "output_type": "stream",
     "text": [
      "Warning 1: TIFFReadDirectory:Sum of Photometric type-related color channels and ExtraSamples doesn't match SamplesPerPixel. Defining non-color channels as ExtraSamples.\n"
     ]
    },
    {
     "name": "stdout",
     "output_type": "stream",
     "text": [
      "File /home/cb/sis2/data/tfrecords256/00005_2622x1839.tfrecord is new\n"
     ]
    },
    {
     "name": "stderr",
     "output_type": "stream",
     "text": [
      "Warning 1: TIFFReadDirectory:Sum of Photometric type-related color channels and ExtraSamples doesn't match SamplesPerPixel. Defining non-color channels as ExtraSamples.\n"
     ]
    },
    {
     "name": "stdout",
     "output_type": "stream",
     "text": [
      "File /home/cb/sis2/data/tfrecords256/00005_2622x3666.tfrecord is new\n"
     ]
    },
    {
     "name": "stderr",
     "output_type": "stream",
     "text": [
      "Warning 1: TIFFReadDirectory:Sum of Photometric type-related color channels and ExtraSamples doesn't match SamplesPerPixel. Defining non-color channels as ExtraSamples.\n"
     ]
    },
    {
     "name": "stdout",
     "output_type": "stream",
     "text": [
      "File /home/cb/sis2/data/tfrecords256/00005_2622x4710.tfrecord is new\n"
     ]
    },
    {
     "name": "stderr",
     "output_type": "stream",
     "text": [
      "Warning 1: TIFFReadDirectory:Sum of Photometric type-related color channels and ExtraSamples doesn't match SamplesPerPixel. Defining non-color channels as ExtraSamples.\n"
     ]
    },
    {
     "name": "stdout",
     "output_type": "stream",
     "text": [
      "File /home/cb/sis2/data/tfrecords256/00005_2883x12.tfrecord is new\n"
     ]
    },
    {
     "name": "stderr",
     "output_type": "stream",
     "text": [
      "Warning 1: TIFFReadDirectory:Sum of Photometric type-related color channels and ExtraSamples doesn't match SamplesPerPixel. Defining non-color channels as ExtraSamples.\n"
     ]
    },
    {
     "name": "stdout",
     "output_type": "stream",
     "text": [
      "File /home/cb/sis2/data/tfrecords256/00005_2883x273.tfrecord is new\n"
     ]
    },
    {
     "name": "stderr",
     "output_type": "stream",
     "text": [
      "Warning 1: TIFFReadDirectory:Sum of Photometric type-related color channels and ExtraSamples doesn't match SamplesPerPixel. Defining non-color channels as ExtraSamples.\n"
     ]
    },
    {
     "name": "stdout",
     "output_type": "stream",
     "text": [
      "File /home/cb/sis2/data/tfrecords256/00005_2883x534.tfrecord is new\n"
     ]
    },
    {
     "name": "stderr",
     "output_type": "stream",
     "text": [
      "Warning 1: TIFFReadDirectory:Sum of Photometric type-related color channels and ExtraSamples doesn't match SamplesPerPixel. Defining non-color channels as ExtraSamples.\n"
     ]
    },
    {
     "name": "stdout",
     "output_type": "stream",
     "text": [
      "File /home/cb/sis2/data/tfrecords256/00005_2883x795.tfrecord is new\n"
     ]
    },
    {
     "name": "stderr",
     "output_type": "stream",
     "text": [
      "Warning 1: TIFFReadDirectory:Sum of Photometric type-related color channels and ExtraSamples doesn't match SamplesPerPixel. Defining non-color channels as ExtraSamples.\n"
     ]
    },
    {
     "name": "stdout",
     "output_type": "stream",
     "text": [
      "File /home/cb/sis2/data/tfrecords256/00005_2883x1056.tfrecord is new\n"
     ]
    },
    {
     "name": "stderr",
     "output_type": "stream",
     "text": [
      "Warning 1: TIFFReadDirectory:Sum of Photometric type-related color channels and ExtraSamples doesn't match SamplesPerPixel. Defining non-color channels as ExtraSamples.\n"
     ]
    },
    {
     "name": "stdout",
     "output_type": "stream",
     "text": [
      "File /home/cb/sis2/data/tfrecords256/00005_2883x1317.tfrecord is new\n"
     ]
    },
    {
     "name": "stderr",
     "output_type": "stream",
     "text": [
      "Warning 1: TIFFReadDirectory:Sum of Photometric type-related color channels and ExtraSamples doesn't match SamplesPerPixel. Defining non-color channels as ExtraSamples.\n"
     ]
    },
    {
     "name": "stdout",
     "output_type": "stream",
     "text": [
      "File /home/cb/sis2/data/tfrecords256/00005_2883x1578.tfrecord is new\n"
     ]
    },
    {
     "name": "stderr",
     "output_type": "stream",
     "text": [
      "Warning 1: TIFFReadDirectory:Sum of Photometric type-related color channels and ExtraSamples doesn't match SamplesPerPixel. Defining non-color channels as ExtraSamples.\n"
     ]
    },
    {
     "name": "stdout",
     "output_type": "stream",
     "text": [
      "File /home/cb/sis2/data/tfrecords256/00005_2883x1839.tfrecord is new\n"
     ]
    },
    {
     "name": "stderr",
     "output_type": "stream",
     "text": [
      "Warning 1: TIFFReadDirectory:Sum of Photometric type-related color channels and ExtraSamples doesn't match SamplesPerPixel. Defining non-color channels as ExtraSamples.\n"
     ]
    },
    {
     "name": "stdout",
     "output_type": "stream",
     "text": [
      "File /home/cb/sis2/data/tfrecords256/00005_3144x273.tfrecord is new\n"
     ]
    },
    {
     "name": "stderr",
     "output_type": "stream",
     "text": [
      "Warning 1: TIFFReadDirectory:Sum of Photometric type-related color channels and ExtraSamples doesn't match SamplesPerPixel. Defining non-color channels as ExtraSamples.\n"
     ]
    },
    {
     "name": "stdout",
     "output_type": "stream",
     "text": [
      "File /home/cb/sis2/data/tfrecords256/00005_3144x534.tfrecord is new\n"
     ]
    },
    {
     "name": "stderr",
     "output_type": "stream",
     "text": [
      "Warning 1: TIFFReadDirectory:Sum of Photometric type-related color channels and ExtraSamples doesn't match SamplesPerPixel. Defining non-color channels as ExtraSamples.\n"
     ]
    },
    {
     "name": "stdout",
     "output_type": "stream",
     "text": [
      "File /home/cb/sis2/data/tfrecords256/00005_3144x795.tfrecord is new\n"
     ]
    },
    {
     "name": "stderr",
     "output_type": "stream",
     "text": [
      "Warning 1: TIFFReadDirectory:Sum of Photometric type-related color channels and ExtraSamples doesn't match SamplesPerPixel. Defining non-color channels as ExtraSamples.\n"
     ]
    },
    {
     "name": "stdout",
     "output_type": "stream",
     "text": [
      "File /home/cb/sis2/data/tfrecords256/00005_3144x1056.tfrecord is new\n"
     ]
    },
    {
     "name": "stderr",
     "output_type": "stream",
     "text": [
      "Warning 1: TIFFReadDirectory:Sum of Photometric type-related color channels and ExtraSamples doesn't match SamplesPerPixel. Defining non-color channels as ExtraSamples.\n"
     ]
    },
    {
     "name": "stdout",
     "output_type": "stream",
     "text": [
      "File /home/cb/sis2/data/tfrecords256/00005_3144x1317.tfrecord is new\n"
     ]
    },
    {
     "name": "stderr",
     "output_type": "stream",
     "text": [
      "Warning 1: TIFFReadDirectory:Sum of Photometric type-related color channels and ExtraSamples doesn't match SamplesPerPixel. Defining non-color channels as ExtraSamples.\n"
     ]
    },
    {
     "name": "stdout",
     "output_type": "stream",
     "text": [
      "File /home/cb/sis2/data/tfrecords256/00005_3144x1578.tfrecord is new\n"
     ]
    },
    {
     "name": "stderr",
     "output_type": "stream",
     "text": [
      "Warning 1: TIFFReadDirectory:Sum of Photometric type-related color channels and ExtraSamples doesn't match SamplesPerPixel. Defining non-color channels as ExtraSamples.\n"
     ]
    },
    {
     "name": "stdout",
     "output_type": "stream",
     "text": [
      "File /home/cb/sis2/data/tfrecords256/00005_3144x1839.tfrecord is new\n"
     ]
    },
    {
     "name": "stderr",
     "output_type": "stream",
     "text": [
      "Warning 1: TIFFReadDirectory:Sum of Photometric type-related color channels and ExtraSamples doesn't match SamplesPerPixel. Defining non-color channels as ExtraSamples.\n"
     ]
    },
    {
     "name": "stdout",
     "output_type": "stream",
     "text": [
      "File /home/cb/sis2/data/tfrecords256/00005_3144x2622.tfrecord is new\n"
     ]
    },
    {
     "name": "stderr",
     "output_type": "stream",
     "text": [
      "Warning 1: TIFFReadDirectory:Sum of Photometric type-related color channels and ExtraSamples doesn't match SamplesPerPixel. Defining non-color channels as ExtraSamples.\n"
     ]
    },
    {
     "name": "stdout",
     "output_type": "stream",
     "text": [
      "File /home/cb/sis2/data/tfrecords256/00005_3405x12.tfrecord is new\n"
     ]
    },
    {
     "name": "stderr",
     "output_type": "stream",
     "text": [
      "Warning 1: TIFFReadDirectory:Sum of Photometric type-related color channels and ExtraSamples doesn't match SamplesPerPixel. Defining non-color channels as ExtraSamples.\n"
     ]
    },
    {
     "name": "stdout",
     "output_type": "stream",
     "text": [
      "File /home/cb/sis2/data/tfrecords256/00005_3405x273.tfrecord is new\n"
     ]
    },
    {
     "name": "stderr",
     "output_type": "stream",
     "text": [
      "Warning 1: TIFFReadDirectory:Sum of Photometric type-related color channels and ExtraSamples doesn't match SamplesPerPixel. Defining non-color channels as ExtraSamples.\n"
     ]
    },
    {
     "name": "stdout",
     "output_type": "stream",
     "text": [
      "File /home/cb/sis2/data/tfrecords256/00005_3405x534.tfrecord is new\n"
     ]
    },
    {
     "name": "stderr",
     "output_type": "stream",
     "text": [
      "Warning 1: TIFFReadDirectory:Sum of Photometric type-related color channels and ExtraSamples doesn't match SamplesPerPixel. Defining non-color channels as ExtraSamples.\n"
     ]
    },
    {
     "name": "stdout",
     "output_type": "stream",
     "text": [
      "File /home/cb/sis2/data/tfrecords256/00005_3405x795.tfrecord is new\n"
     ]
    },
    {
     "name": "stderr",
     "output_type": "stream",
     "text": [
      "Warning 1: TIFFReadDirectory:Sum of Photometric type-related color channels and ExtraSamples doesn't match SamplesPerPixel. Defining non-color channels as ExtraSamples.\n"
     ]
    },
    {
     "name": "stdout",
     "output_type": "stream",
     "text": [
      "File /home/cb/sis2/data/tfrecords256/00005_3405x1056.tfrecord is new\n"
     ]
    },
    {
     "name": "stderr",
     "output_type": "stream",
     "text": [
      "Warning 1: TIFFReadDirectory:Sum of Photometric type-related color channels and ExtraSamples doesn't match SamplesPerPixel. Defining non-color channels as ExtraSamples.\n"
     ]
    },
    {
     "name": "stdout",
     "output_type": "stream",
     "text": [
      "File /home/cb/sis2/data/tfrecords256/00005_3405x1317.tfrecord is new\n"
     ]
    },
    {
     "name": "stderr",
     "output_type": "stream",
     "text": [
      "Warning 1: TIFFReadDirectory:Sum of Photometric type-related color channels and ExtraSamples doesn't match SamplesPerPixel. Defining non-color channels as ExtraSamples.\n"
     ]
    },
    {
     "name": "stdout",
     "output_type": "stream",
     "text": [
      "File /home/cb/sis2/data/tfrecords256/00005_3405x1578.tfrecord is new\n"
     ]
    },
    {
     "name": "stderr",
     "output_type": "stream",
     "text": [
      "Warning 1: TIFFReadDirectory:Sum of Photometric type-related color channels and ExtraSamples doesn't match SamplesPerPixel. Defining non-color channels as ExtraSamples.\n"
     ]
    },
    {
     "name": "stdout",
     "output_type": "stream",
     "text": [
      "File /home/cb/sis2/data/tfrecords256/00005_3666x12.tfrecord is new\n"
     ]
    },
    {
     "name": "stderr",
     "output_type": "stream",
     "text": [
      "Warning 1: TIFFReadDirectory:Sum of Photometric type-related color channels and ExtraSamples doesn't match SamplesPerPixel. Defining non-color channels as ExtraSamples.\n"
     ]
    },
    {
     "name": "stdout",
     "output_type": "stream",
     "text": [
      "File /home/cb/sis2/data/tfrecords256/00005_3666x273.tfrecord is new\n"
     ]
    },
    {
     "name": "stderr",
     "output_type": "stream",
     "text": [
      "Warning 1: TIFFReadDirectory:Sum of Photometric type-related color channels and ExtraSamples doesn't match SamplesPerPixel. Defining non-color channels as ExtraSamples.\n"
     ]
    },
    {
     "name": "stdout",
     "output_type": "stream",
     "text": [
      "File /home/cb/sis2/data/tfrecords256/00005_3666x534.tfrecord is new\n"
     ]
    },
    {
     "name": "stderr",
     "output_type": "stream",
     "text": [
      "Warning 1: TIFFReadDirectory:Sum of Photometric type-related color channels and ExtraSamples doesn't match SamplesPerPixel. Defining non-color channels as ExtraSamples.\n"
     ]
    },
    {
     "name": "stdout",
     "output_type": "stream",
     "text": [
      "File /home/cb/sis2/data/tfrecords256/00005_3666x795.tfrecord is new\n"
     ]
    },
    {
     "name": "stderr",
     "output_type": "stream",
     "text": [
      "Warning 1: TIFFReadDirectory:Sum of Photometric type-related color channels and ExtraSamples doesn't match SamplesPerPixel. Defining non-color channels as ExtraSamples.\n"
     ]
    },
    {
     "name": "stdout",
     "output_type": "stream",
     "text": [
      "File /home/cb/sis2/data/tfrecords256/00005_3666x1056.tfrecord is new\n"
     ]
    },
    {
     "name": "stderr",
     "output_type": "stream",
     "text": [
      "Warning 1: TIFFReadDirectory:Sum of Photometric type-related color channels and ExtraSamples doesn't match SamplesPerPixel. Defining non-color channels as ExtraSamples.\n"
     ]
    },
    {
     "name": "stdout",
     "output_type": "stream",
     "text": [
      "File /home/cb/sis2/data/tfrecords256/00005_3666x1317.tfrecord is new\n"
     ]
    },
    {
     "name": "stderr",
     "output_type": "stream",
     "text": [
      "Warning 1: TIFFReadDirectory:Sum of Photometric type-related color channels and ExtraSamples doesn't match SamplesPerPixel. Defining non-color channels as ExtraSamples.\n"
     ]
    },
    {
     "name": "stdout",
     "output_type": "stream",
     "text": [
      "File /home/cb/sis2/data/tfrecords256/00005_3666x1578.tfrecord is new\n"
     ]
    },
    {
     "name": "stderr",
     "output_type": "stream",
     "text": [
      "Warning 1: TIFFReadDirectory:Sum of Photometric type-related color channels and ExtraSamples doesn't match SamplesPerPixel. Defining non-color channels as ExtraSamples.\n"
     ]
    },
    {
     "name": "stdout",
     "output_type": "stream",
     "text": [
      "File /home/cb/sis2/data/tfrecords256/00005_3927x12.tfrecord is new\n"
     ]
    },
    {
     "name": "stderr",
     "output_type": "stream",
     "text": [
      "Warning 1: TIFFReadDirectory:Sum of Photometric type-related color channels and ExtraSamples doesn't match SamplesPerPixel. Defining non-color channels as ExtraSamples.\n"
     ]
    },
    {
     "name": "stdout",
     "output_type": "stream",
     "text": [
      "File /home/cb/sis2/data/tfrecords256/00005_3927x273.tfrecord is new\n"
     ]
    },
    {
     "name": "stderr",
     "output_type": "stream",
     "text": [
      "Warning 1: TIFFReadDirectory:Sum of Photometric type-related color channels and ExtraSamples doesn't match SamplesPerPixel. Defining non-color channels as ExtraSamples.\n"
     ]
    },
    {
     "name": "stdout",
     "output_type": "stream",
     "text": [
      "File /home/cb/sis2/data/tfrecords256/00005_3927x534.tfrecord is new\n"
     ]
    },
    {
     "name": "stderr",
     "output_type": "stream",
     "text": [
      "Warning 1: TIFFReadDirectory:Sum of Photometric type-related color channels and ExtraSamples doesn't match SamplesPerPixel. Defining non-color channels as ExtraSamples.\n"
     ]
    },
    {
     "name": "stdout",
     "output_type": "stream",
     "text": [
      "File /home/cb/sis2/data/tfrecords256/00005_3927x795.tfrecord is new\n"
     ]
    },
    {
     "name": "stderr",
     "output_type": "stream",
     "text": [
      "Warning 1: TIFFReadDirectory:Sum of Photometric type-related color channels and ExtraSamples doesn't match SamplesPerPixel. Defining non-color channels as ExtraSamples.\n"
     ]
    },
    {
     "name": "stdout",
     "output_type": "stream",
     "text": [
      "File /home/cb/sis2/data/tfrecords256/00005_3927x1056.tfrecord is new\n"
     ]
    },
    {
     "name": "stderr",
     "output_type": "stream",
     "text": [
      "Warning 1: TIFFReadDirectory:Sum of Photometric type-related color channels and ExtraSamples doesn't match SamplesPerPixel. Defining non-color channels as ExtraSamples.\n"
     ]
    },
    {
     "name": "stdout",
     "output_type": "stream",
     "text": [
      "File /home/cb/sis2/data/tfrecords256/00005_4188x12.tfrecord is new\n"
     ]
    },
    {
     "name": "stderr",
     "output_type": "stream",
     "text": [
      "Warning 1: TIFFReadDirectory:Sum of Photometric type-related color channels and ExtraSamples doesn't match SamplesPerPixel. Defining non-color channels as ExtraSamples.\n"
     ]
    },
    {
     "name": "stdout",
     "output_type": "stream",
     "text": [
      "File /home/cb/sis2/data/tfrecords256/00005_4188x273.tfrecord is new\n"
     ]
    },
    {
     "name": "stderr",
     "output_type": "stream",
     "text": [
      "Warning 1: TIFFReadDirectory:Sum of Photometric type-related color channels and ExtraSamples doesn't match SamplesPerPixel. Defining non-color channels as ExtraSamples.\n"
     ]
    },
    {
     "name": "stdout",
     "output_type": "stream",
     "text": [
      "File /home/cb/sis2/data/tfrecords256/00005_4188x534.tfrecord is new\n"
     ]
    },
    {
     "name": "stderr",
     "output_type": "stream",
     "text": [
      "Warning 1: TIFFReadDirectory:Sum of Photometric type-related color channels and ExtraSamples doesn't match SamplesPerPixel. Defining non-color channels as ExtraSamples.\n"
     ]
    },
    {
     "name": "stdout",
     "output_type": "stream",
     "text": [
      "File /home/cb/sis2/data/tfrecords256/00005_4188x795.tfrecord is new\n"
     ]
    },
    {
     "name": "stderr",
     "output_type": "stream",
     "text": [
      "Warning 1: TIFFReadDirectory:Sum of Photometric type-related color channels and ExtraSamples doesn't match SamplesPerPixel. Defining non-color channels as ExtraSamples.\n"
     ]
    },
    {
     "name": "stdout",
     "output_type": "stream",
     "text": [
      "File /home/cb/sis2/data/tfrecords256/00005_4188x1056.tfrecord is new\n"
     ]
    },
    {
     "name": "stderr",
     "output_type": "stream",
     "text": [
      "Warning 1: TIFFReadDirectory:Sum of Photometric type-related color channels and ExtraSamples doesn't match SamplesPerPixel. Defining non-color channels as ExtraSamples.\n"
     ]
    },
    {
     "name": "stdout",
     "output_type": "stream",
     "text": [
      "File /home/cb/sis2/data/tfrecords256/00005_4449x12.tfrecord is new\n"
     ]
    },
    {
     "name": "stderr",
     "output_type": "stream",
     "text": [
      "Warning 1: TIFFReadDirectory:Sum of Photometric type-related color channels and ExtraSamples doesn't match SamplesPerPixel. Defining non-color channels as ExtraSamples.\n"
     ]
    },
    {
     "name": "stdout",
     "output_type": "stream",
     "text": [
      "File /home/cb/sis2/data/tfrecords256/00005_4449x273.tfrecord is new\n"
     ]
    },
    {
     "name": "stderr",
     "output_type": "stream",
     "text": [
      "Warning 1: TIFFReadDirectory:Sum of Photometric type-related color channels and ExtraSamples doesn't match SamplesPerPixel. Defining non-color channels as ExtraSamples.\n"
     ]
    },
    {
     "name": "stdout",
     "output_type": "stream",
     "text": [
      "File /home/cb/sis2/data/tfrecords256/00005_4449x534.tfrecord is new\n"
     ]
    },
    {
     "name": "stderr",
     "output_type": "stream",
     "text": [
      "Warning 1: TIFFReadDirectory:Sum of Photometric type-related color channels and ExtraSamples doesn't match SamplesPerPixel. Defining non-color channels as ExtraSamples.\n"
     ]
    },
    {
     "name": "stdout",
     "output_type": "stream",
     "text": [
      "File /home/cb/sis2/data/tfrecords256/00005_4449x795.tfrecord is new\n"
     ]
    },
    {
     "name": "stderr",
     "output_type": "stream",
     "text": [
      "Warning 1: TIFFReadDirectory:Sum of Photometric type-related color channels and ExtraSamples doesn't match SamplesPerPixel. Defining non-color channels as ExtraSamples.\n"
     ]
    },
    {
     "name": "stdout",
     "output_type": "stream",
     "text": [
      "File /home/cb/sis2/data/tfrecords256/00005_4449x1056.tfrecord is new\n"
     ]
    },
    {
     "name": "stderr",
     "output_type": "stream",
     "text": [
      "Warning 1: TIFFReadDirectory:Sum of Photometric type-related color channels and ExtraSamples doesn't match SamplesPerPixel. Defining non-color channels as ExtraSamples.\n"
     ]
    },
    {
     "name": "stdout",
     "output_type": "stream",
     "text": [
      "File /home/cb/sis2/data/tfrecords256/00005_4710x12.tfrecord is new\n"
     ]
    },
    {
     "name": "stderr",
     "output_type": "stream",
     "text": [
      "Warning 1: TIFFReadDirectory:Sum of Photometric type-related color channels and ExtraSamples doesn't match SamplesPerPixel. Defining non-color channels as ExtraSamples.\n"
     ]
    },
    {
     "name": "stdout",
     "output_type": "stream",
     "text": [
      "File /home/cb/sis2/data/tfrecords256/00005_4710x273.tfrecord is new\n"
     ]
    },
    {
     "name": "stderr",
     "output_type": "stream",
     "text": [
      "Warning 1: TIFFReadDirectory:Sum of Photometric type-related color channels and ExtraSamples doesn't match SamplesPerPixel. Defining non-color channels as ExtraSamples.\n"
     ]
    },
    {
     "name": "stdout",
     "output_type": "stream",
     "text": [
      "File /home/cb/sis2/data/tfrecords256/00005_4710x534.tfrecord is new\n"
     ]
    },
    {
     "name": "stderr",
     "output_type": "stream",
     "text": [
      "Warning 1: TIFFReadDirectory:Sum of Photometric type-related color channels and ExtraSamples doesn't match SamplesPerPixel. Defining non-color channels as ExtraSamples.\n"
     ]
    },
    {
     "name": "stdout",
     "output_type": "stream",
     "text": [
      "File /home/cb/sis2/data/tfrecords256/00005_4710x795.tfrecord is new\n"
     ]
    },
    {
     "name": "stderr",
     "output_type": "stream",
     "text": [
      "Warning 1: TIFFReadDirectory:Sum of Photometric type-related color channels and ExtraSamples doesn't match SamplesPerPixel. Defining non-color channels as ExtraSamples.\n"
     ]
    },
    {
     "name": "stdout",
     "output_type": "stream",
     "text": [
      "File /home/cb/sis2/data/tfrecords256/00005_4710x1056.tfrecord is new\n"
     ]
    },
    {
     "name": "stderr",
     "output_type": "stream",
     "text": [
      "Warning 1: TIFFReadDirectory:Sum of Photometric type-related color channels and ExtraSamples doesn't match SamplesPerPixel. Defining non-color channels as ExtraSamples.\n"
     ]
    },
    {
     "name": "stdout",
     "output_type": "stream",
     "text": [
      "File /home/cb/sis2/data/tfrecords256/00005_4971x12.tfrecord is new\n"
     ]
    },
    {
     "name": "stderr",
     "output_type": "stream",
     "text": [
      "Warning 1: TIFFReadDirectory:Sum of Photometric type-related color channels and ExtraSamples doesn't match SamplesPerPixel. Defining non-color channels as ExtraSamples.\n"
     ]
    },
    {
     "name": "stdout",
     "output_type": "stream",
     "text": [
      "File /home/cb/sis2/data/tfrecords256/00005_4971x273.tfrecord is new\n"
     ]
    },
    {
     "name": "stderr",
     "output_type": "stream",
     "text": [
      "Warning 1: TIFFReadDirectory:Sum of Photometric type-related color channels and ExtraSamples doesn't match SamplesPerPixel. Defining non-color channels as ExtraSamples.\n"
     ]
    },
    {
     "name": "stdout",
     "output_type": "stream",
     "text": [
      "File /home/cb/sis2/data/tfrecords256/00005_4971x534.tfrecord is new\n"
     ]
    },
    {
     "name": "stderr",
     "output_type": "stream",
     "text": [
      "Warning 1: TIFFReadDirectory:Sum of Photometric type-related color channels and ExtraSamples doesn't match SamplesPerPixel. Defining non-color channels as ExtraSamples.\n"
     ]
    },
    {
     "name": "stdout",
     "output_type": "stream",
     "text": [
      "File /home/cb/sis2/data/tfrecords256/00005_4971x795.tfrecord is new\n"
     ]
    },
    {
     "name": "stderr",
     "output_type": "stream",
     "text": [
      "Warning 1: TIFFReadDirectory:Sum of Photometric type-related color channels and ExtraSamples doesn't match SamplesPerPixel. Defining non-color channels as ExtraSamples.\n"
     ]
    },
    {
     "name": "stdout",
     "output_type": "stream",
     "text": [
      "File /home/cb/sis2/data/tfrecords256/00005_5232x12.tfrecord is new\n"
     ]
    },
    {
     "name": "stderr",
     "output_type": "stream",
     "text": [
      "Warning 1: TIFFReadDirectory:Sum of Photometric type-related color channels and ExtraSamples doesn't match SamplesPerPixel. Defining non-color channels as ExtraSamples.\n"
     ]
    },
    {
     "name": "stdout",
     "output_type": "stream",
     "text": [
      "File /home/cb/sis2/data/tfrecords256/00005_5232x273.tfrecord is new\n"
     ]
    },
    {
     "name": "stderr",
     "output_type": "stream",
     "text": [
      "Warning 1: TIFFReadDirectory:Sum of Photometric type-related color channels and ExtraSamples doesn't match SamplesPerPixel. Defining non-color channels as ExtraSamples.\n"
     ]
    },
    {
     "name": "stdout",
     "output_type": "stream",
     "text": [
      "File /home/cb/sis2/data/tfrecords256/00005_5232x534.tfrecord is new\n"
     ]
    },
    {
     "name": "stderr",
     "output_type": "stream",
     "text": [
      "Warning 1: TIFFReadDirectory:Sum of Photometric type-related color channels and ExtraSamples doesn't match SamplesPerPixel. Defining non-color channels as ExtraSamples.\n"
     ]
    },
    {
     "name": "stdout",
     "output_type": "stream",
     "text": [
      "File /home/cb/sis2/data/tfrecords256/00005_5493x12.tfrecord is new\n"
     ]
    },
    {
     "name": "stderr",
     "output_type": "stream",
     "text": [
      "Warning 1: TIFFReadDirectory:Sum of Photometric type-related color channels and ExtraSamples doesn't match SamplesPerPixel. Defining non-color channels as ExtraSamples.\n"
     ]
    },
    {
     "name": "stdout",
     "output_type": "stream",
     "text": [
      "File /home/cb/sis2/data/tfrecords256/00008_12x1056.tfrecord is new\n"
     ]
    },
    {
     "name": "stderr",
     "output_type": "stream",
     "text": [
      "Warning 1: TIFFReadDirectory:Sum of Photometric type-related color channels and ExtraSamples doesn't match SamplesPerPixel. Defining non-color channels as ExtraSamples.\n"
     ]
    },
    {
     "name": "stdout",
     "output_type": "stream",
     "text": [
      "File /home/cb/sis2/data/tfrecords256/00008_12x1317.tfrecord is new\n"
     ]
    },
    {
     "name": "stderr",
     "output_type": "stream",
     "text": [
      "Warning 1: TIFFReadDirectory:Sum of Photometric type-related color channels and ExtraSamples doesn't match SamplesPerPixel. Defining non-color channels as ExtraSamples.\n"
     ]
    },
    {
     "name": "stdout",
     "output_type": "stream",
     "text": [
      "File /home/cb/sis2/data/tfrecords256/00008_12x1578.tfrecord is new\n"
     ]
    },
    {
     "name": "stderr",
     "output_type": "stream",
     "text": [
      "Warning 1: TIFFReadDirectory:Sum of Photometric type-related color channels and ExtraSamples doesn't match SamplesPerPixel. Defining non-color channels as ExtraSamples.\n"
     ]
    },
    {
     "name": "stdout",
     "output_type": "stream",
     "text": [
      "File /home/cb/sis2/data/tfrecords256/00008_12x1839.tfrecord is new\n"
     ]
    },
    {
     "name": "stderr",
     "output_type": "stream",
     "text": [
      "Warning 1: TIFFReadDirectory:Sum of Photometric type-related color channels and ExtraSamples doesn't match SamplesPerPixel. Defining non-color channels as ExtraSamples.\n"
     ]
    },
    {
     "name": "stdout",
     "output_type": "stream",
     "text": [
      "File /home/cb/sis2/data/tfrecords256/00008_12x2100.tfrecord is new\n"
     ]
    },
    {
     "name": "stderr",
     "output_type": "stream",
     "text": [
      "Warning 1: TIFFReadDirectory:Sum of Photometric type-related color channels and ExtraSamples doesn't match SamplesPerPixel. Defining non-color channels as ExtraSamples.\n"
     ]
    },
    {
     "name": "stdout",
     "output_type": "stream",
     "text": [
      "File /home/cb/sis2/data/tfrecords256/00008_12x2361.tfrecord is new\n"
     ]
    },
    {
     "name": "stderr",
     "output_type": "stream",
     "text": [
      "Warning 1: TIFFReadDirectory:Sum of Photometric type-related color channels and ExtraSamples doesn't match SamplesPerPixel. Defining non-color channels as ExtraSamples.\n"
     ]
    },
    {
     "name": "stdout",
     "output_type": "stream",
     "text": [
      "File /home/cb/sis2/data/tfrecords256/00008_12x2622.tfrecord is new\n"
     ]
    },
    {
     "name": "stderr",
     "output_type": "stream",
     "text": [
      "Warning 1: TIFFReadDirectory:Sum of Photometric type-related color channels and ExtraSamples doesn't match SamplesPerPixel. Defining non-color channels as ExtraSamples.\n"
     ]
    },
    {
     "name": "stdout",
     "output_type": "stream",
     "text": [
      "File /home/cb/sis2/data/tfrecords256/00008_12x4449.tfrecord is new\n"
     ]
    },
    {
     "name": "stderr",
     "output_type": "stream",
     "text": [
      "Warning 1: TIFFReadDirectory:Sum of Photometric type-related color channels and ExtraSamples doesn't match SamplesPerPixel. Defining non-color channels as ExtraSamples.\n"
     ]
    },
    {
     "name": "stdout",
     "output_type": "stream",
     "text": [
      "File /home/cb/sis2/data/tfrecords256/00008_12x4710.tfrecord is new\n"
     ]
    },
    {
     "name": "stderr",
     "output_type": "stream",
     "text": [
      "Warning 1: TIFFReadDirectory:Sum of Photometric type-related color channels and ExtraSamples doesn't match SamplesPerPixel. Defining non-color channels as ExtraSamples.\n"
     ]
    },
    {
     "name": "stdout",
     "output_type": "stream",
     "text": [
      "File /home/cb/sis2/data/tfrecords256/00008_12x4971.tfrecord is new\n"
     ]
    },
    {
     "name": "stderr",
     "output_type": "stream",
     "text": [
      "Warning 1: TIFFReadDirectory:Sum of Photometric type-related color channels and ExtraSamples doesn't match SamplesPerPixel. Defining non-color channels as ExtraSamples.\n"
     ]
    },
    {
     "name": "stdout",
     "output_type": "stream",
     "text": [
      "File /home/cb/sis2/data/tfrecords256/00008_12x5232.tfrecord is new\n"
     ]
    },
    {
     "name": "stderr",
     "output_type": "stream",
     "text": [
      "Warning 1: TIFFReadDirectory:Sum of Photometric type-related color channels and ExtraSamples doesn't match SamplesPerPixel. Defining non-color channels as ExtraSamples.\n"
     ]
    },
    {
     "name": "stdout",
     "output_type": "stream",
     "text": [
      "File /home/cb/sis2/data/tfrecords256/00008_12x5493.tfrecord is new\n"
     ]
    },
    {
     "name": "stderr",
     "output_type": "stream",
     "text": [
      "Warning 1: TIFFReadDirectory:Sum of Photometric type-related color channels and ExtraSamples doesn't match SamplesPerPixel. Defining non-color channels as ExtraSamples.\n"
     ]
    },
    {
     "name": "stdout",
     "output_type": "stream",
     "text": [
      "File /home/cb/sis2/data/tfrecords256/00008_12x5754.tfrecord is new\n"
     ]
    },
    {
     "name": "stderr",
     "output_type": "stream",
     "text": [
      "Warning 1: TIFFReadDirectory:Sum of Photometric type-related color channels and ExtraSamples doesn't match SamplesPerPixel. Defining non-color channels as ExtraSamples.\n"
     ]
    },
    {
     "name": "stdout",
     "output_type": "stream",
     "text": [
      "File /home/cb/sis2/data/tfrecords256/00008_12x6015.tfrecord is new\n"
     ]
    },
    {
     "name": "stderr",
     "output_type": "stream",
     "text": [
      "Warning 1: TIFFReadDirectory:Sum of Photometric type-related color channels and ExtraSamples doesn't match SamplesPerPixel. Defining non-color channels as ExtraSamples.\n"
     ]
    },
    {
     "name": "stdout",
     "output_type": "stream",
     "text": [
      "File /home/cb/sis2/data/tfrecords256/00008_12x6276.tfrecord is new\n"
     ]
    },
    {
     "name": "stderr",
     "output_type": "stream",
     "text": [
      "Warning 1: TIFFReadDirectory:Sum of Photometric type-related color channels and ExtraSamples doesn't match SamplesPerPixel. Defining non-color channels as ExtraSamples.\n"
     ]
    },
    {
     "name": "stdout",
     "output_type": "stream",
     "text": [
      "File /home/cb/sis2/data/tfrecords256/00008_12x6537.tfrecord is new\n"
     ]
    },
    {
     "name": "stderr",
     "output_type": "stream",
     "text": [
      "Warning 1: TIFFReadDirectory:Sum of Photometric type-related color channels and ExtraSamples doesn't match SamplesPerPixel. Defining non-color channels as ExtraSamples.\n"
     ]
    },
    {
     "name": "stdout",
     "output_type": "stream",
     "text": [
      "File /home/cb/sis2/data/tfrecords256/00008_12x6798.tfrecord is new\n"
     ]
    },
    {
     "name": "stderr",
     "output_type": "stream",
     "text": [
      "Warning 1: TIFFReadDirectory:Sum of Photometric type-related color channels and ExtraSamples doesn't match SamplesPerPixel. Defining non-color channels as ExtraSamples.\n"
     ]
    },
    {
     "name": "stdout",
     "output_type": "stream",
     "text": [
      "File /home/cb/sis2/data/tfrecords256/00008_12x7059.tfrecord is new\n"
     ]
    },
    {
     "name": "stderr",
     "output_type": "stream",
     "text": [
      "Warning 1: TIFFReadDirectory:Sum of Photometric type-related color channels and ExtraSamples doesn't match SamplesPerPixel. Defining non-color channels as ExtraSamples.\n"
     ]
    },
    {
     "name": "stdout",
     "output_type": "stream",
     "text": [
      "File /home/cb/sis2/data/tfrecords256/00008_12x7320.tfrecord is new\n"
     ]
    },
    {
     "name": "stderr",
     "output_type": "stream",
     "text": [
      "Warning 1: TIFFReadDirectory:Sum of Photometric type-related color channels and ExtraSamples doesn't match SamplesPerPixel. Defining non-color channels as ExtraSamples.\n"
     ]
    },
    {
     "name": "stdout",
     "output_type": "stream",
     "text": [
      "File /home/cb/sis2/data/tfrecords256/00008_12x7581.tfrecord is new\n"
     ]
    },
    {
     "name": "stderr",
     "output_type": "stream",
     "text": [
      "Warning 1: TIFFReadDirectory:Sum of Photometric type-related color channels and ExtraSamples doesn't match SamplesPerPixel. Defining non-color channels as ExtraSamples.\n"
     ]
    },
    {
     "name": "stdout",
     "output_type": "stream",
     "text": [
      "File /home/cb/sis2/data/tfrecords256/00008_273x795.tfrecord is new\n"
     ]
    },
    {
     "name": "stderr",
     "output_type": "stream",
     "text": [
      "Warning 1: TIFFReadDirectory:Sum of Photometric type-related color channels and ExtraSamples doesn't match SamplesPerPixel. Defining non-color channels as ExtraSamples.\n"
     ]
    },
    {
     "name": "stdout",
     "output_type": "stream",
     "text": [
      "File /home/cb/sis2/data/tfrecords256/00008_273x1056.tfrecord is new\n"
     ]
    },
    {
     "name": "stderr",
     "output_type": "stream",
     "text": [
      "Warning 1: TIFFReadDirectory:Sum of Photometric type-related color channels and ExtraSamples doesn't match SamplesPerPixel. Defining non-color channels as ExtraSamples.\n"
     ]
    },
    {
     "name": "stdout",
     "output_type": "stream",
     "text": [
      "File /home/cb/sis2/data/tfrecords256/00008_273x1317.tfrecord is new\n"
     ]
    },
    {
     "name": "stderr",
     "output_type": "stream",
     "text": [
      "Warning 1: TIFFReadDirectory:Sum of Photometric type-related color channels and ExtraSamples doesn't match SamplesPerPixel. Defining non-color channels as ExtraSamples.\n"
     ]
    },
    {
     "name": "stdout",
     "output_type": "stream",
     "text": [
      "File /home/cb/sis2/data/tfrecords256/00008_273x1578.tfrecord is new\n"
     ]
    },
    {
     "name": "stderr",
     "output_type": "stream",
     "text": [
      "Warning 1: TIFFReadDirectory:Sum of Photometric type-related color channels and ExtraSamples doesn't match SamplesPerPixel. Defining non-color channels as ExtraSamples.\n"
     ]
    },
    {
     "name": "stdout",
     "output_type": "stream",
     "text": [
      "File /home/cb/sis2/data/tfrecords256/00008_273x1839.tfrecord is new\n"
     ]
    },
    {
     "name": "stderr",
     "output_type": "stream",
     "text": [
      "Warning 1: TIFFReadDirectory:Sum of Photometric type-related color channels and ExtraSamples doesn't match SamplesPerPixel. Defining non-color channels as ExtraSamples.\n"
     ]
    },
    {
     "name": "stdout",
     "output_type": "stream",
     "text": [
      "File /home/cb/sis2/data/tfrecords256/00008_273x4710.tfrecord is new\n"
     ]
    },
    {
     "name": "stderr",
     "output_type": "stream",
     "text": [
      "Warning 1: TIFFReadDirectory:Sum of Photometric type-related color channels and ExtraSamples doesn't match SamplesPerPixel. Defining non-color channels as ExtraSamples.\n"
     ]
    },
    {
     "name": "stdout",
     "output_type": "stream",
     "text": [
      "File /home/cb/sis2/data/tfrecords256/00008_273x4971.tfrecord is new\n"
     ]
    },
    {
     "name": "stderr",
     "output_type": "stream",
     "text": [
      "Warning 1: TIFFReadDirectory:Sum of Photometric type-related color channels and ExtraSamples doesn't match SamplesPerPixel. Defining non-color channels as ExtraSamples.\n"
     ]
    },
    {
     "name": "stdout",
     "output_type": "stream",
     "text": [
      "File /home/cb/sis2/data/tfrecords256/00008_273x5232.tfrecord is new\n"
     ]
    },
    {
     "name": "stderr",
     "output_type": "stream",
     "text": [
      "Warning 1: TIFFReadDirectory:Sum of Photometric type-related color channels and ExtraSamples doesn't match SamplesPerPixel. Defining non-color channels as ExtraSamples.\n"
     ]
    },
    {
     "name": "stdout",
     "output_type": "stream",
     "text": [
      "File /home/cb/sis2/data/tfrecords256/00008_273x5493.tfrecord is new\n"
     ]
    },
    {
     "name": "stderr",
     "output_type": "stream",
     "text": [
      "Warning 1: TIFFReadDirectory:Sum of Photometric type-related color channels and ExtraSamples doesn't match SamplesPerPixel. Defining non-color channels as ExtraSamples.\n"
     ]
    },
    {
     "name": "stdout",
     "output_type": "stream",
     "text": [
      "File /home/cb/sis2/data/tfrecords256/00008_273x5754.tfrecord is new\n"
     ]
    },
    {
     "name": "stderr",
     "output_type": "stream",
     "text": [
      "Warning 1: TIFFReadDirectory:Sum of Photometric type-related color channels and ExtraSamples doesn't match SamplesPerPixel. Defining non-color channels as ExtraSamples.\n"
     ]
    },
    {
     "name": "stdout",
     "output_type": "stream",
     "text": [
      "File /home/cb/sis2/data/tfrecords256/00008_273x6015.tfrecord is new\n"
     ]
    },
    {
     "name": "stderr",
     "output_type": "stream",
     "text": [
      "Warning 1: TIFFReadDirectory:Sum of Photometric type-related color channels and ExtraSamples doesn't match SamplesPerPixel. Defining non-color channels as ExtraSamples.\n"
     ]
    },
    {
     "name": "stdout",
     "output_type": "stream",
     "text": [
      "File /home/cb/sis2/data/tfrecords256/00008_273x6276.tfrecord is new\n"
     ]
    },
    {
     "name": "stderr",
     "output_type": "stream",
     "text": [
      "Warning 1: TIFFReadDirectory:Sum of Photometric type-related color channels and ExtraSamples doesn't match SamplesPerPixel. Defining non-color channels as ExtraSamples.\n"
     ]
    },
    {
     "name": "stdout",
     "output_type": "stream",
     "text": [
      "File /home/cb/sis2/data/tfrecords256/00008_273x6537.tfrecord is new\n"
     ]
    },
    {
     "name": "stderr",
     "output_type": "stream",
     "text": [
      "Warning 1: TIFFReadDirectory:Sum of Photometric type-related color channels and ExtraSamples doesn't match SamplesPerPixel. Defining non-color channels as ExtraSamples.\n"
     ]
    },
    {
     "name": "stdout",
     "output_type": "stream",
     "text": [
      "File /home/cb/sis2/data/tfrecords256/00008_273x6798.tfrecord is new\n"
     ]
    },
    {
     "name": "stderr",
     "output_type": "stream",
     "text": [
      "Warning 1: TIFFReadDirectory:Sum of Photometric type-related color channels and ExtraSamples doesn't match SamplesPerPixel. Defining non-color channels as ExtraSamples.\n"
     ]
    },
    {
     "name": "stdout",
     "output_type": "stream",
     "text": [
      "File /home/cb/sis2/data/tfrecords256/00008_273x7059.tfrecord is new\n"
     ]
    },
    {
     "name": "stderr",
     "output_type": "stream",
     "text": [
      "Warning 1: TIFFReadDirectory:Sum of Photometric type-related color channels and ExtraSamples doesn't match SamplesPerPixel. Defining non-color channels as ExtraSamples.\n"
     ]
    },
    {
     "name": "stdout",
     "output_type": "stream",
     "text": [
      "File /home/cb/sis2/data/tfrecords256/00008_273x7320.tfrecord is new\n"
     ]
    },
    {
     "name": "stderr",
     "output_type": "stream",
     "text": [
      "Warning 1: TIFFReadDirectory:Sum of Photometric type-related color channels and ExtraSamples doesn't match SamplesPerPixel. Defining non-color channels as ExtraSamples.\n"
     ]
    },
    {
     "name": "stdout",
     "output_type": "stream",
     "text": [
      "File /home/cb/sis2/data/tfrecords256/00008_534x1056.tfrecord is new\n"
     ]
    },
    {
     "name": "stderr",
     "output_type": "stream",
     "text": [
      "Warning 1: TIFFReadDirectory:Sum of Photometric type-related color channels and ExtraSamples doesn't match SamplesPerPixel. Defining non-color channels as ExtraSamples.\n"
     ]
    },
    {
     "name": "stdout",
     "output_type": "stream",
     "text": [
      "File /home/cb/sis2/data/tfrecords256/00008_534x4188.tfrecord is new\n"
     ]
    },
    {
     "name": "stderr",
     "output_type": "stream",
     "text": [
      "Warning 1: TIFFReadDirectory:Sum of Photometric type-related color channels and ExtraSamples doesn't match SamplesPerPixel. Defining non-color channels as ExtraSamples.\n"
     ]
    },
    {
     "name": "stdout",
     "output_type": "stream",
     "text": [
      "File /home/cb/sis2/data/tfrecords256/00008_534x4449.tfrecord is new\n"
     ]
    },
    {
     "name": "stderr",
     "output_type": "stream",
     "text": [
      "Warning 1: TIFFReadDirectory:Sum of Photometric type-related color channels and ExtraSamples doesn't match SamplesPerPixel. Defining non-color channels as ExtraSamples.\n"
     ]
    },
    {
     "name": "stdout",
     "output_type": "stream",
     "text": [
      "File /home/cb/sis2/data/tfrecords256/00008_534x4710.tfrecord is new\n"
     ]
    },
    {
     "name": "stderr",
     "output_type": "stream",
     "text": [
      "Warning 1: TIFFReadDirectory:Sum of Photometric type-related color channels and ExtraSamples doesn't match SamplesPerPixel. Defining non-color channels as ExtraSamples.\n"
     ]
    },
    {
     "name": "stdout",
     "output_type": "stream",
     "text": [
      "File /home/cb/sis2/data/tfrecords256/00008_534x4971.tfrecord is new\n"
     ]
    },
    {
     "name": "stderr",
     "output_type": "stream",
     "text": [
      "Warning 1: TIFFReadDirectory:Sum of Photometric type-related color channels and ExtraSamples doesn't match SamplesPerPixel. Defining non-color channels as ExtraSamples.\n"
     ]
    },
    {
     "name": "stdout",
     "output_type": "stream",
     "text": [
      "File /home/cb/sis2/data/tfrecords256/00008_534x5232.tfrecord is new\n"
     ]
    },
    {
     "name": "stderr",
     "output_type": "stream",
     "text": [
      "Warning 1: TIFFReadDirectory:Sum of Photometric type-related color channels and ExtraSamples doesn't match SamplesPerPixel. Defining non-color channels as ExtraSamples.\n"
     ]
    },
    {
     "name": "stdout",
     "output_type": "stream",
     "text": [
      "File /home/cb/sis2/data/tfrecords256/00008_534x6015.tfrecord is new\n"
     ]
    },
    {
     "name": "stderr",
     "output_type": "stream",
     "text": [
      "Warning 1: TIFFReadDirectory:Sum of Photometric type-related color channels and ExtraSamples doesn't match SamplesPerPixel. Defining non-color channels as ExtraSamples.\n"
     ]
    },
    {
     "name": "stdout",
     "output_type": "stream",
     "text": [
      "File /home/cb/sis2/data/tfrecords256/00008_534x6276.tfrecord is new\n"
     ]
    },
    {
     "name": "stderr",
     "output_type": "stream",
     "text": [
      "Warning 1: TIFFReadDirectory:Sum of Photometric type-related color channels and ExtraSamples doesn't match SamplesPerPixel. Defining non-color channels as ExtraSamples.\n"
     ]
    },
    {
     "name": "stdout",
     "output_type": "stream",
     "text": [
      "File /home/cb/sis2/data/tfrecords256/00008_534x6537.tfrecord is new\n"
     ]
    },
    {
     "name": "stderr",
     "output_type": "stream",
     "text": [
      "Warning 1: TIFFReadDirectory:Sum of Photometric type-related color channels and ExtraSamples doesn't match SamplesPerPixel. Defining non-color channels as ExtraSamples.\n"
     ]
    },
    {
     "name": "stdout",
     "output_type": "stream",
     "text": [
      "File /home/cb/sis2/data/tfrecords256/00008_534x6798.tfrecord is new\n"
     ]
    },
    {
     "name": "stderr",
     "output_type": "stream",
     "text": [
      "Warning 1: TIFFReadDirectory:Sum of Photometric type-related color channels and ExtraSamples doesn't match SamplesPerPixel. Defining non-color channels as ExtraSamples.\n"
     ]
    },
    {
     "name": "stdout",
     "output_type": "stream",
     "text": [
      "File /home/cb/sis2/data/tfrecords256/00008_534x7059.tfrecord is new\n"
     ]
    },
    {
     "name": "stderr",
     "output_type": "stream",
     "text": [
      "Warning 1: TIFFReadDirectory:Sum of Photometric type-related color channels and ExtraSamples doesn't match SamplesPerPixel. Defining non-color channels as ExtraSamples.\n"
     ]
    },
    {
     "name": "stdout",
     "output_type": "stream",
     "text": [
      "File /home/cb/sis2/data/tfrecords256/00008_534x7320.tfrecord is new\n"
     ]
    },
    {
     "name": "stderr",
     "output_type": "stream",
     "text": [
      "Warning 1: TIFFReadDirectory:Sum of Photometric type-related color channels and ExtraSamples doesn't match SamplesPerPixel. Defining non-color channels as ExtraSamples.\n"
     ]
    },
    {
     "name": "stdout",
     "output_type": "stream",
     "text": [
      "File /home/cb/sis2/data/tfrecords256/00008_795x1056.tfrecord is new\n"
     ]
    },
    {
     "name": "stderr",
     "output_type": "stream",
     "text": [
      "Warning 1: TIFFReadDirectory:Sum of Photometric type-related color channels and ExtraSamples doesn't match SamplesPerPixel. Defining non-color channels as ExtraSamples.\n"
     ]
    },
    {
     "name": "stdout",
     "output_type": "stream",
     "text": [
      "File /home/cb/sis2/data/tfrecords256/00008_795x1317.tfrecord is new\n"
     ]
    },
    {
     "name": "stderr",
     "output_type": "stream",
     "text": [
      "Warning 1: TIFFReadDirectory:Sum of Photometric type-related color channels and ExtraSamples doesn't match SamplesPerPixel. Defining non-color channels as ExtraSamples.\n"
     ]
    },
    {
     "name": "stdout",
     "output_type": "stream",
     "text": [
      "File /home/cb/sis2/data/tfrecords256/00008_795x3666.tfrecord is new\n"
     ]
    },
    {
     "name": "stderr",
     "output_type": "stream",
     "text": [
      "Warning 1: TIFFReadDirectory:Sum of Photometric type-related color channels and ExtraSamples doesn't match SamplesPerPixel. Defining non-color channels as ExtraSamples.\n"
     ]
    },
    {
     "name": "stdout",
     "output_type": "stream",
     "text": [
      "File /home/cb/sis2/data/tfrecords256/00008_795x3927.tfrecord is new\n"
     ]
    },
    {
     "name": "stderr",
     "output_type": "stream",
     "text": [
      "Warning 1: TIFFReadDirectory:Sum of Photometric type-related color channels and ExtraSamples doesn't match SamplesPerPixel. Defining non-color channels as ExtraSamples.\n"
     ]
    },
    {
     "name": "stdout",
     "output_type": "stream",
     "text": [
      "File /home/cb/sis2/data/tfrecords256/00008_795x4710.tfrecord is new\n"
     ]
    },
    {
     "name": "stderr",
     "output_type": "stream",
     "text": [
      "Warning 1: TIFFReadDirectory:Sum of Photometric type-related color channels and ExtraSamples doesn't match SamplesPerPixel. Defining non-color channels as ExtraSamples.\n"
     ]
    },
    {
     "name": "stdout",
     "output_type": "stream",
     "text": [
      "File /home/cb/sis2/data/tfrecords256/00008_795x4971.tfrecord is new\n"
     ]
    },
    {
     "name": "stderr",
     "output_type": "stream",
     "text": [
      "Warning 1: TIFFReadDirectory:Sum of Photometric type-related color channels and ExtraSamples doesn't match SamplesPerPixel. Defining non-color channels as ExtraSamples.\n"
     ]
    },
    {
     "name": "stdout",
     "output_type": "stream",
     "text": [
      "File /home/cb/sis2/data/tfrecords256/00008_795x6276.tfrecord is new\n"
     ]
    },
    {
     "name": "stderr",
     "output_type": "stream",
     "text": [
      "Warning 1: TIFFReadDirectory:Sum of Photometric type-related color channels and ExtraSamples doesn't match SamplesPerPixel. Defining non-color channels as ExtraSamples.\n"
     ]
    },
    {
     "name": "stdout",
     "output_type": "stream",
     "text": [
      "File /home/cb/sis2/data/tfrecords256/00008_795x6537.tfrecord is new\n"
     ]
    },
    {
     "name": "stderr",
     "output_type": "stream",
     "text": [
      "Warning 1: TIFFReadDirectory:Sum of Photometric type-related color channels and ExtraSamples doesn't match SamplesPerPixel. Defining non-color channels as ExtraSamples.\n"
     ]
    },
    {
     "name": "stdout",
     "output_type": "stream",
     "text": [
      "File /home/cb/sis2/data/tfrecords256/00008_795x6798.tfrecord is new\n"
     ]
    },
    {
     "name": "stderr",
     "output_type": "stream",
     "text": [
      "Warning 1: TIFFReadDirectory:Sum of Photometric type-related color channels and ExtraSamples doesn't match SamplesPerPixel. Defining non-color channels as ExtraSamples.\n"
     ]
    },
    {
     "name": "stdout",
     "output_type": "stream",
     "text": [
      "File /home/cb/sis2/data/tfrecords256/00008_795x7059.tfrecord is new\n"
     ]
    },
    {
     "name": "stderr",
     "output_type": "stream",
     "text": [
      "Warning 1: TIFFReadDirectory:Sum of Photometric type-related color channels and ExtraSamples doesn't match SamplesPerPixel. Defining non-color channels as ExtraSamples.\n"
     ]
    },
    {
     "name": "stdout",
     "output_type": "stream",
     "text": [
      "File /home/cb/sis2/data/tfrecords256/00008_1056x12.tfrecord is new\n"
     ]
    },
    {
     "name": "stderr",
     "output_type": "stream",
     "text": [
      "Warning 1: TIFFReadDirectory:Sum of Photometric type-related color channels and ExtraSamples doesn't match SamplesPerPixel. Defining non-color channels as ExtraSamples.\n"
     ]
    },
    {
     "name": "stdout",
     "output_type": "stream",
     "text": [
      "File /home/cb/sis2/data/tfrecords256/00008_1056x273.tfrecord is new\n"
     ]
    },
    {
     "name": "stderr",
     "output_type": "stream",
     "text": [
      "Warning 1: TIFFReadDirectory:Sum of Photometric type-related color channels and ExtraSamples doesn't match SamplesPerPixel. Defining non-color channels as ExtraSamples.\n"
     ]
    },
    {
     "name": "stdout",
     "output_type": "stream",
     "text": [
      "File /home/cb/sis2/data/tfrecords256/00008_1056x534.tfrecord is new\n"
     ]
    },
    {
     "name": "stderr",
     "output_type": "stream",
     "text": [
      "Warning 1: TIFFReadDirectory:Sum of Photometric type-related color channels and ExtraSamples doesn't match SamplesPerPixel. Defining non-color channels as ExtraSamples.\n"
     ]
    },
    {
     "name": "stdout",
     "output_type": "stream",
     "text": [
      "File /home/cb/sis2/data/tfrecords256/00008_1056x3666.tfrecord is new\n"
     ]
    },
    {
     "name": "stderr",
     "output_type": "stream",
     "text": [
      "Warning 1: TIFFReadDirectory:Sum of Photometric type-related color channels and ExtraSamples doesn't match SamplesPerPixel. Defining non-color channels as ExtraSamples.\n"
     ]
    },
    {
     "name": "stdout",
     "output_type": "stream",
     "text": [
      "File /home/cb/sis2/data/tfrecords256/00008_1056x3927.tfrecord is new\n"
     ]
    },
    {
     "name": "stderr",
     "output_type": "stream",
     "text": [
      "Warning 1: TIFFReadDirectory:Sum of Photometric type-related color channels and ExtraSamples doesn't match SamplesPerPixel. Defining non-color channels as ExtraSamples.\n"
     ]
    },
    {
     "name": "stdout",
     "output_type": "stream",
     "text": [
      "File /home/cb/sis2/data/tfrecords256/00008_1056x4188.tfrecord is new\n"
     ]
    },
    {
     "name": "stderr",
     "output_type": "stream",
     "text": [
      "Warning 1: TIFFReadDirectory:Sum of Photometric type-related color channels and ExtraSamples doesn't match SamplesPerPixel. Defining non-color channels as ExtraSamples.\n"
     ]
    },
    {
     "name": "stdout",
     "output_type": "stream",
     "text": [
      "File /home/cb/sis2/data/tfrecords256/00008_1056x4449.tfrecord is new\n"
     ]
    },
    {
     "name": "stderr",
     "output_type": "stream",
     "text": [
      "Warning 1: TIFFReadDirectory:Sum of Photometric type-related color channels and ExtraSamples doesn't match SamplesPerPixel. Defining non-color channels as ExtraSamples.\n"
     ]
    },
    {
     "name": "stdout",
     "output_type": "stream",
     "text": [
      "File /home/cb/sis2/data/tfrecords256/00008_1056x4710.tfrecord is new\n"
     ]
    },
    {
     "name": "stderr",
     "output_type": "stream",
     "text": [
      "Warning 1: TIFFReadDirectory:Sum of Photometric type-related color channels and ExtraSamples doesn't match SamplesPerPixel. Defining non-color channels as ExtraSamples.\n"
     ]
    },
    {
     "name": "stdout",
     "output_type": "stream",
     "text": [
      "File /home/cb/sis2/data/tfrecords256/00008_1056x6798.tfrecord is new\n"
     ]
    },
    {
     "name": "stderr",
     "output_type": "stream",
     "text": [
      "Warning 1: TIFFReadDirectory:Sum of Photometric type-related color channels and ExtraSamples doesn't match SamplesPerPixel. Defining non-color channels as ExtraSamples.\n"
     ]
    },
    {
     "name": "stdout",
     "output_type": "stream",
     "text": [
      "File /home/cb/sis2/data/tfrecords256/00008_1317x12.tfrecord is new\n"
     ]
    },
    {
     "name": "stderr",
     "output_type": "stream",
     "text": [
      "Warning 1: TIFFReadDirectory:Sum of Photometric type-related color channels and ExtraSamples doesn't match SamplesPerPixel. Defining non-color channels as ExtraSamples.\n"
     ]
    },
    {
     "name": "stdout",
     "output_type": "stream",
     "text": [
      "File /home/cb/sis2/data/tfrecords256/00008_1317x534.tfrecord is new\n"
     ]
    },
    {
     "name": "stderr",
     "output_type": "stream",
     "text": [
      "Warning 1: TIFFReadDirectory:Sum of Photometric type-related color channels and ExtraSamples doesn't match SamplesPerPixel. Defining non-color channels as ExtraSamples.\n"
     ]
    },
    {
     "name": "stdout",
     "output_type": "stream",
     "text": [
      "File /home/cb/sis2/data/tfrecords256/00008_1317x795.tfrecord is new\n"
     ]
    },
    {
     "name": "stderr",
     "output_type": "stream",
     "text": [
      "Warning 1: TIFFReadDirectory:Sum of Photometric type-related color channels and ExtraSamples doesn't match SamplesPerPixel. Defining non-color channels as ExtraSamples.\n"
     ]
    },
    {
     "name": "stdout",
     "output_type": "stream",
     "text": [
      "File /home/cb/sis2/data/tfrecords256/00008_1317x2883.tfrecord is new\n"
     ]
    },
    {
     "name": "stderr",
     "output_type": "stream",
     "text": [
      "Warning 1: TIFFReadDirectory:Sum of Photometric type-related color channels and ExtraSamples doesn't match SamplesPerPixel. Defining non-color channels as ExtraSamples.\n"
     ]
    },
    {
     "name": "stdout",
     "output_type": "stream",
     "text": [
      "File /home/cb/sis2/data/tfrecords256/00008_1317x3144.tfrecord is new\n"
     ]
    },
    {
     "name": "stderr",
     "output_type": "stream",
     "text": [
      "Warning 1: TIFFReadDirectory:Sum of Photometric type-related color channels and ExtraSamples doesn't match SamplesPerPixel. Defining non-color channels as ExtraSamples.\n"
     ]
    },
    {
     "name": "stdout",
     "output_type": "stream",
     "text": [
      "File /home/cb/sis2/data/tfrecords256/00008_1317x3405.tfrecord is new\n"
     ]
    },
    {
     "name": "stderr",
     "output_type": "stream",
     "text": [
      "Warning 1: TIFFReadDirectory:Sum of Photometric type-related color channels and ExtraSamples doesn't match SamplesPerPixel. Defining non-color channels as ExtraSamples.\n"
     ]
    },
    {
     "name": "stdout",
     "output_type": "stream",
     "text": [
      "File /home/cb/sis2/data/tfrecords256/00008_1317x3666.tfrecord is new\n"
     ]
    },
    {
     "name": "stderr",
     "output_type": "stream",
     "text": [
      "Warning 1: TIFFReadDirectory:Sum of Photometric type-related color channels and ExtraSamples doesn't match SamplesPerPixel. Defining non-color channels as ExtraSamples.\n"
     ]
    },
    {
     "name": "stdout",
     "output_type": "stream",
     "text": [
      "File /home/cb/sis2/data/tfrecords256/00008_1317x3927.tfrecord is new\n"
     ]
    },
    {
     "name": "stderr",
     "output_type": "stream",
     "text": [
      "Warning 1: TIFFReadDirectory:Sum of Photometric type-related color channels and ExtraSamples doesn't match SamplesPerPixel. Defining non-color channels as ExtraSamples.\n"
     ]
    },
    {
     "name": "stdout",
     "output_type": "stream",
     "text": [
      "File /home/cb/sis2/data/tfrecords256/00008_1317x4188.tfrecord is new\n"
     ]
    },
    {
     "name": "stderr",
     "output_type": "stream",
     "text": [
      "Warning 1: TIFFReadDirectory:Sum of Photometric type-related color channels and ExtraSamples doesn't match SamplesPerPixel. Defining non-color channels as ExtraSamples.\n"
     ]
    },
    {
     "name": "stdout",
     "output_type": "stream",
     "text": [
      "File /home/cb/sis2/data/tfrecords256/00008_1317x4449.tfrecord is new\n"
     ]
    },
    {
     "name": "stderr",
     "output_type": "stream",
     "text": [
      "Warning 1: TIFFReadDirectory:Sum of Photometric type-related color channels and ExtraSamples doesn't match SamplesPerPixel. Defining non-color channels as ExtraSamples.\n"
     ]
    },
    {
     "name": "stdout",
     "output_type": "stream",
     "text": [
      "File /home/cb/sis2/data/tfrecords256/00008_1317x4710.tfrecord is new\n"
     ]
    },
    {
     "name": "stderr",
     "output_type": "stream",
     "text": [
      "Warning 1: TIFFReadDirectory:Sum of Photometric type-related color channels and ExtraSamples doesn't match SamplesPerPixel. Defining non-color channels as ExtraSamples.\n"
     ]
    },
    {
     "name": "stdout",
     "output_type": "stream",
     "text": [
      "File /home/cb/sis2/data/tfrecords256/00008_1578x12.tfrecord is new\n"
     ]
    },
    {
     "name": "stderr",
     "output_type": "stream",
     "text": [
      "Warning 1: TIFFReadDirectory:Sum of Photometric type-related color channels and ExtraSamples doesn't match SamplesPerPixel. Defining non-color channels as ExtraSamples.\n"
     ]
    },
    {
     "name": "stdout",
     "output_type": "stream",
     "text": [
      "File /home/cb/sis2/data/tfrecords256/00008_1578x273.tfrecord is new\n"
     ]
    },
    {
     "name": "stderr",
     "output_type": "stream",
     "text": [
      "Warning 1: TIFFReadDirectory:Sum of Photometric type-related color channels and ExtraSamples doesn't match SamplesPerPixel. Defining non-color channels as ExtraSamples.\n"
     ]
    },
    {
     "name": "stdout",
     "output_type": "stream",
     "text": [
      "File /home/cb/sis2/data/tfrecords256/00008_1578x534.tfrecord is new\n"
     ]
    },
    {
     "name": "stderr",
     "output_type": "stream",
     "text": [
      "Warning 1: TIFFReadDirectory:Sum of Photometric type-related color channels and ExtraSamples doesn't match SamplesPerPixel. Defining non-color channels as ExtraSamples.\n"
     ]
    },
    {
     "name": "stdout",
     "output_type": "stream",
     "text": [
      "File /home/cb/sis2/data/tfrecords256/00008_1578x795.tfrecord is new\n"
     ]
    },
    {
     "name": "stderr",
     "output_type": "stream",
     "text": [
      "Warning 1: TIFFReadDirectory:Sum of Photometric type-related color channels and ExtraSamples doesn't match SamplesPerPixel. Defining non-color channels as ExtraSamples.\n"
     ]
    },
    {
     "name": "stdout",
     "output_type": "stream",
     "text": [
      "File /home/cb/sis2/data/tfrecords256/00008_1578x1056.tfrecord is new\n"
     ]
    },
    {
     "name": "stderr",
     "output_type": "stream",
     "text": [
      "Warning 1: TIFFReadDirectory:Sum of Photometric type-related color channels and ExtraSamples doesn't match SamplesPerPixel. Defining non-color channels as ExtraSamples.\n"
     ]
    },
    {
     "name": "stdout",
     "output_type": "stream",
     "text": [
      "File /home/cb/sis2/data/tfrecords256/00008_1578x1317.tfrecord is new\n"
     ]
    },
    {
     "name": "stderr",
     "output_type": "stream",
     "text": [
      "Warning 1: TIFFReadDirectory:Sum of Photometric type-related color channels and ExtraSamples doesn't match SamplesPerPixel. Defining non-color channels as ExtraSamples.\n"
     ]
    },
    {
     "name": "stdout",
     "output_type": "stream",
     "text": [
      "File /home/cb/sis2/data/tfrecords256/00008_1578x2361.tfrecord is new\n"
     ]
    },
    {
     "name": "stderr",
     "output_type": "stream",
     "text": [
      "Warning 1: TIFFReadDirectory:Sum of Photometric type-related color channels and ExtraSamples doesn't match SamplesPerPixel. Defining non-color channels as ExtraSamples.\n"
     ]
    },
    {
     "name": "stdout",
     "output_type": "stream",
     "text": [
      "File /home/cb/sis2/data/tfrecords256/00008_1578x3405.tfrecord is new\n"
     ]
    },
    {
     "name": "stderr",
     "output_type": "stream",
     "text": [
      "Warning 1: TIFFReadDirectory:Sum of Photometric type-related color channels and ExtraSamples doesn't match SamplesPerPixel. Defining non-color channels as ExtraSamples.\n"
     ]
    },
    {
     "name": "stdout",
     "output_type": "stream",
     "text": [
      "File /home/cb/sis2/data/tfrecords256/00008_1578x3666.tfrecord is new\n"
     ]
    },
    {
     "name": "stderr",
     "output_type": "stream",
     "text": [
      "Warning 1: TIFFReadDirectory:Sum of Photometric type-related color channels and ExtraSamples doesn't match SamplesPerPixel. Defining non-color channels as ExtraSamples.\n"
     ]
    },
    {
     "name": "stdout",
     "output_type": "stream",
     "text": [
      "File /home/cb/sis2/data/tfrecords256/00008_1839x12.tfrecord is new\n"
     ]
    },
    {
     "name": "stderr",
     "output_type": "stream",
     "text": [
      "Warning 1: TIFFReadDirectory:Sum of Photometric type-related color channels and ExtraSamples doesn't match SamplesPerPixel. Defining non-color channels as ExtraSamples.\n"
     ]
    },
    {
     "name": "stdout",
     "output_type": "stream",
     "text": [
      "File /home/cb/sis2/data/tfrecords256/00008_1839x273.tfrecord is new\n"
     ]
    },
    {
     "name": "stderr",
     "output_type": "stream",
     "text": [
      "Warning 1: TIFFReadDirectory:Sum of Photometric type-related color channels and ExtraSamples doesn't match SamplesPerPixel. Defining non-color channels as ExtraSamples.\n"
     ]
    },
    {
     "name": "stdout",
     "output_type": "stream",
     "text": [
      "File /home/cb/sis2/data/tfrecords256/00008_1839x534.tfrecord is new\n"
     ]
    },
    {
     "name": "stderr",
     "output_type": "stream",
     "text": [
      "Warning 1: TIFFReadDirectory:Sum of Photometric type-related color channels and ExtraSamples doesn't match SamplesPerPixel. Defining non-color channels as ExtraSamples.\n"
     ]
    },
    {
     "name": "stdout",
     "output_type": "stream",
     "text": [
      "File /home/cb/sis2/data/tfrecords256/00008_1839x795.tfrecord is new\n"
     ]
    },
    {
     "name": "stderr",
     "output_type": "stream",
     "text": [
      "Warning 1: TIFFReadDirectory:Sum of Photometric type-related color channels and ExtraSamples doesn't match SamplesPerPixel. Defining non-color channels as ExtraSamples.\n"
     ]
    },
    {
     "name": "stdout",
     "output_type": "stream",
     "text": [
      "File /home/cb/sis2/data/tfrecords256/00008_1839x1056.tfrecord is new\n"
     ]
    },
    {
     "name": "stderr",
     "output_type": "stream",
     "text": [
      "Warning 1: TIFFReadDirectory:Sum of Photometric type-related color channels and ExtraSamples doesn't match SamplesPerPixel. Defining non-color channels as ExtraSamples.\n"
     ]
    },
    {
     "name": "stdout",
     "output_type": "stream",
     "text": [
      "File /home/cb/sis2/data/tfrecords256/00008_1839x1317.tfrecord is new\n"
     ]
    },
    {
     "name": "stderr",
     "output_type": "stream",
     "text": [
      "Warning 1: TIFFReadDirectory:Sum of Photometric type-related color channels and ExtraSamples doesn't match SamplesPerPixel. Defining non-color channels as ExtraSamples.\n"
     ]
    },
    {
     "name": "stdout",
     "output_type": "stream",
     "text": [
      "File /home/cb/sis2/data/tfrecords256/00008_1839x1578.tfrecord is new\n"
     ]
    },
    {
     "name": "stderr",
     "output_type": "stream",
     "text": [
      "Warning 1: TIFFReadDirectory:Sum of Photometric type-related color channels and ExtraSamples doesn't match SamplesPerPixel. Defining non-color channels as ExtraSamples.\n"
     ]
    },
    {
     "name": "stdout",
     "output_type": "stream",
     "text": [
      "File /home/cb/sis2/data/tfrecords256/00008_1839x2883.tfrecord is new\n"
     ]
    },
    {
     "name": "stderr",
     "output_type": "stream",
     "text": [
      "Warning 1: TIFFReadDirectory:Sum of Photometric type-related color channels and ExtraSamples doesn't match SamplesPerPixel. Defining non-color channels as ExtraSamples.\n"
     ]
    },
    {
     "name": "stdout",
     "output_type": "stream",
     "text": [
      "File /home/cb/sis2/data/tfrecords256/00008_2100x12.tfrecord is new\n"
     ]
    },
    {
     "name": "stderr",
     "output_type": "stream",
     "text": [
      "Warning 1: TIFFReadDirectory:Sum of Photometric type-related color channels and ExtraSamples doesn't match SamplesPerPixel. Defining non-color channels as ExtraSamples.\n"
     ]
    },
    {
     "name": "stdout",
     "output_type": "stream",
     "text": [
      "File /home/cb/sis2/data/tfrecords256/00008_2100x273.tfrecord is new\n"
     ]
    },
    {
     "name": "stderr",
     "output_type": "stream",
     "text": [
      "Warning 1: TIFFReadDirectory:Sum of Photometric type-related color channels and ExtraSamples doesn't match SamplesPerPixel. Defining non-color channels as ExtraSamples.\n"
     ]
    },
    {
     "name": "stdout",
     "output_type": "stream",
     "text": [
      "File /home/cb/sis2/data/tfrecords256/00008_2100x534.tfrecord is new\n"
     ]
    },
    {
     "name": "stderr",
     "output_type": "stream",
     "text": [
      "Warning 1: TIFFReadDirectory:Sum of Photometric type-related color channels and ExtraSamples doesn't match SamplesPerPixel. Defining non-color channels as ExtraSamples.\n"
     ]
    },
    {
     "name": "stdout",
     "output_type": "stream",
     "text": [
      "File /home/cb/sis2/data/tfrecords256/00008_2100x795.tfrecord is new\n"
     ]
    },
    {
     "name": "stderr",
     "output_type": "stream",
     "text": [
      "Warning 1: TIFFReadDirectory:Sum of Photometric type-related color channels and ExtraSamples doesn't match SamplesPerPixel. Defining non-color channels as ExtraSamples.\n"
     ]
    },
    {
     "name": "stdout",
     "output_type": "stream",
     "text": [
      "File /home/cb/sis2/data/tfrecords256/00008_2100x1056.tfrecord is new\n"
     ]
    },
    {
     "name": "stderr",
     "output_type": "stream",
     "text": [
      "Warning 1: TIFFReadDirectory:Sum of Photometric type-related color channels and ExtraSamples doesn't match SamplesPerPixel. Defining non-color channels as ExtraSamples.\n"
     ]
    },
    {
     "name": "stdout",
     "output_type": "stream",
     "text": [
      "File /home/cb/sis2/data/tfrecords256/00008_2100x1317.tfrecord is new\n"
     ]
    },
    {
     "name": "stderr",
     "output_type": "stream",
     "text": [
      "Warning 1: TIFFReadDirectory:Sum of Photometric type-related color channels and ExtraSamples doesn't match SamplesPerPixel. Defining non-color channels as ExtraSamples.\n"
     ]
    },
    {
     "name": "stdout",
     "output_type": "stream",
     "text": [
      "File /home/cb/sis2/data/tfrecords256/00008_2100x1578.tfrecord is new\n"
     ]
    },
    {
     "name": "stderr",
     "output_type": "stream",
     "text": [
      "Warning 1: TIFFReadDirectory:Sum of Photometric type-related color channels and ExtraSamples doesn't match SamplesPerPixel. Defining non-color channels as ExtraSamples.\n"
     ]
    },
    {
     "name": "stdout",
     "output_type": "stream",
     "text": [
      "File /home/cb/sis2/data/tfrecords256/00008_2361x273.tfrecord is new\n"
     ]
    },
    {
     "name": "stderr",
     "output_type": "stream",
     "text": [
      "Warning 1: TIFFReadDirectory:Sum of Photometric type-related color channels and ExtraSamples doesn't match SamplesPerPixel. Defining non-color channels as ExtraSamples.\n"
     ]
    },
    {
     "name": "stdout",
     "output_type": "stream",
     "text": [
      "File /home/cb/sis2/data/tfrecords256/00008_2361x534.tfrecord is new\n"
     ]
    },
    {
     "name": "stderr",
     "output_type": "stream",
     "text": [
      "Warning 1: TIFFReadDirectory:Sum of Photometric type-related color channels and ExtraSamples doesn't match SamplesPerPixel. Defining non-color channels as ExtraSamples.\n"
     ]
    },
    {
     "name": "stdout",
     "output_type": "stream",
     "text": [
      "File /home/cb/sis2/data/tfrecords256/00008_2361x795.tfrecord is new\n"
     ]
    },
    {
     "name": "stderr",
     "output_type": "stream",
     "text": [
      "Warning 1: TIFFReadDirectory:Sum of Photometric type-related color channels and ExtraSamples doesn't match SamplesPerPixel. Defining non-color channels as ExtraSamples.\n"
     ]
    },
    {
     "name": "stdout",
     "output_type": "stream",
     "text": [
      "File /home/cb/sis2/data/tfrecords256/00008_2361x1056.tfrecord is new\n"
     ]
    },
    {
     "name": "stderr",
     "output_type": "stream",
     "text": [
      "Warning 1: TIFFReadDirectory:Sum of Photometric type-related color channels and ExtraSamples doesn't match SamplesPerPixel. Defining non-color channels as ExtraSamples.\n"
     ]
    },
    {
     "name": "stdout",
     "output_type": "stream",
     "text": [
      "File /home/cb/sis2/data/tfrecords256/00008_2361x1317.tfrecord is new\n"
     ]
    },
    {
     "name": "stderr",
     "output_type": "stream",
     "text": [
      "Warning 1: TIFFReadDirectory:Sum of Photometric type-related color channels and ExtraSamples doesn't match SamplesPerPixel. Defining non-color channels as ExtraSamples.\n"
     ]
    },
    {
     "name": "stdout",
     "output_type": "stream",
     "text": [
      "File /home/cb/sis2/data/tfrecords256/00008_2361x1578.tfrecord is new\n"
     ]
    },
    {
     "name": "stderr",
     "output_type": "stream",
     "text": [
      "Warning 1: TIFFReadDirectory:Sum of Photometric type-related color channels and ExtraSamples doesn't match SamplesPerPixel. Defining non-color channels as ExtraSamples.\n"
     ]
    },
    {
     "name": "stdout",
     "output_type": "stream",
     "text": [
      "File /home/cb/sis2/data/tfrecords256/00008_2622x534.tfrecord is new\n"
     ]
    },
    {
     "name": "stderr",
     "output_type": "stream",
     "text": [
      "Warning 1: TIFFReadDirectory:Sum of Photometric type-related color channels and ExtraSamples doesn't match SamplesPerPixel. Defining non-color channels as ExtraSamples.\n"
     ]
    },
    {
     "name": "stdout",
     "output_type": "stream",
     "text": [
      "File /home/cb/sis2/data/tfrecords256/00008_2622x795.tfrecord is new\n"
     ]
    },
    {
     "name": "stderr",
     "output_type": "stream",
     "text": [
      "Warning 1: TIFFReadDirectory:Sum of Photometric type-related color channels and ExtraSamples doesn't match SamplesPerPixel. Defining non-color channels as ExtraSamples.\n"
     ]
    },
    {
     "name": "stdout",
     "output_type": "stream",
     "text": [
      "File /home/cb/sis2/data/tfrecords256/00008_2622x1056.tfrecord is new\n"
     ]
    },
    {
     "name": "stderr",
     "output_type": "stream",
     "text": [
      "Warning 1: TIFFReadDirectory:Sum of Photometric type-related color channels and ExtraSamples doesn't match SamplesPerPixel. Defining non-color channels as ExtraSamples.\n"
     ]
    },
    {
     "name": "stdout",
     "output_type": "stream",
     "text": [
      "File /home/cb/sis2/data/tfrecords256/00008_2622x1317.tfrecord is new\n"
     ]
    },
    {
     "name": "stderr",
     "output_type": "stream",
     "text": [
      "Warning 1: TIFFReadDirectory:Sum of Photometric type-related color channels and ExtraSamples doesn't match SamplesPerPixel. Defining non-color channels as ExtraSamples.\n"
     ]
    },
    {
     "name": "stdout",
     "output_type": "stream",
     "text": [
      "File /home/cb/sis2/data/tfrecords256/00008_2622x1578.tfrecord is new\n"
     ]
    },
    {
     "name": "stderr",
     "output_type": "stream",
     "text": [
      "Warning 1: TIFFReadDirectory:Sum of Photometric type-related color channels and ExtraSamples doesn't match SamplesPerPixel. Defining non-color channels as ExtraSamples.\n"
     ]
    },
    {
     "name": "stdout",
     "output_type": "stream",
     "text": [
      "File /home/cb/sis2/data/tfrecords256/00008_2883x534.tfrecord is new\n"
     ]
    },
    {
     "name": "stderr",
     "output_type": "stream",
     "text": [
      "Warning 1: TIFFReadDirectory:Sum of Photometric type-related color channels and ExtraSamples doesn't match SamplesPerPixel. Defining non-color channels as ExtraSamples.\n"
     ]
    },
    {
     "name": "stdout",
     "output_type": "stream",
     "text": [
      "File /home/cb/sis2/data/tfrecords256/00008_2883x795.tfrecord is new\n"
     ]
    },
    {
     "name": "stderr",
     "output_type": "stream",
     "text": [
      "Warning 1: TIFFReadDirectory:Sum of Photometric type-related color channels and ExtraSamples doesn't match SamplesPerPixel. Defining non-color channels as ExtraSamples.\n"
     ]
    },
    {
     "name": "stdout",
     "output_type": "stream",
     "text": [
      "File /home/cb/sis2/data/tfrecords256/00008_2883x1056.tfrecord is new\n"
     ]
    },
    {
     "name": "stderr",
     "output_type": "stream",
     "text": [
      "Warning 1: TIFFReadDirectory:Sum of Photometric type-related color channels and ExtraSamples doesn't match SamplesPerPixel. Defining non-color channels as ExtraSamples.\n"
     ]
    },
    {
     "name": "stdout",
     "output_type": "stream",
     "text": [
      "File /home/cb/sis2/data/tfrecords256/00008_2883x1317.tfrecord is new\n"
     ]
    },
    {
     "name": "stderr",
     "output_type": "stream",
     "text": [
      "Warning 1: TIFFReadDirectory:Sum of Photometric type-related color channels and ExtraSamples doesn't match SamplesPerPixel. Defining non-color channels as ExtraSamples.\n"
     ]
    },
    {
     "name": "stdout",
     "output_type": "stream",
     "text": [
      "File /home/cb/sis2/data/tfrecords256/00008_2883x1578.tfrecord is new\n"
     ]
    },
    {
     "name": "stderr",
     "output_type": "stream",
     "text": [
      "Warning 1: TIFFReadDirectory:Sum of Photometric type-related color channels and ExtraSamples doesn't match SamplesPerPixel. Defining non-color channels as ExtraSamples.\n"
     ]
    },
    {
     "name": "stdout",
     "output_type": "stream",
     "text": [
      "File /home/cb/sis2/data/tfrecords256/00008_3144x1317.tfrecord is new\n"
     ]
    },
    {
     "name": "stderr",
     "output_type": "stream",
     "text": [
      "Warning 1: TIFFReadDirectory:Sum of Photometric type-related color channels and ExtraSamples doesn't match SamplesPerPixel. Defining non-color channels as ExtraSamples.\n"
     ]
    },
    {
     "name": "stdout",
     "output_type": "stream",
     "text": [
      "File /home/cb/sis2/data/tfrecords256/00008_3144x1578.tfrecord is new\n"
     ]
    },
    {
     "name": "stderr",
     "output_type": "stream",
     "text": [
      "Warning 1: TIFFReadDirectory:Sum of Photometric type-related color channels and ExtraSamples doesn't match SamplesPerPixel. Defining non-color channels as ExtraSamples.\n"
     ]
    },
    {
     "name": "stdout",
     "output_type": "stream",
     "text": [
      "File /home/cb/sis2/data/tfrecords256/00008_3405x795.tfrecord is new\n"
     ]
    },
    {
     "name": "stderr",
     "output_type": "stream",
     "text": [
      "Warning 1: TIFFReadDirectory:Sum of Photometric type-related color channels and ExtraSamples doesn't match SamplesPerPixel. Defining non-color channels as ExtraSamples.\n"
     ]
    },
    {
     "name": "stdout",
     "output_type": "stream",
     "text": [
      "File /home/cb/sis2/data/tfrecords256/00008_3405x1317.tfrecord is new\n"
     ]
    },
    {
     "name": "stderr",
     "output_type": "stream",
     "text": [
      "Warning 1: TIFFReadDirectory:Sum of Photometric type-related color channels and ExtraSamples doesn't match SamplesPerPixel. Defining non-color channels as ExtraSamples.\n"
     ]
    },
    {
     "name": "stdout",
     "output_type": "stream",
     "text": [
      "File /home/cb/sis2/data/tfrecords256/00008_3405x1578.tfrecord is new\n"
     ]
    },
    {
     "name": "stderr",
     "output_type": "stream",
     "text": [
      "Warning 1: TIFFReadDirectory:Sum of Photometric type-related color channels and ExtraSamples doesn't match SamplesPerPixel. Defining non-color channels as ExtraSamples.\n"
     ]
    },
    {
     "name": "stdout",
     "output_type": "stream",
     "text": [
      "File /home/cb/sis2/data/tfrecords256/00008_3405x1839.tfrecord is new\n"
     ]
    },
    {
     "name": "stderr",
     "output_type": "stream",
     "text": [
      "Warning 1: TIFFReadDirectory:Sum of Photometric type-related color channels and ExtraSamples doesn't match SamplesPerPixel. Defining non-color channels as ExtraSamples.\n"
     ]
    },
    {
     "name": "stdout",
     "output_type": "stream",
     "text": [
      "File /home/cb/sis2/data/tfrecords256/00008_3666x1317.tfrecord is new\n"
     ]
    },
    {
     "name": "stderr",
     "output_type": "stream",
     "text": [
      "Warning 1: TIFFReadDirectory:Sum of Photometric type-related color channels and ExtraSamples doesn't match SamplesPerPixel. Defining non-color channels as ExtraSamples.\n"
     ]
    },
    {
     "name": "stdout",
     "output_type": "stream",
     "text": [
      "File /home/cb/sis2/data/tfrecords256/00008_3666x1578.tfrecord is new\n"
     ]
    },
    {
     "name": "stderr",
     "output_type": "stream",
     "text": [
      "Warning 1: TIFFReadDirectory:Sum of Photometric type-related color channels and ExtraSamples doesn't match SamplesPerPixel. Defining non-color channels as ExtraSamples.\n"
     ]
    },
    {
     "name": "stdout",
     "output_type": "stream",
     "text": [
      "File /home/cb/sis2/data/tfrecords256/00008_3666x1839.tfrecord is new\n"
     ]
    },
    {
     "name": "stderr",
     "output_type": "stream",
     "text": [
      "Warning 1: TIFFReadDirectory:Sum of Photometric type-related color channels and ExtraSamples doesn't match SamplesPerPixel. Defining non-color channels as ExtraSamples.\n"
     ]
    },
    {
     "name": "stdout",
     "output_type": "stream",
     "text": [
      "File /home/cb/sis2/data/tfrecords256/00008_3666x2100.tfrecord is new\n"
     ]
    },
    {
     "name": "stderr",
     "output_type": "stream",
     "text": [
      "Warning 1: TIFFReadDirectory:Sum of Photometric type-related color channels and ExtraSamples doesn't match SamplesPerPixel. Defining non-color channels as ExtraSamples.\n"
     ]
    },
    {
     "name": "stdout",
     "output_type": "stream",
     "text": [
      "File /home/cb/sis2/data/tfrecords256/00008_3927x1056.tfrecord is new\n"
     ]
    },
    {
     "name": "stderr",
     "output_type": "stream",
     "text": [
      "Warning 1: TIFFReadDirectory:Sum of Photometric type-related color channels and ExtraSamples doesn't match SamplesPerPixel. Defining non-color channels as ExtraSamples.\n"
     ]
    },
    {
     "name": "stdout",
     "output_type": "stream",
     "text": [
      "File /home/cb/sis2/data/tfrecords256/00008_3927x1317.tfrecord is new\n"
     ]
    },
    {
     "name": "stderr",
     "output_type": "stream",
     "text": [
      "Warning 1: TIFFReadDirectory:Sum of Photometric type-related color channels and ExtraSamples doesn't match SamplesPerPixel. Defining non-color channels as ExtraSamples.\n"
     ]
    },
    {
     "name": "stdout",
     "output_type": "stream",
     "text": [
      "File /home/cb/sis2/data/tfrecords256/00008_3927x1578.tfrecord is new\n"
     ]
    },
    {
     "name": "stderr",
     "output_type": "stream",
     "text": [
      "Warning 1: TIFFReadDirectory:Sum of Photometric type-related color channels and ExtraSamples doesn't match SamplesPerPixel. Defining non-color channels as ExtraSamples.\n"
     ]
    },
    {
     "name": "stdout",
     "output_type": "stream",
     "text": [
      "File /home/cb/sis2/data/tfrecords256/00008_3927x1839.tfrecord is new\n"
     ]
    },
    {
     "name": "stderr",
     "output_type": "stream",
     "text": [
      "Warning 1: TIFFReadDirectory:Sum of Photometric type-related color channels and ExtraSamples doesn't match SamplesPerPixel. Defining non-color channels as ExtraSamples.\n"
     ]
    },
    {
     "name": "stdout",
     "output_type": "stream",
     "text": [
      "File /home/cb/sis2/data/tfrecords256/00008_3927x2100.tfrecord is new\n"
     ]
    },
    {
     "name": "stderr",
     "output_type": "stream",
     "text": [
      "Warning 1: TIFFReadDirectory:Sum of Photometric type-related color channels and ExtraSamples doesn't match SamplesPerPixel. Defining non-color channels as ExtraSamples.\n"
     ]
    },
    {
     "name": "stdout",
     "output_type": "stream",
     "text": [
      "File /home/cb/sis2/data/tfrecords256/00008_4188x1317.tfrecord is new\n"
     ]
    },
    {
     "name": "stderr",
     "output_type": "stream",
     "text": [
      "Warning 1: TIFFReadDirectory:Sum of Photometric type-related color channels and ExtraSamples doesn't match SamplesPerPixel. Defining non-color channels as ExtraSamples.\n"
     ]
    },
    {
     "name": "stdout",
     "output_type": "stream",
     "text": [
      "File /home/cb/sis2/data/tfrecords256/00008_4188x1578.tfrecord is new\n"
     ]
    },
    {
     "name": "stderr",
     "output_type": "stream",
     "text": [
      "Warning 1: TIFFReadDirectory:Sum of Photometric type-related color channels and ExtraSamples doesn't match SamplesPerPixel. Defining non-color channels as ExtraSamples.\n"
     ]
    },
    {
     "name": "stdout",
     "output_type": "stream",
     "text": [
      "File /home/cb/sis2/data/tfrecords256/00008_4449x1317.tfrecord is new\n"
     ]
    },
    {
     "name": "stderr",
     "output_type": "stream",
     "text": [
      "Warning 1: TIFFReadDirectory:Sum of Photometric type-related color channels and ExtraSamples doesn't match SamplesPerPixel. Defining non-color channels as ExtraSamples.\n"
     ]
    },
    {
     "name": "stdout",
     "output_type": "stream",
     "text": [
      "File /home/cb/sis2/data/tfrecords256/00008_4449x1578.tfrecord is new\n"
     ]
    },
    {
     "name": "stderr",
     "output_type": "stream",
     "text": [
      "Warning 1: TIFFReadDirectory:Sum of Photometric type-related color channels and ExtraSamples doesn't match SamplesPerPixel. Defining non-color channels as ExtraSamples.\n"
     ]
    },
    {
     "name": "stdout",
     "output_type": "stream",
     "text": [
      "File /home/cb/sis2/data/tfrecords256/00008_4449x2883.tfrecord is new\n"
     ]
    },
    {
     "name": "stderr",
     "output_type": "stream",
     "text": [
      "Warning 1: TIFFReadDirectory:Sum of Photometric type-related color channels and ExtraSamples doesn't match SamplesPerPixel. Defining non-color channels as ExtraSamples.\n"
     ]
    },
    {
     "name": "stdout",
     "output_type": "stream",
     "text": [
      "File /home/cb/sis2/data/tfrecords256/00008_4449x3405.tfrecord is new\n"
     ]
    },
    {
     "name": "stderr",
     "output_type": "stream",
     "text": [
      "Warning 1: TIFFReadDirectory:Sum of Photometric type-related color channels and ExtraSamples doesn't match SamplesPerPixel. Defining non-color channels as ExtraSamples.\n"
     ]
    },
    {
     "name": "stdout",
     "output_type": "stream",
     "text": [
      "File /home/cb/sis2/data/tfrecords256/00008_4710x1578.tfrecord is new\n"
     ]
    },
    {
     "name": "stderr",
     "output_type": "stream",
     "text": [
      "Warning 1: TIFFReadDirectory:Sum of Photometric type-related color channels and ExtraSamples doesn't match SamplesPerPixel. Defining non-color channels as ExtraSamples.\n"
     ]
    },
    {
     "name": "stdout",
     "output_type": "stream",
     "text": [
      "File /home/cb/sis2/data/tfrecords256/00008_4710x2622.tfrecord is new\n"
     ]
    },
    {
     "name": "stderr",
     "output_type": "stream",
     "text": [
      "Warning 1: TIFFReadDirectory:Sum of Photometric type-related color channels and ExtraSamples doesn't match SamplesPerPixel. Defining non-color channels as ExtraSamples.\n"
     ]
    },
    {
     "name": "stdout",
     "output_type": "stream",
     "text": [
      "File /home/cb/sis2/data/tfrecords256/00008_4710x2883.tfrecord is new\n"
     ]
    },
    {
     "name": "stderr",
     "output_type": "stream",
     "text": [
      "Warning 1: TIFFReadDirectory:Sum of Photometric type-related color channels and ExtraSamples doesn't match SamplesPerPixel. Defining non-color channels as ExtraSamples.\n"
     ]
    },
    {
     "name": "stdout",
     "output_type": "stream",
     "text": [
      "File /home/cb/sis2/data/tfrecords256/00008_4971x1839.tfrecord is new\n"
     ]
    },
    {
     "name": "stderr",
     "output_type": "stream",
     "text": [
      "Warning 1: TIFFReadDirectory:Sum of Photometric type-related color channels and ExtraSamples doesn't match SamplesPerPixel. Defining non-color channels as ExtraSamples.\n"
     ]
    },
    {
     "name": "stdout",
     "output_type": "stream",
     "text": [
      "File /home/cb/sis2/data/tfrecords256/00008_4971x2100.tfrecord is new\n"
     ]
    },
    {
     "name": "stderr",
     "output_type": "stream",
     "text": [
      "Warning 1: TIFFReadDirectory:Sum of Photometric type-related color channels and ExtraSamples doesn't match SamplesPerPixel. Defining non-color channels as ExtraSamples.\n"
     ]
    },
    {
     "name": "stdout",
     "output_type": "stream",
     "text": [
      "File /home/cb/sis2/data/tfrecords256/00008_4971x2361.tfrecord is new\n"
     ]
    },
    {
     "name": "stderr",
     "output_type": "stream",
     "text": [
      "Warning 1: TIFFReadDirectory:Sum of Photometric type-related color channels and ExtraSamples doesn't match SamplesPerPixel. Defining non-color channels as ExtraSamples.\n"
     ]
    },
    {
     "name": "stdout",
     "output_type": "stream",
     "text": [
      "File /home/cb/sis2/data/tfrecords256/00008_4971x2622.tfrecord is new\n"
     ]
    },
    {
     "name": "stderr",
     "output_type": "stream",
     "text": [
      "Warning 1: TIFFReadDirectory:Sum of Photometric type-related color channels and ExtraSamples doesn't match SamplesPerPixel. Defining non-color channels as ExtraSamples.\n"
     ]
    },
    {
     "name": "stdout",
     "output_type": "stream",
     "text": [
      "File /home/cb/sis2/data/tfrecords256/00008_5232x1839.tfrecord is new\n"
     ]
    },
    {
     "name": "stderr",
     "output_type": "stream",
     "text": [
      "Warning 1: TIFFReadDirectory:Sum of Photometric type-related color channels and ExtraSamples doesn't match SamplesPerPixel. Defining non-color channels as ExtraSamples.\n"
     ]
    },
    {
     "name": "stdout",
     "output_type": "stream",
     "text": [
      "File /home/cb/sis2/data/tfrecords256/00008_5232x2100.tfrecord is new\n"
     ]
    },
    {
     "name": "stderr",
     "output_type": "stream",
     "text": [
      "Warning 1: TIFFReadDirectory:Sum of Photometric type-related color channels and ExtraSamples doesn't match SamplesPerPixel. Defining non-color channels as ExtraSamples.\n"
     ]
    },
    {
     "name": "stdout",
     "output_type": "stream",
     "text": [
      "File /home/cb/sis2/data/tfrecords256/00008_5232x2361.tfrecord is new\n"
     ]
    },
    {
     "name": "stderr",
     "output_type": "stream",
     "text": [
      "Warning 1: TIFFReadDirectory:Sum of Photometric type-related color channels and ExtraSamples doesn't match SamplesPerPixel. Defining non-color channels as ExtraSamples.\n"
     ]
    },
    {
     "name": "stdout",
     "output_type": "stream",
     "text": [
      "File /home/cb/sis2/data/tfrecords256/00008_5232x2622.tfrecord is new\n"
     ]
    },
    {
     "name": "stderr",
     "output_type": "stream",
     "text": [
      "Warning 1: TIFFReadDirectory:Sum of Photometric type-related color channels and ExtraSamples doesn't match SamplesPerPixel. Defining non-color channels as ExtraSamples.\n"
     ]
    },
    {
     "name": "stdout",
     "output_type": "stream",
     "text": [
      "File /home/cb/sis2/data/tfrecords256/00008_6276x5232.tfrecord is new\n"
     ]
    },
    {
     "name": "stderr",
     "output_type": "stream",
     "text": [
      "Warning 1: TIFFReadDirectory:Sum of Photometric type-related color channels and ExtraSamples doesn't match SamplesPerPixel. Defining non-color channels as ExtraSamples.\n"
     ]
    },
    {
     "name": "stdout",
     "output_type": "stream",
     "text": [
      "File /home/cb/sis2/data/tfrecords256/00008_6537x4971.tfrecord is new\n"
     ]
    },
    {
     "name": "stderr",
     "output_type": "stream",
     "text": [
      "Warning 1: TIFFReadDirectory:Sum of Photometric type-related color channels and ExtraSamples doesn't match SamplesPerPixel. Defining non-color channels as ExtraSamples.\n"
     ]
    },
    {
     "name": "stdout",
     "output_type": "stream",
     "text": [
      "File /home/cb/sis2/data/tfrecords256/00008_6537x5232.tfrecord is new\n"
     ]
    },
    {
     "name": "stderr",
     "output_type": "stream",
     "text": [
      "Warning 1: TIFFReadDirectory:Sum of Photometric type-related color channels and ExtraSamples doesn't match SamplesPerPixel. Defining non-color channels as ExtraSamples.\n"
     ]
    },
    {
     "name": "stdout",
     "output_type": "stream",
     "text": [
      "File /home/cb/sis2/data/tfrecords256/00008_6537x8103.tfrecord is new\n"
     ]
    },
    {
     "name": "stderr",
     "output_type": "stream",
     "text": [
      "Warning 1: TIFFReadDirectory:Sum of Photometric type-related color channels and ExtraSamples doesn't match SamplesPerPixel. Defining non-color channels as ExtraSamples.\n"
     ]
    },
    {
     "name": "stdout",
     "output_type": "stream",
     "text": [
      "File /home/cb/sis2/data/tfrecords256/00008_6798x4971.tfrecord is new\n"
     ]
    },
    {
     "name": "stderr",
     "output_type": "stream",
     "text": [
      "Warning 1: TIFFReadDirectory:Sum of Photometric type-related color channels and ExtraSamples doesn't match SamplesPerPixel. Defining non-color channels as ExtraSamples.\n"
     ]
    },
    {
     "name": "stdout",
     "output_type": "stream",
     "text": [
      "File /home/cb/sis2/data/tfrecords256/00008_6798x5232.tfrecord is new\n"
     ]
    },
    {
     "name": "stderr",
     "output_type": "stream",
     "text": [
      "Warning 1: TIFFReadDirectory:Sum of Photometric type-related color channels and ExtraSamples doesn't match SamplesPerPixel. Defining non-color channels as ExtraSamples.\n"
     ]
    },
    {
     "name": "stdout",
     "output_type": "stream",
     "text": [
      "File /home/cb/sis2/data/tfrecords256/00008_6798x6798.tfrecord is new\n"
     ]
    },
    {
     "name": "stderr",
     "output_type": "stream",
     "text": [
      "Warning 1: TIFFReadDirectory:Sum of Photometric type-related color channels and ExtraSamples doesn't match SamplesPerPixel. Defining non-color channels as ExtraSamples.\n"
     ]
    },
    {
     "name": "stdout",
     "output_type": "stream",
     "text": [
      "File /home/cb/sis2/data/tfrecords256/00008_6798x8103.tfrecord is new\n"
     ]
    },
    {
     "name": "stderr",
     "output_type": "stream",
     "text": [
      "Warning 1: TIFFReadDirectory:Sum of Photometric type-related color channels and ExtraSamples doesn't match SamplesPerPixel. Defining non-color channels as ExtraSamples.\n"
     ]
    },
    {
     "name": "stdout",
     "output_type": "stream",
     "text": [
      "File /home/cb/sis2/data/tfrecords256/00008_7059x4971.tfrecord is new\n"
     ]
    },
    {
     "name": "stderr",
     "output_type": "stream",
     "text": [
      "Warning 1: TIFFReadDirectory:Sum of Photometric type-related color channels and ExtraSamples doesn't match SamplesPerPixel. Defining non-color channels as ExtraSamples.\n"
     ]
    },
    {
     "name": "stdout",
     "output_type": "stream",
     "text": [
      "File /home/cb/sis2/data/tfrecords256/00008_7059x5232.tfrecord is new\n"
     ]
    },
    {
     "name": "stderr",
     "output_type": "stream",
     "text": [
      "Warning 1: TIFFReadDirectory:Sum of Photometric type-related color channels and ExtraSamples doesn't match SamplesPerPixel. Defining non-color channels as ExtraSamples.\n"
     ]
    },
    {
     "name": "stdout",
     "output_type": "stream",
     "text": [
      "File /home/cb/sis2/data/tfrecords256/00008_7059x8103.tfrecord is new\n"
     ]
    },
    {
     "name": "stderr",
     "output_type": "stream",
     "text": [
      "Warning 1: TIFFReadDirectory:Sum of Photometric type-related color channels and ExtraSamples doesn't match SamplesPerPixel. Defining non-color channels as ExtraSamples.\n"
     ]
    },
    {
     "name": "stdout",
     "output_type": "stream",
     "text": [
      "File /home/cb/sis2/data/tfrecords256/00008_7320x4971.tfrecord is new\n"
     ]
    },
    {
     "name": "stderr",
     "output_type": "stream",
     "text": [
      "Warning 1: TIFFReadDirectory:Sum of Photometric type-related color channels and ExtraSamples doesn't match SamplesPerPixel. Defining non-color channels as ExtraSamples.\n"
     ]
    },
    {
     "name": "stdout",
     "output_type": "stream",
     "text": [
      "File /home/cb/sis2/data/tfrecords256/00008_7320x8103.tfrecord is new\n"
     ]
    },
    {
     "name": "stderr",
     "output_type": "stream",
     "text": [
      "Warning 1: TIFFReadDirectory:Sum of Photometric type-related color channels and ExtraSamples doesn't match SamplesPerPixel. Defining non-color channels as ExtraSamples.\n"
     ]
    },
    {
     "name": "stdout",
     "output_type": "stream",
     "text": [
      "File /home/cb/sis2/data/tfrecords256/00008_7320x8364.tfrecord is new\n"
     ]
    },
    {
     "name": "stderr",
     "output_type": "stream",
     "text": [
      "Warning 1: TIFFReadDirectory:Sum of Photometric type-related color channels and ExtraSamples doesn't match SamplesPerPixel. Defining non-color channels as ExtraSamples.\n"
     ]
    },
    {
     "name": "stdout",
     "output_type": "stream",
     "text": [
      "File /home/cb/sis2/data/tfrecords256/00008_7320x8625.tfrecord is new\n"
     ]
    },
    {
     "name": "stderr",
     "output_type": "stream",
     "text": [
      "Warning 1: TIFFReadDirectory:Sum of Photometric type-related color channels and ExtraSamples doesn't match SamplesPerPixel. Defining non-color channels as ExtraSamples.\n"
     ]
    },
    {
     "name": "stdout",
     "output_type": "stream",
     "text": [
      "File /home/cb/sis2/data/tfrecords256/00008_7320x9408.tfrecord is new\n"
     ]
    },
    {
     "name": "stderr",
     "output_type": "stream",
     "text": [
      "Warning 1: TIFFReadDirectory:Sum of Photometric type-related color channels and ExtraSamples doesn't match SamplesPerPixel. Defining non-color channels as ExtraSamples.\n"
     ]
    },
    {
     "name": "stdout",
     "output_type": "stream",
     "text": [
      "File /home/cb/sis2/data/tfrecords256/00008_7581x3405.tfrecord is new\n"
     ]
    },
    {
     "name": "stderr",
     "output_type": "stream",
     "text": [
      "Warning 1: TIFFReadDirectory:Sum of Photometric type-related color channels and ExtraSamples doesn't match SamplesPerPixel. Defining non-color channels as ExtraSamples.\n"
     ]
    },
    {
     "name": "stdout",
     "output_type": "stream",
     "text": [
      "File /home/cb/sis2/data/tfrecords256/00008_7581x3666.tfrecord is new\n"
     ]
    },
    {
     "name": "stderr",
     "output_type": "stream",
     "text": [
      "Warning 1: TIFFReadDirectory:Sum of Photometric type-related color channels and ExtraSamples doesn't match SamplesPerPixel. Defining non-color channels as ExtraSamples.\n"
     ]
    },
    {
     "name": "stdout",
     "output_type": "stream",
     "text": [
      "File /home/cb/sis2/data/tfrecords256/00008_7581x4188.tfrecord is new\n"
     ]
    },
    {
     "name": "stderr",
     "output_type": "stream",
     "text": [
      "Warning 1: TIFFReadDirectory:Sum of Photometric type-related color channels and ExtraSamples doesn't match SamplesPerPixel. Defining non-color channels as ExtraSamples.\n"
     ]
    },
    {
     "name": "stdout",
     "output_type": "stream",
     "text": [
      "File /home/cb/sis2/data/tfrecords256/00008_7581x4449.tfrecord is new\n"
     ]
    },
    {
     "name": "stderr",
     "output_type": "stream",
     "text": [
      "Warning 1: TIFFReadDirectory:Sum of Photometric type-related color channels and ExtraSamples doesn't match SamplesPerPixel. Defining non-color channels as ExtraSamples.\n"
     ]
    },
    {
     "name": "stdout",
     "output_type": "stream",
     "text": [
      "File /home/cb/sis2/data/tfrecords256/00008_7581x4971.tfrecord is new\n"
     ]
    },
    {
     "name": "stderr",
     "output_type": "stream",
     "text": [
      "Warning 1: TIFFReadDirectory:Sum of Photometric type-related color channels and ExtraSamples doesn't match SamplesPerPixel. Defining non-color channels as ExtraSamples.\n"
     ]
    },
    {
     "name": "stdout",
     "output_type": "stream",
     "text": [
      "File /home/cb/sis2/data/tfrecords256/00008_7581x5232.tfrecord is new\n"
     ]
    },
    {
     "name": "stderr",
     "output_type": "stream",
     "text": [
      "Warning 1: TIFFReadDirectory:Sum of Photometric type-related color channels and ExtraSamples doesn't match SamplesPerPixel. Defining non-color channels as ExtraSamples.\n"
     ]
    },
    {
     "name": "stdout",
     "output_type": "stream",
     "text": [
      "File /home/cb/sis2/data/tfrecords256/00008_7581x8886.tfrecord is new\n"
     ]
    },
    {
     "name": "stderr",
     "output_type": "stream",
     "text": [
      "Warning 1: TIFFReadDirectory:Sum of Photometric type-related color channels and ExtraSamples doesn't match SamplesPerPixel. Defining non-color channels as ExtraSamples.\n"
     ]
    },
    {
     "name": "stdout",
     "output_type": "stream",
     "text": [
      "File /home/cb/sis2/data/tfrecords256/00008_7581x9669.tfrecord is new\n"
     ]
    },
    {
     "name": "stderr",
     "output_type": "stream",
     "text": [
      "Warning 1: TIFFReadDirectory:Sum of Photometric type-related color channels and ExtraSamples doesn't match SamplesPerPixel. Defining non-color channels as ExtraSamples.\n"
     ]
    },
    {
     "name": "stdout",
     "output_type": "stream",
     "text": [
      "File /home/cb/sis2/data/tfrecords256/00008_7842x3666.tfrecord is new\n"
     ]
    },
    {
     "name": "stderr",
     "output_type": "stream",
     "text": [
      "Warning 1: TIFFReadDirectory:Sum of Photometric type-related color channels and ExtraSamples doesn't match SamplesPerPixel. Defining non-color channels as ExtraSamples.\n"
     ]
    },
    {
     "name": "stdout",
     "output_type": "stream",
     "text": [
      "File /home/cb/sis2/data/tfrecords256/00008_7842x4710.tfrecord is new\n"
     ]
    },
    {
     "name": "stderr",
     "output_type": "stream",
     "text": [
      "Warning 1: TIFFReadDirectory:Sum of Photometric type-related color channels and ExtraSamples doesn't match SamplesPerPixel. Defining non-color channels as ExtraSamples.\n"
     ]
    },
    {
     "name": "stdout",
     "output_type": "stream",
     "text": [
      "File /home/cb/sis2/data/tfrecords256/00008_7842x7842.tfrecord is new\n"
     ]
    },
    {
     "name": "stderr",
     "output_type": "stream",
     "text": [
      "Warning 1: TIFFReadDirectory:Sum of Photometric type-related color channels and ExtraSamples doesn't match SamplesPerPixel. Defining non-color channels as ExtraSamples.\n"
     ]
    },
    {
     "name": "stdout",
     "output_type": "stream",
     "text": [
      "File /home/cb/sis2/data/tfrecords256/00008_7842x8886.tfrecord is new\n"
     ]
    },
    {
     "name": "stderr",
     "output_type": "stream",
     "text": [
      "Warning 1: TIFFReadDirectory:Sum of Photometric type-related color channels and ExtraSamples doesn't match SamplesPerPixel. Defining non-color channels as ExtraSamples.\n"
     ]
    },
    {
     "name": "stdout",
     "output_type": "stream",
     "text": [
      "File /home/cb/sis2/data/tfrecords256/00008_7842x9147.tfrecord is new\n"
     ]
    },
    {
     "name": "stderr",
     "output_type": "stream",
     "text": [
      "Warning 1: TIFFReadDirectory:Sum of Photometric type-related color channels and ExtraSamples doesn't match SamplesPerPixel. Defining non-color channels as ExtraSamples.\n"
     ]
    },
    {
     "name": "stdout",
     "output_type": "stream",
     "text": [
      "File /home/cb/sis2/data/tfrecords256/00008_7842x9408.tfrecord is new\n"
     ]
    },
    {
     "name": "stderr",
     "output_type": "stream",
     "text": [
      "Warning 1: TIFFReadDirectory:Sum of Photometric type-related color channels and ExtraSamples doesn't match SamplesPerPixel. Defining non-color channels as ExtraSamples.\n"
     ]
    },
    {
     "name": "stdout",
     "output_type": "stream",
     "text": [
      "File /home/cb/sis2/data/tfrecords256/00008_7842x9669.tfrecord is new\n"
     ]
    },
    {
     "name": "stderr",
     "output_type": "stream",
     "text": [
      "Warning 1: TIFFReadDirectory:Sum of Photometric type-related color channels and ExtraSamples doesn't match SamplesPerPixel. Defining non-color channels as ExtraSamples.\n"
     ]
    },
    {
     "name": "stdout",
     "output_type": "stream",
     "text": [
      "File /home/cb/sis2/data/tfrecords256/00008_8103x3666.tfrecord is new\n"
     ]
    },
    {
     "name": "stderr",
     "output_type": "stream",
     "text": [
      "Warning 1: TIFFReadDirectory:Sum of Photometric type-related color channels and ExtraSamples doesn't match SamplesPerPixel. Defining non-color channels as ExtraSamples.\n"
     ]
    },
    {
     "name": "stdout",
     "output_type": "stream",
     "text": [
      "File /home/cb/sis2/data/tfrecords256/00008_8103x3927.tfrecord is new\n"
     ]
    },
    {
     "name": "stderr",
     "output_type": "stream",
     "text": [
      "Warning 1: TIFFReadDirectory:Sum of Photometric type-related color channels and ExtraSamples doesn't match SamplesPerPixel. Defining non-color channels as ExtraSamples.\n"
     ]
    },
    {
     "name": "stdout",
     "output_type": "stream",
     "text": [
      "File /home/cb/sis2/data/tfrecords256/00008_8103x8886.tfrecord is new\n"
     ]
    },
    {
     "name": "stderr",
     "output_type": "stream",
     "text": [
      "Warning 1: TIFFReadDirectory:Sum of Photometric type-related color channels and ExtraSamples doesn't match SamplesPerPixel. Defining non-color channels as ExtraSamples.\n"
     ]
    },
    {
     "name": "stdout",
     "output_type": "stream",
     "text": [
      "File /home/cb/sis2/data/tfrecords256/00008_8364x4971.tfrecord is new\n"
     ]
    },
    {
     "name": "stderr",
     "output_type": "stream",
     "text": [
      "Warning 1: TIFFReadDirectory:Sum of Photometric type-related color channels and ExtraSamples doesn't match SamplesPerPixel. Defining non-color channels as ExtraSamples.\n"
     ]
    },
    {
     "name": "stdout",
     "output_type": "stream",
     "text": [
      "File /home/cb/sis2/data/tfrecords256/00008_8364x8625.tfrecord is new\n"
     ]
    },
    {
     "name": "stderr",
     "output_type": "stream",
     "text": [
      "Warning 1: TIFFReadDirectory:Sum of Photometric type-related color channels and ExtraSamples doesn't match SamplesPerPixel. Defining non-color channels as ExtraSamples.\n"
     ]
    },
    {
     "name": "stdout",
     "output_type": "stream",
     "text": [
      "File /home/cb/sis2/data/tfrecords256/00008_8886x4188.tfrecord is new\n"
     ]
    },
    {
     "name": "stderr",
     "output_type": "stream",
     "text": [
      "Warning 1: TIFFReadDirectory:Sum of Photometric type-related color channels and ExtraSamples doesn't match SamplesPerPixel. Defining non-color channels as ExtraSamples.\n"
     ]
    },
    {
     "name": "stdout",
     "output_type": "stream",
     "text": [
      "File /home/cb/sis2/data/tfrecords256/00008_8886x6276.tfrecord is new\n"
     ]
    },
    {
     "name": "stderr",
     "output_type": "stream",
     "text": [
      "Warning 1: TIFFReadDirectory:Sum of Photometric type-related color channels and ExtraSamples doesn't match SamplesPerPixel. Defining non-color channels as ExtraSamples.\n"
     ]
    },
    {
     "name": "stdout",
     "output_type": "stream",
     "text": [
      "File /home/cb/sis2/data/tfrecords256/00008_9147x4971.tfrecord is new\n"
     ]
    },
    {
     "name": "stderr",
     "output_type": "stream",
     "text": [
      "Warning 1: TIFFReadDirectory:Sum of Photometric type-related color channels and ExtraSamples doesn't match SamplesPerPixel. Defining non-color channels as ExtraSamples.\n"
     ]
    },
    {
     "name": "stdout",
     "output_type": "stream",
     "text": [
      "File /home/cb/sis2/data/tfrecords256/00008_9147x6015.tfrecord is new\n"
     ]
    },
    {
     "name": "stderr",
     "output_type": "stream",
     "text": [
      "Warning 1: TIFFReadDirectory:Sum of Photometric type-related color channels and ExtraSamples doesn't match SamplesPerPixel. Defining non-color channels as ExtraSamples.\n"
     ]
    },
    {
     "name": "stdout",
     "output_type": "stream",
     "text": [
      "File /home/cb/sis2/data/tfrecords256/00008_9408x4971.tfrecord is new\n"
     ]
    },
    {
     "name": "stderr",
     "output_type": "stream",
     "text": [
      "Warning 1: TIFFReadDirectory:Sum of Photometric type-related color channels and ExtraSamples doesn't match SamplesPerPixel. Defining non-color channels as ExtraSamples.\n"
     ]
    },
    {
     "name": "stdout",
     "output_type": "stream",
     "text": [
      "File /home/cb/sis2/data/tfrecords256/00008_9408x5232.tfrecord is new\n"
     ]
    },
    {
     "name": "stderr",
     "output_type": "stream",
     "text": [
      "Warning 1: TIFFReadDirectory:Sum of Photometric type-related color channels and ExtraSamples doesn't match SamplesPerPixel. Defining non-color channels as ExtraSamples.\n"
     ]
    },
    {
     "name": "stdout",
     "output_type": "stream",
     "text": [
      "File /home/cb/sis2/data/tfrecords256/00008_9408x6015.tfrecord is new\n"
     ]
    },
    {
     "name": "stderr",
     "output_type": "stream",
     "text": [
      "Warning 1: TIFFReadDirectory:Sum of Photometric type-related color channels and ExtraSamples doesn't match SamplesPerPixel. Defining non-color channels as ExtraSamples.\n"
     ]
    },
    {
     "name": "stdout",
     "output_type": "stream",
     "text": [
      "File /home/cb/sis2/data/tfrecords256/00008_9669x4710.tfrecord is new\n"
     ]
    },
    {
     "name": "stderr",
     "output_type": "stream",
     "text": [
      "Warning 1: TIFFReadDirectory:Sum of Photometric type-related color channels and ExtraSamples doesn't match SamplesPerPixel. Defining non-color channels as ExtraSamples.\n"
     ]
    },
    {
     "name": "stdout",
     "output_type": "stream",
     "text": [
      "File /home/cb/sis2/data/tfrecords256/00008_9669x4971.tfrecord is new\n"
     ]
    },
    {
     "name": "stderr",
     "output_type": "stream",
     "text": [
      "Warning 1: TIFFReadDirectory:Sum of Photometric type-related color channels and ExtraSamples doesn't match SamplesPerPixel. Defining non-color channels as ExtraSamples.\n"
     ]
    },
    {
     "name": "stdout",
     "output_type": "stream",
     "text": [
      "File /home/cb/sis2/data/tfrecords256/00008_9669x6276.tfrecord is new\n"
     ]
    },
    {
     "name": "stderr",
     "output_type": "stream",
     "text": [
      "Warning 1: TIFFReadDirectory:Sum of Photometric type-related color channels and ExtraSamples doesn't match SamplesPerPixel. Defining non-color channels as ExtraSamples.\n"
     ]
    },
    {
     "name": "stdout",
     "output_type": "stream",
     "text": [
      "File /home/cb/sis2/data/tfrecords256/00008_9669x6537.tfrecord is new\n"
     ]
    },
    {
     "name": "stderr",
     "output_type": "stream",
     "text": [
      "Warning 1: TIFFReadDirectory:Sum of Photometric type-related color channels and ExtraSamples doesn't match SamplesPerPixel. Defining non-color channels as ExtraSamples.\n"
     ]
    },
    {
     "name": "stdout",
     "output_type": "stream",
     "text": [
      "File /home/cb/sis2/data/tfrecords256/00012_12x1056.tfrecord is new\n"
     ]
    },
    {
     "name": "stderr",
     "output_type": "stream",
     "text": [
      "Warning 1: TIFFReadDirectory:Sum of Photometric type-related color channels and ExtraSamples doesn't match SamplesPerPixel. Defining non-color channels as ExtraSamples.\n"
     ]
    },
    {
     "name": "stdout",
     "output_type": "stream",
     "text": [
      "File /home/cb/sis2/data/tfrecords256/00012_12x1317.tfrecord is new\n"
     ]
    },
    {
     "name": "stderr",
     "output_type": "stream",
     "text": [
      "Warning 1: TIFFReadDirectory:Sum of Photometric type-related color channels and ExtraSamples doesn't match SamplesPerPixel. Defining non-color channels as ExtraSamples.\n"
     ]
    },
    {
     "name": "stdout",
     "output_type": "stream",
     "text": [
      "File /home/cb/sis2/data/tfrecords256/00012_12x1578.tfrecord is new\n"
     ]
    },
    {
     "name": "stderr",
     "output_type": "stream",
     "text": [
      "Warning 1: TIFFReadDirectory:Sum of Photometric type-related color channels and ExtraSamples doesn't match SamplesPerPixel. Defining non-color channels as ExtraSamples.\n"
     ]
    },
    {
     "name": "stdout",
     "output_type": "stream",
     "text": [
      "File /home/cb/sis2/data/tfrecords256/00012_12x1839.tfrecord is new\n"
     ]
    },
    {
     "name": "stderr",
     "output_type": "stream",
     "text": [
      "Warning 1: TIFFReadDirectory:Sum of Photometric type-related color channels and ExtraSamples doesn't match SamplesPerPixel. Defining non-color channels as ExtraSamples.\n"
     ]
    },
    {
     "name": "stdout",
     "output_type": "stream",
     "text": [
      "File /home/cb/sis2/data/tfrecords256/00012_12x2100.tfrecord is new\n"
     ]
    },
    {
     "name": "stderr",
     "output_type": "stream",
     "text": [
      "Warning 1: TIFFReadDirectory:Sum of Photometric type-related color channels and ExtraSamples doesn't match SamplesPerPixel. Defining non-color channels as ExtraSamples.\n"
     ]
    },
    {
     "name": "stdout",
     "output_type": "stream",
     "text": [
      "File /home/cb/sis2/data/tfrecords256/00012_12x2361.tfrecord is new\n"
     ]
    },
    {
     "name": "stderr",
     "output_type": "stream",
     "text": [
      "Warning 1: TIFFReadDirectory:Sum of Photometric type-related color channels and ExtraSamples doesn't match SamplesPerPixel. Defining non-color channels as ExtraSamples.\n"
     ]
    },
    {
     "name": "stdout",
     "output_type": "stream",
     "text": [
      "File /home/cb/sis2/data/tfrecords256/00012_12x2622.tfrecord is new\n"
     ]
    },
    {
     "name": "stderr",
     "output_type": "stream",
     "text": [
      "Warning 1: TIFFReadDirectory:Sum of Photometric type-related color channels and ExtraSamples doesn't match SamplesPerPixel. Defining non-color channels as ExtraSamples.\n"
     ]
    },
    {
     "name": "stdout",
     "output_type": "stream",
     "text": [
      "File /home/cb/sis2/data/tfrecords256/00012_12x4449.tfrecord is new\n"
     ]
    },
    {
     "name": "stderr",
     "output_type": "stream",
     "text": [
      "Warning 1: TIFFReadDirectory:Sum of Photometric type-related color channels and ExtraSamples doesn't match SamplesPerPixel. Defining non-color channels as ExtraSamples.\n"
     ]
    },
    {
     "name": "stdout",
     "output_type": "stream",
     "text": [
      "File /home/cb/sis2/data/tfrecords256/00012_12x4710.tfrecord is new\n"
     ]
    },
    {
     "name": "stderr",
     "output_type": "stream",
     "text": [
      "Warning 1: TIFFReadDirectory:Sum of Photometric type-related color channels and ExtraSamples doesn't match SamplesPerPixel. Defining non-color channels as ExtraSamples.\n"
     ]
    },
    {
     "name": "stdout",
     "output_type": "stream",
     "text": [
      "File /home/cb/sis2/data/tfrecords256/00012_12x4971.tfrecord is new\n"
     ]
    },
    {
     "name": "stderr",
     "output_type": "stream",
     "text": [
      "Warning 1: TIFFReadDirectory:Sum of Photometric type-related color channels and ExtraSamples doesn't match SamplesPerPixel. Defining non-color channels as ExtraSamples.\n"
     ]
    },
    {
     "name": "stdout",
     "output_type": "stream",
     "text": [
      "File /home/cb/sis2/data/tfrecords256/00012_12x5232.tfrecord is new\n"
     ]
    },
    {
     "name": "stderr",
     "output_type": "stream",
     "text": [
      "Warning 1: TIFFReadDirectory:Sum of Photometric type-related color channels and ExtraSamples doesn't match SamplesPerPixel. Defining non-color channels as ExtraSamples.\n"
     ]
    },
    {
     "name": "stdout",
     "output_type": "stream",
     "text": [
      "File /home/cb/sis2/data/tfrecords256/00012_12x5493.tfrecord is new\n"
     ]
    },
    {
     "name": "stderr",
     "output_type": "stream",
     "text": [
      "Warning 1: TIFFReadDirectory:Sum of Photometric type-related color channels and ExtraSamples doesn't match SamplesPerPixel. Defining non-color channels as ExtraSamples.\n"
     ]
    },
    {
     "name": "stdout",
     "output_type": "stream",
     "text": [
      "File /home/cb/sis2/data/tfrecords256/00012_12x5754.tfrecord is new\n"
     ]
    },
    {
     "name": "stderr",
     "output_type": "stream",
     "text": [
      "Warning 1: TIFFReadDirectory:Sum of Photometric type-related color channels and ExtraSamples doesn't match SamplesPerPixel. Defining non-color channels as ExtraSamples.\n"
     ]
    },
    {
     "name": "stdout",
     "output_type": "stream",
     "text": [
      "File /home/cb/sis2/data/tfrecords256/00012_12x6015.tfrecord is new\n"
     ]
    },
    {
     "name": "stderr",
     "output_type": "stream",
     "text": [
      "Warning 1: TIFFReadDirectory:Sum of Photometric type-related color channels and ExtraSamples doesn't match SamplesPerPixel. Defining non-color channels as ExtraSamples.\n"
     ]
    },
    {
     "name": "stdout",
     "output_type": "stream",
     "text": [
      "File /home/cb/sis2/data/tfrecords256/00012_12x6276.tfrecord is new\n"
     ]
    },
    {
     "name": "stderr",
     "output_type": "stream",
     "text": [
      "Warning 1: TIFFReadDirectory:Sum of Photometric type-related color channels and ExtraSamples doesn't match SamplesPerPixel. Defining non-color channels as ExtraSamples.\n"
     ]
    },
    {
     "name": "stdout",
     "output_type": "stream",
     "text": [
      "File /home/cb/sis2/data/tfrecords256/00012_12x6537.tfrecord is new\n"
     ]
    },
    {
     "name": "stderr",
     "output_type": "stream",
     "text": [
      "Warning 1: TIFFReadDirectory:Sum of Photometric type-related color channels and ExtraSamples doesn't match SamplesPerPixel. Defining non-color channels as ExtraSamples.\n"
     ]
    },
    {
     "name": "stdout",
     "output_type": "stream",
     "text": [
      "File /home/cb/sis2/data/tfrecords256/00012_12x6798.tfrecord is new\n"
     ]
    },
    {
     "name": "stderr",
     "output_type": "stream",
     "text": [
      "Warning 1: TIFFReadDirectory:Sum of Photometric type-related color channels and ExtraSamples doesn't match SamplesPerPixel. Defining non-color channels as ExtraSamples.\n"
     ]
    },
    {
     "name": "stdout",
     "output_type": "stream",
     "text": [
      "File /home/cb/sis2/data/tfrecords256/00012_12x7059.tfrecord is new\n"
     ]
    },
    {
     "name": "stderr",
     "output_type": "stream",
     "text": [
      "Warning 1: TIFFReadDirectory:Sum of Photometric type-related color channels and ExtraSamples doesn't match SamplesPerPixel. Defining non-color channels as ExtraSamples.\n"
     ]
    },
    {
     "name": "stdout",
     "output_type": "stream",
     "text": [
      "File /home/cb/sis2/data/tfrecords256/00012_12x7320.tfrecord is new\n"
     ]
    },
    {
     "name": "stderr",
     "output_type": "stream",
     "text": [
      "Warning 1: TIFFReadDirectory:Sum of Photometric type-related color channels and ExtraSamples doesn't match SamplesPerPixel. Defining non-color channels as ExtraSamples.\n"
     ]
    },
    {
     "name": "stdout",
     "output_type": "stream",
     "text": [
      "File /home/cb/sis2/data/tfrecords256/00012_12x7581.tfrecord is new\n"
     ]
    },
    {
     "name": "stderr",
     "output_type": "stream",
     "text": [
      "Warning 1: TIFFReadDirectory:Sum of Photometric type-related color channels and ExtraSamples doesn't match SamplesPerPixel. Defining non-color channels as ExtraSamples.\n"
     ]
    },
    {
     "name": "stdout",
     "output_type": "stream",
     "text": [
      "File /home/cb/sis2/data/tfrecords256/00012_273x795.tfrecord is new\n"
     ]
    },
    {
     "name": "stderr",
     "output_type": "stream",
     "text": [
      "Warning 1: TIFFReadDirectory:Sum of Photometric type-related color channels and ExtraSamples doesn't match SamplesPerPixel. Defining non-color channels as ExtraSamples.\n"
     ]
    },
    {
     "name": "stdout",
     "output_type": "stream",
     "text": [
      "File /home/cb/sis2/data/tfrecords256/00012_273x1056.tfrecord is new\n"
     ]
    },
    {
     "name": "stderr",
     "output_type": "stream",
     "text": [
      "Warning 1: TIFFReadDirectory:Sum of Photometric type-related color channels and ExtraSamples doesn't match SamplesPerPixel. Defining non-color channels as ExtraSamples.\n"
     ]
    },
    {
     "name": "stdout",
     "output_type": "stream",
     "text": [
      "File /home/cb/sis2/data/tfrecords256/00012_273x1317.tfrecord is new\n"
     ]
    },
    {
     "name": "stderr",
     "output_type": "stream",
     "text": [
      "Warning 1: TIFFReadDirectory:Sum of Photometric type-related color channels and ExtraSamples doesn't match SamplesPerPixel. Defining non-color channels as ExtraSamples.\n"
     ]
    },
    {
     "name": "stdout",
     "output_type": "stream",
     "text": [
      "File /home/cb/sis2/data/tfrecords256/00012_273x1578.tfrecord is new\n"
     ]
    },
    {
     "name": "stderr",
     "output_type": "stream",
     "text": [
      "Warning 1: TIFFReadDirectory:Sum of Photometric type-related color channels and ExtraSamples doesn't match SamplesPerPixel. Defining non-color channels as ExtraSamples.\n"
     ]
    },
    {
     "name": "stdout",
     "output_type": "stream",
     "text": [
      "File /home/cb/sis2/data/tfrecords256/00012_273x1839.tfrecord is new\n"
     ]
    },
    {
     "name": "stderr",
     "output_type": "stream",
     "text": [
      "Warning 1: TIFFReadDirectory:Sum of Photometric type-related color channels and ExtraSamples doesn't match SamplesPerPixel. Defining non-color channels as ExtraSamples.\n"
     ]
    },
    {
     "name": "stdout",
     "output_type": "stream",
     "text": [
      "File /home/cb/sis2/data/tfrecords256/00012_273x4710.tfrecord is new\n"
     ]
    },
    {
     "name": "stderr",
     "output_type": "stream",
     "text": [
      "Warning 1: TIFFReadDirectory:Sum of Photometric type-related color channels and ExtraSamples doesn't match SamplesPerPixel. Defining non-color channels as ExtraSamples.\n"
     ]
    },
    {
     "name": "stdout",
     "output_type": "stream",
     "text": [
      "File /home/cb/sis2/data/tfrecords256/00012_273x4971.tfrecord is new\n"
     ]
    },
    {
     "name": "stderr",
     "output_type": "stream",
     "text": [
      "Warning 1: TIFFReadDirectory:Sum of Photometric type-related color channels and ExtraSamples doesn't match SamplesPerPixel. Defining non-color channels as ExtraSamples.\n"
     ]
    },
    {
     "name": "stdout",
     "output_type": "stream",
     "text": [
      "File /home/cb/sis2/data/tfrecords256/00012_273x5232.tfrecord is new\n"
     ]
    },
    {
     "name": "stderr",
     "output_type": "stream",
     "text": [
      "Warning 1: TIFFReadDirectory:Sum of Photometric type-related color channels and ExtraSamples doesn't match SamplesPerPixel. Defining non-color channels as ExtraSamples.\n"
     ]
    },
    {
     "name": "stdout",
     "output_type": "stream",
     "text": [
      "File /home/cb/sis2/data/tfrecords256/00012_273x5493.tfrecord is new\n"
     ]
    },
    {
     "name": "stderr",
     "output_type": "stream",
     "text": [
      "Warning 1: TIFFReadDirectory:Sum of Photometric type-related color channels and ExtraSamples doesn't match SamplesPerPixel. Defining non-color channels as ExtraSamples.\n"
     ]
    },
    {
     "name": "stdout",
     "output_type": "stream",
     "text": [
      "File /home/cb/sis2/data/tfrecords256/00012_273x5754.tfrecord is new\n"
     ]
    },
    {
     "name": "stderr",
     "output_type": "stream",
     "text": [
      "Warning 1: TIFFReadDirectory:Sum of Photometric type-related color channels and ExtraSamples doesn't match SamplesPerPixel. Defining non-color channels as ExtraSamples.\n"
     ]
    },
    {
     "name": "stdout",
     "output_type": "stream",
     "text": [
      "File /home/cb/sis2/data/tfrecords256/00012_273x6015.tfrecord is new\n"
     ]
    },
    {
     "name": "stderr",
     "output_type": "stream",
     "text": [
      "Warning 1: TIFFReadDirectory:Sum of Photometric type-related color channels and ExtraSamples doesn't match SamplesPerPixel. Defining non-color channels as ExtraSamples.\n"
     ]
    },
    {
     "name": "stdout",
     "output_type": "stream",
     "text": [
      "File /home/cb/sis2/data/tfrecords256/00012_273x6276.tfrecord is new\n"
     ]
    },
    {
     "name": "stderr",
     "output_type": "stream",
     "text": [
      "Warning 1: TIFFReadDirectory:Sum of Photometric type-related color channels and ExtraSamples doesn't match SamplesPerPixel. Defining non-color channels as ExtraSamples.\n"
     ]
    },
    {
     "name": "stdout",
     "output_type": "stream",
     "text": [
      "File /home/cb/sis2/data/tfrecords256/00012_273x6537.tfrecord is new\n"
     ]
    },
    {
     "name": "stderr",
     "output_type": "stream",
     "text": [
      "Warning 1: TIFFReadDirectory:Sum of Photometric type-related color channels and ExtraSamples doesn't match SamplesPerPixel. Defining non-color channels as ExtraSamples.\n"
     ]
    },
    {
     "name": "stdout",
     "output_type": "stream",
     "text": [
      "File /home/cb/sis2/data/tfrecords256/00012_273x6798.tfrecord is new\n"
     ]
    },
    {
     "name": "stderr",
     "output_type": "stream",
     "text": [
      "Warning 1: TIFFReadDirectory:Sum of Photometric type-related color channels and ExtraSamples doesn't match SamplesPerPixel. Defining non-color channels as ExtraSamples.\n"
     ]
    },
    {
     "name": "stdout",
     "output_type": "stream",
     "text": [
      "File /home/cb/sis2/data/tfrecords256/00012_273x7059.tfrecord is new\n"
     ]
    },
    {
     "name": "stderr",
     "output_type": "stream",
     "text": [
      "Warning 1: TIFFReadDirectory:Sum of Photometric type-related color channels and ExtraSamples doesn't match SamplesPerPixel. Defining non-color channels as ExtraSamples.\n"
     ]
    },
    {
     "name": "stdout",
     "output_type": "stream",
     "text": [
      "File /home/cb/sis2/data/tfrecords256/00012_273x7320.tfrecord is new\n"
     ]
    },
    {
     "name": "stderr",
     "output_type": "stream",
     "text": [
      "Warning 1: TIFFReadDirectory:Sum of Photometric type-related color channels and ExtraSamples doesn't match SamplesPerPixel. Defining non-color channels as ExtraSamples.\n"
     ]
    },
    {
     "name": "stdout",
     "output_type": "stream",
     "text": [
      "File /home/cb/sis2/data/tfrecords256/00012_534x1056.tfrecord is new\n"
     ]
    },
    {
     "name": "stderr",
     "output_type": "stream",
     "text": [
      "Warning 1: TIFFReadDirectory:Sum of Photometric type-related color channels and ExtraSamples doesn't match SamplesPerPixel. Defining non-color channels as ExtraSamples.\n"
     ]
    },
    {
     "name": "stdout",
     "output_type": "stream",
     "text": [
      "File /home/cb/sis2/data/tfrecords256/00012_534x4188.tfrecord is new\n"
     ]
    },
    {
     "name": "stderr",
     "output_type": "stream",
     "text": [
      "Warning 1: TIFFReadDirectory:Sum of Photometric type-related color channels and ExtraSamples doesn't match SamplesPerPixel. Defining non-color channels as ExtraSamples.\n"
     ]
    },
    {
     "name": "stdout",
     "output_type": "stream",
     "text": [
      "File /home/cb/sis2/data/tfrecords256/00012_534x4449.tfrecord is new\n"
     ]
    },
    {
     "name": "stderr",
     "output_type": "stream",
     "text": [
      "Warning 1: TIFFReadDirectory:Sum of Photometric type-related color channels and ExtraSamples doesn't match SamplesPerPixel. Defining non-color channels as ExtraSamples.\n"
     ]
    },
    {
     "name": "stdout",
     "output_type": "stream",
     "text": [
      "File /home/cb/sis2/data/tfrecords256/00012_534x4710.tfrecord is new\n"
     ]
    },
    {
     "name": "stderr",
     "output_type": "stream",
     "text": [
      "Warning 1: TIFFReadDirectory:Sum of Photometric type-related color channels and ExtraSamples doesn't match SamplesPerPixel. Defining non-color channels as ExtraSamples.\n"
     ]
    },
    {
     "name": "stdout",
     "output_type": "stream",
     "text": [
      "File /home/cb/sis2/data/tfrecords256/00012_534x4971.tfrecord is new\n"
     ]
    },
    {
     "name": "stderr",
     "output_type": "stream",
     "text": [
      "Warning 1: TIFFReadDirectory:Sum of Photometric type-related color channels and ExtraSamples doesn't match SamplesPerPixel. Defining non-color channels as ExtraSamples.\n"
     ]
    },
    {
     "name": "stdout",
     "output_type": "stream",
     "text": [
      "File /home/cb/sis2/data/tfrecords256/00012_534x5232.tfrecord is new\n"
     ]
    },
    {
     "name": "stderr",
     "output_type": "stream",
     "text": [
      "Warning 1: TIFFReadDirectory:Sum of Photometric type-related color channels and ExtraSamples doesn't match SamplesPerPixel. Defining non-color channels as ExtraSamples.\n"
     ]
    },
    {
     "name": "stdout",
     "output_type": "stream",
     "text": [
      "File /home/cb/sis2/data/tfrecords256/00012_534x6015.tfrecord is new\n"
     ]
    },
    {
     "name": "stderr",
     "output_type": "stream",
     "text": [
      "Warning 1: TIFFReadDirectory:Sum of Photometric type-related color channels and ExtraSamples doesn't match SamplesPerPixel. Defining non-color channels as ExtraSamples.\n"
     ]
    },
    {
     "name": "stdout",
     "output_type": "stream",
     "text": [
      "File /home/cb/sis2/data/tfrecords256/00012_534x6276.tfrecord is new\n"
     ]
    },
    {
     "name": "stderr",
     "output_type": "stream",
     "text": [
      "Warning 1: TIFFReadDirectory:Sum of Photometric type-related color channels and ExtraSamples doesn't match SamplesPerPixel. Defining non-color channels as ExtraSamples.\n"
     ]
    },
    {
     "name": "stdout",
     "output_type": "stream",
     "text": [
      "File /home/cb/sis2/data/tfrecords256/00012_534x6537.tfrecord is new\n"
     ]
    },
    {
     "name": "stderr",
     "output_type": "stream",
     "text": [
      "Warning 1: TIFFReadDirectory:Sum of Photometric type-related color channels and ExtraSamples doesn't match SamplesPerPixel. Defining non-color channels as ExtraSamples.\n"
     ]
    },
    {
     "name": "stdout",
     "output_type": "stream",
     "text": [
      "File /home/cb/sis2/data/tfrecords256/00012_534x6798.tfrecord is new\n"
     ]
    },
    {
     "name": "stderr",
     "output_type": "stream",
     "text": [
      "Warning 1: TIFFReadDirectory:Sum of Photometric type-related color channels and ExtraSamples doesn't match SamplesPerPixel. Defining non-color channels as ExtraSamples.\n"
     ]
    },
    {
     "name": "stdout",
     "output_type": "stream",
     "text": [
      "File /home/cb/sis2/data/tfrecords256/00012_534x7059.tfrecord is new\n"
     ]
    },
    {
     "name": "stderr",
     "output_type": "stream",
     "text": [
      "Warning 1: TIFFReadDirectory:Sum of Photometric type-related color channels and ExtraSamples doesn't match SamplesPerPixel. Defining non-color channels as ExtraSamples.\n"
     ]
    },
    {
     "name": "stdout",
     "output_type": "stream",
     "text": [
      "File /home/cb/sis2/data/tfrecords256/00012_534x7320.tfrecord is new\n"
     ]
    },
    {
     "name": "stderr",
     "output_type": "stream",
     "text": [
      "Warning 1: TIFFReadDirectory:Sum of Photometric type-related color channels and ExtraSamples doesn't match SamplesPerPixel. Defining non-color channels as ExtraSamples.\n"
     ]
    },
    {
     "name": "stdout",
     "output_type": "stream",
     "text": [
      "File /home/cb/sis2/data/tfrecords256/00012_795x1056.tfrecord is new\n"
     ]
    },
    {
     "name": "stderr",
     "output_type": "stream",
     "text": [
      "Warning 1: TIFFReadDirectory:Sum of Photometric type-related color channels and ExtraSamples doesn't match SamplesPerPixel. Defining non-color channels as ExtraSamples.\n"
     ]
    },
    {
     "name": "stdout",
     "output_type": "stream",
     "text": [
      "File /home/cb/sis2/data/tfrecords256/00012_795x1317.tfrecord is new\n"
     ]
    },
    {
     "name": "stderr",
     "output_type": "stream",
     "text": [
      "Warning 1: TIFFReadDirectory:Sum of Photometric type-related color channels and ExtraSamples doesn't match SamplesPerPixel. Defining non-color channels as ExtraSamples.\n"
     ]
    },
    {
     "name": "stdout",
     "output_type": "stream",
     "text": [
      "File /home/cb/sis2/data/tfrecords256/00012_795x3666.tfrecord is new\n"
     ]
    },
    {
     "name": "stderr",
     "output_type": "stream",
     "text": [
      "Warning 1: TIFFReadDirectory:Sum of Photometric type-related color channels and ExtraSamples doesn't match SamplesPerPixel. Defining non-color channels as ExtraSamples.\n"
     ]
    },
    {
     "name": "stdout",
     "output_type": "stream",
     "text": [
      "File /home/cb/sis2/data/tfrecords256/00012_795x3927.tfrecord is new\n"
     ]
    },
    {
     "name": "stderr",
     "output_type": "stream",
     "text": [
      "Warning 1: TIFFReadDirectory:Sum of Photometric type-related color channels and ExtraSamples doesn't match SamplesPerPixel. Defining non-color channels as ExtraSamples.\n"
     ]
    },
    {
     "name": "stdout",
     "output_type": "stream",
     "text": [
      "File /home/cb/sis2/data/tfrecords256/00012_795x4710.tfrecord is new\n"
     ]
    },
    {
     "name": "stderr",
     "output_type": "stream",
     "text": [
      "Warning 1: TIFFReadDirectory:Sum of Photometric type-related color channels and ExtraSamples doesn't match SamplesPerPixel. Defining non-color channels as ExtraSamples.\n"
     ]
    },
    {
     "name": "stdout",
     "output_type": "stream",
     "text": [
      "File /home/cb/sis2/data/tfrecords256/00012_795x4971.tfrecord is new\n"
     ]
    },
    {
     "name": "stderr",
     "output_type": "stream",
     "text": [
      "Warning 1: TIFFReadDirectory:Sum of Photometric type-related color channels and ExtraSamples doesn't match SamplesPerPixel. Defining non-color channels as ExtraSamples.\n"
     ]
    },
    {
     "name": "stdout",
     "output_type": "stream",
     "text": [
      "File /home/cb/sis2/data/tfrecords256/00012_795x6276.tfrecord is new\n"
     ]
    },
    {
     "name": "stderr",
     "output_type": "stream",
     "text": [
      "Warning 1: TIFFReadDirectory:Sum of Photometric type-related color channels and ExtraSamples doesn't match SamplesPerPixel. Defining non-color channels as ExtraSamples.\n"
     ]
    },
    {
     "name": "stdout",
     "output_type": "stream",
     "text": [
      "File /home/cb/sis2/data/tfrecords256/00012_795x6537.tfrecord is new\n"
     ]
    },
    {
     "name": "stderr",
     "output_type": "stream",
     "text": [
      "Warning 1: TIFFReadDirectory:Sum of Photometric type-related color channels and ExtraSamples doesn't match SamplesPerPixel. Defining non-color channels as ExtraSamples.\n"
     ]
    },
    {
     "name": "stdout",
     "output_type": "stream",
     "text": [
      "File /home/cb/sis2/data/tfrecords256/00012_795x6798.tfrecord is new\n"
     ]
    },
    {
     "name": "stderr",
     "output_type": "stream",
     "text": [
      "Warning 1: TIFFReadDirectory:Sum of Photometric type-related color channels and ExtraSamples doesn't match SamplesPerPixel. Defining non-color channels as ExtraSamples.\n"
     ]
    },
    {
     "name": "stdout",
     "output_type": "stream",
     "text": [
      "File /home/cb/sis2/data/tfrecords256/00012_795x7059.tfrecord is new\n"
     ]
    },
    {
     "name": "stderr",
     "output_type": "stream",
     "text": [
      "Warning 1: TIFFReadDirectory:Sum of Photometric type-related color channels and ExtraSamples doesn't match SamplesPerPixel. Defining non-color channels as ExtraSamples.\n"
     ]
    },
    {
     "name": "stdout",
     "output_type": "stream",
     "text": [
      "File /home/cb/sis2/data/tfrecords256/00012_1056x12.tfrecord is new\n"
     ]
    },
    {
     "name": "stderr",
     "output_type": "stream",
     "text": [
      "Warning 1: TIFFReadDirectory:Sum of Photometric type-related color channels and ExtraSamples doesn't match SamplesPerPixel. Defining non-color channels as ExtraSamples.\n"
     ]
    },
    {
     "name": "stdout",
     "output_type": "stream",
     "text": [
      "File /home/cb/sis2/data/tfrecords256/00012_1056x273.tfrecord is new\n"
     ]
    },
    {
     "name": "stderr",
     "output_type": "stream",
     "text": [
      "Warning 1: TIFFReadDirectory:Sum of Photometric type-related color channels and ExtraSamples doesn't match SamplesPerPixel. Defining non-color channels as ExtraSamples.\n"
     ]
    },
    {
     "name": "stdout",
     "output_type": "stream",
     "text": [
      "File /home/cb/sis2/data/tfrecords256/00012_1056x534.tfrecord is new\n"
     ]
    },
    {
     "name": "stderr",
     "output_type": "stream",
     "text": [
      "Warning 1: TIFFReadDirectory:Sum of Photometric type-related color channels and ExtraSamples doesn't match SamplesPerPixel. Defining non-color channels as ExtraSamples.\n"
     ]
    },
    {
     "name": "stdout",
     "output_type": "stream",
     "text": [
      "File /home/cb/sis2/data/tfrecords256/00012_1056x3666.tfrecord is new\n"
     ]
    },
    {
     "name": "stderr",
     "output_type": "stream",
     "text": [
      "Warning 1: TIFFReadDirectory:Sum of Photometric type-related color channels and ExtraSamples doesn't match SamplesPerPixel. Defining non-color channels as ExtraSamples.\n"
     ]
    },
    {
     "name": "stdout",
     "output_type": "stream",
     "text": [
      "File /home/cb/sis2/data/tfrecords256/00012_1056x3927.tfrecord is new\n"
     ]
    },
    {
     "name": "stderr",
     "output_type": "stream",
     "text": [
      "Warning 1: TIFFReadDirectory:Sum of Photometric type-related color channels and ExtraSamples doesn't match SamplesPerPixel. Defining non-color channels as ExtraSamples.\n"
     ]
    },
    {
     "name": "stdout",
     "output_type": "stream",
     "text": [
      "File /home/cb/sis2/data/tfrecords256/00012_1056x4188.tfrecord is new\n"
     ]
    },
    {
     "name": "stderr",
     "output_type": "stream",
     "text": [
      "Warning 1: TIFFReadDirectory:Sum of Photometric type-related color channels and ExtraSamples doesn't match SamplesPerPixel. Defining non-color channels as ExtraSamples.\n"
     ]
    },
    {
     "name": "stdout",
     "output_type": "stream",
     "text": [
      "File /home/cb/sis2/data/tfrecords256/00012_1056x4449.tfrecord is new\n"
     ]
    },
    {
     "name": "stderr",
     "output_type": "stream",
     "text": [
      "Warning 1: TIFFReadDirectory:Sum of Photometric type-related color channels and ExtraSamples doesn't match SamplesPerPixel. Defining non-color channels as ExtraSamples.\n"
     ]
    },
    {
     "name": "stdout",
     "output_type": "stream",
     "text": [
      "File /home/cb/sis2/data/tfrecords256/00012_1056x4710.tfrecord is new\n"
     ]
    },
    {
     "name": "stderr",
     "output_type": "stream",
     "text": [
      "Warning 1: TIFFReadDirectory:Sum of Photometric type-related color channels and ExtraSamples doesn't match SamplesPerPixel. Defining non-color channels as ExtraSamples.\n"
     ]
    },
    {
     "name": "stdout",
     "output_type": "stream",
     "text": [
      "File /home/cb/sis2/data/tfrecords256/00012_1056x6798.tfrecord is new\n"
     ]
    },
    {
     "name": "stderr",
     "output_type": "stream",
     "text": [
      "Warning 1: TIFFReadDirectory:Sum of Photometric type-related color channels and ExtraSamples doesn't match SamplesPerPixel. Defining non-color channels as ExtraSamples.\n"
     ]
    },
    {
     "name": "stdout",
     "output_type": "stream",
     "text": [
      "File /home/cb/sis2/data/tfrecords256/00012_1317x12.tfrecord is new\n"
     ]
    },
    {
     "name": "stderr",
     "output_type": "stream",
     "text": [
      "Warning 1: TIFFReadDirectory:Sum of Photometric type-related color channels and ExtraSamples doesn't match SamplesPerPixel. Defining non-color channels as ExtraSamples.\n"
     ]
    },
    {
     "name": "stdout",
     "output_type": "stream",
     "text": [
      "File /home/cb/sis2/data/tfrecords256/00012_1317x534.tfrecord is new\n"
     ]
    },
    {
     "name": "stderr",
     "output_type": "stream",
     "text": [
      "Warning 1: TIFFReadDirectory:Sum of Photometric type-related color channels and ExtraSamples doesn't match SamplesPerPixel. Defining non-color channels as ExtraSamples.\n"
     ]
    },
    {
     "name": "stdout",
     "output_type": "stream",
     "text": [
      "File /home/cb/sis2/data/tfrecords256/00012_1317x795.tfrecord is new\n"
     ]
    },
    {
     "name": "stderr",
     "output_type": "stream",
     "text": [
      "Warning 1: TIFFReadDirectory:Sum of Photometric type-related color channels and ExtraSamples doesn't match SamplesPerPixel. Defining non-color channels as ExtraSamples.\n"
     ]
    },
    {
     "name": "stdout",
     "output_type": "stream",
     "text": [
      "File /home/cb/sis2/data/tfrecords256/00012_1317x2883.tfrecord is new\n"
     ]
    },
    {
     "name": "stderr",
     "output_type": "stream",
     "text": [
      "Warning 1: TIFFReadDirectory:Sum of Photometric type-related color channels and ExtraSamples doesn't match SamplesPerPixel. Defining non-color channels as ExtraSamples.\n"
     ]
    },
    {
     "name": "stdout",
     "output_type": "stream",
     "text": [
      "File /home/cb/sis2/data/tfrecords256/00012_1317x3144.tfrecord is new\n"
     ]
    },
    {
     "name": "stderr",
     "output_type": "stream",
     "text": [
      "Warning 1: TIFFReadDirectory:Sum of Photometric type-related color channels and ExtraSamples doesn't match SamplesPerPixel. Defining non-color channels as ExtraSamples.\n"
     ]
    },
    {
     "name": "stdout",
     "output_type": "stream",
     "text": [
      "File /home/cb/sis2/data/tfrecords256/00012_1317x3405.tfrecord is new\n"
     ]
    },
    {
     "name": "stderr",
     "output_type": "stream",
     "text": [
      "Warning 1: TIFFReadDirectory:Sum of Photometric type-related color channels and ExtraSamples doesn't match SamplesPerPixel. Defining non-color channels as ExtraSamples.\n"
     ]
    },
    {
     "name": "stdout",
     "output_type": "stream",
     "text": [
      "File /home/cb/sis2/data/tfrecords256/00012_1317x3666.tfrecord is new\n"
     ]
    },
    {
     "name": "stderr",
     "output_type": "stream",
     "text": [
      "Warning 1: TIFFReadDirectory:Sum of Photometric type-related color channels and ExtraSamples doesn't match SamplesPerPixel. Defining non-color channels as ExtraSamples.\n"
     ]
    },
    {
     "name": "stdout",
     "output_type": "stream",
     "text": [
      "File /home/cb/sis2/data/tfrecords256/00012_1317x3927.tfrecord is new\n"
     ]
    },
    {
     "name": "stderr",
     "output_type": "stream",
     "text": [
      "Warning 1: TIFFReadDirectory:Sum of Photometric type-related color channels and ExtraSamples doesn't match SamplesPerPixel. Defining non-color channels as ExtraSamples.\n"
     ]
    },
    {
     "name": "stdout",
     "output_type": "stream",
     "text": [
      "File /home/cb/sis2/data/tfrecords256/00012_1317x4188.tfrecord is new\n"
     ]
    },
    {
     "name": "stderr",
     "output_type": "stream",
     "text": [
      "Warning 1: TIFFReadDirectory:Sum of Photometric type-related color channels and ExtraSamples doesn't match SamplesPerPixel. Defining non-color channels as ExtraSamples.\n"
     ]
    },
    {
     "name": "stdout",
     "output_type": "stream",
     "text": [
      "File /home/cb/sis2/data/tfrecords256/00012_1317x4449.tfrecord is new\n"
     ]
    },
    {
     "name": "stderr",
     "output_type": "stream",
     "text": [
      "Warning 1: TIFFReadDirectory:Sum of Photometric type-related color channels and ExtraSamples doesn't match SamplesPerPixel. Defining non-color channels as ExtraSamples.\n"
     ]
    },
    {
     "name": "stdout",
     "output_type": "stream",
     "text": [
      "File /home/cb/sis2/data/tfrecords256/00012_1317x4710.tfrecord is new\n"
     ]
    },
    {
     "name": "stderr",
     "output_type": "stream",
     "text": [
      "Warning 1: TIFFReadDirectory:Sum of Photometric type-related color channels and ExtraSamples doesn't match SamplesPerPixel. Defining non-color channels as ExtraSamples.\n"
     ]
    },
    {
     "name": "stdout",
     "output_type": "stream",
     "text": [
      "File /home/cb/sis2/data/tfrecords256/00012_1578x12.tfrecord is new\n"
     ]
    },
    {
     "name": "stderr",
     "output_type": "stream",
     "text": [
      "Warning 1: TIFFReadDirectory:Sum of Photometric type-related color channels and ExtraSamples doesn't match SamplesPerPixel. Defining non-color channels as ExtraSamples.\n"
     ]
    },
    {
     "name": "stdout",
     "output_type": "stream",
     "text": [
      "File /home/cb/sis2/data/tfrecords256/00012_1578x273.tfrecord is new\n"
     ]
    },
    {
     "name": "stderr",
     "output_type": "stream",
     "text": [
      "Warning 1: TIFFReadDirectory:Sum of Photometric type-related color channels and ExtraSamples doesn't match SamplesPerPixel. Defining non-color channels as ExtraSamples.\n"
     ]
    },
    {
     "name": "stdout",
     "output_type": "stream",
     "text": [
      "File /home/cb/sis2/data/tfrecords256/00012_1578x534.tfrecord is new\n"
     ]
    },
    {
     "name": "stderr",
     "output_type": "stream",
     "text": [
      "Warning 1: TIFFReadDirectory:Sum of Photometric type-related color channels and ExtraSamples doesn't match SamplesPerPixel. Defining non-color channels as ExtraSamples.\n"
     ]
    },
    {
     "name": "stdout",
     "output_type": "stream",
     "text": [
      "File /home/cb/sis2/data/tfrecords256/00012_1578x795.tfrecord is new\n"
     ]
    },
    {
     "name": "stderr",
     "output_type": "stream",
     "text": [
      "Warning 1: TIFFReadDirectory:Sum of Photometric type-related color channels and ExtraSamples doesn't match SamplesPerPixel. Defining non-color channels as ExtraSamples.\n"
     ]
    },
    {
     "name": "stdout",
     "output_type": "stream",
     "text": [
      "File /home/cb/sis2/data/tfrecords256/00012_1578x1056.tfrecord is new\n"
     ]
    },
    {
     "name": "stderr",
     "output_type": "stream",
     "text": [
      "Warning 1: TIFFReadDirectory:Sum of Photometric type-related color channels and ExtraSamples doesn't match SamplesPerPixel. Defining non-color channels as ExtraSamples.\n"
     ]
    },
    {
     "name": "stdout",
     "output_type": "stream",
     "text": [
      "File /home/cb/sis2/data/tfrecords256/00012_1578x1317.tfrecord is new\n"
     ]
    },
    {
     "name": "stderr",
     "output_type": "stream",
     "text": [
      "Warning 1: TIFFReadDirectory:Sum of Photometric type-related color channels and ExtraSamples doesn't match SamplesPerPixel. Defining non-color channels as ExtraSamples.\n"
     ]
    },
    {
     "name": "stdout",
     "output_type": "stream",
     "text": [
      "File /home/cb/sis2/data/tfrecords256/00012_1578x2361.tfrecord is new\n"
     ]
    },
    {
     "name": "stderr",
     "output_type": "stream",
     "text": [
      "Warning 1: TIFFReadDirectory:Sum of Photometric type-related color channels and ExtraSamples doesn't match SamplesPerPixel. Defining non-color channels as ExtraSamples.\n"
     ]
    },
    {
     "name": "stdout",
     "output_type": "stream",
     "text": [
      "File /home/cb/sis2/data/tfrecords256/00012_1578x3405.tfrecord is new\n"
     ]
    },
    {
     "name": "stderr",
     "output_type": "stream",
     "text": [
      "Warning 1: TIFFReadDirectory:Sum of Photometric type-related color channels and ExtraSamples doesn't match SamplesPerPixel. Defining non-color channels as ExtraSamples.\n"
     ]
    },
    {
     "name": "stdout",
     "output_type": "stream",
     "text": [
      "File /home/cb/sis2/data/tfrecords256/00012_1578x3666.tfrecord is new\n"
     ]
    },
    {
     "name": "stderr",
     "output_type": "stream",
     "text": [
      "Warning 1: TIFFReadDirectory:Sum of Photometric type-related color channels and ExtraSamples doesn't match SamplesPerPixel. Defining non-color channels as ExtraSamples.\n"
     ]
    },
    {
     "name": "stdout",
     "output_type": "stream",
     "text": [
      "File /home/cb/sis2/data/tfrecords256/00012_1839x12.tfrecord is new\n"
     ]
    },
    {
     "name": "stderr",
     "output_type": "stream",
     "text": [
      "Warning 1: TIFFReadDirectory:Sum of Photometric type-related color channels and ExtraSamples doesn't match SamplesPerPixel. Defining non-color channels as ExtraSamples.\n"
     ]
    },
    {
     "name": "stdout",
     "output_type": "stream",
     "text": [
      "File /home/cb/sis2/data/tfrecords256/00012_1839x273.tfrecord is new\n"
     ]
    },
    {
     "name": "stderr",
     "output_type": "stream",
     "text": [
      "Warning 1: TIFFReadDirectory:Sum of Photometric type-related color channels and ExtraSamples doesn't match SamplesPerPixel. Defining non-color channels as ExtraSamples.\n"
     ]
    },
    {
     "name": "stdout",
     "output_type": "stream",
     "text": [
      "File /home/cb/sis2/data/tfrecords256/00012_1839x534.tfrecord is new\n"
     ]
    },
    {
     "name": "stderr",
     "output_type": "stream",
     "text": [
      "Warning 1: TIFFReadDirectory:Sum of Photometric type-related color channels and ExtraSamples doesn't match SamplesPerPixel. Defining non-color channels as ExtraSamples.\n"
     ]
    },
    {
     "name": "stdout",
     "output_type": "stream",
     "text": [
      "File /home/cb/sis2/data/tfrecords256/00012_1839x795.tfrecord is new\n"
     ]
    },
    {
     "name": "stderr",
     "output_type": "stream",
     "text": [
      "Warning 1: TIFFReadDirectory:Sum of Photometric type-related color channels and ExtraSamples doesn't match SamplesPerPixel. Defining non-color channels as ExtraSamples.\n"
     ]
    },
    {
     "name": "stdout",
     "output_type": "stream",
     "text": [
      "File /home/cb/sis2/data/tfrecords256/00012_1839x1056.tfrecord is new\n"
     ]
    },
    {
     "name": "stderr",
     "output_type": "stream",
     "text": [
      "Warning 1: TIFFReadDirectory:Sum of Photometric type-related color channels and ExtraSamples doesn't match SamplesPerPixel. Defining non-color channels as ExtraSamples.\n"
     ]
    },
    {
     "name": "stdout",
     "output_type": "stream",
     "text": [
      "File /home/cb/sis2/data/tfrecords256/00012_1839x1317.tfrecord is new\n"
     ]
    },
    {
     "name": "stderr",
     "output_type": "stream",
     "text": [
      "Warning 1: TIFFReadDirectory:Sum of Photometric type-related color channels and ExtraSamples doesn't match SamplesPerPixel. Defining non-color channels as ExtraSamples.\n"
     ]
    },
    {
     "name": "stdout",
     "output_type": "stream",
     "text": [
      "File /home/cb/sis2/data/tfrecords256/00012_1839x1578.tfrecord is new\n"
     ]
    },
    {
     "name": "stderr",
     "output_type": "stream",
     "text": [
      "Warning 1: TIFFReadDirectory:Sum of Photometric type-related color channels and ExtraSamples doesn't match SamplesPerPixel. Defining non-color channels as ExtraSamples.\n"
     ]
    },
    {
     "name": "stdout",
     "output_type": "stream",
     "text": [
      "File /home/cb/sis2/data/tfrecords256/00012_1839x2883.tfrecord is new\n"
     ]
    },
    {
     "name": "stderr",
     "output_type": "stream",
     "text": [
      "Warning 1: TIFFReadDirectory:Sum of Photometric type-related color channels and ExtraSamples doesn't match SamplesPerPixel. Defining non-color channels as ExtraSamples.\n"
     ]
    },
    {
     "name": "stdout",
     "output_type": "stream",
     "text": [
      "File /home/cb/sis2/data/tfrecords256/00012_2100x12.tfrecord is new\n"
     ]
    },
    {
     "name": "stderr",
     "output_type": "stream",
     "text": [
      "Warning 1: TIFFReadDirectory:Sum of Photometric type-related color channels and ExtraSamples doesn't match SamplesPerPixel. Defining non-color channels as ExtraSamples.\n"
     ]
    },
    {
     "name": "stdout",
     "output_type": "stream",
     "text": [
      "File /home/cb/sis2/data/tfrecords256/00012_2100x273.tfrecord is new\n"
     ]
    },
    {
     "name": "stderr",
     "output_type": "stream",
     "text": [
      "Warning 1: TIFFReadDirectory:Sum of Photometric type-related color channels and ExtraSamples doesn't match SamplesPerPixel. Defining non-color channels as ExtraSamples.\n"
     ]
    },
    {
     "name": "stdout",
     "output_type": "stream",
     "text": [
      "File /home/cb/sis2/data/tfrecords256/00012_2100x534.tfrecord is new\n"
     ]
    },
    {
     "name": "stderr",
     "output_type": "stream",
     "text": [
      "Warning 1: TIFFReadDirectory:Sum of Photometric type-related color channels and ExtraSamples doesn't match SamplesPerPixel. Defining non-color channels as ExtraSamples.\n"
     ]
    },
    {
     "name": "stdout",
     "output_type": "stream",
     "text": [
      "File /home/cb/sis2/data/tfrecords256/00012_2100x795.tfrecord is new\n"
     ]
    },
    {
     "name": "stderr",
     "output_type": "stream",
     "text": [
      "Warning 1: TIFFReadDirectory:Sum of Photometric type-related color channels and ExtraSamples doesn't match SamplesPerPixel. Defining non-color channels as ExtraSamples.\n"
     ]
    },
    {
     "name": "stdout",
     "output_type": "stream",
     "text": [
      "File /home/cb/sis2/data/tfrecords256/00012_2100x1056.tfrecord is new\n"
     ]
    },
    {
     "name": "stderr",
     "output_type": "stream",
     "text": [
      "Warning 1: TIFFReadDirectory:Sum of Photometric type-related color channels and ExtraSamples doesn't match SamplesPerPixel. Defining non-color channels as ExtraSamples.\n"
     ]
    },
    {
     "name": "stdout",
     "output_type": "stream",
     "text": [
      "File /home/cb/sis2/data/tfrecords256/00012_2100x1317.tfrecord is new\n"
     ]
    },
    {
     "name": "stderr",
     "output_type": "stream",
     "text": [
      "Warning 1: TIFFReadDirectory:Sum of Photometric type-related color channels and ExtraSamples doesn't match SamplesPerPixel. Defining non-color channels as ExtraSamples.\n"
     ]
    },
    {
     "name": "stdout",
     "output_type": "stream",
     "text": [
      "File /home/cb/sis2/data/tfrecords256/00012_2100x1578.tfrecord is new\n"
     ]
    },
    {
     "name": "stderr",
     "output_type": "stream",
     "text": [
      "Warning 1: TIFFReadDirectory:Sum of Photometric type-related color channels and ExtraSamples doesn't match SamplesPerPixel. Defining non-color channels as ExtraSamples.\n"
     ]
    },
    {
     "name": "stdout",
     "output_type": "stream",
     "text": [
      "File /home/cb/sis2/data/tfrecords256/00012_2361x273.tfrecord is new\n"
     ]
    },
    {
     "name": "stderr",
     "output_type": "stream",
     "text": [
      "Warning 1: TIFFReadDirectory:Sum of Photometric type-related color channels and ExtraSamples doesn't match SamplesPerPixel. Defining non-color channels as ExtraSamples.\n"
     ]
    },
    {
     "name": "stdout",
     "output_type": "stream",
     "text": [
      "File /home/cb/sis2/data/tfrecords256/00012_2361x534.tfrecord is new\n"
     ]
    },
    {
     "name": "stderr",
     "output_type": "stream",
     "text": [
      "Warning 1: TIFFReadDirectory:Sum of Photometric type-related color channels and ExtraSamples doesn't match SamplesPerPixel. Defining non-color channels as ExtraSamples.\n"
     ]
    },
    {
     "name": "stdout",
     "output_type": "stream",
     "text": [
      "File /home/cb/sis2/data/tfrecords256/00012_2361x795.tfrecord is new\n"
     ]
    },
    {
     "name": "stderr",
     "output_type": "stream",
     "text": [
      "Warning 1: TIFFReadDirectory:Sum of Photometric type-related color channels and ExtraSamples doesn't match SamplesPerPixel. Defining non-color channels as ExtraSamples.\n"
     ]
    },
    {
     "name": "stdout",
     "output_type": "stream",
     "text": [
      "File /home/cb/sis2/data/tfrecords256/00012_2361x1056.tfrecord is new\n"
     ]
    },
    {
     "name": "stderr",
     "output_type": "stream",
     "text": [
      "Warning 1: TIFFReadDirectory:Sum of Photometric type-related color channels and ExtraSamples doesn't match SamplesPerPixel. Defining non-color channels as ExtraSamples.\n"
     ]
    },
    {
     "name": "stdout",
     "output_type": "stream",
     "text": [
      "File /home/cb/sis2/data/tfrecords256/00012_2361x1317.tfrecord is new\n"
     ]
    },
    {
     "name": "stderr",
     "output_type": "stream",
     "text": [
      "Warning 1: TIFFReadDirectory:Sum of Photometric type-related color channels and ExtraSamples doesn't match SamplesPerPixel. Defining non-color channels as ExtraSamples.\n"
     ]
    },
    {
     "name": "stdout",
     "output_type": "stream",
     "text": [
      "File /home/cb/sis2/data/tfrecords256/00012_2361x1578.tfrecord is new\n"
     ]
    },
    {
     "name": "stderr",
     "output_type": "stream",
     "text": [
      "Warning 1: TIFFReadDirectory:Sum of Photometric type-related color channels and ExtraSamples doesn't match SamplesPerPixel. Defining non-color channels as ExtraSamples.\n"
     ]
    },
    {
     "name": "stdout",
     "output_type": "stream",
     "text": [
      "File /home/cb/sis2/data/tfrecords256/00012_2622x534.tfrecord is new\n"
     ]
    },
    {
     "name": "stderr",
     "output_type": "stream",
     "text": [
      "Warning 1: TIFFReadDirectory:Sum of Photometric type-related color channels and ExtraSamples doesn't match SamplesPerPixel. Defining non-color channels as ExtraSamples.\n"
     ]
    },
    {
     "name": "stdout",
     "output_type": "stream",
     "text": [
      "File /home/cb/sis2/data/tfrecords256/00012_2622x795.tfrecord is new\n"
     ]
    },
    {
     "name": "stderr",
     "output_type": "stream",
     "text": [
      "Warning 1: TIFFReadDirectory:Sum of Photometric type-related color channels and ExtraSamples doesn't match SamplesPerPixel. Defining non-color channels as ExtraSamples.\n"
     ]
    },
    {
     "name": "stdout",
     "output_type": "stream",
     "text": [
      "File /home/cb/sis2/data/tfrecords256/00012_2622x1056.tfrecord is new\n"
     ]
    },
    {
     "name": "stderr",
     "output_type": "stream",
     "text": [
      "Warning 1: TIFFReadDirectory:Sum of Photometric type-related color channels and ExtraSamples doesn't match SamplesPerPixel. Defining non-color channels as ExtraSamples.\n"
     ]
    },
    {
     "name": "stdout",
     "output_type": "stream",
     "text": [
      "File /home/cb/sis2/data/tfrecords256/00012_2622x1317.tfrecord is new\n"
     ]
    },
    {
     "name": "stderr",
     "output_type": "stream",
     "text": [
      "Warning 1: TIFFReadDirectory:Sum of Photometric type-related color channels and ExtraSamples doesn't match SamplesPerPixel. Defining non-color channels as ExtraSamples.\n"
     ]
    },
    {
     "name": "stdout",
     "output_type": "stream",
     "text": [
      "File /home/cb/sis2/data/tfrecords256/00012_2622x1578.tfrecord is new\n"
     ]
    },
    {
     "name": "stderr",
     "output_type": "stream",
     "text": [
      "Warning 1: TIFFReadDirectory:Sum of Photometric type-related color channels and ExtraSamples doesn't match SamplesPerPixel. Defining non-color channels as ExtraSamples.\n"
     ]
    },
    {
     "name": "stdout",
     "output_type": "stream",
     "text": [
      "File /home/cb/sis2/data/tfrecords256/00012_2883x534.tfrecord is new\n"
     ]
    },
    {
     "name": "stderr",
     "output_type": "stream",
     "text": [
      "Warning 1: TIFFReadDirectory:Sum of Photometric type-related color channels and ExtraSamples doesn't match SamplesPerPixel. Defining non-color channels as ExtraSamples.\n"
     ]
    },
    {
     "name": "stdout",
     "output_type": "stream",
     "text": [
      "File /home/cb/sis2/data/tfrecords256/00012_2883x795.tfrecord is new\n"
     ]
    },
    {
     "name": "stderr",
     "output_type": "stream",
     "text": [
      "Warning 1: TIFFReadDirectory:Sum of Photometric type-related color channels and ExtraSamples doesn't match SamplesPerPixel. Defining non-color channels as ExtraSamples.\n"
     ]
    },
    {
     "name": "stdout",
     "output_type": "stream",
     "text": [
      "File /home/cb/sis2/data/tfrecords256/00012_2883x1056.tfrecord is new\n"
     ]
    },
    {
     "name": "stderr",
     "output_type": "stream",
     "text": [
      "Warning 1: TIFFReadDirectory:Sum of Photometric type-related color channels and ExtraSamples doesn't match SamplesPerPixel. Defining non-color channels as ExtraSamples.\n"
     ]
    },
    {
     "name": "stdout",
     "output_type": "stream",
     "text": [
      "File /home/cb/sis2/data/tfrecords256/00012_2883x1317.tfrecord is new\n"
     ]
    },
    {
     "name": "stderr",
     "output_type": "stream",
     "text": [
      "Warning 1: TIFFReadDirectory:Sum of Photometric type-related color channels and ExtraSamples doesn't match SamplesPerPixel. Defining non-color channels as ExtraSamples.\n"
     ]
    },
    {
     "name": "stdout",
     "output_type": "stream",
     "text": [
      "File /home/cb/sis2/data/tfrecords256/00012_2883x1578.tfrecord is new\n"
     ]
    },
    {
     "name": "stderr",
     "output_type": "stream",
     "text": [
      "Warning 1: TIFFReadDirectory:Sum of Photometric type-related color channels and ExtraSamples doesn't match SamplesPerPixel. Defining non-color channels as ExtraSamples.\n"
     ]
    },
    {
     "name": "stdout",
     "output_type": "stream",
     "text": [
      "File /home/cb/sis2/data/tfrecords256/00012_3144x1317.tfrecord is new\n"
     ]
    },
    {
     "name": "stderr",
     "output_type": "stream",
     "text": [
      "Warning 1: TIFFReadDirectory:Sum of Photometric type-related color channels and ExtraSamples doesn't match SamplesPerPixel. Defining non-color channels as ExtraSamples.\n"
     ]
    },
    {
     "name": "stdout",
     "output_type": "stream",
     "text": [
      "File /home/cb/sis2/data/tfrecords256/00012_3144x1578.tfrecord is new\n"
     ]
    },
    {
     "name": "stderr",
     "output_type": "stream",
     "text": [
      "Warning 1: TIFFReadDirectory:Sum of Photometric type-related color channels and ExtraSamples doesn't match SamplesPerPixel. Defining non-color channels as ExtraSamples.\n"
     ]
    },
    {
     "name": "stdout",
     "output_type": "stream",
     "text": [
      "File /home/cb/sis2/data/tfrecords256/00012_3405x795.tfrecord is new\n"
     ]
    },
    {
     "name": "stderr",
     "output_type": "stream",
     "text": [
      "Warning 1: TIFFReadDirectory:Sum of Photometric type-related color channels and ExtraSamples doesn't match SamplesPerPixel. Defining non-color channels as ExtraSamples.\n"
     ]
    },
    {
     "name": "stdout",
     "output_type": "stream",
     "text": [
      "File /home/cb/sis2/data/tfrecords256/00012_3405x1317.tfrecord is new\n"
     ]
    },
    {
     "name": "stderr",
     "output_type": "stream",
     "text": [
      "Warning 1: TIFFReadDirectory:Sum of Photometric type-related color channels and ExtraSamples doesn't match SamplesPerPixel. Defining non-color channels as ExtraSamples.\n"
     ]
    },
    {
     "name": "stdout",
     "output_type": "stream",
     "text": [
      "File /home/cb/sis2/data/tfrecords256/00012_3405x1578.tfrecord is new\n"
     ]
    },
    {
     "name": "stderr",
     "output_type": "stream",
     "text": [
      "Warning 1: TIFFReadDirectory:Sum of Photometric type-related color channels and ExtraSamples doesn't match SamplesPerPixel. Defining non-color channels as ExtraSamples.\n"
     ]
    },
    {
     "name": "stdout",
     "output_type": "stream",
     "text": [
      "File /home/cb/sis2/data/tfrecords256/00012_3405x1839.tfrecord is new\n"
     ]
    },
    {
     "name": "stderr",
     "output_type": "stream",
     "text": [
      "Warning 1: TIFFReadDirectory:Sum of Photometric type-related color channels and ExtraSamples doesn't match SamplesPerPixel. Defining non-color channels as ExtraSamples.\n"
     ]
    },
    {
     "name": "stdout",
     "output_type": "stream",
     "text": [
      "File /home/cb/sis2/data/tfrecords256/00012_3666x1317.tfrecord is new\n"
     ]
    },
    {
     "name": "stderr",
     "output_type": "stream",
     "text": [
      "Warning 1: TIFFReadDirectory:Sum of Photometric type-related color channels and ExtraSamples doesn't match SamplesPerPixel. Defining non-color channels as ExtraSamples.\n"
     ]
    },
    {
     "name": "stdout",
     "output_type": "stream",
     "text": [
      "File /home/cb/sis2/data/tfrecords256/00012_3666x1578.tfrecord is new\n"
     ]
    },
    {
     "name": "stderr",
     "output_type": "stream",
     "text": [
      "Warning 1: TIFFReadDirectory:Sum of Photometric type-related color channels and ExtraSamples doesn't match SamplesPerPixel. Defining non-color channels as ExtraSamples.\n"
     ]
    },
    {
     "name": "stdout",
     "output_type": "stream",
     "text": [
      "File /home/cb/sis2/data/tfrecords256/00012_3666x1839.tfrecord is new\n"
     ]
    },
    {
     "name": "stderr",
     "output_type": "stream",
     "text": [
      "Warning 1: TIFFReadDirectory:Sum of Photometric type-related color channels and ExtraSamples doesn't match SamplesPerPixel. Defining non-color channels as ExtraSamples.\n"
     ]
    },
    {
     "name": "stdout",
     "output_type": "stream",
     "text": [
      "File /home/cb/sis2/data/tfrecords256/00012_3666x2100.tfrecord is new\n"
     ]
    },
    {
     "name": "stderr",
     "output_type": "stream",
     "text": [
      "Warning 1: TIFFReadDirectory:Sum of Photometric type-related color channels and ExtraSamples doesn't match SamplesPerPixel. Defining non-color channels as ExtraSamples.\n"
     ]
    },
    {
     "name": "stdout",
     "output_type": "stream",
     "text": [
      "File /home/cb/sis2/data/tfrecords256/00012_3927x1056.tfrecord is new\n"
     ]
    },
    {
     "name": "stderr",
     "output_type": "stream",
     "text": [
      "Warning 1: TIFFReadDirectory:Sum of Photometric type-related color channels and ExtraSamples doesn't match SamplesPerPixel. Defining non-color channels as ExtraSamples.\n"
     ]
    },
    {
     "name": "stdout",
     "output_type": "stream",
     "text": [
      "File /home/cb/sis2/data/tfrecords256/00012_3927x1317.tfrecord is new\n"
     ]
    },
    {
     "name": "stderr",
     "output_type": "stream",
     "text": [
      "Warning 1: TIFFReadDirectory:Sum of Photometric type-related color channels and ExtraSamples doesn't match SamplesPerPixel. Defining non-color channels as ExtraSamples.\n"
     ]
    },
    {
     "name": "stdout",
     "output_type": "stream",
     "text": [
      "File /home/cb/sis2/data/tfrecords256/00012_3927x1578.tfrecord is new\n"
     ]
    },
    {
     "name": "stderr",
     "output_type": "stream",
     "text": [
      "Warning 1: TIFFReadDirectory:Sum of Photometric type-related color channels and ExtraSamples doesn't match SamplesPerPixel. Defining non-color channels as ExtraSamples.\n"
     ]
    },
    {
     "name": "stdout",
     "output_type": "stream",
     "text": [
      "File /home/cb/sis2/data/tfrecords256/00012_3927x1839.tfrecord is new\n"
     ]
    },
    {
     "name": "stderr",
     "output_type": "stream",
     "text": [
      "Warning 1: TIFFReadDirectory:Sum of Photometric type-related color channels and ExtraSamples doesn't match SamplesPerPixel. Defining non-color channels as ExtraSamples.\n"
     ]
    },
    {
     "name": "stdout",
     "output_type": "stream",
     "text": [
      "File /home/cb/sis2/data/tfrecords256/00012_3927x2100.tfrecord is new\n"
     ]
    },
    {
     "name": "stderr",
     "output_type": "stream",
     "text": [
      "Warning 1: TIFFReadDirectory:Sum of Photometric type-related color channels and ExtraSamples doesn't match SamplesPerPixel. Defining non-color channels as ExtraSamples.\n"
     ]
    },
    {
     "name": "stdout",
     "output_type": "stream",
     "text": [
      "File /home/cb/sis2/data/tfrecords256/00012_4188x1317.tfrecord is new\n"
     ]
    },
    {
     "name": "stderr",
     "output_type": "stream",
     "text": [
      "Warning 1: TIFFReadDirectory:Sum of Photometric type-related color channels and ExtraSamples doesn't match SamplesPerPixel. Defining non-color channels as ExtraSamples.\n"
     ]
    },
    {
     "name": "stdout",
     "output_type": "stream",
     "text": [
      "File /home/cb/sis2/data/tfrecords256/00012_4188x1578.tfrecord is new\n"
     ]
    },
    {
     "name": "stderr",
     "output_type": "stream",
     "text": [
      "Warning 1: TIFFReadDirectory:Sum of Photometric type-related color channels and ExtraSamples doesn't match SamplesPerPixel. Defining non-color channels as ExtraSamples.\n"
     ]
    },
    {
     "name": "stdout",
     "output_type": "stream",
     "text": [
      "File /home/cb/sis2/data/tfrecords256/00012_4449x1317.tfrecord is new\n"
     ]
    },
    {
     "name": "stderr",
     "output_type": "stream",
     "text": [
      "Warning 1: TIFFReadDirectory:Sum of Photometric type-related color channels and ExtraSamples doesn't match SamplesPerPixel. Defining non-color channels as ExtraSamples.\n"
     ]
    },
    {
     "name": "stdout",
     "output_type": "stream",
     "text": [
      "File /home/cb/sis2/data/tfrecords256/00012_4449x1578.tfrecord is new\n"
     ]
    },
    {
     "name": "stderr",
     "output_type": "stream",
     "text": [
      "Warning 1: TIFFReadDirectory:Sum of Photometric type-related color channels and ExtraSamples doesn't match SamplesPerPixel. Defining non-color channels as ExtraSamples.\n"
     ]
    },
    {
     "name": "stdout",
     "output_type": "stream",
     "text": [
      "File /home/cb/sis2/data/tfrecords256/00012_4449x2883.tfrecord is new\n"
     ]
    },
    {
     "name": "stderr",
     "output_type": "stream",
     "text": [
      "Warning 1: TIFFReadDirectory:Sum of Photometric type-related color channels and ExtraSamples doesn't match SamplesPerPixel. Defining non-color channels as ExtraSamples.\n"
     ]
    },
    {
     "name": "stdout",
     "output_type": "stream",
     "text": [
      "File /home/cb/sis2/data/tfrecords256/00012_4449x3405.tfrecord is new\n"
     ]
    },
    {
     "name": "stderr",
     "output_type": "stream",
     "text": [
      "Warning 1: TIFFReadDirectory:Sum of Photometric type-related color channels and ExtraSamples doesn't match SamplesPerPixel. Defining non-color channels as ExtraSamples.\n"
     ]
    },
    {
     "name": "stdout",
     "output_type": "stream",
     "text": [
      "File /home/cb/sis2/data/tfrecords256/00012_4710x1578.tfrecord is new\n"
     ]
    },
    {
     "name": "stderr",
     "output_type": "stream",
     "text": [
      "Warning 1: TIFFReadDirectory:Sum of Photometric type-related color channels and ExtraSamples doesn't match SamplesPerPixel. Defining non-color channels as ExtraSamples.\n"
     ]
    },
    {
     "name": "stdout",
     "output_type": "stream",
     "text": [
      "File /home/cb/sis2/data/tfrecords256/00012_4710x2622.tfrecord is new\n"
     ]
    },
    {
     "name": "stderr",
     "output_type": "stream",
     "text": [
      "Warning 1: TIFFReadDirectory:Sum of Photometric type-related color channels and ExtraSamples doesn't match SamplesPerPixel. Defining non-color channels as ExtraSamples.\n"
     ]
    },
    {
     "name": "stdout",
     "output_type": "stream",
     "text": [
      "File /home/cb/sis2/data/tfrecords256/00012_4710x2883.tfrecord is new\n"
     ]
    },
    {
     "name": "stderr",
     "output_type": "stream",
     "text": [
      "Warning 1: TIFFReadDirectory:Sum of Photometric type-related color channels and ExtraSamples doesn't match SamplesPerPixel. Defining non-color channels as ExtraSamples.\n"
     ]
    },
    {
     "name": "stdout",
     "output_type": "stream",
     "text": [
      "File /home/cb/sis2/data/tfrecords256/00012_4971x1839.tfrecord is new\n"
     ]
    },
    {
     "name": "stderr",
     "output_type": "stream",
     "text": [
      "Warning 1: TIFFReadDirectory:Sum of Photometric type-related color channels and ExtraSamples doesn't match SamplesPerPixel. Defining non-color channels as ExtraSamples.\n"
     ]
    },
    {
     "name": "stdout",
     "output_type": "stream",
     "text": [
      "File /home/cb/sis2/data/tfrecords256/00012_4971x2100.tfrecord is new\n"
     ]
    },
    {
     "name": "stderr",
     "output_type": "stream",
     "text": [
      "Warning 1: TIFFReadDirectory:Sum of Photometric type-related color channels and ExtraSamples doesn't match SamplesPerPixel. Defining non-color channels as ExtraSamples.\n"
     ]
    },
    {
     "name": "stdout",
     "output_type": "stream",
     "text": [
      "File /home/cb/sis2/data/tfrecords256/00012_4971x2361.tfrecord is new\n"
     ]
    },
    {
     "name": "stderr",
     "output_type": "stream",
     "text": [
      "Warning 1: TIFFReadDirectory:Sum of Photometric type-related color channels and ExtraSamples doesn't match SamplesPerPixel. Defining non-color channels as ExtraSamples.\n"
     ]
    },
    {
     "name": "stdout",
     "output_type": "stream",
     "text": [
      "File /home/cb/sis2/data/tfrecords256/00012_4971x2622.tfrecord is new\n"
     ]
    },
    {
     "name": "stderr",
     "output_type": "stream",
     "text": [
      "Warning 1: TIFFReadDirectory:Sum of Photometric type-related color channels and ExtraSamples doesn't match SamplesPerPixel. Defining non-color channels as ExtraSamples.\n"
     ]
    },
    {
     "name": "stdout",
     "output_type": "stream",
     "text": [
      "File /home/cb/sis2/data/tfrecords256/00012_5232x1839.tfrecord is new\n"
     ]
    },
    {
     "name": "stderr",
     "output_type": "stream",
     "text": [
      "Warning 1: TIFFReadDirectory:Sum of Photometric type-related color channels and ExtraSamples doesn't match SamplesPerPixel. Defining non-color channels as ExtraSamples.\n"
     ]
    },
    {
     "name": "stdout",
     "output_type": "stream",
     "text": [
      "File /home/cb/sis2/data/tfrecords256/00012_5232x2100.tfrecord is new\n"
     ]
    },
    {
     "name": "stderr",
     "output_type": "stream",
     "text": [
      "Warning 1: TIFFReadDirectory:Sum of Photometric type-related color channels and ExtraSamples doesn't match SamplesPerPixel. Defining non-color channels as ExtraSamples.\n"
     ]
    },
    {
     "name": "stdout",
     "output_type": "stream",
     "text": [
      "File /home/cb/sis2/data/tfrecords256/00012_5232x2361.tfrecord is new\n"
     ]
    },
    {
     "name": "stderr",
     "output_type": "stream",
     "text": [
      "Warning 1: TIFFReadDirectory:Sum of Photometric type-related color channels and ExtraSamples doesn't match SamplesPerPixel. Defining non-color channels as ExtraSamples.\n"
     ]
    },
    {
     "name": "stdout",
     "output_type": "stream",
     "text": [
      "File /home/cb/sis2/data/tfrecords256/00012_5232x2622.tfrecord is new\n"
     ]
    },
    {
     "name": "stderr",
     "output_type": "stream",
     "text": [
      "Warning 1: TIFFReadDirectory:Sum of Photometric type-related color channels and ExtraSamples doesn't match SamplesPerPixel. Defining non-color channels as ExtraSamples.\n"
     ]
    },
    {
     "name": "stdout",
     "output_type": "stream",
     "text": [
      "File /home/cb/sis2/data/tfrecords256/00012_6276x5232.tfrecord is new\n"
     ]
    },
    {
     "name": "stderr",
     "output_type": "stream",
     "text": [
      "Warning 1: TIFFReadDirectory:Sum of Photometric type-related color channels and ExtraSamples doesn't match SamplesPerPixel. Defining non-color channels as ExtraSamples.\n"
     ]
    },
    {
     "name": "stdout",
     "output_type": "stream",
     "text": [
      "File /home/cb/sis2/data/tfrecords256/00012_6537x4971.tfrecord is new\n"
     ]
    },
    {
     "name": "stderr",
     "output_type": "stream",
     "text": [
      "Warning 1: TIFFReadDirectory:Sum of Photometric type-related color channels and ExtraSamples doesn't match SamplesPerPixel. Defining non-color channels as ExtraSamples.\n"
     ]
    },
    {
     "name": "stdout",
     "output_type": "stream",
     "text": [
      "File /home/cb/sis2/data/tfrecords256/00012_6537x5232.tfrecord is new\n"
     ]
    },
    {
     "name": "stderr",
     "output_type": "stream",
     "text": [
      "Warning 1: TIFFReadDirectory:Sum of Photometric type-related color channels and ExtraSamples doesn't match SamplesPerPixel. Defining non-color channels as ExtraSamples.\n"
     ]
    },
    {
     "name": "stdout",
     "output_type": "stream",
     "text": [
      "File /home/cb/sis2/data/tfrecords256/00012_6537x8103.tfrecord is new\n"
     ]
    },
    {
     "name": "stderr",
     "output_type": "stream",
     "text": [
      "Warning 1: TIFFReadDirectory:Sum of Photometric type-related color channels and ExtraSamples doesn't match SamplesPerPixel. Defining non-color channels as ExtraSamples.\n"
     ]
    },
    {
     "name": "stdout",
     "output_type": "stream",
     "text": [
      "File /home/cb/sis2/data/tfrecords256/00012_6798x4971.tfrecord is new\n"
     ]
    },
    {
     "name": "stderr",
     "output_type": "stream",
     "text": [
      "Warning 1: TIFFReadDirectory:Sum of Photometric type-related color channels and ExtraSamples doesn't match SamplesPerPixel. Defining non-color channels as ExtraSamples.\n"
     ]
    },
    {
     "name": "stdout",
     "output_type": "stream",
     "text": [
      "File /home/cb/sis2/data/tfrecords256/00012_6798x5232.tfrecord is new\n"
     ]
    },
    {
     "name": "stderr",
     "output_type": "stream",
     "text": [
      "Warning 1: TIFFReadDirectory:Sum of Photometric type-related color channels and ExtraSamples doesn't match SamplesPerPixel. Defining non-color channels as ExtraSamples.\n"
     ]
    },
    {
     "name": "stdout",
     "output_type": "stream",
     "text": [
      "File /home/cb/sis2/data/tfrecords256/00012_6798x6798.tfrecord is new\n"
     ]
    },
    {
     "name": "stderr",
     "output_type": "stream",
     "text": [
      "Warning 1: TIFFReadDirectory:Sum of Photometric type-related color channels and ExtraSamples doesn't match SamplesPerPixel. Defining non-color channels as ExtraSamples.\n"
     ]
    },
    {
     "name": "stdout",
     "output_type": "stream",
     "text": [
      "File /home/cb/sis2/data/tfrecords256/00012_6798x8103.tfrecord is new\n"
     ]
    },
    {
     "name": "stderr",
     "output_type": "stream",
     "text": [
      "Warning 1: TIFFReadDirectory:Sum of Photometric type-related color channels and ExtraSamples doesn't match SamplesPerPixel. Defining non-color channels as ExtraSamples.\n"
     ]
    },
    {
     "name": "stdout",
     "output_type": "stream",
     "text": [
      "File /home/cb/sis2/data/tfrecords256/00012_7059x4971.tfrecord is new\n"
     ]
    },
    {
     "name": "stderr",
     "output_type": "stream",
     "text": [
      "Warning 1: TIFFReadDirectory:Sum of Photometric type-related color channels and ExtraSamples doesn't match SamplesPerPixel. Defining non-color channels as ExtraSamples.\n"
     ]
    },
    {
     "name": "stdout",
     "output_type": "stream",
     "text": [
      "File /home/cb/sis2/data/tfrecords256/00012_7059x5232.tfrecord is new\n"
     ]
    },
    {
     "name": "stderr",
     "output_type": "stream",
     "text": [
      "Warning 1: TIFFReadDirectory:Sum of Photometric type-related color channels and ExtraSamples doesn't match SamplesPerPixel. Defining non-color channels as ExtraSamples.\n"
     ]
    },
    {
     "name": "stdout",
     "output_type": "stream",
     "text": [
      "File /home/cb/sis2/data/tfrecords256/00012_7059x8103.tfrecord is new\n"
     ]
    },
    {
     "name": "stderr",
     "output_type": "stream",
     "text": [
      "Warning 1: TIFFReadDirectory:Sum of Photometric type-related color channels and ExtraSamples doesn't match SamplesPerPixel. Defining non-color channels as ExtraSamples.\n"
     ]
    },
    {
     "name": "stdout",
     "output_type": "stream",
     "text": [
      "File /home/cb/sis2/data/tfrecords256/00012_7320x4971.tfrecord is new\n"
     ]
    },
    {
     "name": "stderr",
     "output_type": "stream",
     "text": [
      "Warning 1: TIFFReadDirectory:Sum of Photometric type-related color channels and ExtraSamples doesn't match SamplesPerPixel. Defining non-color channels as ExtraSamples.\n"
     ]
    },
    {
     "name": "stdout",
     "output_type": "stream",
     "text": [
      "File /home/cb/sis2/data/tfrecords256/00012_7320x8103.tfrecord is new\n"
     ]
    },
    {
     "name": "stderr",
     "output_type": "stream",
     "text": [
      "Warning 1: TIFFReadDirectory:Sum of Photometric type-related color channels and ExtraSamples doesn't match SamplesPerPixel. Defining non-color channels as ExtraSamples.\n"
     ]
    },
    {
     "name": "stdout",
     "output_type": "stream",
     "text": [
      "File /home/cb/sis2/data/tfrecords256/00012_7320x8364.tfrecord is new\n"
     ]
    },
    {
     "name": "stderr",
     "output_type": "stream",
     "text": [
      "Warning 1: TIFFReadDirectory:Sum of Photometric type-related color channels and ExtraSamples doesn't match SamplesPerPixel. Defining non-color channels as ExtraSamples.\n"
     ]
    },
    {
     "name": "stdout",
     "output_type": "stream",
     "text": [
      "File /home/cb/sis2/data/tfrecords256/00012_7320x8625.tfrecord is new\n"
     ]
    },
    {
     "name": "stderr",
     "output_type": "stream",
     "text": [
      "Warning 1: TIFFReadDirectory:Sum of Photometric type-related color channels and ExtraSamples doesn't match SamplesPerPixel. Defining non-color channels as ExtraSamples.\n"
     ]
    },
    {
     "name": "stdout",
     "output_type": "stream",
     "text": [
      "File /home/cb/sis2/data/tfrecords256/00012_7320x9408.tfrecord is new\n"
     ]
    },
    {
     "name": "stderr",
     "output_type": "stream",
     "text": [
      "Warning 1: TIFFReadDirectory:Sum of Photometric type-related color channels and ExtraSamples doesn't match SamplesPerPixel. Defining non-color channels as ExtraSamples.\n"
     ]
    },
    {
     "name": "stdout",
     "output_type": "stream",
     "text": [
      "File /home/cb/sis2/data/tfrecords256/00012_7581x3405.tfrecord is new\n"
     ]
    },
    {
     "name": "stderr",
     "output_type": "stream",
     "text": [
      "Warning 1: TIFFReadDirectory:Sum of Photometric type-related color channels and ExtraSamples doesn't match SamplesPerPixel. Defining non-color channels as ExtraSamples.\n"
     ]
    },
    {
     "name": "stdout",
     "output_type": "stream",
     "text": [
      "File /home/cb/sis2/data/tfrecords256/00012_7581x3666.tfrecord is new\n"
     ]
    },
    {
     "name": "stderr",
     "output_type": "stream",
     "text": [
      "Warning 1: TIFFReadDirectory:Sum of Photometric type-related color channels and ExtraSamples doesn't match SamplesPerPixel. Defining non-color channels as ExtraSamples.\n"
     ]
    },
    {
     "name": "stdout",
     "output_type": "stream",
     "text": [
      "File /home/cb/sis2/data/tfrecords256/00012_7581x4188.tfrecord is new\n"
     ]
    },
    {
     "name": "stderr",
     "output_type": "stream",
     "text": [
      "Warning 1: TIFFReadDirectory:Sum of Photometric type-related color channels and ExtraSamples doesn't match SamplesPerPixel. Defining non-color channels as ExtraSamples.\n"
     ]
    },
    {
     "name": "stdout",
     "output_type": "stream",
     "text": [
      "File /home/cb/sis2/data/tfrecords256/00012_7581x4449.tfrecord is new\n"
     ]
    },
    {
     "name": "stderr",
     "output_type": "stream",
     "text": [
      "Warning 1: TIFFReadDirectory:Sum of Photometric type-related color channels and ExtraSamples doesn't match SamplesPerPixel. Defining non-color channels as ExtraSamples.\n"
     ]
    },
    {
     "name": "stdout",
     "output_type": "stream",
     "text": [
      "File /home/cb/sis2/data/tfrecords256/00012_7581x4971.tfrecord is new\n"
     ]
    },
    {
     "name": "stderr",
     "output_type": "stream",
     "text": [
      "Warning 1: TIFFReadDirectory:Sum of Photometric type-related color channels and ExtraSamples doesn't match SamplesPerPixel. Defining non-color channels as ExtraSamples.\n"
     ]
    },
    {
     "name": "stdout",
     "output_type": "stream",
     "text": [
      "File /home/cb/sis2/data/tfrecords256/00012_7581x5232.tfrecord is new\n"
     ]
    },
    {
     "name": "stderr",
     "output_type": "stream",
     "text": [
      "Warning 1: TIFFReadDirectory:Sum of Photometric type-related color channels and ExtraSamples doesn't match SamplesPerPixel. Defining non-color channels as ExtraSamples.\n"
     ]
    },
    {
     "name": "stdout",
     "output_type": "stream",
     "text": [
      "File /home/cb/sis2/data/tfrecords256/00012_7581x8886.tfrecord is new\n"
     ]
    },
    {
     "name": "stderr",
     "output_type": "stream",
     "text": [
      "Warning 1: TIFFReadDirectory:Sum of Photometric type-related color channels and ExtraSamples doesn't match SamplesPerPixel. Defining non-color channels as ExtraSamples.\n"
     ]
    },
    {
     "name": "stdout",
     "output_type": "stream",
     "text": [
      "File /home/cb/sis2/data/tfrecords256/00012_7581x9669.tfrecord is new\n"
     ]
    },
    {
     "name": "stderr",
     "output_type": "stream",
     "text": [
      "Warning 1: TIFFReadDirectory:Sum of Photometric type-related color channels and ExtraSamples doesn't match SamplesPerPixel. Defining non-color channels as ExtraSamples.\n"
     ]
    },
    {
     "name": "stdout",
     "output_type": "stream",
     "text": [
      "File /home/cb/sis2/data/tfrecords256/00012_7842x3666.tfrecord is new\n"
     ]
    },
    {
     "name": "stderr",
     "output_type": "stream",
     "text": [
      "Warning 1: TIFFReadDirectory:Sum of Photometric type-related color channels and ExtraSamples doesn't match SamplesPerPixel. Defining non-color channels as ExtraSamples.\n"
     ]
    },
    {
     "name": "stdout",
     "output_type": "stream",
     "text": [
      "File /home/cb/sis2/data/tfrecords256/00012_7842x4710.tfrecord is new\n"
     ]
    },
    {
     "name": "stderr",
     "output_type": "stream",
     "text": [
      "Warning 1: TIFFReadDirectory:Sum of Photometric type-related color channels and ExtraSamples doesn't match SamplesPerPixel. Defining non-color channels as ExtraSamples.\n"
     ]
    },
    {
     "name": "stdout",
     "output_type": "stream",
     "text": [
      "File /home/cb/sis2/data/tfrecords256/00012_7842x7842.tfrecord is new\n"
     ]
    },
    {
     "name": "stderr",
     "output_type": "stream",
     "text": [
      "Warning 1: TIFFReadDirectory:Sum of Photometric type-related color channels and ExtraSamples doesn't match SamplesPerPixel. Defining non-color channels as ExtraSamples.\n"
     ]
    },
    {
     "name": "stdout",
     "output_type": "stream",
     "text": [
      "File /home/cb/sis2/data/tfrecords256/00012_7842x8886.tfrecord is new\n"
     ]
    },
    {
     "name": "stderr",
     "output_type": "stream",
     "text": [
      "Warning 1: TIFFReadDirectory:Sum of Photometric type-related color channels and ExtraSamples doesn't match SamplesPerPixel. Defining non-color channels as ExtraSamples.\n"
     ]
    },
    {
     "name": "stdout",
     "output_type": "stream",
     "text": [
      "File /home/cb/sis2/data/tfrecords256/00012_7842x9147.tfrecord is new\n"
     ]
    },
    {
     "name": "stderr",
     "output_type": "stream",
     "text": [
      "Warning 1: TIFFReadDirectory:Sum of Photometric type-related color channels and ExtraSamples doesn't match SamplesPerPixel. Defining non-color channels as ExtraSamples.\n"
     ]
    },
    {
     "name": "stdout",
     "output_type": "stream",
     "text": [
      "File /home/cb/sis2/data/tfrecords256/00012_7842x9408.tfrecord is new\n"
     ]
    },
    {
     "name": "stderr",
     "output_type": "stream",
     "text": [
      "Warning 1: TIFFReadDirectory:Sum of Photometric type-related color channels and ExtraSamples doesn't match SamplesPerPixel. Defining non-color channels as ExtraSamples.\n"
     ]
    },
    {
     "name": "stdout",
     "output_type": "stream",
     "text": [
      "File /home/cb/sis2/data/tfrecords256/00012_7842x9669.tfrecord is new\n"
     ]
    },
    {
     "name": "stderr",
     "output_type": "stream",
     "text": [
      "Warning 1: TIFFReadDirectory:Sum of Photometric type-related color channels and ExtraSamples doesn't match SamplesPerPixel. Defining non-color channels as ExtraSamples.\n"
     ]
    },
    {
     "name": "stdout",
     "output_type": "stream",
     "text": [
      "File /home/cb/sis2/data/tfrecords256/00012_8103x3666.tfrecord is new\n"
     ]
    },
    {
     "name": "stderr",
     "output_type": "stream",
     "text": [
      "Warning 1: TIFFReadDirectory:Sum of Photometric type-related color channels and ExtraSamples doesn't match SamplesPerPixel. Defining non-color channels as ExtraSamples.\n"
     ]
    },
    {
     "name": "stdout",
     "output_type": "stream",
     "text": [
      "File /home/cb/sis2/data/tfrecords256/00012_8103x3927.tfrecord is new\n"
     ]
    },
    {
     "name": "stderr",
     "output_type": "stream",
     "text": [
      "Warning 1: TIFFReadDirectory:Sum of Photometric type-related color channels and ExtraSamples doesn't match SamplesPerPixel. Defining non-color channels as ExtraSamples.\n"
     ]
    },
    {
     "name": "stdout",
     "output_type": "stream",
     "text": [
      "File /home/cb/sis2/data/tfrecords256/00012_8103x8886.tfrecord is new\n"
     ]
    },
    {
     "name": "stderr",
     "output_type": "stream",
     "text": [
      "Warning 1: TIFFReadDirectory:Sum of Photometric type-related color channels and ExtraSamples doesn't match SamplesPerPixel. Defining non-color channels as ExtraSamples.\n"
     ]
    },
    {
     "name": "stdout",
     "output_type": "stream",
     "text": [
      "File /home/cb/sis2/data/tfrecords256/00012_8364x4971.tfrecord is new\n"
     ]
    },
    {
     "name": "stderr",
     "output_type": "stream",
     "text": [
      "Warning 1: TIFFReadDirectory:Sum of Photometric type-related color channels and ExtraSamples doesn't match SamplesPerPixel. Defining non-color channels as ExtraSamples.\n"
     ]
    },
    {
     "name": "stdout",
     "output_type": "stream",
     "text": [
      "File /home/cb/sis2/data/tfrecords256/00012_8364x8625.tfrecord is new\n"
     ]
    },
    {
     "name": "stderr",
     "output_type": "stream",
     "text": [
      "Warning 1: TIFFReadDirectory:Sum of Photometric type-related color channels and ExtraSamples doesn't match SamplesPerPixel. Defining non-color channels as ExtraSamples.\n"
     ]
    },
    {
     "name": "stdout",
     "output_type": "stream",
     "text": [
      "File /home/cb/sis2/data/tfrecords256/00012_8886x4188.tfrecord is new\n"
     ]
    },
    {
     "name": "stderr",
     "output_type": "stream",
     "text": [
      "Warning 1: TIFFReadDirectory:Sum of Photometric type-related color channels and ExtraSamples doesn't match SamplesPerPixel. Defining non-color channels as ExtraSamples.\n"
     ]
    },
    {
     "name": "stdout",
     "output_type": "stream",
     "text": [
      "File /home/cb/sis2/data/tfrecords256/00012_8886x6276.tfrecord is new\n"
     ]
    },
    {
     "name": "stderr",
     "output_type": "stream",
     "text": [
      "Warning 1: TIFFReadDirectory:Sum of Photometric type-related color channels and ExtraSamples doesn't match SamplesPerPixel. Defining non-color channels as ExtraSamples.\n"
     ]
    },
    {
     "name": "stdout",
     "output_type": "stream",
     "text": [
      "File /home/cb/sis2/data/tfrecords256/00012_9147x4971.tfrecord is new\n"
     ]
    },
    {
     "name": "stderr",
     "output_type": "stream",
     "text": [
      "Warning 1: TIFFReadDirectory:Sum of Photometric type-related color channels and ExtraSamples doesn't match SamplesPerPixel. Defining non-color channels as ExtraSamples.\n"
     ]
    },
    {
     "name": "stdout",
     "output_type": "stream",
     "text": [
      "File /home/cb/sis2/data/tfrecords256/00012_9147x6015.tfrecord is new\n"
     ]
    },
    {
     "name": "stderr",
     "output_type": "stream",
     "text": [
      "Warning 1: TIFFReadDirectory:Sum of Photometric type-related color channels and ExtraSamples doesn't match SamplesPerPixel. Defining non-color channels as ExtraSamples.\n"
     ]
    },
    {
     "name": "stdout",
     "output_type": "stream",
     "text": [
      "File /home/cb/sis2/data/tfrecords256/00012_9408x4971.tfrecord is new\n"
     ]
    },
    {
     "name": "stderr",
     "output_type": "stream",
     "text": [
      "Warning 1: TIFFReadDirectory:Sum of Photometric type-related color channels and ExtraSamples doesn't match SamplesPerPixel. Defining non-color channels as ExtraSamples.\n"
     ]
    },
    {
     "name": "stdout",
     "output_type": "stream",
     "text": [
      "File /home/cb/sis2/data/tfrecords256/00012_9408x5232.tfrecord is new\n"
     ]
    },
    {
     "name": "stderr",
     "output_type": "stream",
     "text": [
      "Warning 1: TIFFReadDirectory:Sum of Photometric type-related color channels and ExtraSamples doesn't match SamplesPerPixel. Defining non-color channels as ExtraSamples.\n"
     ]
    },
    {
     "name": "stdout",
     "output_type": "stream",
     "text": [
      "File /home/cb/sis2/data/tfrecords256/00012_9408x6015.tfrecord is new\n"
     ]
    },
    {
     "name": "stderr",
     "output_type": "stream",
     "text": [
      "Warning 1: TIFFReadDirectory:Sum of Photometric type-related color channels and ExtraSamples doesn't match SamplesPerPixel. Defining non-color channels as ExtraSamples.\n"
     ]
    },
    {
     "name": "stdout",
     "output_type": "stream",
     "text": [
      "File /home/cb/sis2/data/tfrecords256/00012_9669x4710.tfrecord is new\n"
     ]
    },
    {
     "name": "stderr",
     "output_type": "stream",
     "text": [
      "Warning 1: TIFFReadDirectory:Sum of Photometric type-related color channels and ExtraSamples doesn't match SamplesPerPixel. Defining non-color channels as ExtraSamples.\n"
     ]
    },
    {
     "name": "stdout",
     "output_type": "stream",
     "text": [
      "File /home/cb/sis2/data/tfrecords256/00012_9669x4971.tfrecord is new\n"
     ]
    },
    {
     "name": "stderr",
     "output_type": "stream",
     "text": [
      "Warning 1: TIFFReadDirectory:Sum of Photometric type-related color channels and ExtraSamples doesn't match SamplesPerPixel. Defining non-color channels as ExtraSamples.\n"
     ]
    },
    {
     "name": "stdout",
     "output_type": "stream",
     "text": [
      "File /home/cb/sis2/data/tfrecords256/00012_9669x6276.tfrecord is new\n"
     ]
    },
    {
     "name": "stderr",
     "output_type": "stream",
     "text": [
      "Warning 1: TIFFReadDirectory:Sum of Photometric type-related color channels and ExtraSamples doesn't match SamplesPerPixel. Defining non-color channels as ExtraSamples.\n"
     ]
    },
    {
     "name": "stdout",
     "output_type": "stream",
     "text": [
      "File /home/cb/sis2/data/tfrecords256/00012_9669x6537.tfrecord is new\n"
     ]
    },
    {
     "name": "stderr",
     "output_type": "stream",
     "text": [
      "Warning 1: TIFFReadDirectory:Sum of Photometric type-related color channels and ExtraSamples doesn't match SamplesPerPixel. Defining non-color channels as ExtraSamples.\n"
     ]
    },
    {
     "name": "stdout",
     "output_type": "stream",
     "text": [
      "File /home/cb/sis2/data/tfrecords256/00013_12x1056.tfrecord is new\n"
     ]
    },
    {
     "name": "stderr",
     "output_type": "stream",
     "text": [
      "Warning 1: TIFFReadDirectory:Sum of Photometric type-related color channels and ExtraSamples doesn't match SamplesPerPixel. Defining non-color channels as ExtraSamples.\n"
     ]
    },
    {
     "name": "stdout",
     "output_type": "stream",
     "text": [
      "File /home/cb/sis2/data/tfrecords256/00013_12x1317.tfrecord is new\n"
     ]
    },
    {
     "name": "stderr",
     "output_type": "stream",
     "text": [
      "Warning 1: TIFFReadDirectory:Sum of Photometric type-related color channels and ExtraSamples doesn't match SamplesPerPixel. Defining non-color channels as ExtraSamples.\n"
     ]
    },
    {
     "name": "stdout",
     "output_type": "stream",
     "text": [
      "File /home/cb/sis2/data/tfrecords256/00013_12x1578.tfrecord is new\n"
     ]
    },
    {
     "name": "stderr",
     "output_type": "stream",
     "text": [
      "Warning 1: TIFFReadDirectory:Sum of Photometric type-related color channels and ExtraSamples doesn't match SamplesPerPixel. Defining non-color channels as ExtraSamples.\n"
     ]
    },
    {
     "name": "stdout",
     "output_type": "stream",
     "text": [
      "File /home/cb/sis2/data/tfrecords256/00013_12x1839.tfrecord is new\n"
     ]
    },
    {
     "name": "stderr",
     "output_type": "stream",
     "text": [
      "Warning 1: TIFFReadDirectory:Sum of Photometric type-related color channels and ExtraSamples doesn't match SamplesPerPixel. Defining non-color channels as ExtraSamples.\n"
     ]
    },
    {
     "name": "stdout",
     "output_type": "stream",
     "text": [
      "File /home/cb/sis2/data/tfrecords256/00013_12x2100.tfrecord is new\n"
     ]
    },
    {
     "name": "stderr",
     "output_type": "stream",
     "text": [
      "Warning 1: TIFFReadDirectory:Sum of Photometric type-related color channels and ExtraSamples doesn't match SamplesPerPixel. Defining non-color channels as ExtraSamples.\n"
     ]
    },
    {
     "name": "stdout",
     "output_type": "stream",
     "text": [
      "File /home/cb/sis2/data/tfrecords256/00013_12x2361.tfrecord is new\n"
     ]
    },
    {
     "name": "stderr",
     "output_type": "stream",
     "text": [
      "Warning 1: TIFFReadDirectory:Sum of Photometric type-related color channels and ExtraSamples doesn't match SamplesPerPixel. Defining non-color channels as ExtraSamples.\n"
     ]
    },
    {
     "name": "stdout",
     "output_type": "stream",
     "text": [
      "File /home/cb/sis2/data/tfrecords256/00013_12x2622.tfrecord is new\n"
     ]
    },
    {
     "name": "stderr",
     "output_type": "stream",
     "text": [
      "Warning 1: TIFFReadDirectory:Sum of Photometric type-related color channels and ExtraSamples doesn't match SamplesPerPixel. Defining non-color channels as ExtraSamples.\n"
     ]
    },
    {
     "name": "stdout",
     "output_type": "stream",
     "text": [
      "File /home/cb/sis2/data/tfrecords256/00013_12x4449.tfrecord is new\n"
     ]
    },
    {
     "name": "stderr",
     "output_type": "stream",
     "text": [
      "Warning 1: TIFFReadDirectory:Sum of Photometric type-related color channels and ExtraSamples doesn't match SamplesPerPixel. Defining non-color channels as ExtraSamples.\n"
     ]
    },
    {
     "name": "stdout",
     "output_type": "stream",
     "text": [
      "File /home/cb/sis2/data/tfrecords256/00013_12x4710.tfrecord is new\n"
     ]
    },
    {
     "name": "stderr",
     "output_type": "stream",
     "text": [
      "Warning 1: TIFFReadDirectory:Sum of Photometric type-related color channels and ExtraSamples doesn't match SamplesPerPixel. Defining non-color channels as ExtraSamples.\n"
     ]
    },
    {
     "name": "stdout",
     "output_type": "stream",
     "text": [
      "File /home/cb/sis2/data/tfrecords256/00013_12x4971.tfrecord is new\n"
     ]
    },
    {
     "name": "stderr",
     "output_type": "stream",
     "text": [
      "Warning 1: TIFFReadDirectory:Sum of Photometric type-related color channels and ExtraSamples doesn't match SamplesPerPixel. Defining non-color channels as ExtraSamples.\n"
     ]
    },
    {
     "name": "stdout",
     "output_type": "stream",
     "text": [
      "File /home/cb/sis2/data/tfrecords256/00013_12x5232.tfrecord is new\n"
     ]
    },
    {
     "name": "stderr",
     "output_type": "stream",
     "text": [
      "Warning 1: TIFFReadDirectory:Sum of Photometric type-related color channels and ExtraSamples doesn't match SamplesPerPixel. Defining non-color channels as ExtraSamples.\n"
     ]
    },
    {
     "name": "stdout",
     "output_type": "stream",
     "text": [
      "File /home/cb/sis2/data/tfrecords256/00013_12x5493.tfrecord is new\n"
     ]
    },
    {
     "name": "stderr",
     "output_type": "stream",
     "text": [
      "Warning 1: TIFFReadDirectory:Sum of Photometric type-related color channels and ExtraSamples doesn't match SamplesPerPixel. Defining non-color channels as ExtraSamples.\n"
     ]
    },
    {
     "name": "stdout",
     "output_type": "stream",
     "text": [
      "File /home/cb/sis2/data/tfrecords256/00013_12x5754.tfrecord is new\n"
     ]
    },
    {
     "name": "stderr",
     "output_type": "stream",
     "text": [
      "Warning 1: TIFFReadDirectory:Sum of Photometric type-related color channels and ExtraSamples doesn't match SamplesPerPixel. Defining non-color channels as ExtraSamples.\n"
     ]
    },
    {
     "name": "stdout",
     "output_type": "stream",
     "text": [
      "File /home/cb/sis2/data/tfrecords256/00013_12x6015.tfrecord is new\n"
     ]
    },
    {
     "name": "stderr",
     "output_type": "stream",
     "text": [
      "Warning 1: TIFFReadDirectory:Sum of Photometric type-related color channels and ExtraSamples doesn't match SamplesPerPixel. Defining non-color channels as ExtraSamples.\n"
     ]
    },
    {
     "name": "stdout",
     "output_type": "stream",
     "text": [
      "File /home/cb/sis2/data/tfrecords256/00013_12x6276.tfrecord is new\n"
     ]
    },
    {
     "name": "stderr",
     "output_type": "stream",
     "text": [
      "Warning 1: TIFFReadDirectory:Sum of Photometric type-related color channels and ExtraSamples doesn't match SamplesPerPixel. Defining non-color channels as ExtraSamples.\n"
     ]
    },
    {
     "name": "stdout",
     "output_type": "stream",
     "text": [
      "File /home/cb/sis2/data/tfrecords256/00013_12x6537.tfrecord is new\n"
     ]
    },
    {
     "name": "stderr",
     "output_type": "stream",
     "text": [
      "Warning 1: TIFFReadDirectory:Sum of Photometric type-related color channels and ExtraSamples doesn't match SamplesPerPixel. Defining non-color channels as ExtraSamples.\n"
     ]
    },
    {
     "name": "stdout",
     "output_type": "stream",
     "text": [
      "File /home/cb/sis2/data/tfrecords256/00013_12x6798.tfrecord is new\n"
     ]
    },
    {
     "name": "stderr",
     "output_type": "stream",
     "text": [
      "Warning 1: TIFFReadDirectory:Sum of Photometric type-related color channels and ExtraSamples doesn't match SamplesPerPixel. Defining non-color channels as ExtraSamples.\n"
     ]
    },
    {
     "name": "stdout",
     "output_type": "stream",
     "text": [
      "File /home/cb/sis2/data/tfrecords256/00013_12x7059.tfrecord is new\n"
     ]
    },
    {
     "name": "stderr",
     "output_type": "stream",
     "text": [
      "Warning 1: TIFFReadDirectory:Sum of Photometric type-related color channels and ExtraSamples doesn't match SamplesPerPixel. Defining non-color channels as ExtraSamples.\n"
     ]
    },
    {
     "name": "stdout",
     "output_type": "stream",
     "text": [
      "File /home/cb/sis2/data/tfrecords256/00013_12x7320.tfrecord is new\n"
     ]
    },
    {
     "name": "stderr",
     "output_type": "stream",
     "text": [
      "Warning 1: TIFFReadDirectory:Sum of Photometric type-related color channels and ExtraSamples doesn't match SamplesPerPixel. Defining non-color channels as ExtraSamples.\n"
     ]
    },
    {
     "name": "stdout",
     "output_type": "stream",
     "text": [
      "File /home/cb/sis2/data/tfrecords256/00013_12x7581.tfrecord is new\n"
     ]
    },
    {
     "name": "stderr",
     "output_type": "stream",
     "text": [
      "Warning 1: TIFFReadDirectory:Sum of Photometric type-related color channels and ExtraSamples doesn't match SamplesPerPixel. Defining non-color channels as ExtraSamples.\n"
     ]
    },
    {
     "name": "stdout",
     "output_type": "stream",
     "text": [
      "File /home/cb/sis2/data/tfrecords256/00013_273x795.tfrecord is new\n"
     ]
    },
    {
     "name": "stderr",
     "output_type": "stream",
     "text": [
      "Warning 1: TIFFReadDirectory:Sum of Photometric type-related color channels and ExtraSamples doesn't match SamplesPerPixel. Defining non-color channels as ExtraSamples.\n"
     ]
    },
    {
     "name": "stdout",
     "output_type": "stream",
     "text": [
      "File /home/cb/sis2/data/tfrecords256/00013_273x1056.tfrecord is new\n"
     ]
    },
    {
     "name": "stderr",
     "output_type": "stream",
     "text": [
      "Warning 1: TIFFReadDirectory:Sum of Photometric type-related color channels and ExtraSamples doesn't match SamplesPerPixel. Defining non-color channels as ExtraSamples.\n"
     ]
    },
    {
     "name": "stdout",
     "output_type": "stream",
     "text": [
      "File /home/cb/sis2/data/tfrecords256/00013_273x1317.tfrecord is new\n"
     ]
    },
    {
     "name": "stderr",
     "output_type": "stream",
     "text": [
      "Warning 1: TIFFReadDirectory:Sum of Photometric type-related color channels and ExtraSamples doesn't match SamplesPerPixel. Defining non-color channels as ExtraSamples.\n"
     ]
    },
    {
     "name": "stdout",
     "output_type": "stream",
     "text": [
      "File /home/cb/sis2/data/tfrecords256/00013_273x1578.tfrecord is new\n"
     ]
    },
    {
     "name": "stderr",
     "output_type": "stream",
     "text": [
      "Warning 1: TIFFReadDirectory:Sum of Photometric type-related color channels and ExtraSamples doesn't match SamplesPerPixel. Defining non-color channels as ExtraSamples.\n"
     ]
    },
    {
     "name": "stdout",
     "output_type": "stream",
     "text": [
      "File /home/cb/sis2/data/tfrecords256/00013_273x1839.tfrecord is new\n"
     ]
    },
    {
     "name": "stderr",
     "output_type": "stream",
     "text": [
      "Warning 1: TIFFReadDirectory:Sum of Photometric type-related color channels and ExtraSamples doesn't match SamplesPerPixel. Defining non-color channels as ExtraSamples.\n"
     ]
    },
    {
     "name": "stdout",
     "output_type": "stream",
     "text": [
      "File /home/cb/sis2/data/tfrecords256/00013_273x4710.tfrecord is new\n"
     ]
    },
    {
     "name": "stderr",
     "output_type": "stream",
     "text": [
      "Warning 1: TIFFReadDirectory:Sum of Photometric type-related color channels and ExtraSamples doesn't match SamplesPerPixel. Defining non-color channels as ExtraSamples.\n"
     ]
    },
    {
     "name": "stdout",
     "output_type": "stream",
     "text": [
      "File /home/cb/sis2/data/tfrecords256/00013_273x4971.tfrecord is new\n"
     ]
    },
    {
     "name": "stderr",
     "output_type": "stream",
     "text": [
      "Warning 1: TIFFReadDirectory:Sum of Photometric type-related color channels and ExtraSamples doesn't match SamplesPerPixel. Defining non-color channels as ExtraSamples.\n"
     ]
    },
    {
     "name": "stdout",
     "output_type": "stream",
     "text": [
      "File /home/cb/sis2/data/tfrecords256/00013_273x5232.tfrecord is new\n"
     ]
    },
    {
     "name": "stderr",
     "output_type": "stream",
     "text": [
      "Warning 1: TIFFReadDirectory:Sum of Photometric type-related color channels and ExtraSamples doesn't match SamplesPerPixel. Defining non-color channels as ExtraSamples.\n"
     ]
    },
    {
     "name": "stdout",
     "output_type": "stream",
     "text": [
      "File /home/cb/sis2/data/tfrecords256/00013_273x5493.tfrecord is new\n"
     ]
    },
    {
     "name": "stderr",
     "output_type": "stream",
     "text": [
      "Warning 1: TIFFReadDirectory:Sum of Photometric type-related color channels and ExtraSamples doesn't match SamplesPerPixel. Defining non-color channels as ExtraSamples.\n"
     ]
    },
    {
     "name": "stdout",
     "output_type": "stream",
     "text": [
      "File /home/cb/sis2/data/tfrecords256/00013_273x5754.tfrecord is new\n"
     ]
    },
    {
     "name": "stderr",
     "output_type": "stream",
     "text": [
      "Warning 1: TIFFReadDirectory:Sum of Photometric type-related color channels and ExtraSamples doesn't match SamplesPerPixel. Defining non-color channels as ExtraSamples.\n"
     ]
    },
    {
     "name": "stdout",
     "output_type": "stream",
     "text": [
      "File /home/cb/sis2/data/tfrecords256/00013_273x6015.tfrecord is new\n"
     ]
    },
    {
     "name": "stderr",
     "output_type": "stream",
     "text": [
      "Warning 1: TIFFReadDirectory:Sum of Photometric type-related color channels and ExtraSamples doesn't match SamplesPerPixel. Defining non-color channels as ExtraSamples.\n"
     ]
    },
    {
     "name": "stdout",
     "output_type": "stream",
     "text": [
      "File /home/cb/sis2/data/tfrecords256/00013_273x6276.tfrecord is new\n"
     ]
    },
    {
     "name": "stderr",
     "output_type": "stream",
     "text": [
      "Warning 1: TIFFReadDirectory:Sum of Photometric type-related color channels and ExtraSamples doesn't match SamplesPerPixel. Defining non-color channels as ExtraSamples.\n"
     ]
    },
    {
     "name": "stdout",
     "output_type": "stream",
     "text": [
      "File /home/cb/sis2/data/tfrecords256/00013_273x6798.tfrecord is new\n"
     ]
    },
    {
     "name": "stderr",
     "output_type": "stream",
     "text": [
      "Warning 1: TIFFReadDirectory:Sum of Photometric type-related color channels and ExtraSamples doesn't match SamplesPerPixel. Defining non-color channels as ExtraSamples.\n"
     ]
    },
    {
     "name": "stdout",
     "output_type": "stream",
     "text": [
      "File /home/cb/sis2/data/tfrecords256/00013_273x7059.tfrecord is new\n"
     ]
    },
    {
     "name": "stderr",
     "output_type": "stream",
     "text": [
      "Warning 1: TIFFReadDirectory:Sum of Photometric type-related color channels and ExtraSamples doesn't match SamplesPerPixel. Defining non-color channels as ExtraSamples.\n"
     ]
    },
    {
     "name": "stdout",
     "output_type": "stream",
     "text": [
      "File /home/cb/sis2/data/tfrecords256/00013_273x7320.tfrecord is new\n"
     ]
    },
    {
     "name": "stderr",
     "output_type": "stream",
     "text": [
      "Warning 1: TIFFReadDirectory:Sum of Photometric type-related color channels and ExtraSamples doesn't match SamplesPerPixel. Defining non-color channels as ExtraSamples.\n"
     ]
    },
    {
     "name": "stdout",
     "output_type": "stream",
     "text": [
      "File /home/cb/sis2/data/tfrecords256/00013_534x1056.tfrecord is new\n"
     ]
    },
    {
     "name": "stderr",
     "output_type": "stream",
     "text": [
      "Warning 1: TIFFReadDirectory:Sum of Photometric type-related color channels and ExtraSamples doesn't match SamplesPerPixel. Defining non-color channels as ExtraSamples.\n"
     ]
    },
    {
     "name": "stdout",
     "output_type": "stream",
     "text": [
      "File /home/cb/sis2/data/tfrecords256/00013_534x4188.tfrecord is new\n"
     ]
    },
    {
     "name": "stderr",
     "output_type": "stream",
     "text": [
      "Warning 1: TIFFReadDirectory:Sum of Photometric type-related color channels and ExtraSamples doesn't match SamplesPerPixel. Defining non-color channels as ExtraSamples.\n"
     ]
    },
    {
     "name": "stdout",
     "output_type": "stream",
     "text": [
      "File /home/cb/sis2/data/tfrecords256/00013_534x4449.tfrecord is new\n"
     ]
    },
    {
     "name": "stderr",
     "output_type": "stream",
     "text": [
      "Warning 1: TIFFReadDirectory:Sum of Photometric type-related color channels and ExtraSamples doesn't match SamplesPerPixel. Defining non-color channels as ExtraSamples.\n"
     ]
    },
    {
     "name": "stdout",
     "output_type": "stream",
     "text": [
      "File /home/cb/sis2/data/tfrecords256/00013_534x4710.tfrecord is new\n"
     ]
    },
    {
     "name": "stderr",
     "output_type": "stream",
     "text": [
      "Warning 1: TIFFReadDirectory:Sum of Photometric type-related color channels and ExtraSamples doesn't match SamplesPerPixel. Defining non-color channels as ExtraSamples.\n"
     ]
    },
    {
     "name": "stdout",
     "output_type": "stream",
     "text": [
      "File /home/cb/sis2/data/tfrecords256/00013_534x4971.tfrecord is new\n"
     ]
    },
    {
     "name": "stderr",
     "output_type": "stream",
     "text": [
      "Warning 1: TIFFReadDirectory:Sum of Photometric type-related color channels and ExtraSamples doesn't match SamplesPerPixel. Defining non-color channels as ExtraSamples.\n"
     ]
    },
    {
     "name": "stdout",
     "output_type": "stream",
     "text": [
      "File /home/cb/sis2/data/tfrecords256/00013_534x5232.tfrecord is new\n"
     ]
    },
    {
     "name": "stderr",
     "output_type": "stream",
     "text": [
      "Warning 1: TIFFReadDirectory:Sum of Photometric type-related color channels and ExtraSamples doesn't match SamplesPerPixel. Defining non-color channels as ExtraSamples.\n"
     ]
    },
    {
     "name": "stdout",
     "output_type": "stream",
     "text": [
      "File /home/cb/sis2/data/tfrecords256/00013_534x6015.tfrecord is new\n"
     ]
    },
    {
     "name": "stderr",
     "output_type": "stream",
     "text": [
      "Warning 1: TIFFReadDirectory:Sum of Photometric type-related color channels and ExtraSamples doesn't match SamplesPerPixel. Defining non-color channels as ExtraSamples.\n"
     ]
    },
    {
     "name": "stdout",
     "output_type": "stream",
     "text": [
      "File /home/cb/sis2/data/tfrecords256/00013_534x6276.tfrecord is new\n"
     ]
    },
    {
     "name": "stderr",
     "output_type": "stream",
     "text": [
      "Warning 1: TIFFReadDirectory:Sum of Photometric type-related color channels and ExtraSamples doesn't match SamplesPerPixel. Defining non-color channels as ExtraSamples.\n"
     ]
    },
    {
     "name": "stdout",
     "output_type": "stream",
     "text": [
      "File /home/cb/sis2/data/tfrecords256/00013_534x6537.tfrecord is new\n"
     ]
    },
    {
     "name": "stderr",
     "output_type": "stream",
     "text": [
      "Warning 1: TIFFReadDirectory:Sum of Photometric type-related color channels and ExtraSamples doesn't match SamplesPerPixel. Defining non-color channels as ExtraSamples.\n"
     ]
    },
    {
     "name": "stdout",
     "output_type": "stream",
     "text": [
      "File /home/cb/sis2/data/tfrecords256/00013_534x6798.tfrecord is new\n"
     ]
    },
    {
     "name": "stderr",
     "output_type": "stream",
     "text": [
      "Warning 1: TIFFReadDirectory:Sum of Photometric type-related color channels and ExtraSamples doesn't match SamplesPerPixel. Defining non-color channels as ExtraSamples.\n"
     ]
    },
    {
     "name": "stdout",
     "output_type": "stream",
     "text": [
      "File /home/cb/sis2/data/tfrecords256/00013_534x7059.tfrecord is new\n"
     ]
    },
    {
     "name": "stderr",
     "output_type": "stream",
     "text": [
      "Warning 1: TIFFReadDirectory:Sum of Photometric type-related color channels and ExtraSamples doesn't match SamplesPerPixel. Defining non-color channels as ExtraSamples.\n"
     ]
    },
    {
     "name": "stdout",
     "output_type": "stream",
     "text": [
      "File /home/cb/sis2/data/tfrecords256/00013_534x7320.tfrecord is new\n"
     ]
    },
    {
     "name": "stderr",
     "output_type": "stream",
     "text": [
      "Warning 1: TIFFReadDirectory:Sum of Photometric type-related color channels and ExtraSamples doesn't match SamplesPerPixel. Defining non-color channels as ExtraSamples.\n"
     ]
    },
    {
     "name": "stdout",
     "output_type": "stream",
     "text": [
      "File /home/cb/sis2/data/tfrecords256/00013_795x1056.tfrecord is new\n"
     ]
    },
    {
     "name": "stderr",
     "output_type": "stream",
     "text": [
      "Warning 1: TIFFReadDirectory:Sum of Photometric type-related color channels and ExtraSamples doesn't match SamplesPerPixel. Defining non-color channels as ExtraSamples.\n"
     ]
    },
    {
     "name": "stdout",
     "output_type": "stream",
     "text": [
      "File /home/cb/sis2/data/tfrecords256/00013_795x1317.tfrecord is new\n"
     ]
    },
    {
     "name": "stderr",
     "output_type": "stream",
     "text": [
      "Warning 1: TIFFReadDirectory:Sum of Photometric type-related color channels and ExtraSamples doesn't match SamplesPerPixel. Defining non-color channels as ExtraSamples.\n"
     ]
    },
    {
     "name": "stdout",
     "output_type": "stream",
     "text": [
      "File /home/cb/sis2/data/tfrecords256/00013_795x3666.tfrecord is new\n"
     ]
    },
    {
     "name": "stderr",
     "output_type": "stream",
     "text": [
      "Warning 1: TIFFReadDirectory:Sum of Photometric type-related color channels and ExtraSamples doesn't match SamplesPerPixel. Defining non-color channels as ExtraSamples.\n"
     ]
    },
    {
     "name": "stdout",
     "output_type": "stream",
     "text": [
      "File /home/cb/sis2/data/tfrecords256/00013_795x3927.tfrecord is new\n"
     ]
    },
    {
     "name": "stderr",
     "output_type": "stream",
     "text": [
      "Warning 1: TIFFReadDirectory:Sum of Photometric type-related color channels and ExtraSamples doesn't match SamplesPerPixel. Defining non-color channels as ExtraSamples.\n"
     ]
    },
    {
     "name": "stdout",
     "output_type": "stream",
     "text": [
      "File /home/cb/sis2/data/tfrecords256/00013_795x4710.tfrecord is new\n"
     ]
    },
    {
     "name": "stderr",
     "output_type": "stream",
     "text": [
      "Warning 1: TIFFReadDirectory:Sum of Photometric type-related color channels and ExtraSamples doesn't match SamplesPerPixel. Defining non-color channels as ExtraSamples.\n"
     ]
    },
    {
     "name": "stdout",
     "output_type": "stream",
     "text": [
      "File /home/cb/sis2/data/tfrecords256/00013_795x4971.tfrecord is new\n"
     ]
    },
    {
     "name": "stderr",
     "output_type": "stream",
     "text": [
      "Warning 1: TIFFReadDirectory:Sum of Photometric type-related color channels and ExtraSamples doesn't match SamplesPerPixel. Defining non-color channels as ExtraSamples.\n"
     ]
    },
    {
     "name": "stdout",
     "output_type": "stream",
     "text": [
      "File /home/cb/sis2/data/tfrecords256/00013_795x6276.tfrecord is new\n"
     ]
    },
    {
     "name": "stderr",
     "output_type": "stream",
     "text": [
      "Warning 1: TIFFReadDirectory:Sum of Photometric type-related color channels and ExtraSamples doesn't match SamplesPerPixel. Defining non-color channels as ExtraSamples.\n"
     ]
    },
    {
     "name": "stdout",
     "output_type": "stream",
     "text": [
      "File /home/cb/sis2/data/tfrecords256/00013_795x6537.tfrecord is new\n"
     ]
    },
    {
     "name": "stderr",
     "output_type": "stream",
     "text": [
      "Warning 1: TIFFReadDirectory:Sum of Photometric type-related color channels and ExtraSamples doesn't match SamplesPerPixel. Defining non-color channels as ExtraSamples.\n"
     ]
    },
    {
     "name": "stdout",
     "output_type": "stream",
     "text": [
      "File /home/cb/sis2/data/tfrecords256/00013_795x6798.tfrecord is new\n"
     ]
    },
    {
     "name": "stderr",
     "output_type": "stream",
     "text": [
      "Warning 1: TIFFReadDirectory:Sum of Photometric type-related color channels and ExtraSamples doesn't match SamplesPerPixel. Defining non-color channels as ExtraSamples.\n"
     ]
    },
    {
     "name": "stdout",
     "output_type": "stream",
     "text": [
      "File /home/cb/sis2/data/tfrecords256/00013_795x7059.tfrecord is new\n"
     ]
    },
    {
     "name": "stderr",
     "output_type": "stream",
     "text": [
      "Warning 1: TIFFReadDirectory:Sum of Photometric type-related color channels and ExtraSamples doesn't match SamplesPerPixel. Defining non-color channels as ExtraSamples.\n"
     ]
    },
    {
     "name": "stdout",
     "output_type": "stream",
     "text": [
      "File /home/cb/sis2/data/tfrecords256/00013_1056x12.tfrecord is new\n"
     ]
    },
    {
     "name": "stderr",
     "output_type": "stream",
     "text": [
      "Warning 1: TIFFReadDirectory:Sum of Photometric type-related color channels and ExtraSamples doesn't match SamplesPerPixel. Defining non-color channels as ExtraSamples.\n"
     ]
    },
    {
     "name": "stdout",
     "output_type": "stream",
     "text": [
      "File /home/cb/sis2/data/tfrecords256/00013_1056x273.tfrecord is new\n"
     ]
    },
    {
     "name": "stderr",
     "output_type": "stream",
     "text": [
      "Warning 1: TIFFReadDirectory:Sum of Photometric type-related color channels and ExtraSamples doesn't match SamplesPerPixel. Defining non-color channels as ExtraSamples.\n"
     ]
    },
    {
     "name": "stdout",
     "output_type": "stream",
     "text": [
      "File /home/cb/sis2/data/tfrecords256/00013_1056x534.tfrecord is new\n"
     ]
    },
    {
     "name": "stderr",
     "output_type": "stream",
     "text": [
      "Warning 1: TIFFReadDirectory:Sum of Photometric type-related color channels and ExtraSamples doesn't match SamplesPerPixel. Defining non-color channels as ExtraSamples.\n"
     ]
    },
    {
     "name": "stdout",
     "output_type": "stream",
     "text": [
      "File /home/cb/sis2/data/tfrecords256/00013_1056x3666.tfrecord is new\n"
     ]
    },
    {
     "name": "stderr",
     "output_type": "stream",
     "text": [
      "Warning 1: TIFFReadDirectory:Sum of Photometric type-related color channels and ExtraSamples doesn't match SamplesPerPixel. Defining non-color channels as ExtraSamples.\n"
     ]
    },
    {
     "name": "stdout",
     "output_type": "stream",
     "text": [
      "File /home/cb/sis2/data/tfrecords256/00013_1056x3927.tfrecord is new\n"
     ]
    },
    {
     "name": "stderr",
     "output_type": "stream",
     "text": [
      "Warning 1: TIFFReadDirectory:Sum of Photometric type-related color channels and ExtraSamples doesn't match SamplesPerPixel. Defining non-color channels as ExtraSamples.\n"
     ]
    },
    {
     "name": "stdout",
     "output_type": "stream",
     "text": [
      "File /home/cb/sis2/data/tfrecords256/00013_1056x4188.tfrecord is new\n"
     ]
    },
    {
     "name": "stderr",
     "output_type": "stream",
     "text": [
      "Warning 1: TIFFReadDirectory:Sum of Photometric type-related color channels and ExtraSamples doesn't match SamplesPerPixel. Defining non-color channels as ExtraSamples.\n"
     ]
    },
    {
     "name": "stdout",
     "output_type": "stream",
     "text": [
      "File /home/cb/sis2/data/tfrecords256/00013_1056x4449.tfrecord is new\n"
     ]
    },
    {
     "name": "stderr",
     "output_type": "stream",
     "text": [
      "Warning 1: TIFFReadDirectory:Sum of Photometric type-related color channels and ExtraSamples doesn't match SamplesPerPixel. Defining non-color channels as ExtraSamples.\n"
     ]
    },
    {
     "name": "stdout",
     "output_type": "stream",
     "text": [
      "File /home/cb/sis2/data/tfrecords256/00013_1056x4710.tfrecord is new\n"
     ]
    },
    {
     "name": "stderr",
     "output_type": "stream",
     "text": [
      "Warning 1: TIFFReadDirectory:Sum of Photometric type-related color channels and ExtraSamples doesn't match SamplesPerPixel. Defining non-color channels as ExtraSamples.\n"
     ]
    },
    {
     "name": "stdout",
     "output_type": "stream",
     "text": [
      "File /home/cb/sis2/data/tfrecords256/00013_1056x6798.tfrecord is new\n"
     ]
    },
    {
     "name": "stderr",
     "output_type": "stream",
     "text": [
      "Warning 1: TIFFReadDirectory:Sum of Photometric type-related color channels and ExtraSamples doesn't match SamplesPerPixel. Defining non-color channels as ExtraSamples.\n"
     ]
    },
    {
     "name": "stdout",
     "output_type": "stream",
     "text": [
      "File /home/cb/sis2/data/tfrecords256/00013_1317x12.tfrecord is new\n"
     ]
    },
    {
     "name": "stderr",
     "output_type": "stream",
     "text": [
      "Warning 1: TIFFReadDirectory:Sum of Photometric type-related color channels and ExtraSamples doesn't match SamplesPerPixel. Defining non-color channels as ExtraSamples.\n"
     ]
    },
    {
     "name": "stdout",
     "output_type": "stream",
     "text": [
      "File /home/cb/sis2/data/tfrecords256/00013_1317x534.tfrecord is new\n"
     ]
    },
    {
     "name": "stderr",
     "output_type": "stream",
     "text": [
      "Warning 1: TIFFReadDirectory:Sum of Photometric type-related color channels and ExtraSamples doesn't match SamplesPerPixel. Defining non-color channels as ExtraSamples.\n"
     ]
    },
    {
     "name": "stdout",
     "output_type": "stream",
     "text": [
      "File /home/cb/sis2/data/tfrecords256/00013_1317x795.tfrecord is new\n"
     ]
    },
    {
     "name": "stderr",
     "output_type": "stream",
     "text": [
      "Warning 1: TIFFReadDirectory:Sum of Photometric type-related color channels and ExtraSamples doesn't match SamplesPerPixel. Defining non-color channels as ExtraSamples.\n"
     ]
    },
    {
     "name": "stdout",
     "output_type": "stream",
     "text": [
      "File /home/cb/sis2/data/tfrecords256/00013_1317x2883.tfrecord is new\n"
     ]
    },
    {
     "name": "stderr",
     "output_type": "stream",
     "text": [
      "Warning 1: TIFFReadDirectory:Sum of Photometric type-related color channels and ExtraSamples doesn't match SamplesPerPixel. Defining non-color channels as ExtraSamples.\n"
     ]
    },
    {
     "name": "stdout",
     "output_type": "stream",
     "text": [
      "File /home/cb/sis2/data/tfrecords256/00013_1317x3144.tfrecord is new\n"
     ]
    },
    {
     "name": "stderr",
     "output_type": "stream",
     "text": [
      "Warning 1: TIFFReadDirectory:Sum of Photometric type-related color channels and ExtraSamples doesn't match SamplesPerPixel. Defining non-color channels as ExtraSamples.\n"
     ]
    },
    {
     "name": "stdout",
     "output_type": "stream",
     "text": [
      "File /home/cb/sis2/data/tfrecords256/00013_1317x3405.tfrecord is new\n"
     ]
    },
    {
     "name": "stderr",
     "output_type": "stream",
     "text": [
      "Warning 1: TIFFReadDirectory:Sum of Photometric type-related color channels and ExtraSamples doesn't match SamplesPerPixel. Defining non-color channels as ExtraSamples.\n"
     ]
    },
    {
     "name": "stdout",
     "output_type": "stream",
     "text": [
      "File /home/cb/sis2/data/tfrecords256/00013_1317x3666.tfrecord is new\n"
     ]
    },
    {
     "name": "stderr",
     "output_type": "stream",
     "text": [
      "Warning 1: TIFFReadDirectory:Sum of Photometric type-related color channels and ExtraSamples doesn't match SamplesPerPixel. Defining non-color channels as ExtraSamples.\n"
     ]
    },
    {
     "name": "stdout",
     "output_type": "stream",
     "text": [
      "File /home/cb/sis2/data/tfrecords256/00013_1317x3927.tfrecord is new\n"
     ]
    },
    {
     "name": "stderr",
     "output_type": "stream",
     "text": [
      "Warning 1: TIFFReadDirectory:Sum of Photometric type-related color channels and ExtraSamples doesn't match SamplesPerPixel. Defining non-color channels as ExtraSamples.\n"
     ]
    },
    {
     "name": "stdout",
     "output_type": "stream",
     "text": [
      "File /home/cb/sis2/data/tfrecords256/00013_1317x4188.tfrecord is new\n"
     ]
    },
    {
     "name": "stderr",
     "output_type": "stream",
     "text": [
      "Warning 1: TIFFReadDirectory:Sum of Photometric type-related color channels and ExtraSamples doesn't match SamplesPerPixel. Defining non-color channels as ExtraSamples.\n"
     ]
    },
    {
     "name": "stdout",
     "output_type": "stream",
     "text": [
      "File /home/cb/sis2/data/tfrecords256/00013_1317x4449.tfrecord is new\n"
     ]
    },
    {
     "name": "stderr",
     "output_type": "stream",
     "text": [
      "Warning 1: TIFFReadDirectory:Sum of Photometric type-related color channels and ExtraSamples doesn't match SamplesPerPixel. Defining non-color channels as ExtraSamples.\n"
     ]
    },
    {
     "name": "stdout",
     "output_type": "stream",
     "text": [
      "File /home/cb/sis2/data/tfrecords256/00013_1317x4710.tfrecord is new\n"
     ]
    },
    {
     "name": "stderr",
     "output_type": "stream",
     "text": [
      "Warning 1: TIFFReadDirectory:Sum of Photometric type-related color channels and ExtraSamples doesn't match SamplesPerPixel. Defining non-color channels as ExtraSamples.\n"
     ]
    },
    {
     "name": "stdout",
     "output_type": "stream",
     "text": [
      "File /home/cb/sis2/data/tfrecords256/00013_1578x12.tfrecord is new\n"
     ]
    },
    {
     "name": "stderr",
     "output_type": "stream",
     "text": [
      "Warning 1: TIFFReadDirectory:Sum of Photometric type-related color channels and ExtraSamples doesn't match SamplesPerPixel. Defining non-color channels as ExtraSamples.\n"
     ]
    },
    {
     "name": "stdout",
     "output_type": "stream",
     "text": [
      "File /home/cb/sis2/data/tfrecords256/00013_1578x273.tfrecord is new\n"
     ]
    },
    {
     "name": "stderr",
     "output_type": "stream",
     "text": [
      "Warning 1: TIFFReadDirectory:Sum of Photometric type-related color channels and ExtraSamples doesn't match SamplesPerPixel. Defining non-color channels as ExtraSamples.\n"
     ]
    },
    {
     "name": "stdout",
     "output_type": "stream",
     "text": [
      "File /home/cb/sis2/data/tfrecords256/00013_1578x534.tfrecord is new\n"
     ]
    },
    {
     "name": "stderr",
     "output_type": "stream",
     "text": [
      "Warning 1: TIFFReadDirectory:Sum of Photometric type-related color channels and ExtraSamples doesn't match SamplesPerPixel. Defining non-color channels as ExtraSamples.\n"
     ]
    },
    {
     "name": "stdout",
     "output_type": "stream",
     "text": [
      "File /home/cb/sis2/data/tfrecords256/00013_1578x795.tfrecord is new\n"
     ]
    },
    {
     "name": "stderr",
     "output_type": "stream",
     "text": [
      "Warning 1: TIFFReadDirectory:Sum of Photometric type-related color channels and ExtraSamples doesn't match SamplesPerPixel. Defining non-color channels as ExtraSamples.\n"
     ]
    },
    {
     "name": "stdout",
     "output_type": "stream",
     "text": [
      "File /home/cb/sis2/data/tfrecords256/00013_1578x1056.tfrecord is new\n"
     ]
    },
    {
     "name": "stderr",
     "output_type": "stream",
     "text": [
      "Warning 1: TIFFReadDirectory:Sum of Photometric type-related color channels and ExtraSamples doesn't match SamplesPerPixel. Defining non-color channels as ExtraSamples.\n"
     ]
    },
    {
     "name": "stdout",
     "output_type": "stream",
     "text": [
      "File /home/cb/sis2/data/tfrecords256/00013_1578x1317.tfrecord is new\n"
     ]
    },
    {
     "name": "stderr",
     "output_type": "stream",
     "text": [
      "Warning 1: TIFFReadDirectory:Sum of Photometric type-related color channels and ExtraSamples doesn't match SamplesPerPixel. Defining non-color channels as ExtraSamples.\n"
     ]
    },
    {
     "name": "stdout",
     "output_type": "stream",
     "text": [
      "File /home/cb/sis2/data/tfrecords256/00013_1578x2361.tfrecord is new\n"
     ]
    },
    {
     "name": "stderr",
     "output_type": "stream",
     "text": [
      "Warning 1: TIFFReadDirectory:Sum of Photometric type-related color channels and ExtraSamples doesn't match SamplesPerPixel. Defining non-color channels as ExtraSamples.\n"
     ]
    },
    {
     "name": "stdout",
     "output_type": "stream",
     "text": [
      "File /home/cb/sis2/data/tfrecords256/00013_1578x3405.tfrecord is new\n"
     ]
    },
    {
     "name": "stderr",
     "output_type": "stream",
     "text": [
      "Warning 1: TIFFReadDirectory:Sum of Photometric type-related color channels and ExtraSamples doesn't match SamplesPerPixel. Defining non-color channels as ExtraSamples.\n"
     ]
    },
    {
     "name": "stdout",
     "output_type": "stream",
     "text": [
      "File /home/cb/sis2/data/tfrecords256/00013_1578x3666.tfrecord is new\n"
     ]
    },
    {
     "name": "stderr",
     "output_type": "stream",
     "text": [
      "Warning 1: TIFFReadDirectory:Sum of Photometric type-related color channels and ExtraSamples doesn't match SamplesPerPixel. Defining non-color channels as ExtraSamples.\n"
     ]
    },
    {
     "name": "stdout",
     "output_type": "stream",
     "text": [
      "File /home/cb/sis2/data/tfrecords256/00013_1839x12.tfrecord is new\n"
     ]
    },
    {
     "name": "stderr",
     "output_type": "stream",
     "text": [
      "Warning 1: TIFFReadDirectory:Sum of Photometric type-related color channels and ExtraSamples doesn't match SamplesPerPixel. Defining non-color channels as ExtraSamples.\n"
     ]
    },
    {
     "name": "stdout",
     "output_type": "stream",
     "text": [
      "File /home/cb/sis2/data/tfrecords256/00013_1839x273.tfrecord is new\n"
     ]
    },
    {
     "name": "stderr",
     "output_type": "stream",
     "text": [
      "Warning 1: TIFFReadDirectory:Sum of Photometric type-related color channels and ExtraSamples doesn't match SamplesPerPixel. Defining non-color channels as ExtraSamples.\n"
     ]
    },
    {
     "name": "stdout",
     "output_type": "stream",
     "text": [
      "File /home/cb/sis2/data/tfrecords256/00013_1839x534.tfrecord is new\n"
     ]
    },
    {
     "name": "stderr",
     "output_type": "stream",
     "text": [
      "Warning 1: TIFFReadDirectory:Sum of Photometric type-related color channels and ExtraSamples doesn't match SamplesPerPixel. Defining non-color channels as ExtraSamples.\n"
     ]
    },
    {
     "name": "stdout",
     "output_type": "stream",
     "text": [
      "File /home/cb/sis2/data/tfrecords256/00013_1839x795.tfrecord is new\n"
     ]
    },
    {
     "name": "stderr",
     "output_type": "stream",
     "text": [
      "Warning 1: TIFFReadDirectory:Sum of Photometric type-related color channels and ExtraSamples doesn't match SamplesPerPixel. Defining non-color channels as ExtraSamples.\n"
     ]
    },
    {
     "name": "stdout",
     "output_type": "stream",
     "text": [
      "File /home/cb/sis2/data/tfrecords256/00013_1839x1056.tfrecord is new\n"
     ]
    },
    {
     "name": "stderr",
     "output_type": "stream",
     "text": [
      "Warning 1: TIFFReadDirectory:Sum of Photometric type-related color channels and ExtraSamples doesn't match SamplesPerPixel. Defining non-color channels as ExtraSamples.\n"
     ]
    },
    {
     "name": "stdout",
     "output_type": "stream",
     "text": [
      "File /home/cb/sis2/data/tfrecords256/00013_1839x1317.tfrecord is new\n"
     ]
    },
    {
     "name": "stderr",
     "output_type": "stream",
     "text": [
      "Warning 1: TIFFReadDirectory:Sum of Photometric type-related color channels and ExtraSamples doesn't match SamplesPerPixel. Defining non-color channels as ExtraSamples.\n"
     ]
    },
    {
     "name": "stdout",
     "output_type": "stream",
     "text": [
      "File /home/cb/sis2/data/tfrecords256/00013_1839x1578.tfrecord is new\n"
     ]
    },
    {
     "name": "stderr",
     "output_type": "stream",
     "text": [
      "Warning 1: TIFFReadDirectory:Sum of Photometric type-related color channels and ExtraSamples doesn't match SamplesPerPixel. Defining non-color channels as ExtraSamples.\n"
     ]
    },
    {
     "name": "stdout",
     "output_type": "stream",
     "text": [
      "File /home/cb/sis2/data/tfrecords256/00013_1839x2883.tfrecord is new\n"
     ]
    },
    {
     "name": "stderr",
     "output_type": "stream",
     "text": [
      "Warning 1: TIFFReadDirectory:Sum of Photometric type-related color channels and ExtraSamples doesn't match SamplesPerPixel. Defining non-color channels as ExtraSamples.\n"
     ]
    },
    {
     "name": "stdout",
     "output_type": "stream",
     "text": [
      "File /home/cb/sis2/data/tfrecords256/00013_2100x12.tfrecord is new\n"
     ]
    },
    {
     "name": "stderr",
     "output_type": "stream",
     "text": [
      "Warning 1: TIFFReadDirectory:Sum of Photometric type-related color channels and ExtraSamples doesn't match SamplesPerPixel. Defining non-color channels as ExtraSamples.\n"
     ]
    },
    {
     "name": "stdout",
     "output_type": "stream",
     "text": [
      "File /home/cb/sis2/data/tfrecords256/00013_2100x273.tfrecord is new\n"
     ]
    },
    {
     "name": "stderr",
     "output_type": "stream",
     "text": [
      "Warning 1: TIFFReadDirectory:Sum of Photometric type-related color channels and ExtraSamples doesn't match SamplesPerPixel. Defining non-color channels as ExtraSamples.\n"
     ]
    },
    {
     "name": "stdout",
     "output_type": "stream",
     "text": [
      "File /home/cb/sis2/data/tfrecords256/00013_2100x534.tfrecord is new\n"
     ]
    },
    {
     "name": "stderr",
     "output_type": "stream",
     "text": [
      "Warning 1: TIFFReadDirectory:Sum of Photometric type-related color channels and ExtraSamples doesn't match SamplesPerPixel. Defining non-color channels as ExtraSamples.\n"
     ]
    },
    {
     "name": "stdout",
     "output_type": "stream",
     "text": [
      "File /home/cb/sis2/data/tfrecords256/00013_2100x795.tfrecord is new\n"
     ]
    },
    {
     "name": "stderr",
     "output_type": "stream",
     "text": [
      "Warning 1: TIFFReadDirectory:Sum of Photometric type-related color channels and ExtraSamples doesn't match SamplesPerPixel. Defining non-color channels as ExtraSamples.\n"
     ]
    },
    {
     "name": "stdout",
     "output_type": "stream",
     "text": [
      "File /home/cb/sis2/data/tfrecords256/00013_2100x1056.tfrecord is new\n"
     ]
    },
    {
     "name": "stderr",
     "output_type": "stream",
     "text": [
      "Warning 1: TIFFReadDirectory:Sum of Photometric type-related color channels and ExtraSamples doesn't match SamplesPerPixel. Defining non-color channels as ExtraSamples.\n"
     ]
    },
    {
     "name": "stdout",
     "output_type": "stream",
     "text": [
      "File /home/cb/sis2/data/tfrecords256/00013_2100x1317.tfrecord is new\n"
     ]
    },
    {
     "name": "stderr",
     "output_type": "stream",
     "text": [
      "Warning 1: TIFFReadDirectory:Sum of Photometric type-related color channels and ExtraSamples doesn't match SamplesPerPixel. Defining non-color channels as ExtraSamples.\n"
     ]
    },
    {
     "name": "stdout",
     "output_type": "stream",
     "text": [
      "File /home/cb/sis2/data/tfrecords256/00013_2100x1578.tfrecord is new\n"
     ]
    },
    {
     "name": "stderr",
     "output_type": "stream",
     "text": [
      "Warning 1: TIFFReadDirectory:Sum of Photometric type-related color channels and ExtraSamples doesn't match SamplesPerPixel. Defining non-color channels as ExtraSamples.\n"
     ]
    },
    {
     "name": "stdout",
     "output_type": "stream",
     "text": [
      "File /home/cb/sis2/data/tfrecords256/00013_2361x273.tfrecord is new\n"
     ]
    },
    {
     "name": "stderr",
     "output_type": "stream",
     "text": [
      "Warning 1: TIFFReadDirectory:Sum of Photometric type-related color channels and ExtraSamples doesn't match SamplesPerPixel. Defining non-color channels as ExtraSamples.\n"
     ]
    },
    {
     "name": "stdout",
     "output_type": "stream",
     "text": [
      "File /home/cb/sis2/data/tfrecords256/00013_2361x534.tfrecord is new\n"
     ]
    },
    {
     "name": "stderr",
     "output_type": "stream",
     "text": [
      "Warning 1: TIFFReadDirectory:Sum of Photometric type-related color channels and ExtraSamples doesn't match SamplesPerPixel. Defining non-color channels as ExtraSamples.\n"
     ]
    },
    {
     "name": "stdout",
     "output_type": "stream",
     "text": [
      "File /home/cb/sis2/data/tfrecords256/00013_2361x795.tfrecord is new\n"
     ]
    },
    {
     "name": "stderr",
     "output_type": "stream",
     "text": [
      "Warning 1: TIFFReadDirectory:Sum of Photometric type-related color channels and ExtraSamples doesn't match SamplesPerPixel. Defining non-color channels as ExtraSamples.\n"
     ]
    },
    {
     "name": "stdout",
     "output_type": "stream",
     "text": [
      "File /home/cb/sis2/data/tfrecords256/00013_2361x1056.tfrecord is new\n"
     ]
    },
    {
     "name": "stderr",
     "output_type": "stream",
     "text": [
      "Warning 1: TIFFReadDirectory:Sum of Photometric type-related color channels and ExtraSamples doesn't match SamplesPerPixel. Defining non-color channels as ExtraSamples.\n"
     ]
    },
    {
     "name": "stdout",
     "output_type": "stream",
     "text": [
      "File /home/cb/sis2/data/tfrecords256/00013_2361x1317.tfrecord is new\n"
     ]
    },
    {
     "name": "stderr",
     "output_type": "stream",
     "text": [
      "Warning 1: TIFFReadDirectory:Sum of Photometric type-related color channels and ExtraSamples doesn't match SamplesPerPixel. Defining non-color channels as ExtraSamples.\n"
     ]
    },
    {
     "name": "stdout",
     "output_type": "stream",
     "text": [
      "File /home/cb/sis2/data/tfrecords256/00013_2361x1578.tfrecord is new\n"
     ]
    },
    {
     "name": "stderr",
     "output_type": "stream",
     "text": [
      "Warning 1: TIFFReadDirectory:Sum of Photometric type-related color channels and ExtraSamples doesn't match SamplesPerPixel. Defining non-color channels as ExtraSamples.\n"
     ]
    },
    {
     "name": "stdout",
     "output_type": "stream",
     "text": [
      "File /home/cb/sis2/data/tfrecords256/00013_2622x534.tfrecord is new\n"
     ]
    },
    {
     "name": "stderr",
     "output_type": "stream",
     "text": [
      "Warning 1: TIFFReadDirectory:Sum of Photometric type-related color channels and ExtraSamples doesn't match SamplesPerPixel. Defining non-color channels as ExtraSamples.\n"
     ]
    },
    {
     "name": "stdout",
     "output_type": "stream",
     "text": [
      "File /home/cb/sis2/data/tfrecords256/00013_2622x795.tfrecord is new\n"
     ]
    },
    {
     "name": "stderr",
     "output_type": "stream",
     "text": [
      "Warning 1: TIFFReadDirectory:Sum of Photometric type-related color channels and ExtraSamples doesn't match SamplesPerPixel. Defining non-color channels as ExtraSamples.\n"
     ]
    },
    {
     "name": "stdout",
     "output_type": "stream",
     "text": [
      "File /home/cb/sis2/data/tfrecords256/00013_2622x1056.tfrecord is new\n"
     ]
    },
    {
     "name": "stderr",
     "output_type": "stream",
     "text": [
      "Warning 1: TIFFReadDirectory:Sum of Photometric type-related color channels and ExtraSamples doesn't match SamplesPerPixel. Defining non-color channels as ExtraSamples.\n"
     ]
    },
    {
     "name": "stdout",
     "output_type": "stream",
     "text": [
      "File /home/cb/sis2/data/tfrecords256/00013_2622x1317.tfrecord is new\n"
     ]
    },
    {
     "name": "stderr",
     "output_type": "stream",
     "text": [
      "Warning 1: TIFFReadDirectory:Sum of Photometric type-related color channels and ExtraSamples doesn't match SamplesPerPixel. Defining non-color channels as ExtraSamples.\n"
     ]
    },
    {
     "name": "stdout",
     "output_type": "stream",
     "text": [
      "File /home/cb/sis2/data/tfrecords256/00013_2622x1578.tfrecord is new\n"
     ]
    },
    {
     "name": "stderr",
     "output_type": "stream",
     "text": [
      "Warning 1: TIFFReadDirectory:Sum of Photometric type-related color channels and ExtraSamples doesn't match SamplesPerPixel. Defining non-color channels as ExtraSamples.\n"
     ]
    },
    {
     "name": "stdout",
     "output_type": "stream",
     "text": [
      "File /home/cb/sis2/data/tfrecords256/00013_2883x534.tfrecord is new\n"
     ]
    },
    {
     "name": "stderr",
     "output_type": "stream",
     "text": [
      "Warning 1: TIFFReadDirectory:Sum of Photometric type-related color channels and ExtraSamples doesn't match SamplesPerPixel. Defining non-color channels as ExtraSamples.\n"
     ]
    },
    {
     "name": "stdout",
     "output_type": "stream",
     "text": [
      "File /home/cb/sis2/data/tfrecords256/00013_2883x795.tfrecord is new\n"
     ]
    },
    {
     "name": "stderr",
     "output_type": "stream",
     "text": [
      "Warning 1: TIFFReadDirectory:Sum of Photometric type-related color channels and ExtraSamples doesn't match SamplesPerPixel. Defining non-color channels as ExtraSamples.\n"
     ]
    },
    {
     "name": "stdout",
     "output_type": "stream",
     "text": [
      "File /home/cb/sis2/data/tfrecords256/00013_2883x1056.tfrecord is new\n"
     ]
    },
    {
     "name": "stderr",
     "output_type": "stream",
     "text": [
      "Warning 1: TIFFReadDirectory:Sum of Photometric type-related color channels and ExtraSamples doesn't match SamplesPerPixel. Defining non-color channels as ExtraSamples.\n"
     ]
    },
    {
     "name": "stdout",
     "output_type": "stream",
     "text": [
      "File /home/cb/sis2/data/tfrecords256/00013_2883x1317.tfrecord is new\n"
     ]
    },
    {
     "name": "stderr",
     "output_type": "stream",
     "text": [
      "Warning 1: TIFFReadDirectory:Sum of Photometric type-related color channels and ExtraSamples doesn't match SamplesPerPixel. Defining non-color channels as ExtraSamples.\n"
     ]
    },
    {
     "name": "stdout",
     "output_type": "stream",
     "text": [
      "File /home/cb/sis2/data/tfrecords256/00013_2883x1578.tfrecord is new\n"
     ]
    },
    {
     "name": "stderr",
     "output_type": "stream",
     "text": [
      "Warning 1: TIFFReadDirectory:Sum of Photometric type-related color channels and ExtraSamples doesn't match SamplesPerPixel. Defining non-color channels as ExtraSamples.\n"
     ]
    },
    {
     "name": "stdout",
     "output_type": "stream",
     "text": [
      "File /home/cb/sis2/data/tfrecords256/00013_3144x1317.tfrecord is new\n"
     ]
    },
    {
     "name": "stderr",
     "output_type": "stream",
     "text": [
      "Warning 1: TIFFReadDirectory:Sum of Photometric type-related color channels and ExtraSamples doesn't match SamplesPerPixel. Defining non-color channels as ExtraSamples.\n"
     ]
    },
    {
     "name": "stdout",
     "output_type": "stream",
     "text": [
      "File /home/cb/sis2/data/tfrecords256/00013_3144x1578.tfrecord is new\n"
     ]
    },
    {
     "name": "stderr",
     "output_type": "stream",
     "text": [
      "Warning 1: TIFFReadDirectory:Sum of Photometric type-related color channels and ExtraSamples doesn't match SamplesPerPixel. Defining non-color channels as ExtraSamples.\n"
     ]
    },
    {
     "name": "stdout",
     "output_type": "stream",
     "text": [
      "File /home/cb/sis2/data/tfrecords256/00013_3405x795.tfrecord is new\n"
     ]
    },
    {
     "name": "stderr",
     "output_type": "stream",
     "text": [
      "Warning 1: TIFFReadDirectory:Sum of Photometric type-related color channels and ExtraSamples doesn't match SamplesPerPixel. Defining non-color channels as ExtraSamples.\n"
     ]
    },
    {
     "name": "stdout",
     "output_type": "stream",
     "text": [
      "File /home/cb/sis2/data/tfrecords256/00013_3405x1317.tfrecord is new\n"
     ]
    },
    {
     "name": "stderr",
     "output_type": "stream",
     "text": [
      "Warning 1: TIFFReadDirectory:Sum of Photometric type-related color channels and ExtraSamples doesn't match SamplesPerPixel. Defining non-color channels as ExtraSamples.\n"
     ]
    },
    {
     "name": "stdout",
     "output_type": "stream",
     "text": [
      "File /home/cb/sis2/data/tfrecords256/00013_3405x1578.tfrecord is new\n"
     ]
    },
    {
     "name": "stderr",
     "output_type": "stream",
     "text": [
      "Warning 1: TIFFReadDirectory:Sum of Photometric type-related color channels and ExtraSamples doesn't match SamplesPerPixel. Defining non-color channels as ExtraSamples.\n"
     ]
    },
    {
     "name": "stdout",
     "output_type": "stream",
     "text": [
      "File /home/cb/sis2/data/tfrecords256/00013_3405x1839.tfrecord is new\n"
     ]
    },
    {
     "name": "stderr",
     "output_type": "stream",
     "text": [
      "Warning 1: TIFFReadDirectory:Sum of Photometric type-related color channels and ExtraSamples doesn't match SamplesPerPixel. Defining non-color channels as ExtraSamples.\n"
     ]
    },
    {
     "name": "stdout",
     "output_type": "stream",
     "text": [
      "File /home/cb/sis2/data/tfrecords256/00013_3666x1317.tfrecord is new\n"
     ]
    },
    {
     "name": "stderr",
     "output_type": "stream",
     "text": [
      "Warning 1: TIFFReadDirectory:Sum of Photometric type-related color channels and ExtraSamples doesn't match SamplesPerPixel. Defining non-color channels as ExtraSamples.\n"
     ]
    },
    {
     "name": "stdout",
     "output_type": "stream",
     "text": [
      "File /home/cb/sis2/data/tfrecords256/00013_3666x1578.tfrecord is new\n"
     ]
    },
    {
     "name": "stderr",
     "output_type": "stream",
     "text": [
      "Warning 1: TIFFReadDirectory:Sum of Photometric type-related color channels and ExtraSamples doesn't match SamplesPerPixel. Defining non-color channels as ExtraSamples.\n"
     ]
    },
    {
     "name": "stdout",
     "output_type": "stream",
     "text": [
      "File /home/cb/sis2/data/tfrecords256/00013_3666x1839.tfrecord is new\n"
     ]
    },
    {
     "name": "stderr",
     "output_type": "stream",
     "text": [
      "Warning 1: TIFFReadDirectory:Sum of Photometric type-related color channels and ExtraSamples doesn't match SamplesPerPixel. Defining non-color channels as ExtraSamples.\n"
     ]
    },
    {
     "name": "stdout",
     "output_type": "stream",
     "text": [
      "File /home/cb/sis2/data/tfrecords256/00013_3666x2100.tfrecord is new\n"
     ]
    },
    {
     "name": "stderr",
     "output_type": "stream",
     "text": [
      "Warning 1: TIFFReadDirectory:Sum of Photometric type-related color channels and ExtraSamples doesn't match SamplesPerPixel. Defining non-color channels as ExtraSamples.\n"
     ]
    },
    {
     "name": "stdout",
     "output_type": "stream",
     "text": [
      "File /home/cb/sis2/data/tfrecords256/00013_3927x1056.tfrecord is new\n"
     ]
    },
    {
     "name": "stderr",
     "output_type": "stream",
     "text": [
      "Warning 1: TIFFReadDirectory:Sum of Photometric type-related color channels and ExtraSamples doesn't match SamplesPerPixel. Defining non-color channels as ExtraSamples.\n"
     ]
    },
    {
     "name": "stdout",
     "output_type": "stream",
     "text": [
      "File /home/cb/sis2/data/tfrecords256/00013_3927x1317.tfrecord is new\n"
     ]
    },
    {
     "name": "stderr",
     "output_type": "stream",
     "text": [
      "Warning 1: TIFFReadDirectory:Sum of Photometric type-related color channels and ExtraSamples doesn't match SamplesPerPixel. Defining non-color channels as ExtraSamples.\n"
     ]
    },
    {
     "name": "stdout",
     "output_type": "stream",
     "text": [
      "File /home/cb/sis2/data/tfrecords256/00013_3927x1578.tfrecord is new\n"
     ]
    },
    {
     "name": "stderr",
     "output_type": "stream",
     "text": [
      "Warning 1: TIFFReadDirectory:Sum of Photometric type-related color channels and ExtraSamples doesn't match SamplesPerPixel. Defining non-color channels as ExtraSamples.\n"
     ]
    },
    {
     "name": "stdout",
     "output_type": "stream",
     "text": [
      "File /home/cb/sis2/data/tfrecords256/00013_3927x1839.tfrecord is new\n"
     ]
    },
    {
     "name": "stderr",
     "output_type": "stream",
     "text": [
      "Warning 1: TIFFReadDirectory:Sum of Photometric type-related color channels and ExtraSamples doesn't match SamplesPerPixel. Defining non-color channels as ExtraSamples.\n"
     ]
    },
    {
     "name": "stdout",
     "output_type": "stream",
     "text": [
      "File /home/cb/sis2/data/tfrecords256/00013_3927x2100.tfrecord is new\n"
     ]
    },
    {
     "name": "stderr",
     "output_type": "stream",
     "text": [
      "Warning 1: TIFFReadDirectory:Sum of Photometric type-related color channels and ExtraSamples doesn't match SamplesPerPixel. Defining non-color channels as ExtraSamples.\n"
     ]
    },
    {
     "name": "stdout",
     "output_type": "stream",
     "text": [
      "File /home/cb/sis2/data/tfrecords256/00013_4188x1317.tfrecord is new\n"
     ]
    },
    {
     "name": "stderr",
     "output_type": "stream",
     "text": [
      "Warning 1: TIFFReadDirectory:Sum of Photometric type-related color channels and ExtraSamples doesn't match SamplesPerPixel. Defining non-color channels as ExtraSamples.\n"
     ]
    },
    {
     "name": "stdout",
     "output_type": "stream",
     "text": [
      "File /home/cb/sis2/data/tfrecords256/00013_4188x1578.tfrecord is new\n"
     ]
    },
    {
     "name": "stderr",
     "output_type": "stream",
     "text": [
      "Warning 1: TIFFReadDirectory:Sum of Photometric type-related color channels and ExtraSamples doesn't match SamplesPerPixel. Defining non-color channels as ExtraSamples.\n"
     ]
    },
    {
     "name": "stdout",
     "output_type": "stream",
     "text": [
      "File /home/cb/sis2/data/tfrecords256/00013_4449x1317.tfrecord is new\n"
     ]
    },
    {
     "name": "stderr",
     "output_type": "stream",
     "text": [
      "Warning 1: TIFFReadDirectory:Sum of Photometric type-related color channels and ExtraSamples doesn't match SamplesPerPixel. Defining non-color channels as ExtraSamples.\n"
     ]
    },
    {
     "name": "stdout",
     "output_type": "stream",
     "text": [
      "File /home/cb/sis2/data/tfrecords256/00013_4449x1578.tfrecord is new\n"
     ]
    },
    {
     "name": "stderr",
     "output_type": "stream",
     "text": [
      "Warning 1: TIFFReadDirectory:Sum of Photometric type-related color channels and ExtraSamples doesn't match SamplesPerPixel. Defining non-color channels as ExtraSamples.\n"
     ]
    },
    {
     "name": "stdout",
     "output_type": "stream",
     "text": [
      "File /home/cb/sis2/data/tfrecords256/00013_4449x2883.tfrecord is new\n"
     ]
    },
    {
     "name": "stderr",
     "output_type": "stream",
     "text": [
      "Warning 1: TIFFReadDirectory:Sum of Photometric type-related color channels and ExtraSamples doesn't match SamplesPerPixel. Defining non-color channels as ExtraSamples.\n"
     ]
    },
    {
     "name": "stdout",
     "output_type": "stream",
     "text": [
      "File /home/cb/sis2/data/tfrecords256/00013_4449x3405.tfrecord is new\n"
     ]
    },
    {
     "name": "stderr",
     "output_type": "stream",
     "text": [
      "Warning 1: TIFFReadDirectory:Sum of Photometric type-related color channels and ExtraSamples doesn't match SamplesPerPixel. Defining non-color channels as ExtraSamples.\n"
     ]
    },
    {
     "name": "stdout",
     "output_type": "stream",
     "text": [
      "File /home/cb/sis2/data/tfrecords256/00013_4710x1578.tfrecord is new\n"
     ]
    },
    {
     "name": "stderr",
     "output_type": "stream",
     "text": [
      "Warning 1: TIFFReadDirectory:Sum of Photometric type-related color channels and ExtraSamples doesn't match SamplesPerPixel. Defining non-color channels as ExtraSamples.\n"
     ]
    },
    {
     "name": "stdout",
     "output_type": "stream",
     "text": [
      "File /home/cb/sis2/data/tfrecords256/00013_4710x2622.tfrecord is new\n"
     ]
    },
    {
     "name": "stderr",
     "output_type": "stream",
     "text": [
      "Warning 1: TIFFReadDirectory:Sum of Photometric type-related color channels and ExtraSamples doesn't match SamplesPerPixel. Defining non-color channels as ExtraSamples.\n"
     ]
    },
    {
     "name": "stdout",
     "output_type": "stream",
     "text": [
      "File /home/cb/sis2/data/tfrecords256/00013_4710x2883.tfrecord is new\n"
     ]
    },
    {
     "name": "stderr",
     "output_type": "stream",
     "text": [
      "Warning 1: TIFFReadDirectory:Sum of Photometric type-related color channels and ExtraSamples doesn't match SamplesPerPixel. Defining non-color channels as ExtraSamples.\n"
     ]
    },
    {
     "name": "stdout",
     "output_type": "stream",
     "text": [
      "File /home/cb/sis2/data/tfrecords256/00013_4971x1839.tfrecord is new\n"
     ]
    },
    {
     "name": "stderr",
     "output_type": "stream",
     "text": [
      "Warning 1: TIFFReadDirectory:Sum of Photometric type-related color channels and ExtraSamples doesn't match SamplesPerPixel. Defining non-color channels as ExtraSamples.\n"
     ]
    },
    {
     "name": "stdout",
     "output_type": "stream",
     "text": [
      "File /home/cb/sis2/data/tfrecords256/00013_4971x2100.tfrecord is new\n"
     ]
    },
    {
     "name": "stderr",
     "output_type": "stream",
     "text": [
      "Warning 1: TIFFReadDirectory:Sum of Photometric type-related color channels and ExtraSamples doesn't match SamplesPerPixel. Defining non-color channels as ExtraSamples.\n"
     ]
    },
    {
     "name": "stdout",
     "output_type": "stream",
     "text": [
      "File /home/cb/sis2/data/tfrecords256/00013_4971x2361.tfrecord is new\n"
     ]
    },
    {
     "name": "stderr",
     "output_type": "stream",
     "text": [
      "Warning 1: TIFFReadDirectory:Sum of Photometric type-related color channels and ExtraSamples doesn't match SamplesPerPixel. Defining non-color channels as ExtraSamples.\n"
     ]
    },
    {
     "name": "stdout",
     "output_type": "stream",
     "text": [
      "File /home/cb/sis2/data/tfrecords256/00013_4971x2622.tfrecord is new\n"
     ]
    },
    {
     "name": "stderr",
     "output_type": "stream",
     "text": [
      "Warning 1: TIFFReadDirectory:Sum of Photometric type-related color channels and ExtraSamples doesn't match SamplesPerPixel. Defining non-color channels as ExtraSamples.\n"
     ]
    },
    {
     "name": "stdout",
     "output_type": "stream",
     "text": [
      "File /home/cb/sis2/data/tfrecords256/00013_5232x1839.tfrecord is new\n"
     ]
    },
    {
     "name": "stderr",
     "output_type": "stream",
     "text": [
      "Warning 1: TIFFReadDirectory:Sum of Photometric type-related color channels and ExtraSamples doesn't match SamplesPerPixel. Defining non-color channels as ExtraSamples.\n"
     ]
    },
    {
     "name": "stdout",
     "output_type": "stream",
     "text": [
      "File /home/cb/sis2/data/tfrecords256/00013_5232x2100.tfrecord is new\n"
     ]
    },
    {
     "name": "stderr",
     "output_type": "stream",
     "text": [
      "Warning 1: TIFFReadDirectory:Sum of Photometric type-related color channels and ExtraSamples doesn't match SamplesPerPixel. Defining non-color channels as ExtraSamples.\n"
     ]
    },
    {
     "name": "stdout",
     "output_type": "stream",
     "text": [
      "File /home/cb/sis2/data/tfrecords256/00013_5232x2361.tfrecord is new\n"
     ]
    },
    {
     "name": "stderr",
     "output_type": "stream",
     "text": [
      "Warning 1: TIFFReadDirectory:Sum of Photometric type-related color channels and ExtraSamples doesn't match SamplesPerPixel. Defining non-color channels as ExtraSamples.\n"
     ]
    },
    {
     "name": "stdout",
     "output_type": "stream",
     "text": [
      "File /home/cb/sis2/data/tfrecords256/00013_5232x2622.tfrecord is new\n"
     ]
    },
    {
     "name": "stderr",
     "output_type": "stream",
     "text": [
      "Warning 1: TIFFReadDirectory:Sum of Photometric type-related color channels and ExtraSamples doesn't match SamplesPerPixel. Defining non-color channels as ExtraSamples.\n"
     ]
    },
    {
     "name": "stdout",
     "output_type": "stream",
     "text": [
      "File /home/cb/sis2/data/tfrecords256/00013_6276x5232.tfrecord is new\n"
     ]
    },
    {
     "name": "stderr",
     "output_type": "stream",
     "text": [
      "Warning 1: TIFFReadDirectory:Sum of Photometric type-related color channels and ExtraSamples doesn't match SamplesPerPixel. Defining non-color channels as ExtraSamples.\n"
     ]
    },
    {
     "name": "stdout",
     "output_type": "stream",
     "text": [
      "File /home/cb/sis2/data/tfrecords256/00013_6537x4971.tfrecord is new\n"
     ]
    },
    {
     "name": "stderr",
     "output_type": "stream",
     "text": [
      "Warning 1: TIFFReadDirectory:Sum of Photometric type-related color channels and ExtraSamples doesn't match SamplesPerPixel. Defining non-color channels as ExtraSamples.\n"
     ]
    },
    {
     "name": "stdout",
     "output_type": "stream",
     "text": [
      "File /home/cb/sis2/data/tfrecords256/00013_6537x5232.tfrecord is new\n"
     ]
    },
    {
     "name": "stderr",
     "output_type": "stream",
     "text": [
      "Warning 1: TIFFReadDirectory:Sum of Photometric type-related color channels and ExtraSamples doesn't match SamplesPerPixel. Defining non-color channels as ExtraSamples.\n"
     ]
    },
    {
     "name": "stdout",
     "output_type": "stream",
     "text": [
      "File /home/cb/sis2/data/tfrecords256/00013_6537x8103.tfrecord is new\n"
     ]
    },
    {
     "name": "stderr",
     "output_type": "stream",
     "text": [
      "Warning 1: TIFFReadDirectory:Sum of Photometric type-related color channels and ExtraSamples doesn't match SamplesPerPixel. Defining non-color channels as ExtraSamples.\n"
     ]
    },
    {
     "name": "stdout",
     "output_type": "stream",
     "text": [
      "File /home/cb/sis2/data/tfrecords256/00013_6798x4971.tfrecord is new\n"
     ]
    },
    {
     "name": "stderr",
     "output_type": "stream",
     "text": [
      "Warning 1: TIFFReadDirectory:Sum of Photometric type-related color channels and ExtraSamples doesn't match SamplesPerPixel. Defining non-color channels as ExtraSamples.\n"
     ]
    },
    {
     "name": "stdout",
     "output_type": "stream",
     "text": [
      "File /home/cb/sis2/data/tfrecords256/00013_6798x5232.tfrecord is new\n"
     ]
    },
    {
     "name": "stderr",
     "output_type": "stream",
     "text": [
      "Warning 1: TIFFReadDirectory:Sum of Photometric type-related color channels and ExtraSamples doesn't match SamplesPerPixel. Defining non-color channels as ExtraSamples.\n"
     ]
    },
    {
     "name": "stdout",
     "output_type": "stream",
     "text": [
      "File /home/cb/sis2/data/tfrecords256/00013_6798x6798.tfrecord is new\n"
     ]
    },
    {
     "name": "stderr",
     "output_type": "stream",
     "text": [
      "Warning 1: TIFFReadDirectory:Sum of Photometric type-related color channels and ExtraSamples doesn't match SamplesPerPixel. Defining non-color channels as ExtraSamples.\n"
     ]
    },
    {
     "name": "stdout",
     "output_type": "stream",
     "text": [
      "File /home/cb/sis2/data/tfrecords256/00013_6798x8103.tfrecord is new\n"
     ]
    },
    {
     "name": "stderr",
     "output_type": "stream",
     "text": [
      "Warning 1: TIFFReadDirectory:Sum of Photometric type-related color channels and ExtraSamples doesn't match SamplesPerPixel. Defining non-color channels as ExtraSamples.\n"
     ]
    },
    {
     "name": "stdout",
     "output_type": "stream",
     "text": [
      "File /home/cb/sis2/data/tfrecords256/00013_7059x4971.tfrecord is new\n"
     ]
    },
    {
     "name": "stderr",
     "output_type": "stream",
     "text": [
      "Warning 1: TIFFReadDirectory:Sum of Photometric type-related color channels and ExtraSamples doesn't match SamplesPerPixel. Defining non-color channels as ExtraSamples.\n"
     ]
    },
    {
     "name": "stdout",
     "output_type": "stream",
     "text": [
      "File /home/cb/sis2/data/tfrecords256/00013_7059x5232.tfrecord is new\n"
     ]
    },
    {
     "name": "stderr",
     "output_type": "stream",
     "text": [
      "Warning 1: TIFFReadDirectory:Sum of Photometric type-related color channels and ExtraSamples doesn't match SamplesPerPixel. Defining non-color channels as ExtraSamples.\n"
     ]
    },
    {
     "name": "stdout",
     "output_type": "stream",
     "text": [
      "File /home/cb/sis2/data/tfrecords256/00013_7059x8103.tfrecord is new\n"
     ]
    },
    {
     "name": "stderr",
     "output_type": "stream",
     "text": [
      "Warning 1: TIFFReadDirectory:Sum of Photometric type-related color channels and ExtraSamples doesn't match SamplesPerPixel. Defining non-color channels as ExtraSamples.\n"
     ]
    },
    {
     "name": "stdout",
     "output_type": "stream",
     "text": [
      "File /home/cb/sis2/data/tfrecords256/00013_7320x4971.tfrecord is new\n"
     ]
    },
    {
     "name": "stderr",
     "output_type": "stream",
     "text": [
      "Warning 1: TIFFReadDirectory:Sum of Photometric type-related color channels and ExtraSamples doesn't match SamplesPerPixel. Defining non-color channels as ExtraSamples.\n"
     ]
    },
    {
     "name": "stdout",
     "output_type": "stream",
     "text": [
      "File /home/cb/sis2/data/tfrecords256/00013_7320x8103.tfrecord is new\n"
     ]
    },
    {
     "name": "stderr",
     "output_type": "stream",
     "text": [
      "Warning 1: TIFFReadDirectory:Sum of Photometric type-related color channels and ExtraSamples doesn't match SamplesPerPixel. Defining non-color channels as ExtraSamples.\n"
     ]
    },
    {
     "name": "stdout",
     "output_type": "stream",
     "text": [
      "File /home/cb/sis2/data/tfrecords256/00013_7320x8364.tfrecord is new\n"
     ]
    },
    {
     "name": "stderr",
     "output_type": "stream",
     "text": [
      "Warning 1: TIFFReadDirectory:Sum of Photometric type-related color channels and ExtraSamples doesn't match SamplesPerPixel. Defining non-color channels as ExtraSamples.\n"
     ]
    },
    {
     "name": "stdout",
     "output_type": "stream",
     "text": [
      "File /home/cb/sis2/data/tfrecords256/00013_7320x8625.tfrecord is new\n"
     ]
    },
    {
     "name": "stderr",
     "output_type": "stream",
     "text": [
      "Warning 1: TIFFReadDirectory:Sum of Photometric type-related color channels and ExtraSamples doesn't match SamplesPerPixel. Defining non-color channels as ExtraSamples.\n"
     ]
    },
    {
     "name": "stdout",
     "output_type": "stream",
     "text": [
      "File /home/cb/sis2/data/tfrecords256/00013_7320x9408.tfrecord is new\n"
     ]
    },
    {
     "name": "stderr",
     "output_type": "stream",
     "text": [
      "Warning 1: TIFFReadDirectory:Sum of Photometric type-related color channels and ExtraSamples doesn't match SamplesPerPixel. Defining non-color channels as ExtraSamples.\n"
     ]
    },
    {
     "name": "stdout",
     "output_type": "stream",
     "text": [
      "File /home/cb/sis2/data/tfrecords256/00013_7581x3405.tfrecord is new\n"
     ]
    },
    {
     "name": "stderr",
     "output_type": "stream",
     "text": [
      "Warning 1: TIFFReadDirectory:Sum of Photometric type-related color channels and ExtraSamples doesn't match SamplesPerPixel. Defining non-color channels as ExtraSamples.\n"
     ]
    },
    {
     "name": "stdout",
     "output_type": "stream",
     "text": [
      "File /home/cb/sis2/data/tfrecords256/00013_7581x3666.tfrecord is new\n"
     ]
    },
    {
     "name": "stderr",
     "output_type": "stream",
     "text": [
      "Warning 1: TIFFReadDirectory:Sum of Photometric type-related color channels and ExtraSamples doesn't match SamplesPerPixel. Defining non-color channels as ExtraSamples.\n"
     ]
    },
    {
     "name": "stdout",
     "output_type": "stream",
     "text": [
      "File /home/cb/sis2/data/tfrecords256/00013_7581x4188.tfrecord is new\n"
     ]
    },
    {
     "name": "stderr",
     "output_type": "stream",
     "text": [
      "Warning 1: TIFFReadDirectory:Sum of Photometric type-related color channels and ExtraSamples doesn't match SamplesPerPixel. Defining non-color channels as ExtraSamples.\n"
     ]
    },
    {
     "name": "stdout",
     "output_type": "stream",
     "text": [
      "File /home/cb/sis2/data/tfrecords256/00013_7581x4449.tfrecord is new\n"
     ]
    },
    {
     "name": "stderr",
     "output_type": "stream",
     "text": [
      "Warning 1: TIFFReadDirectory:Sum of Photometric type-related color channels and ExtraSamples doesn't match SamplesPerPixel. Defining non-color channels as ExtraSamples.\n"
     ]
    },
    {
     "name": "stdout",
     "output_type": "stream",
     "text": [
      "File /home/cb/sis2/data/tfrecords256/00013_7581x4971.tfrecord is new\n"
     ]
    },
    {
     "name": "stderr",
     "output_type": "stream",
     "text": [
      "Warning 1: TIFFReadDirectory:Sum of Photometric type-related color channels and ExtraSamples doesn't match SamplesPerPixel. Defining non-color channels as ExtraSamples.\n"
     ]
    },
    {
     "name": "stdout",
     "output_type": "stream",
     "text": [
      "File /home/cb/sis2/data/tfrecords256/00013_7581x5232.tfrecord is new\n"
     ]
    },
    {
     "name": "stderr",
     "output_type": "stream",
     "text": [
      "Warning 1: TIFFReadDirectory:Sum of Photometric type-related color channels and ExtraSamples doesn't match SamplesPerPixel. Defining non-color channels as ExtraSamples.\n"
     ]
    },
    {
     "name": "stdout",
     "output_type": "stream",
     "text": [
      "File /home/cb/sis2/data/tfrecords256/00013_7581x8886.tfrecord is new\n"
     ]
    },
    {
     "name": "stderr",
     "output_type": "stream",
     "text": [
      "Warning 1: TIFFReadDirectory:Sum of Photometric type-related color channels and ExtraSamples doesn't match SamplesPerPixel. Defining non-color channels as ExtraSamples.\n"
     ]
    },
    {
     "name": "stdout",
     "output_type": "stream",
     "text": [
      "File /home/cb/sis2/data/tfrecords256/00013_7581x9669.tfrecord is new\n"
     ]
    },
    {
     "name": "stderr",
     "output_type": "stream",
     "text": [
      "Warning 1: TIFFReadDirectory:Sum of Photometric type-related color channels and ExtraSamples doesn't match SamplesPerPixel. Defining non-color channels as ExtraSamples.\n"
     ]
    },
    {
     "name": "stdout",
     "output_type": "stream",
     "text": [
      "File /home/cb/sis2/data/tfrecords256/00013_7842x3666.tfrecord is new\n"
     ]
    },
    {
     "name": "stderr",
     "output_type": "stream",
     "text": [
      "Warning 1: TIFFReadDirectory:Sum of Photometric type-related color channels and ExtraSamples doesn't match SamplesPerPixel. Defining non-color channels as ExtraSamples.\n"
     ]
    },
    {
     "name": "stdout",
     "output_type": "stream",
     "text": [
      "File /home/cb/sis2/data/tfrecords256/00013_7842x4710.tfrecord is new\n"
     ]
    },
    {
     "name": "stderr",
     "output_type": "stream",
     "text": [
      "Warning 1: TIFFReadDirectory:Sum of Photometric type-related color channels and ExtraSamples doesn't match SamplesPerPixel. Defining non-color channels as ExtraSamples.\n"
     ]
    },
    {
     "name": "stdout",
     "output_type": "stream",
     "text": [
      "File /home/cb/sis2/data/tfrecords256/00013_7842x7842.tfrecord is new\n"
     ]
    },
    {
     "name": "stderr",
     "output_type": "stream",
     "text": [
      "Warning 1: TIFFReadDirectory:Sum of Photometric type-related color channels and ExtraSamples doesn't match SamplesPerPixel. Defining non-color channels as ExtraSamples.\n"
     ]
    },
    {
     "name": "stdout",
     "output_type": "stream",
     "text": [
      "File /home/cb/sis2/data/tfrecords256/00013_7842x8886.tfrecord is new\n"
     ]
    },
    {
     "name": "stderr",
     "output_type": "stream",
     "text": [
      "Warning 1: TIFFReadDirectory:Sum of Photometric type-related color channels and ExtraSamples doesn't match SamplesPerPixel. Defining non-color channels as ExtraSamples.\n"
     ]
    },
    {
     "name": "stdout",
     "output_type": "stream",
     "text": [
      "File /home/cb/sis2/data/tfrecords256/00013_7842x9147.tfrecord is new\n"
     ]
    },
    {
     "name": "stderr",
     "output_type": "stream",
     "text": [
      "Warning 1: TIFFReadDirectory:Sum of Photometric type-related color channels and ExtraSamples doesn't match SamplesPerPixel. Defining non-color channels as ExtraSamples.\n"
     ]
    },
    {
     "name": "stdout",
     "output_type": "stream",
     "text": [
      "File /home/cb/sis2/data/tfrecords256/00013_7842x9408.tfrecord is new\n"
     ]
    },
    {
     "name": "stderr",
     "output_type": "stream",
     "text": [
      "Warning 1: TIFFReadDirectory:Sum of Photometric type-related color channels and ExtraSamples doesn't match SamplesPerPixel. Defining non-color channels as ExtraSamples.\n"
     ]
    },
    {
     "name": "stdout",
     "output_type": "stream",
     "text": [
      "File /home/cb/sis2/data/tfrecords256/00013_7842x9669.tfrecord is new\n"
     ]
    },
    {
     "name": "stderr",
     "output_type": "stream",
     "text": [
      "Warning 1: TIFFReadDirectory:Sum of Photometric type-related color channels and ExtraSamples doesn't match SamplesPerPixel. Defining non-color channels as ExtraSamples.\n"
     ]
    },
    {
     "name": "stdout",
     "output_type": "stream",
     "text": [
      "File /home/cb/sis2/data/tfrecords256/00013_8103x3666.tfrecord is new\n"
     ]
    },
    {
     "name": "stderr",
     "output_type": "stream",
     "text": [
      "Warning 1: TIFFReadDirectory:Sum of Photometric type-related color channels and ExtraSamples doesn't match SamplesPerPixel. Defining non-color channels as ExtraSamples.\n"
     ]
    },
    {
     "name": "stdout",
     "output_type": "stream",
     "text": [
      "File /home/cb/sis2/data/tfrecords256/00013_8103x3927.tfrecord is new\n"
     ]
    },
    {
     "name": "stderr",
     "output_type": "stream",
     "text": [
      "Warning 1: TIFFReadDirectory:Sum of Photometric type-related color channels and ExtraSamples doesn't match SamplesPerPixel. Defining non-color channels as ExtraSamples.\n"
     ]
    },
    {
     "name": "stdout",
     "output_type": "stream",
     "text": [
      "File /home/cb/sis2/data/tfrecords256/00013_8103x8886.tfrecord is new\n"
     ]
    },
    {
     "name": "stderr",
     "output_type": "stream",
     "text": [
      "Warning 1: TIFFReadDirectory:Sum of Photometric type-related color channels and ExtraSamples doesn't match SamplesPerPixel. Defining non-color channels as ExtraSamples.\n"
     ]
    },
    {
     "name": "stdout",
     "output_type": "stream",
     "text": [
      "File /home/cb/sis2/data/tfrecords256/00013_8364x4971.tfrecord is new\n"
     ]
    },
    {
     "name": "stderr",
     "output_type": "stream",
     "text": [
      "Warning 1: TIFFReadDirectory:Sum of Photometric type-related color channels and ExtraSamples doesn't match SamplesPerPixel. Defining non-color channels as ExtraSamples.\n"
     ]
    },
    {
     "name": "stdout",
     "output_type": "stream",
     "text": [
      "File /home/cb/sis2/data/tfrecords256/00013_8364x8625.tfrecord is new\n"
     ]
    },
    {
     "name": "stderr",
     "output_type": "stream",
     "text": [
      "Warning 1: TIFFReadDirectory:Sum of Photometric type-related color channels and ExtraSamples doesn't match SamplesPerPixel. Defining non-color channels as ExtraSamples.\n"
     ]
    },
    {
     "name": "stdout",
     "output_type": "stream",
     "text": [
      "File /home/cb/sis2/data/tfrecords256/00013_8886x4188.tfrecord is new\n"
     ]
    },
    {
     "name": "stderr",
     "output_type": "stream",
     "text": [
      "Warning 1: TIFFReadDirectory:Sum of Photometric type-related color channels and ExtraSamples doesn't match SamplesPerPixel. Defining non-color channels as ExtraSamples.\n"
     ]
    },
    {
     "name": "stdout",
     "output_type": "stream",
     "text": [
      "File /home/cb/sis2/data/tfrecords256/00013_8886x6276.tfrecord is new\n"
     ]
    },
    {
     "name": "stderr",
     "output_type": "stream",
     "text": [
      "Warning 1: TIFFReadDirectory:Sum of Photometric type-related color channels and ExtraSamples doesn't match SamplesPerPixel. Defining non-color channels as ExtraSamples.\n"
     ]
    },
    {
     "name": "stdout",
     "output_type": "stream",
     "text": [
      "File /home/cb/sis2/data/tfrecords256/00013_9147x4971.tfrecord is new\n"
     ]
    },
    {
     "name": "stderr",
     "output_type": "stream",
     "text": [
      "Warning 1: TIFFReadDirectory:Sum of Photometric type-related color channels and ExtraSamples doesn't match SamplesPerPixel. Defining non-color channels as ExtraSamples.\n"
     ]
    },
    {
     "name": "stdout",
     "output_type": "stream",
     "text": [
      "File /home/cb/sis2/data/tfrecords256/00013_9147x6015.tfrecord is new\n"
     ]
    },
    {
     "name": "stderr",
     "output_type": "stream",
     "text": [
      "Warning 1: TIFFReadDirectory:Sum of Photometric type-related color channels and ExtraSamples doesn't match SamplesPerPixel. Defining non-color channels as ExtraSamples.\n"
     ]
    },
    {
     "name": "stdout",
     "output_type": "stream",
     "text": [
      "File /home/cb/sis2/data/tfrecords256/00013_9408x4971.tfrecord is new\n"
     ]
    },
    {
     "name": "stderr",
     "output_type": "stream",
     "text": [
      "Warning 1: TIFFReadDirectory:Sum of Photometric type-related color channels and ExtraSamples doesn't match SamplesPerPixel. Defining non-color channels as ExtraSamples.\n"
     ]
    },
    {
     "name": "stdout",
     "output_type": "stream",
     "text": [
      "File /home/cb/sis2/data/tfrecords256/00013_9408x5232.tfrecord is new\n"
     ]
    },
    {
     "name": "stderr",
     "output_type": "stream",
     "text": [
      "Warning 1: TIFFReadDirectory:Sum of Photometric type-related color channels and ExtraSamples doesn't match SamplesPerPixel. Defining non-color channels as ExtraSamples.\n"
     ]
    },
    {
     "name": "stdout",
     "output_type": "stream",
     "text": [
      "File /home/cb/sis2/data/tfrecords256/00013_9408x6015.tfrecord is new\n"
     ]
    },
    {
     "name": "stderr",
     "output_type": "stream",
     "text": [
      "Warning 1: TIFFReadDirectory:Sum of Photometric type-related color channels and ExtraSamples doesn't match SamplesPerPixel. Defining non-color channels as ExtraSamples.\n"
     ]
    },
    {
     "name": "stdout",
     "output_type": "stream",
     "text": [
      "File /home/cb/sis2/data/tfrecords256/00013_9669x4710.tfrecord is new\n"
     ]
    },
    {
     "name": "stderr",
     "output_type": "stream",
     "text": [
      "Warning 1: TIFFReadDirectory:Sum of Photometric type-related color channels and ExtraSamples doesn't match SamplesPerPixel. Defining non-color channels as ExtraSamples.\n"
     ]
    },
    {
     "name": "stdout",
     "output_type": "stream",
     "text": [
      "File /home/cb/sis2/data/tfrecords256/00013_9669x4971.tfrecord is new\n"
     ]
    },
    {
     "name": "stderr",
     "output_type": "stream",
     "text": [
      "Warning 1: TIFFReadDirectory:Sum of Photometric type-related color channels and ExtraSamples doesn't match SamplesPerPixel. Defining non-color channels as ExtraSamples.\n"
     ]
    },
    {
     "name": "stdout",
     "output_type": "stream",
     "text": [
      "File /home/cb/sis2/data/tfrecords256/00013_9669x6276.tfrecord is new\n"
     ]
    },
    {
     "name": "stderr",
     "output_type": "stream",
     "text": [
      "Warning 1: TIFFReadDirectory:Sum of Photometric type-related color channels and ExtraSamples doesn't match SamplesPerPixel. Defining non-color channels as ExtraSamples.\n",
      "More than 1000 errors or warnings have been reported. No more will be reported from now.\n"
     ]
    },
    {
     "name": "stdout",
     "output_type": "stream",
     "text": [
      "File /home/cb/sis2/data/tfrecords256/00013_9669x6537.tfrecord is new\n",
      "File /home/cb/sis2/data/tfrecords256/00016_1839x2361.tfrecord is new\n",
      "File /home/cb/sis2/data/tfrecords256/00016_2100x2361.tfrecord is new\n",
      "File /home/cb/sis2/data/tfrecords256/00019_1839x2361.tfrecord is new\n",
      "File /home/cb/sis2/data/tfrecords256/00019_2100x2361.tfrecord is new\n",
      "File /home/cb/sis2/data/tfrecords256/00022_8625x9408.tfrecord is new\n",
      "File /home/cb/sis2/data/tfrecords256/00022_8625x9669.tfrecord is new\n",
      "File /home/cb/sis2/data/tfrecords256/00022_8886x8625.tfrecord is new\n",
      "File /home/cb/sis2/data/tfrecords256/00022_8886x8886.tfrecord is new\n",
      "File /home/cb/sis2/data/tfrecords256/00022_8886x9147.tfrecord is new\n",
      "File /home/cb/sis2/data/tfrecords256/00022_8886x9408.tfrecord is new\n",
      "File /home/cb/sis2/data/tfrecords256/00022_8886x9669.tfrecord is new\n",
      "File /home/cb/sis2/data/tfrecords256/00022_9147x7842.tfrecord is new\n",
      "File /home/cb/sis2/data/tfrecords256/00022_9147x8103.tfrecord is new\n",
      "File /home/cb/sis2/data/tfrecords256/00022_9147x8364.tfrecord is new\n",
      "File /home/cb/sis2/data/tfrecords256/00022_9147x8625.tfrecord is new\n",
      "File /home/cb/sis2/data/tfrecords256/00022_9147x8886.tfrecord is new\n",
      "File /home/cb/sis2/data/tfrecords256/00022_9147x9147.tfrecord is new\n",
      "File /home/cb/sis2/data/tfrecords256/00022_9147x9408.tfrecord is new\n",
      "File /home/cb/sis2/data/tfrecords256/00022_9147x9669.tfrecord is new\n",
      "File /home/cb/sis2/data/tfrecords256/00022_9408x7320.tfrecord is new\n",
      "File /home/cb/sis2/data/tfrecords256/00022_9408x7581.tfrecord is new\n",
      "File /home/cb/sis2/data/tfrecords256/00022_9408x7842.tfrecord is new\n",
      "File /home/cb/sis2/data/tfrecords256/00022_9408x8103.tfrecord is new\n",
      "File /home/cb/sis2/data/tfrecords256/00022_9408x8364.tfrecord is new\n",
      "File /home/cb/sis2/data/tfrecords256/00022_9408x8625.tfrecord is new\n",
      "File /home/cb/sis2/data/tfrecords256/00022_9408x8886.tfrecord is new\n",
      "File /home/cb/sis2/data/tfrecords256/00022_9408x9147.tfrecord is new\n",
      "File /home/cb/sis2/data/tfrecords256/00022_9408x9408.tfrecord is new\n",
      "File /home/cb/sis2/data/tfrecords256/00022_9408x9669.tfrecord is new\n",
      "File /home/cb/sis2/data/tfrecords256/00022_9669x6798.tfrecord is new\n",
      "File /home/cb/sis2/data/tfrecords256/00022_9669x7059.tfrecord is new\n",
      "File /home/cb/sis2/data/tfrecords256/00022_9669x7320.tfrecord is new\n",
      "File /home/cb/sis2/data/tfrecords256/00022_9669x7581.tfrecord is new\n",
      "File /home/cb/sis2/data/tfrecords256/00022_9669x7842.tfrecord is new\n",
      "File /home/cb/sis2/data/tfrecords256/00022_9669x8103.tfrecord is new\n",
      "File /home/cb/sis2/data/tfrecords256/00022_9669x8364.tfrecord is new\n",
      "File /home/cb/sis2/data/tfrecords256/00022_9669x8625.tfrecord is new\n",
      "File /home/cb/sis2/data/tfrecords256/00022_9669x8886.tfrecord is new\n",
      "File /home/cb/sis2/data/tfrecords256/00022_9669x9147.tfrecord is new\n",
      "File /home/cb/sis2/data/tfrecords256/00022_9669x9408.tfrecord is new\n",
      "File /home/cb/sis2/data/tfrecords256/00022_9669x9669.tfrecord is new\n",
      "File /home/cb/sis2/data/tfrecords256/00026_8625x9408.tfrecord is new\n",
      "File /home/cb/sis2/data/tfrecords256/00026_8625x9669.tfrecord is new\n",
      "File /home/cb/sis2/data/tfrecords256/00026_8886x8625.tfrecord is new\n",
      "File /home/cb/sis2/data/tfrecords256/00026_8886x8886.tfrecord is new\n",
      "File /home/cb/sis2/data/tfrecords256/00026_8886x9147.tfrecord is new\n",
      "File /home/cb/sis2/data/tfrecords256/00026_8886x9408.tfrecord is new\n",
      "File /home/cb/sis2/data/tfrecords256/00026_8886x9669.tfrecord is new\n",
      "File /home/cb/sis2/data/tfrecords256/00026_9147x7842.tfrecord is new\n",
      "File /home/cb/sis2/data/tfrecords256/00026_9147x8103.tfrecord is new\n",
      "File /home/cb/sis2/data/tfrecords256/00026_9147x8364.tfrecord is new\n",
      "File /home/cb/sis2/data/tfrecords256/00026_9147x8625.tfrecord is new\n",
      "File /home/cb/sis2/data/tfrecords256/00026_9147x8886.tfrecord is new\n",
      "File /home/cb/sis2/data/tfrecords256/00026_9147x9147.tfrecord is new\n",
      "File /home/cb/sis2/data/tfrecords256/00026_9147x9408.tfrecord is new\n",
      "File /home/cb/sis2/data/tfrecords256/00026_9147x9669.tfrecord is new\n",
      "File /home/cb/sis2/data/tfrecords256/00026_9408x7320.tfrecord is new\n",
      "File /home/cb/sis2/data/tfrecords256/00026_9408x7581.tfrecord is new\n",
      "File /home/cb/sis2/data/tfrecords256/00026_9408x7842.tfrecord is new\n",
      "File /home/cb/sis2/data/tfrecords256/00026_9408x8103.tfrecord is new\n",
      "File /home/cb/sis2/data/tfrecords256/00026_9408x8364.tfrecord is new\n",
      "File /home/cb/sis2/data/tfrecords256/00026_9408x8625.tfrecord is new\n",
      "File /home/cb/sis2/data/tfrecords256/00026_9408x8886.tfrecord is new\n",
      "File /home/cb/sis2/data/tfrecords256/00026_9408x9147.tfrecord is new\n",
      "File /home/cb/sis2/data/tfrecords256/00026_9408x9408.tfrecord is new\n",
      "File /home/cb/sis2/data/tfrecords256/00026_9408x9669.tfrecord is new\n",
      "File /home/cb/sis2/data/tfrecords256/00026_9669x6798.tfrecord is new\n",
      "File /home/cb/sis2/data/tfrecords256/00026_9669x7059.tfrecord is new\n",
      "File /home/cb/sis2/data/tfrecords256/00026_9669x7320.tfrecord is new\n",
      "File /home/cb/sis2/data/tfrecords256/00026_9669x7581.tfrecord is new\n",
      "File /home/cb/sis2/data/tfrecords256/00026_9669x7842.tfrecord is new\n",
      "File /home/cb/sis2/data/tfrecords256/00026_9669x8103.tfrecord is new\n",
      "File /home/cb/sis2/data/tfrecords256/00026_9669x8364.tfrecord is new\n",
      "File /home/cb/sis2/data/tfrecords256/00026_9669x8625.tfrecord is new\n",
      "File /home/cb/sis2/data/tfrecords256/00026_9669x8886.tfrecord is new\n",
      "File /home/cb/sis2/data/tfrecords256/00026_9669x9147.tfrecord is new\n",
      "File /home/cb/sis2/data/tfrecords256/00026_9669x9408.tfrecord is new\n",
      "File /home/cb/sis2/data/tfrecords256/00026_9669x9669.tfrecord is new\n",
      "File /home/cb/sis2/data/tfrecords256/00030_1839x2361.tfrecord is new\n",
      "File /home/cb/sis2/data/tfrecords256/00030_2100x2361.tfrecord is new\n",
      "File /home/cb/sis2/data/tfrecords256/00030_2883x9669.tfrecord is new\n",
      "File /home/cb/sis2/data/tfrecords256/00030_3144x9669.tfrecord is new\n",
      "File /home/cb/sis2/data/tfrecords256/00030_5493x9147.tfrecord is new\n",
      "File /home/cb/sis2/data/tfrecords256/00030_7581x2100.tfrecord is new\n",
      "File /home/cb/sis2/data/tfrecords256/00030_7842x2100.tfrecord is new\n",
      "File /home/cb/sis2/data/tfrecords256/00030_8103x2100.tfrecord is new\n",
      "File /home/cb/sis2/data/tfrecords256/00030_8103x2361.tfrecord is new\n",
      "File /home/cb/sis2/data/tfrecords256/00030_8364x2100.tfrecord is new\n",
      "File /home/cb/sis2/data/tfrecords256/00030_8364x2361.tfrecord is new\n",
      "File /home/cb/sis2/data/tfrecords256/00030_8364x2622.tfrecord is new\n",
      "File /home/cb/sis2/data/tfrecords256/00030_8625x2883.tfrecord is new\n",
      "File /home/cb/sis2/data/tfrecords256/00030_8886x2361.tfrecord is new\n",
      "File /home/cb/sis2/data/tfrecords256/00030_9147x3144.tfrecord is new\n",
      "File /home/cb/sis2/data/tfrecords256/00030_9669x3405.tfrecord is new\n",
      "File /home/cb/sis2/data/tfrecords256/00031_6798x273.tfrecord is new\n",
      "File /home/cb/sis2/data/tfrecords256/00031_6798x534.tfrecord is new\n",
      "File /home/cb/sis2/data/tfrecords256/00031_6798x795.tfrecord is new\n",
      "File /home/cb/sis2/data/tfrecords256/00031_6798x1056.tfrecord is new\n",
      "File /home/cb/sis2/data/tfrecords256/00031_6798x1317.tfrecord is new\n",
      "File /home/cb/sis2/data/tfrecords256/00031_7059x12.tfrecord is new\n",
      "File /home/cb/sis2/data/tfrecords256/00031_7059x273.tfrecord is new\n",
      "File /home/cb/sis2/data/tfrecords256/00031_7059x534.tfrecord is new\n",
      "File /home/cb/sis2/data/tfrecords256/00031_7059x795.tfrecord is new\n",
      "File /home/cb/sis2/data/tfrecords256/00031_7059x1056.tfrecord is new\n",
      "File /home/cb/sis2/data/tfrecords256/00031_7059x1317.tfrecord is new\n",
      "File /home/cb/sis2/data/tfrecords256/00031_7059x1578.tfrecord is new\n",
      "File /home/cb/sis2/data/tfrecords256/00031_7320x12.tfrecord is new\n",
      "File /home/cb/sis2/data/tfrecords256/00031_7320x273.tfrecord is new\n",
      "File /home/cb/sis2/data/tfrecords256/00031_7320x534.tfrecord is new\n",
      "File /home/cb/sis2/data/tfrecords256/00031_7320x795.tfrecord is new\n",
      "File /home/cb/sis2/data/tfrecords256/00031_7320x1056.tfrecord is new\n",
      "File /home/cb/sis2/data/tfrecords256/00031_7320x1317.tfrecord is new\n",
      "File /home/cb/sis2/data/tfrecords256/00031_7320x1578.tfrecord is new\n",
      "File /home/cb/sis2/data/tfrecords256/00031_7581x12.tfrecord is new\n",
      "File /home/cb/sis2/data/tfrecords256/00031_7581x273.tfrecord is new\n",
      "File /home/cb/sis2/data/tfrecords256/00031_7581x534.tfrecord is new\n",
      "File /home/cb/sis2/data/tfrecords256/00031_7581x795.tfrecord is new\n",
      "File /home/cb/sis2/data/tfrecords256/00031_7581x1056.tfrecord is new\n",
      "File /home/cb/sis2/data/tfrecords256/00031_7581x1317.tfrecord is new\n",
      "File /home/cb/sis2/data/tfrecords256/00031_7581x1578.tfrecord is new\n",
      "File /home/cb/sis2/data/tfrecords256/00031_7842x12.tfrecord is new\n",
      "File /home/cb/sis2/data/tfrecords256/00031_7842x273.tfrecord is new\n",
      "File /home/cb/sis2/data/tfrecords256/00031_7842x534.tfrecord is new\n",
      "File /home/cb/sis2/data/tfrecords256/00031_7842x795.tfrecord is new\n",
      "File /home/cb/sis2/data/tfrecords256/00031_7842x1056.tfrecord is new\n",
      "File /home/cb/sis2/data/tfrecords256/00031_7842x1317.tfrecord is new\n",
      "File /home/cb/sis2/data/tfrecords256/00031_7842x1578.tfrecord is new\n",
      "File /home/cb/sis2/data/tfrecords256/00031_7842x1839.tfrecord is new\n",
      "File /home/cb/sis2/data/tfrecords256/00031_8103x12.tfrecord is new\n",
      "File /home/cb/sis2/data/tfrecords256/00031_8103x273.tfrecord is new\n",
      "File /home/cb/sis2/data/tfrecords256/00031_8103x534.tfrecord is new\n",
      "File /home/cb/sis2/data/tfrecords256/00031_8103x795.tfrecord is new\n",
      "File /home/cb/sis2/data/tfrecords256/00031_8103x1056.tfrecord is new\n",
      "File /home/cb/sis2/data/tfrecords256/00031_8103x1317.tfrecord is new\n",
      "File /home/cb/sis2/data/tfrecords256/00031_8103x1578.tfrecord is new\n",
      "File /home/cb/sis2/data/tfrecords256/00031_8103x1839.tfrecord is new\n",
      "File /home/cb/sis2/data/tfrecords256/00031_8364x12.tfrecord is new\n",
      "File /home/cb/sis2/data/tfrecords256/00031_8364x273.tfrecord is new\n",
      "File /home/cb/sis2/data/tfrecords256/00031_8364x534.tfrecord is new\n",
      "File /home/cb/sis2/data/tfrecords256/00031_8364x795.tfrecord is new\n",
      "File /home/cb/sis2/data/tfrecords256/00031_8364x1056.tfrecord is new\n",
      "File /home/cb/sis2/data/tfrecords256/00031_8364x1317.tfrecord is new\n",
      "File /home/cb/sis2/data/tfrecords256/00031_8364x1578.tfrecord is new\n",
      "File /home/cb/sis2/data/tfrecords256/00031_8364x1839.tfrecord is new\n",
      "File /home/cb/sis2/data/tfrecords256/00031_8625x12.tfrecord is new\n",
      "File /home/cb/sis2/data/tfrecords256/00031_8625x273.tfrecord is new\n",
      "File /home/cb/sis2/data/tfrecords256/00031_8625x795.tfrecord is new\n",
      "File /home/cb/sis2/data/tfrecords256/00031_8625x1056.tfrecord is new\n",
      "File /home/cb/sis2/data/tfrecords256/00031_8625x1317.tfrecord is new\n",
      "File /home/cb/sis2/data/tfrecords256/00031_8625x1578.tfrecord is new\n",
      "File /home/cb/sis2/data/tfrecords256/00031_8625x1839.tfrecord is new\n",
      "File /home/cb/sis2/data/tfrecords256/00031_8886x12.tfrecord is new\n",
      "File /home/cb/sis2/data/tfrecords256/00031_8886x273.tfrecord is new\n",
      "File /home/cb/sis2/data/tfrecords256/00031_8886x534.tfrecord is new\n",
      "File /home/cb/sis2/data/tfrecords256/00031_8886x795.tfrecord is new\n",
      "File /home/cb/sis2/data/tfrecords256/00031_8886x1056.tfrecord is new\n",
      "File /home/cb/sis2/data/tfrecords256/00031_8886x1317.tfrecord is new\n",
      "File /home/cb/sis2/data/tfrecords256/00031_8886x1578.tfrecord is new\n",
      "File /home/cb/sis2/data/tfrecords256/00031_8886x1839.tfrecord is new\n",
      "File /home/cb/sis2/data/tfrecords256/00031_9147x273.tfrecord is new\n",
      "File /home/cb/sis2/data/tfrecords256/00031_9147x795.tfrecord is new\n",
      "File /home/cb/sis2/data/tfrecords256/00031_9147x1056.tfrecord is new\n",
      "File /home/cb/sis2/data/tfrecords256/00031_9147x1317.tfrecord is new\n",
      "File /home/cb/sis2/data/tfrecords256/00031_9147x1839.tfrecord is new\n",
      "File /home/cb/sis2/data/tfrecords256/00031_9147x2100.tfrecord is new\n",
      "File /home/cb/sis2/data/tfrecords256/00031_9408x1056.tfrecord is new\n",
      "File /home/cb/sis2/data/tfrecords256/00031_9408x1317.tfrecord is new\n",
      "File /home/cb/sis2/data/tfrecords256/00031_9408x1578.tfrecord is new\n",
      "File /home/cb/sis2/data/tfrecords256/00031_9408x1839.tfrecord is new\n",
      "File /home/cb/sis2/data/tfrecords256/00031_9669x795.tfrecord is new\n",
      "File /home/cb/sis2/data/tfrecords256/00031_9669x1056.tfrecord is new\n",
      "File /home/cb/sis2/data/tfrecords256/00031_9669x1317.tfrecord is new\n",
      "File /home/cb/sis2/data/tfrecords256/00033_2883x9669.tfrecord is new\n",
      "File /home/cb/sis2/data/tfrecords256/00033_3144x9669.tfrecord is new\n",
      "File /home/cb/sis2/data/tfrecords256/00033_5493x9147.tfrecord is new\n",
      "File /home/cb/sis2/data/tfrecords256/00034_1839x2361.tfrecord is new\n",
      "File /home/cb/sis2/data/tfrecords256/00034_2100x2361.tfrecord is new\n",
      "File /home/cb/sis2/data/tfrecords256/00034_6798x273.tfrecord is new\n",
      "File /home/cb/sis2/data/tfrecords256/00034_6798x534.tfrecord is new\n",
      "File /home/cb/sis2/data/tfrecords256/00034_6798x795.tfrecord is new\n",
      "File /home/cb/sis2/data/tfrecords256/00034_6798x1056.tfrecord is new\n",
      "File /home/cb/sis2/data/tfrecords256/00034_6798x1317.tfrecord is new\n",
      "File /home/cb/sis2/data/tfrecords256/00034_7059x12.tfrecord is new\n",
      "File /home/cb/sis2/data/tfrecords256/00034_7059x273.tfrecord is new\n",
      "File /home/cb/sis2/data/tfrecords256/00034_7059x534.tfrecord is new\n",
      "File /home/cb/sis2/data/tfrecords256/00034_7059x795.tfrecord is new\n",
      "File /home/cb/sis2/data/tfrecords256/00034_7059x1056.tfrecord is new\n",
      "File /home/cb/sis2/data/tfrecords256/00034_7059x1317.tfrecord is new\n",
      "File /home/cb/sis2/data/tfrecords256/00034_7059x1578.tfrecord is new\n",
      "File /home/cb/sis2/data/tfrecords256/00034_7320x12.tfrecord is new\n",
      "File /home/cb/sis2/data/tfrecords256/00034_7320x273.tfrecord is new\n",
      "File /home/cb/sis2/data/tfrecords256/00034_7320x534.tfrecord is new\n",
      "File /home/cb/sis2/data/tfrecords256/00034_7320x795.tfrecord is new\n",
      "File /home/cb/sis2/data/tfrecords256/00034_7320x1056.tfrecord is new\n",
      "File /home/cb/sis2/data/tfrecords256/00034_7320x1317.tfrecord is new\n",
      "File /home/cb/sis2/data/tfrecords256/00034_7320x1578.tfrecord is new\n",
      "File /home/cb/sis2/data/tfrecords256/00034_7320x1839.tfrecord is new\n",
      "File /home/cb/sis2/data/tfrecords256/00034_7581x12.tfrecord is new\n",
      "File /home/cb/sis2/data/tfrecords256/00034_7581x273.tfrecord is new\n",
      "File /home/cb/sis2/data/tfrecords256/00034_7581x534.tfrecord is new\n",
      "File /home/cb/sis2/data/tfrecords256/00034_7581x795.tfrecord is new\n",
      "File /home/cb/sis2/data/tfrecords256/00034_7581x1056.tfrecord is new\n",
      "File /home/cb/sis2/data/tfrecords256/00034_7581x1317.tfrecord is new\n",
      "File /home/cb/sis2/data/tfrecords256/00034_7581x1578.tfrecord is new\n",
      "File /home/cb/sis2/data/tfrecords256/00034_7581x1839.tfrecord is new\n",
      "File /home/cb/sis2/data/tfrecords256/00034_7581x2100.tfrecord is new\n",
      "File /home/cb/sis2/data/tfrecords256/00034_7842x12.tfrecord is new\n",
      "File /home/cb/sis2/data/tfrecords256/00034_7842x273.tfrecord is new\n",
      "File /home/cb/sis2/data/tfrecords256/00034_7842x534.tfrecord is new\n",
      "File /home/cb/sis2/data/tfrecords256/00034_7842x795.tfrecord is new\n",
      "File /home/cb/sis2/data/tfrecords256/00034_7842x1056.tfrecord is new\n",
      "File /home/cb/sis2/data/tfrecords256/00034_7842x1317.tfrecord is new\n",
      "File /home/cb/sis2/data/tfrecords256/00034_7842x1578.tfrecord is new\n",
      "File /home/cb/sis2/data/tfrecords256/00034_7842x1839.tfrecord is new\n",
      "File /home/cb/sis2/data/tfrecords256/00034_7842x2100.tfrecord is new\n",
      "File /home/cb/sis2/data/tfrecords256/00034_8103x12.tfrecord is new\n",
      "File /home/cb/sis2/data/tfrecords256/00034_8103x273.tfrecord is new\n",
      "File /home/cb/sis2/data/tfrecords256/00034_8103x534.tfrecord is new\n",
      "File /home/cb/sis2/data/tfrecords256/00034_8103x795.tfrecord is new\n",
      "File /home/cb/sis2/data/tfrecords256/00034_8103x1056.tfrecord is new\n",
      "File /home/cb/sis2/data/tfrecords256/00034_8103x1317.tfrecord is new\n",
      "File /home/cb/sis2/data/tfrecords256/00034_8103x1578.tfrecord is new\n",
      "File /home/cb/sis2/data/tfrecords256/00034_8103x1839.tfrecord is new\n",
      "File /home/cb/sis2/data/tfrecords256/00034_8103x2100.tfrecord is new\n",
      "File /home/cb/sis2/data/tfrecords256/00034_8103x2361.tfrecord is new\n",
      "File /home/cb/sis2/data/tfrecords256/00034_8364x12.tfrecord is new\n",
      "File /home/cb/sis2/data/tfrecords256/00034_8364x273.tfrecord is new\n",
      "File /home/cb/sis2/data/tfrecords256/00034_8364x534.tfrecord is new\n",
      "File /home/cb/sis2/data/tfrecords256/00034_8364x795.tfrecord is new\n",
      "File /home/cb/sis2/data/tfrecords256/00034_8364x1056.tfrecord is new\n",
      "File /home/cb/sis2/data/tfrecords256/00034_8364x1317.tfrecord is new\n",
      "File /home/cb/sis2/data/tfrecords256/00034_8364x1578.tfrecord is new\n",
      "File /home/cb/sis2/data/tfrecords256/00034_8364x1839.tfrecord is new\n",
      "File /home/cb/sis2/data/tfrecords256/00034_8364x2100.tfrecord is new\n",
      "File /home/cb/sis2/data/tfrecords256/00034_8364x2361.tfrecord is new\n",
      "File /home/cb/sis2/data/tfrecords256/00034_8364x2622.tfrecord is new\n",
      "File /home/cb/sis2/data/tfrecords256/00034_8625x12.tfrecord is new\n",
      "File /home/cb/sis2/data/tfrecords256/00034_8625x273.tfrecord is new\n",
      "File /home/cb/sis2/data/tfrecords256/00034_8625x795.tfrecord is new\n",
      "File /home/cb/sis2/data/tfrecords256/00034_8625x1056.tfrecord is new\n",
      "File /home/cb/sis2/data/tfrecords256/00034_8625x1317.tfrecord is new\n",
      "File /home/cb/sis2/data/tfrecords256/00034_8625x1578.tfrecord is new\n",
      "File /home/cb/sis2/data/tfrecords256/00034_8625x1839.tfrecord is new\n",
      "File /home/cb/sis2/data/tfrecords256/00034_8625x2100.tfrecord is new\n",
      "File /home/cb/sis2/data/tfrecords256/00034_8625x2883.tfrecord is new\n",
      "File /home/cb/sis2/data/tfrecords256/00034_8886x12.tfrecord is new\n",
      "File /home/cb/sis2/data/tfrecords256/00034_8886x273.tfrecord is new\n",
      "File /home/cb/sis2/data/tfrecords256/00034_8886x534.tfrecord is new\n",
      "File /home/cb/sis2/data/tfrecords256/00034_8886x795.tfrecord is new\n",
      "File /home/cb/sis2/data/tfrecords256/00034_8886x1056.tfrecord is new\n",
      "File /home/cb/sis2/data/tfrecords256/00034_8886x1317.tfrecord is new\n",
      "File /home/cb/sis2/data/tfrecords256/00034_8886x1578.tfrecord is new\n",
      "File /home/cb/sis2/data/tfrecords256/00034_8886x1839.tfrecord is new\n",
      "File /home/cb/sis2/data/tfrecords256/00034_8886x2100.tfrecord is new\n",
      "File /home/cb/sis2/data/tfrecords256/00034_8886x2361.tfrecord is new\n",
      "File /home/cb/sis2/data/tfrecords256/00034_9147x273.tfrecord is new\n",
      "File /home/cb/sis2/data/tfrecords256/00034_9147x795.tfrecord is new\n",
      "File /home/cb/sis2/data/tfrecords256/00034_9147x1056.tfrecord is new\n",
      "File /home/cb/sis2/data/tfrecords256/00034_9147x1317.tfrecord is new\n",
      "File /home/cb/sis2/data/tfrecords256/00034_9147x1839.tfrecord is new\n",
      "File /home/cb/sis2/data/tfrecords256/00034_9147x2100.tfrecord is new\n",
      "File /home/cb/sis2/data/tfrecords256/00034_9147x3144.tfrecord is new\n",
      "File /home/cb/sis2/data/tfrecords256/00034_9408x1056.tfrecord is new\n",
      "File /home/cb/sis2/data/tfrecords256/00034_9408x1317.tfrecord is new\n",
      "File /home/cb/sis2/data/tfrecords256/00034_9408x1578.tfrecord is new\n",
      "File /home/cb/sis2/data/tfrecords256/00034_9408x1839.tfrecord is new\n",
      "File /home/cb/sis2/data/tfrecords256/00034_9669x795.tfrecord is new\n",
      "File /home/cb/sis2/data/tfrecords256/00034_9669x1056.tfrecord is new\n",
      "File /home/cb/sis2/data/tfrecords256/00034_9669x1317.tfrecord is new\n",
      "File /home/cb/sis2/data/tfrecords256/00034_9669x3405.tfrecord is new\n",
      "File /home/cb/sis2/data/tfrecords256/00037_273x7842.tfrecord is new\n",
      "File /home/cb/sis2/data/tfrecords256/00037_1056x795.tfrecord is new\n",
      "File /home/cb/sis2/data/tfrecords256/00037_1056x1056.tfrecord is new\n",
      "File /home/cb/sis2/data/tfrecords256/00037_1056x1839.tfrecord is new\n",
      "File /home/cb/sis2/data/tfrecords256/00037_1056x2100.tfrecord is new\n",
      "File /home/cb/sis2/data/tfrecords256/00037_1317x1317.tfrecord is new\n",
      "File /home/cb/sis2/data/tfrecords256/00037_1317x1578.tfrecord is new\n",
      "File /home/cb/sis2/data/tfrecords256/00037_1317x1839.tfrecord is new\n",
      "File /home/cb/sis2/data/tfrecords256/00037_1578x8886.tfrecord is new\n",
      "File /home/cb/sis2/data/tfrecords256/00037_2100x1839.tfrecord is new\n",
      "File /home/cb/sis2/data/tfrecords256/00037_2100x2100.tfrecord is new\n",
      "File /home/cb/sis2/data/tfrecords256/00037_2361x1839.tfrecord is new\n",
      "File /home/cb/sis2/data/tfrecords256/00037_2361x2100.tfrecord is new\n",
      "File /home/cb/sis2/data/tfrecords256/00037_2622x8625.tfrecord is new\n",
      "File /home/cb/sis2/data/tfrecords256/00037_2883x2883.tfrecord is new\n",
      "File /home/cb/sis2/data/tfrecords256/00037_2883x8625.tfrecord is new\n",
      "File /home/cb/sis2/data/tfrecords256/00037_2883x9408.tfrecord is new\n",
      "File /home/cb/sis2/data/tfrecords256/00037_2883x9669.tfrecord is new\n",
      "File /home/cb/sis2/data/tfrecords256/00037_3144x2883.tfrecord is new\n",
      "File /home/cb/sis2/data/tfrecords256/00037_3144x3144.tfrecord is new\n",
      "File /home/cb/sis2/data/tfrecords256/00037_3144x4971.tfrecord is new\n",
      "File /home/cb/sis2/data/tfrecords256/00037_3144x9669.tfrecord is new\n",
      "File /home/cb/sis2/data/tfrecords256/00037_3405x3144.tfrecord is new\n",
      "File /home/cb/sis2/data/tfrecords256/00037_3405x8886.tfrecord is new\n",
      "File /home/cb/sis2/data/tfrecords256/00037_3405x9669.tfrecord is new\n",
      "File /home/cb/sis2/data/tfrecords256/00037_3666x9147.tfrecord is new\n",
      "File /home/cb/sis2/data/tfrecords256/00037_3666x9408.tfrecord is new\n",
      "File /home/cb/sis2/data/tfrecords256/00037_3927x3666.tfrecord is new\n",
      "File /home/cb/sis2/data/tfrecords256/00037_3927x9408.tfrecord is new\n",
      "File /home/cb/sis2/data/tfrecords256/00037_4188x9669.tfrecord is new\n",
      "File /home/cb/sis2/data/tfrecords256/00037_4449x1317.tfrecord is new\n",
      "File /home/cb/sis2/data/tfrecords256/00037_4449x5493.tfrecord is new\n",
      "File /home/cb/sis2/data/tfrecords256/00037_4449x6015.tfrecord is new\n",
      "File /home/cb/sis2/data/tfrecords256/00037_4449x6798.tfrecord is new\n",
      "File /home/cb/sis2/data/tfrecords256/00037_4449x7059.tfrecord is new\n",
      "File /home/cb/sis2/data/tfrecords256/00037_4449x7320.tfrecord is new\n",
      "File /home/cb/sis2/data/tfrecords256/00037_4710x12.tfrecord is new\n",
      "File /home/cb/sis2/data/tfrecords256/00037_4710x273.tfrecord is new\n",
      "File /home/cb/sis2/data/tfrecords256/00037_4710x534.tfrecord is new\n",
      "File /home/cb/sis2/data/tfrecords256/00037_4710x1317.tfrecord is new\n",
      "File /home/cb/sis2/data/tfrecords256/00037_4710x1578.tfrecord is new\n",
      "File /home/cb/sis2/data/tfrecords256/00037_4710x5754.tfrecord is new\n",
      "File /home/cb/sis2/data/tfrecords256/00037_4710x6798.tfrecord is new\n",
      "File /home/cb/sis2/data/tfrecords256/00037_4710x8103.tfrecord is new\n",
      "File /home/cb/sis2/data/tfrecords256/00037_4971x12.tfrecord is new\n",
      "File /home/cb/sis2/data/tfrecords256/00037_4971x1317.tfrecord is new\n",
      "File /home/cb/sis2/data/tfrecords256/00037_4971x1578.tfrecord is new\n",
      "File /home/cb/sis2/data/tfrecords256/00037_4971x1839.tfrecord is new\n",
      "File /home/cb/sis2/data/tfrecords256/00037_4971x6798.tfrecord is new\n",
      "File /home/cb/sis2/data/tfrecords256/00037_4971x7059.tfrecord is new\n",
      "File /home/cb/sis2/data/tfrecords256/00037_4971x7320.tfrecord is new\n",
      "File /home/cb/sis2/data/tfrecords256/00037_4971x7581.tfrecord is new\n",
      "File /home/cb/sis2/data/tfrecords256/00037_5232x12.tfrecord is new\n",
      "File /home/cb/sis2/data/tfrecords256/00037_5232x1056.tfrecord is new\n",
      "File /home/cb/sis2/data/tfrecords256/00037_5232x1317.tfrecord is new\n",
      "File /home/cb/sis2/data/tfrecords256/00037_5232x1839.tfrecord is new\n",
      "File /home/cb/sis2/data/tfrecords256/00037_5232x2100.tfrecord is new\n",
      "File /home/cb/sis2/data/tfrecords256/00037_5232x6537.tfrecord is new\n",
      "File /home/cb/sis2/data/tfrecords256/00037_5232x6798.tfrecord is new\n",
      "File /home/cb/sis2/data/tfrecords256/00037_5232x7059.tfrecord is new\n",
      "File /home/cb/sis2/data/tfrecords256/00037_5232x7320.tfrecord is new\n",
      "File /home/cb/sis2/data/tfrecords256/00037_5493x534.tfrecord is new\n",
      "File /home/cb/sis2/data/tfrecords256/00037_5493x1056.tfrecord is new\n",
      "File /home/cb/sis2/data/tfrecords256/00037_5493x1317.tfrecord is new\n",
      "File /home/cb/sis2/data/tfrecords256/00037_5493x1578.tfrecord is new\n",
      "File /home/cb/sis2/data/tfrecords256/00037_5493x1839.tfrecord is new\n",
      "File /home/cb/sis2/data/tfrecords256/00037_5493x2100.tfrecord is new\n",
      "File /home/cb/sis2/data/tfrecords256/00037_5493x2361.tfrecord is new\n",
      "File /home/cb/sis2/data/tfrecords256/00037_5493x2622.tfrecord is new\n",
      "File /home/cb/sis2/data/tfrecords256/00037_5493x7320.tfrecord is new\n",
      "File /home/cb/sis2/data/tfrecords256/00037_5493x8364.tfrecord is new\n",
      "File /home/cb/sis2/data/tfrecords256/00037_5493x8886.tfrecord is new\n",
      "File /home/cb/sis2/data/tfrecords256/00037_5754x12.tfrecord is new\n",
      "File /home/cb/sis2/data/tfrecords256/00037_5754x1056.tfrecord is new\n",
      "File /home/cb/sis2/data/tfrecords256/00037_5754x1317.tfrecord is new\n",
      "File /home/cb/sis2/data/tfrecords256/00037_5754x1578.tfrecord is new\n",
      "File /home/cb/sis2/data/tfrecords256/00037_5754x1839.tfrecord is new\n",
      "File /home/cb/sis2/data/tfrecords256/00037_5754x2100.tfrecord is new\n",
      "File /home/cb/sis2/data/tfrecords256/00037_5754x2361.tfrecord is new\n",
      "File /home/cb/sis2/data/tfrecords256/00037_5754x2622.tfrecord is new\n",
      "File /home/cb/sis2/data/tfrecords256/00037_5754x2883.tfrecord is new\n",
      "File /home/cb/sis2/data/tfrecords256/00037_5754x3144.tfrecord is new\n",
      "File /home/cb/sis2/data/tfrecords256/00037_5754x3405.tfrecord is new\n",
      "File /home/cb/sis2/data/tfrecords256/00037_5754x7059.tfrecord is new\n",
      "File /home/cb/sis2/data/tfrecords256/00037_5754x7842.tfrecord is new\n",
      "File /home/cb/sis2/data/tfrecords256/00037_5754x8103.tfrecord is new\n",
      "File /home/cb/sis2/data/tfrecords256/00037_5754x8364.tfrecord is new\n",
      "File /home/cb/sis2/data/tfrecords256/00037_5754x8886.tfrecord is new\n",
      "File /home/cb/sis2/data/tfrecords256/00037_5754x9147.tfrecord is new\n",
      "File /home/cb/sis2/data/tfrecords256/00037_6015x12.tfrecord is new\n",
      "File /home/cb/sis2/data/tfrecords256/00037_6015x534.tfrecord is new\n",
      "File /home/cb/sis2/data/tfrecords256/00037_6015x795.tfrecord is new\n",
      "File /home/cb/sis2/data/tfrecords256/00037_6015x1056.tfrecord is new\n",
      "File /home/cb/sis2/data/tfrecords256/00037_6015x1317.tfrecord is new\n",
      "File /home/cb/sis2/data/tfrecords256/00037_6015x1578.tfrecord is new\n",
      "File /home/cb/sis2/data/tfrecords256/00037_6015x1839.tfrecord is new\n",
      "File /home/cb/sis2/data/tfrecords256/00037_6015x2100.tfrecord is new\n",
      "File /home/cb/sis2/data/tfrecords256/00037_6015x2361.tfrecord is new\n",
      "File /home/cb/sis2/data/tfrecords256/00037_6015x2622.tfrecord is new\n",
      "File /home/cb/sis2/data/tfrecords256/00037_6015x2883.tfrecord is new\n",
      "File /home/cb/sis2/data/tfrecords256/00037_6015x3144.tfrecord is new\n",
      "File /home/cb/sis2/data/tfrecords256/00037_6015x3405.tfrecord is new\n",
      "File /home/cb/sis2/data/tfrecords256/00037_6015x3666.tfrecord is new\n",
      "File /home/cb/sis2/data/tfrecords256/00037_6015x7842.tfrecord is new\n",
      "File /home/cb/sis2/data/tfrecords256/00037_6015x8103.tfrecord is new\n",
      "File /home/cb/sis2/data/tfrecords256/00037_6015x8364.tfrecord is new\n",
      "File /home/cb/sis2/data/tfrecords256/00037_6015x9147.tfrecord is new\n",
      "File /home/cb/sis2/data/tfrecords256/00037_6276x12.tfrecord is new\n",
      "File /home/cb/sis2/data/tfrecords256/00037_6276x795.tfrecord is new\n",
      "File /home/cb/sis2/data/tfrecords256/00037_6276x1056.tfrecord is new\n",
      "File /home/cb/sis2/data/tfrecords256/00037_6276x1317.tfrecord is new\n",
      "File /home/cb/sis2/data/tfrecords256/00037_6276x1578.tfrecord is new\n",
      "File /home/cb/sis2/data/tfrecords256/00037_6276x1839.tfrecord is new\n",
      "File /home/cb/sis2/data/tfrecords256/00037_6276x2100.tfrecord is new\n",
      "File /home/cb/sis2/data/tfrecords256/00037_6276x2361.tfrecord is new\n",
      "File /home/cb/sis2/data/tfrecords256/00037_6276x2622.tfrecord is new\n",
      "File /home/cb/sis2/data/tfrecords256/00037_6276x2883.tfrecord is new\n",
      "File /home/cb/sis2/data/tfrecords256/00037_6276x3144.tfrecord is new\n",
      "File /home/cb/sis2/data/tfrecords256/00037_6276x3405.tfrecord is new\n",
      "File /home/cb/sis2/data/tfrecords256/00037_6276x3666.tfrecord is new\n",
      "File /home/cb/sis2/data/tfrecords256/00037_6276x7842.tfrecord is new\n",
      "File /home/cb/sis2/data/tfrecords256/00037_6276x8103.tfrecord is new\n",
      "File /home/cb/sis2/data/tfrecords256/00037_6276x8886.tfrecord is new\n",
      "File /home/cb/sis2/data/tfrecords256/00037_6276x9147.tfrecord is new\n",
      "File /home/cb/sis2/data/tfrecords256/00037_6537x12.tfrecord is new\n",
      "File /home/cb/sis2/data/tfrecords256/00037_6537x273.tfrecord is new\n",
      "File /home/cb/sis2/data/tfrecords256/00037_6537x534.tfrecord is new\n",
      "File /home/cb/sis2/data/tfrecords256/00037_6537x795.tfrecord is new\n",
      "File /home/cb/sis2/data/tfrecords256/00037_6537x1056.tfrecord is new\n",
      "File /home/cb/sis2/data/tfrecords256/00037_6537x1317.tfrecord is new\n",
      "File /home/cb/sis2/data/tfrecords256/00037_6537x1578.tfrecord is new\n",
      "File /home/cb/sis2/data/tfrecords256/00037_6537x1839.tfrecord is new\n",
      "File /home/cb/sis2/data/tfrecords256/00037_6537x2100.tfrecord is new\n",
      "File /home/cb/sis2/data/tfrecords256/00037_6537x2361.tfrecord is new\n",
      "File /home/cb/sis2/data/tfrecords256/00037_6537x2622.tfrecord is new\n",
      "File /home/cb/sis2/data/tfrecords256/00037_6537x2883.tfrecord is new\n",
      "File /home/cb/sis2/data/tfrecords256/00037_6537x3144.tfrecord is new\n",
      "File /home/cb/sis2/data/tfrecords256/00037_6537x3405.tfrecord is new\n",
      "File /home/cb/sis2/data/tfrecords256/00037_6537x3666.tfrecord is new\n",
      "File /home/cb/sis2/data/tfrecords256/00037_6537x7842.tfrecord is new\n",
      "File /home/cb/sis2/data/tfrecords256/00037_6537x8103.tfrecord is new\n",
      "File /home/cb/sis2/data/tfrecords256/00037_6537x9408.tfrecord is new\n",
      "File /home/cb/sis2/data/tfrecords256/00037_6537x9669.tfrecord is new\n",
      "File /home/cb/sis2/data/tfrecords256/00037_6798x12.tfrecord is new\n",
      "File /home/cb/sis2/data/tfrecords256/00037_6798x273.tfrecord is new\n",
      "File /home/cb/sis2/data/tfrecords256/00037_6798x534.tfrecord is new\n",
      "File /home/cb/sis2/data/tfrecords256/00037_6798x795.tfrecord is new\n",
      "File /home/cb/sis2/data/tfrecords256/00037_6798x1056.tfrecord is new\n",
      "File /home/cb/sis2/data/tfrecords256/00037_6798x1317.tfrecord is new\n",
      "File /home/cb/sis2/data/tfrecords256/00037_6798x1578.tfrecord is new\n",
      "File /home/cb/sis2/data/tfrecords256/00037_6798x1839.tfrecord is new\n",
      "File /home/cb/sis2/data/tfrecords256/00037_6798x2100.tfrecord is new\n",
      "File /home/cb/sis2/data/tfrecords256/00037_6798x2361.tfrecord is new\n",
      "File /home/cb/sis2/data/tfrecords256/00037_6798x2622.tfrecord is new\n",
      "File /home/cb/sis2/data/tfrecords256/00037_6798x2883.tfrecord is new\n",
      "File /home/cb/sis2/data/tfrecords256/00037_6798x3144.tfrecord is new\n",
      "File /home/cb/sis2/data/tfrecords256/00037_6798x3405.tfrecord is new\n",
      "File /home/cb/sis2/data/tfrecords256/00037_6798x3666.tfrecord is new\n",
      "File /home/cb/sis2/data/tfrecords256/00037_6798x7842.tfrecord is new\n",
      "File /home/cb/sis2/data/tfrecords256/00037_6798x8103.tfrecord is new\n",
      "File /home/cb/sis2/data/tfrecords256/00037_6798x8364.tfrecord is new\n",
      "File /home/cb/sis2/data/tfrecords256/00037_6798x8625.tfrecord is new\n",
      "File /home/cb/sis2/data/tfrecords256/00037_7059x12.tfrecord is new\n",
      "File /home/cb/sis2/data/tfrecords256/00037_7059x273.tfrecord is new\n",
      "File /home/cb/sis2/data/tfrecords256/00037_7059x534.tfrecord is new\n",
      "File /home/cb/sis2/data/tfrecords256/00037_7059x795.tfrecord is new\n",
      "File /home/cb/sis2/data/tfrecords256/00037_7059x1056.tfrecord is new\n",
      "File /home/cb/sis2/data/tfrecords256/00037_7059x1317.tfrecord is new\n",
      "File /home/cb/sis2/data/tfrecords256/00037_7059x1578.tfrecord is new\n",
      "File /home/cb/sis2/data/tfrecords256/00037_7059x1839.tfrecord is new\n",
      "File /home/cb/sis2/data/tfrecords256/00037_7059x2100.tfrecord is new\n",
      "File /home/cb/sis2/data/tfrecords256/00037_7059x2361.tfrecord is new\n",
      "File /home/cb/sis2/data/tfrecords256/00037_7059x2622.tfrecord is new\n",
      "File /home/cb/sis2/data/tfrecords256/00037_7059x2883.tfrecord is new\n",
      "File /home/cb/sis2/data/tfrecords256/00037_7059x3144.tfrecord is new\n",
      "File /home/cb/sis2/data/tfrecords256/00037_7059x3405.tfrecord is new\n",
      "File /home/cb/sis2/data/tfrecords256/00037_7059x3666.tfrecord is new\n",
      "File /home/cb/sis2/data/tfrecords256/00037_7059x8103.tfrecord is new\n",
      "File /home/cb/sis2/data/tfrecords256/00037_7059x8364.tfrecord is new\n",
      "File /home/cb/sis2/data/tfrecords256/00037_7059x8625.tfrecord is new\n",
      "File /home/cb/sis2/data/tfrecords256/00037_7059x9147.tfrecord is new\n",
      "File /home/cb/sis2/data/tfrecords256/00037_7059x9669.tfrecord is new\n",
      "File /home/cb/sis2/data/tfrecords256/00037_7320x12.tfrecord is new\n",
      "File /home/cb/sis2/data/tfrecords256/00037_7320x273.tfrecord is new\n",
      "File /home/cb/sis2/data/tfrecords256/00037_7320x534.tfrecord is new\n",
      "File /home/cb/sis2/data/tfrecords256/00037_7320x795.tfrecord is new\n",
      "File /home/cb/sis2/data/tfrecords256/00037_7320x1056.tfrecord is new\n",
      "File /home/cb/sis2/data/tfrecords256/00037_7320x1317.tfrecord is new\n",
      "File /home/cb/sis2/data/tfrecords256/00037_7320x1578.tfrecord is new\n",
      "File /home/cb/sis2/data/tfrecords256/00037_7320x1839.tfrecord is new\n",
      "File /home/cb/sis2/data/tfrecords256/00037_7320x2100.tfrecord is new\n",
      "File /home/cb/sis2/data/tfrecords256/00037_7320x2361.tfrecord is new\n",
      "File /home/cb/sis2/data/tfrecords256/00037_7320x2622.tfrecord is new\n",
      "File /home/cb/sis2/data/tfrecords256/00037_7320x2883.tfrecord is new\n",
      "File /home/cb/sis2/data/tfrecords256/00037_7320x3144.tfrecord is new\n",
      "File /home/cb/sis2/data/tfrecords256/00037_7320x3405.tfrecord is new\n",
      "File /home/cb/sis2/data/tfrecords256/00037_7320x3666.tfrecord is new\n",
      "File /home/cb/sis2/data/tfrecords256/00037_7320x7842.tfrecord is new\n",
      "File /home/cb/sis2/data/tfrecords256/00037_7320x8103.tfrecord is new\n",
      "File /home/cb/sis2/data/tfrecords256/00037_7320x8364.tfrecord is new\n",
      "File /home/cb/sis2/data/tfrecords256/00037_7320x8625.tfrecord is new\n",
      "File /home/cb/sis2/data/tfrecords256/00037_7320x9147.tfrecord is new\n",
      "File /home/cb/sis2/data/tfrecords256/00037_7320x9408.tfrecord is new\n",
      "File /home/cb/sis2/data/tfrecords256/00037_7320x9669.tfrecord is new\n",
      "File /home/cb/sis2/data/tfrecords256/00037_7581x12.tfrecord is new\n",
      "File /home/cb/sis2/data/tfrecords256/00037_7581x273.tfrecord is new\n",
      "File /home/cb/sis2/data/tfrecords256/00037_7581x534.tfrecord is new\n",
      "File /home/cb/sis2/data/tfrecords256/00037_7581x795.tfrecord is new\n",
      "File /home/cb/sis2/data/tfrecords256/00037_7581x1056.tfrecord is new\n",
      "File /home/cb/sis2/data/tfrecords256/00037_7581x1317.tfrecord is new\n",
      "File /home/cb/sis2/data/tfrecords256/00037_7581x1578.tfrecord is new\n",
      "File /home/cb/sis2/data/tfrecords256/00037_7581x1839.tfrecord is new\n",
      "File /home/cb/sis2/data/tfrecords256/00037_7581x2100.tfrecord is new\n",
      "File /home/cb/sis2/data/tfrecords256/00037_7581x2361.tfrecord is new\n",
      "File /home/cb/sis2/data/tfrecords256/00037_7581x2622.tfrecord is new\n",
      "File /home/cb/sis2/data/tfrecords256/00037_7581x2883.tfrecord is new\n",
      "File /home/cb/sis2/data/tfrecords256/00037_7581x3144.tfrecord is new\n",
      "File /home/cb/sis2/data/tfrecords256/00037_7581x3405.tfrecord is new\n",
      "File /home/cb/sis2/data/tfrecords256/00037_7581x3666.tfrecord is new\n",
      "File /home/cb/sis2/data/tfrecords256/00037_7581x3927.tfrecord is new\n",
      "File /home/cb/sis2/data/tfrecords256/00037_7581x8625.tfrecord is new\n",
      "File /home/cb/sis2/data/tfrecords256/00037_7581x8886.tfrecord is new\n",
      "File /home/cb/sis2/data/tfrecords256/00037_7581x9147.tfrecord is new\n",
      "File /home/cb/sis2/data/tfrecords256/00037_7581x9408.tfrecord is new\n",
      "File /home/cb/sis2/data/tfrecords256/00037_7581x9669.tfrecord is new\n",
      "File /home/cb/sis2/data/tfrecords256/00037_7842x12.tfrecord is new\n",
      "File /home/cb/sis2/data/tfrecords256/00037_7842x273.tfrecord is new\n",
      "File /home/cb/sis2/data/tfrecords256/00037_7842x534.tfrecord is new\n",
      "File /home/cb/sis2/data/tfrecords256/00037_7842x795.tfrecord is new\n",
      "File /home/cb/sis2/data/tfrecords256/00037_7842x1056.tfrecord is new\n",
      "File /home/cb/sis2/data/tfrecords256/00037_7842x1317.tfrecord is new\n",
      "File /home/cb/sis2/data/tfrecords256/00037_7842x1578.tfrecord is new\n",
      "File /home/cb/sis2/data/tfrecords256/00037_7842x1839.tfrecord is new\n",
      "File /home/cb/sis2/data/tfrecords256/00037_7842x2100.tfrecord is new\n",
      "File /home/cb/sis2/data/tfrecords256/00037_7842x2361.tfrecord is new\n",
      "File /home/cb/sis2/data/tfrecords256/00037_7842x2622.tfrecord is new\n",
      "File /home/cb/sis2/data/tfrecords256/00037_7842x2883.tfrecord is new\n",
      "File /home/cb/sis2/data/tfrecords256/00037_7842x3144.tfrecord is new\n",
      "File /home/cb/sis2/data/tfrecords256/00037_7842x3405.tfrecord is new\n",
      "File /home/cb/sis2/data/tfrecords256/00037_7842x3666.tfrecord is new\n",
      "File /home/cb/sis2/data/tfrecords256/00037_7842x3927.tfrecord is new\n",
      "File /home/cb/sis2/data/tfrecords256/00037_7842x7842.tfrecord is new\n",
      "File /home/cb/sis2/data/tfrecords256/00037_7842x8886.tfrecord is new\n",
      "File /home/cb/sis2/data/tfrecords256/00037_7842x9147.tfrecord is new\n",
      "File /home/cb/sis2/data/tfrecords256/00037_7842x9408.tfrecord is new\n",
      "File /home/cb/sis2/data/tfrecords256/00037_7842x9669.tfrecord is new\n",
      "File /home/cb/sis2/data/tfrecords256/00037_8103x12.tfrecord is new\n",
      "File /home/cb/sis2/data/tfrecords256/00037_8103x273.tfrecord is new\n",
      "File /home/cb/sis2/data/tfrecords256/00037_8103x534.tfrecord is new\n",
      "File /home/cb/sis2/data/tfrecords256/00037_8103x795.tfrecord is new\n",
      "File /home/cb/sis2/data/tfrecords256/00037_8103x1056.tfrecord is new\n",
      "File /home/cb/sis2/data/tfrecords256/00037_8103x1317.tfrecord is new\n",
      "File /home/cb/sis2/data/tfrecords256/00037_8103x1578.tfrecord is new\n",
      "File /home/cb/sis2/data/tfrecords256/00037_8103x1839.tfrecord is new\n",
      "File /home/cb/sis2/data/tfrecords256/00037_8103x2100.tfrecord is new\n",
      "File /home/cb/sis2/data/tfrecords256/00037_8103x2361.tfrecord is new\n",
      "File /home/cb/sis2/data/tfrecords256/00037_8103x2622.tfrecord is new\n",
      "File /home/cb/sis2/data/tfrecords256/00037_8103x2883.tfrecord is new\n",
      "File /home/cb/sis2/data/tfrecords256/00037_8103x3144.tfrecord is new\n",
      "File /home/cb/sis2/data/tfrecords256/00037_8103x3405.tfrecord is new\n",
      "File /home/cb/sis2/data/tfrecords256/00037_8103x3666.tfrecord is new\n",
      "File /home/cb/sis2/data/tfrecords256/00037_8103x3927.tfrecord is new\n",
      "File /home/cb/sis2/data/tfrecords256/00037_8103x4188.tfrecord is new\n",
      "File /home/cb/sis2/data/tfrecords256/00037_8103x8886.tfrecord is new\n",
      "File /home/cb/sis2/data/tfrecords256/00037_8103x9147.tfrecord is new\n",
      "File /home/cb/sis2/data/tfrecords256/00037_8103x9408.tfrecord is new\n",
      "File /home/cb/sis2/data/tfrecords256/00037_8364x12.tfrecord is new\n",
      "File /home/cb/sis2/data/tfrecords256/00037_8364x273.tfrecord is new\n",
      "File /home/cb/sis2/data/tfrecords256/00037_8364x534.tfrecord is new\n",
      "File /home/cb/sis2/data/tfrecords256/00037_8364x795.tfrecord is new\n",
      "File /home/cb/sis2/data/tfrecords256/00037_8364x1056.tfrecord is new\n",
      "File /home/cb/sis2/data/tfrecords256/00037_8364x1317.tfrecord is new\n",
      "File /home/cb/sis2/data/tfrecords256/00037_8364x1578.tfrecord is new\n",
      "File /home/cb/sis2/data/tfrecords256/00037_8364x1839.tfrecord is new\n",
      "File /home/cb/sis2/data/tfrecords256/00037_8364x2100.tfrecord is new\n",
      "File /home/cb/sis2/data/tfrecords256/00037_8364x2361.tfrecord is new\n",
      "File /home/cb/sis2/data/tfrecords256/00037_8364x2622.tfrecord is new\n",
      "File /home/cb/sis2/data/tfrecords256/00037_8364x2883.tfrecord is new\n",
      "File /home/cb/sis2/data/tfrecords256/00037_8364x3144.tfrecord is new\n",
      "File /home/cb/sis2/data/tfrecords256/00037_8364x3405.tfrecord is new\n",
      "File /home/cb/sis2/data/tfrecords256/00037_8364x3666.tfrecord is new\n",
      "File /home/cb/sis2/data/tfrecords256/00037_8364x3927.tfrecord is new\n",
      "File /home/cb/sis2/data/tfrecords256/00037_8364x4188.tfrecord is new\n",
      "File /home/cb/sis2/data/tfrecords256/00037_8364x8625.tfrecord is new\n",
      "File /home/cb/sis2/data/tfrecords256/00037_8625x12.tfrecord is new\n",
      "File /home/cb/sis2/data/tfrecords256/00037_8625x273.tfrecord is new\n",
      "File /home/cb/sis2/data/tfrecords256/00037_8625x534.tfrecord is new\n",
      "File /home/cb/sis2/data/tfrecords256/00037_8625x795.tfrecord is new\n",
      "File /home/cb/sis2/data/tfrecords256/00037_8625x1056.tfrecord is new\n",
      "File /home/cb/sis2/data/tfrecords256/00037_8625x1317.tfrecord is new\n",
      "File /home/cb/sis2/data/tfrecords256/00037_8625x1578.tfrecord is new\n",
      "File /home/cb/sis2/data/tfrecords256/00037_8625x1839.tfrecord is new\n",
      "File /home/cb/sis2/data/tfrecords256/00037_8625x2100.tfrecord is new\n",
      "File /home/cb/sis2/data/tfrecords256/00037_8625x2361.tfrecord is new\n",
      "File /home/cb/sis2/data/tfrecords256/00037_8625x2622.tfrecord is new\n",
      "File /home/cb/sis2/data/tfrecords256/00037_8625x2883.tfrecord is new\n",
      "File /home/cb/sis2/data/tfrecords256/00037_8625x3144.tfrecord is new\n",
      "File /home/cb/sis2/data/tfrecords256/00037_8625x3405.tfrecord is new\n",
      "File /home/cb/sis2/data/tfrecords256/00037_8625x3666.tfrecord is new\n",
      "File /home/cb/sis2/data/tfrecords256/00037_8625x3927.tfrecord is new\n",
      "File /home/cb/sis2/data/tfrecords256/00037_8625x4188.tfrecord is new\n",
      "File /home/cb/sis2/data/tfrecords256/00037_8625x4971.tfrecord is new\n",
      "File /home/cb/sis2/data/tfrecords256/00037_8625x5232.tfrecord is new\n",
      "File /home/cb/sis2/data/tfrecords256/00037_8625x5493.tfrecord is new\n",
      "File /home/cb/sis2/data/tfrecords256/00037_8625x8625.tfrecord is new\n",
      "File /home/cb/sis2/data/tfrecords256/00037_8886x12.tfrecord is new\n",
      "File /home/cb/sis2/data/tfrecords256/00037_8886x273.tfrecord is new\n",
      "File /home/cb/sis2/data/tfrecords256/00037_8886x534.tfrecord is new\n",
      "File /home/cb/sis2/data/tfrecords256/00037_8886x795.tfrecord is new\n",
      "File /home/cb/sis2/data/tfrecords256/00037_8886x1056.tfrecord is new\n",
      "File /home/cb/sis2/data/tfrecords256/00037_8886x1317.tfrecord is new\n",
      "File /home/cb/sis2/data/tfrecords256/00037_8886x1578.tfrecord is new\n",
      "File /home/cb/sis2/data/tfrecords256/00037_8886x1839.tfrecord is new\n",
      "File /home/cb/sis2/data/tfrecords256/00037_8886x2100.tfrecord is new\n",
      "File /home/cb/sis2/data/tfrecords256/00037_8886x2361.tfrecord is new\n",
      "File /home/cb/sis2/data/tfrecords256/00037_8886x2622.tfrecord is new\n",
      "File /home/cb/sis2/data/tfrecords256/00037_8886x2883.tfrecord is new\n",
      "File /home/cb/sis2/data/tfrecords256/00037_8886x3144.tfrecord is new\n",
      "File /home/cb/sis2/data/tfrecords256/00037_8886x3405.tfrecord is new\n",
      "File /home/cb/sis2/data/tfrecords256/00037_8886x3666.tfrecord is new\n",
      "File /home/cb/sis2/data/tfrecords256/00037_8886x3927.tfrecord is new\n",
      "File /home/cb/sis2/data/tfrecords256/00037_8886x4188.tfrecord is new\n",
      "File /home/cb/sis2/data/tfrecords256/00037_8886x4449.tfrecord is new\n",
      "File /home/cb/sis2/data/tfrecords256/00037_8886x4971.tfrecord is new\n",
      "File /home/cb/sis2/data/tfrecords256/00037_8886x5232.tfrecord is new\n",
      "File /home/cb/sis2/data/tfrecords256/00037_8886x5493.tfrecord is new\n",
      "File /home/cb/sis2/data/tfrecords256/00037_8886x5754.tfrecord is new\n",
      "File /home/cb/sis2/data/tfrecords256/00037_8886x6015.tfrecord is new\n",
      "File /home/cb/sis2/data/tfrecords256/00037_8886x6276.tfrecord is new\n",
      "File /home/cb/sis2/data/tfrecords256/00037_8886x6537.tfrecord is new\n",
      "File /home/cb/sis2/data/tfrecords256/00037_8886x8625.tfrecord is new\n",
      "File /home/cb/sis2/data/tfrecords256/00037_8886x9147.tfrecord is new\n",
      "File /home/cb/sis2/data/tfrecords256/00037_8886x9408.tfrecord is new\n",
      "File /home/cb/sis2/data/tfrecords256/00037_9147x273.tfrecord is new\n",
      "File /home/cb/sis2/data/tfrecords256/00037_9147x534.tfrecord is new\n",
      "File /home/cb/sis2/data/tfrecords256/00037_9147x795.tfrecord is new\n",
      "File /home/cb/sis2/data/tfrecords256/00037_9147x1056.tfrecord is new\n",
      "File /home/cb/sis2/data/tfrecords256/00037_9147x1317.tfrecord is new\n",
      "File /home/cb/sis2/data/tfrecords256/00037_9147x1578.tfrecord is new\n",
      "File /home/cb/sis2/data/tfrecords256/00037_9147x1839.tfrecord is new\n",
      "File /home/cb/sis2/data/tfrecords256/00037_9147x2100.tfrecord is new\n",
      "File /home/cb/sis2/data/tfrecords256/00037_9147x2361.tfrecord is new\n",
      "File /home/cb/sis2/data/tfrecords256/00037_9147x2622.tfrecord is new\n",
      "File /home/cb/sis2/data/tfrecords256/00037_9147x2883.tfrecord is new\n",
      "File /home/cb/sis2/data/tfrecords256/00037_9147x3144.tfrecord is new\n",
      "File /home/cb/sis2/data/tfrecords256/00037_9147x3405.tfrecord is new\n",
      "File /home/cb/sis2/data/tfrecords256/00037_9147x3666.tfrecord is new\n",
      "File /home/cb/sis2/data/tfrecords256/00037_9147x3927.tfrecord is new\n",
      "File /home/cb/sis2/data/tfrecords256/00037_9147x4188.tfrecord is new\n",
      "File /home/cb/sis2/data/tfrecords256/00037_9147x4449.tfrecord is new\n",
      "File /home/cb/sis2/data/tfrecords256/00037_9147x4710.tfrecord is new\n",
      "File /home/cb/sis2/data/tfrecords256/00037_9147x4971.tfrecord is new\n",
      "File /home/cb/sis2/data/tfrecords256/00037_9147x5232.tfrecord is new\n",
      "File /home/cb/sis2/data/tfrecords256/00037_9147x5493.tfrecord is new\n",
      "File /home/cb/sis2/data/tfrecords256/00037_9147x5754.tfrecord is new\n",
      "File /home/cb/sis2/data/tfrecords256/00037_9147x6015.tfrecord is new\n",
      "File /home/cb/sis2/data/tfrecords256/00037_9147x6276.tfrecord is new\n",
      "File /home/cb/sis2/data/tfrecords256/00037_9147x6537.tfrecord is new\n",
      "File /home/cb/sis2/data/tfrecords256/00037_9147x8625.tfrecord is new\n",
      "File /home/cb/sis2/data/tfrecords256/00037_9147x8886.tfrecord is new\n",
      "File /home/cb/sis2/data/tfrecords256/00037_9408x273.tfrecord is new\n",
      "File /home/cb/sis2/data/tfrecords256/00037_9408x534.tfrecord is new\n",
      "File /home/cb/sis2/data/tfrecords256/00037_9408x795.tfrecord is new\n",
      "File /home/cb/sis2/data/tfrecords256/00037_9408x1056.tfrecord is new\n",
      "File /home/cb/sis2/data/tfrecords256/00037_9408x1317.tfrecord is new\n",
      "File /home/cb/sis2/data/tfrecords256/00037_9408x1578.tfrecord is new\n",
      "File /home/cb/sis2/data/tfrecords256/00037_9408x1839.tfrecord is new\n",
      "File /home/cb/sis2/data/tfrecords256/00037_9408x2100.tfrecord is new\n",
      "File /home/cb/sis2/data/tfrecords256/00037_9408x2361.tfrecord is new\n",
      "File /home/cb/sis2/data/tfrecords256/00037_9408x2622.tfrecord is new\n",
      "File /home/cb/sis2/data/tfrecords256/00037_9408x2883.tfrecord is new\n",
      "File /home/cb/sis2/data/tfrecords256/00037_9408x3144.tfrecord is new\n",
      "File /home/cb/sis2/data/tfrecords256/00037_9408x3405.tfrecord is new\n",
      "File /home/cb/sis2/data/tfrecords256/00037_9408x3666.tfrecord is new\n",
      "File /home/cb/sis2/data/tfrecords256/00037_9408x3927.tfrecord is new\n",
      "File /home/cb/sis2/data/tfrecords256/00037_9408x4188.tfrecord is new\n",
      "File /home/cb/sis2/data/tfrecords256/00037_9408x4449.tfrecord is new\n",
      "File /home/cb/sis2/data/tfrecords256/00037_9408x4710.tfrecord is new\n",
      "File /home/cb/sis2/data/tfrecords256/00037_9408x4971.tfrecord is new\n",
      "File /home/cb/sis2/data/tfrecords256/00037_9408x5232.tfrecord is new\n",
      "File /home/cb/sis2/data/tfrecords256/00037_9408x5493.tfrecord is new\n",
      "File /home/cb/sis2/data/tfrecords256/00037_9408x5754.tfrecord is new\n",
      "File /home/cb/sis2/data/tfrecords256/00037_9408x6015.tfrecord is new\n",
      "File /home/cb/sis2/data/tfrecords256/00037_9408x6276.tfrecord is new\n",
      "File /home/cb/sis2/data/tfrecords256/00037_9408x6537.tfrecord is new\n",
      "File /home/cb/sis2/data/tfrecords256/00037_9408x8886.tfrecord is new\n",
      "File /home/cb/sis2/data/tfrecords256/00037_9408x9147.tfrecord is new\n",
      "File /home/cb/sis2/data/tfrecords256/00037_9669x12.tfrecord is new\n",
      "File /home/cb/sis2/data/tfrecords256/00037_9669x273.tfrecord is new\n",
      "File /home/cb/sis2/data/tfrecords256/00037_9669x534.tfrecord is new\n",
      "File /home/cb/sis2/data/tfrecords256/00037_9669x795.tfrecord is new\n",
      "File /home/cb/sis2/data/tfrecords256/00037_9669x1056.tfrecord is new\n",
      "File /home/cb/sis2/data/tfrecords256/00037_9669x1317.tfrecord is new\n",
      "File /home/cb/sis2/data/tfrecords256/00037_9669x1578.tfrecord is new\n",
      "File /home/cb/sis2/data/tfrecords256/00037_9669x1839.tfrecord is new\n",
      "File /home/cb/sis2/data/tfrecords256/00037_9669x2100.tfrecord is new\n",
      "File /home/cb/sis2/data/tfrecords256/00037_9669x2361.tfrecord is new\n",
      "File /home/cb/sis2/data/tfrecords256/00037_9669x2622.tfrecord is new\n",
      "File /home/cb/sis2/data/tfrecords256/00037_9669x2883.tfrecord is new\n",
      "File /home/cb/sis2/data/tfrecords256/00037_9669x3144.tfrecord is new\n",
      "File /home/cb/sis2/data/tfrecords256/00037_9669x3405.tfrecord is new\n",
      "File /home/cb/sis2/data/tfrecords256/00037_9669x3666.tfrecord is new\n",
      "File /home/cb/sis2/data/tfrecords256/00037_9669x3927.tfrecord is new\n",
      "File /home/cb/sis2/data/tfrecords256/00037_9669x4188.tfrecord is new\n",
      "File /home/cb/sis2/data/tfrecords256/00037_9669x4449.tfrecord is new\n",
      "File /home/cb/sis2/data/tfrecords256/00037_9669x4710.tfrecord is new\n",
      "File /home/cb/sis2/data/tfrecords256/00037_9669x4971.tfrecord is new\n",
      "File /home/cb/sis2/data/tfrecords256/00037_9669x5232.tfrecord is new\n",
      "File /home/cb/sis2/data/tfrecords256/00037_9669x5493.tfrecord is new\n",
      "File /home/cb/sis2/data/tfrecords256/00037_9669x5754.tfrecord is new\n",
      "File /home/cb/sis2/data/tfrecords256/00037_9669x6015.tfrecord is new\n",
      "File /home/cb/sis2/data/tfrecords256/00037_9669x6276.tfrecord is new\n",
      "File /home/cb/sis2/data/tfrecords256/00037_9669x6537.tfrecord is new\n",
      "File /home/cb/sis2/data/tfrecords256/00037_9669x6798.tfrecord is new\n",
      "File /home/cb/sis2/data/tfrecords256/00037_9669x8886.tfrecord is new\n",
      "File /home/cb/sis2/data/tfrecords256/00037_9669x9147.tfrecord is new\n",
      "File /home/cb/sis2/data/tfrecords256/00037_9669x9408.tfrecord is new\n",
      "File /home/cb/sis2/data/tfrecords256/00037_9669x9669.tfrecord is new\n",
      "File /home/cb/sis2/data/tfrecords256/00041_273x7842.tfrecord is new\n",
      "File /home/cb/sis2/data/tfrecords256/00041_1056x795.tfrecord is new\n",
      "File /home/cb/sis2/data/tfrecords256/00041_1056x1056.tfrecord is new\n",
      "File /home/cb/sis2/data/tfrecords256/00041_1056x1839.tfrecord is new\n",
      "File /home/cb/sis2/data/tfrecords256/00041_1056x2100.tfrecord is new\n",
      "File /home/cb/sis2/data/tfrecords256/00041_1317x1317.tfrecord is new\n",
      "File /home/cb/sis2/data/tfrecords256/00041_1317x1578.tfrecord is new\n",
      "File /home/cb/sis2/data/tfrecords256/00041_1317x1839.tfrecord is new\n",
      "File /home/cb/sis2/data/tfrecords256/00041_1578x8886.tfrecord is new\n",
      "File /home/cb/sis2/data/tfrecords256/00041_2100x1839.tfrecord is new\n",
      "File /home/cb/sis2/data/tfrecords256/00041_2100x2100.tfrecord is new\n",
      "File /home/cb/sis2/data/tfrecords256/00041_2361x1839.tfrecord is new\n",
      "File /home/cb/sis2/data/tfrecords256/00041_2361x2100.tfrecord is new\n",
      "File /home/cb/sis2/data/tfrecords256/00041_2622x8625.tfrecord is new\n",
      "File /home/cb/sis2/data/tfrecords256/00041_2883x2883.tfrecord is new\n",
      "File /home/cb/sis2/data/tfrecords256/00041_2883x8625.tfrecord is new\n",
      "File /home/cb/sis2/data/tfrecords256/00041_2883x9408.tfrecord is new\n",
      "File /home/cb/sis2/data/tfrecords256/00041_2883x9669.tfrecord is new\n",
      "File /home/cb/sis2/data/tfrecords256/00041_3144x2883.tfrecord is new\n",
      "File /home/cb/sis2/data/tfrecords256/00041_3144x3144.tfrecord is new\n",
      "File /home/cb/sis2/data/tfrecords256/00041_3144x4971.tfrecord is new\n",
      "File /home/cb/sis2/data/tfrecords256/00041_3144x9669.tfrecord is new\n",
      "File /home/cb/sis2/data/tfrecords256/00041_3405x3144.tfrecord is new\n",
      "File /home/cb/sis2/data/tfrecords256/00041_3405x8886.tfrecord is new\n",
      "File /home/cb/sis2/data/tfrecords256/00041_3405x9669.tfrecord is new\n",
      "File /home/cb/sis2/data/tfrecords256/00041_3666x9147.tfrecord is new\n",
      "File /home/cb/sis2/data/tfrecords256/00041_3666x9408.tfrecord is new\n",
      "File /home/cb/sis2/data/tfrecords256/00041_3927x3666.tfrecord is new\n",
      "File /home/cb/sis2/data/tfrecords256/00041_3927x9408.tfrecord is new\n",
      "File /home/cb/sis2/data/tfrecords256/00041_4188x9669.tfrecord is new\n",
      "File /home/cb/sis2/data/tfrecords256/00041_4449x1317.tfrecord is new\n",
      "File /home/cb/sis2/data/tfrecords256/00041_4449x5493.tfrecord is new\n",
      "File /home/cb/sis2/data/tfrecords256/00041_4449x6015.tfrecord is new\n",
      "File /home/cb/sis2/data/tfrecords256/00041_4449x6798.tfrecord is new\n",
      "File /home/cb/sis2/data/tfrecords256/00041_4449x7059.tfrecord is new\n",
      "File /home/cb/sis2/data/tfrecords256/00041_4449x7320.tfrecord is new\n",
      "File /home/cb/sis2/data/tfrecords256/00041_4710x12.tfrecord is new\n",
      "File /home/cb/sis2/data/tfrecords256/00041_4710x273.tfrecord is new\n",
      "File /home/cb/sis2/data/tfrecords256/00041_4710x534.tfrecord is new\n",
      "File /home/cb/sis2/data/tfrecords256/00041_4710x1317.tfrecord is new\n",
      "File /home/cb/sis2/data/tfrecords256/00041_4710x1578.tfrecord is new\n",
      "File /home/cb/sis2/data/tfrecords256/00041_4710x5754.tfrecord is new\n",
      "File /home/cb/sis2/data/tfrecords256/00041_4710x6798.tfrecord is new\n",
      "File /home/cb/sis2/data/tfrecords256/00041_4710x8103.tfrecord is new\n",
      "File /home/cb/sis2/data/tfrecords256/00041_4971x12.tfrecord is new\n",
      "File /home/cb/sis2/data/tfrecords256/00041_4971x1317.tfrecord is new\n",
      "File /home/cb/sis2/data/tfrecords256/00041_4971x1578.tfrecord is new\n",
      "File /home/cb/sis2/data/tfrecords256/00041_4971x1839.tfrecord is new\n",
      "File /home/cb/sis2/data/tfrecords256/00041_4971x6798.tfrecord is new\n",
      "File /home/cb/sis2/data/tfrecords256/00041_4971x7059.tfrecord is new\n",
      "File /home/cb/sis2/data/tfrecords256/00041_4971x7320.tfrecord is new\n",
      "File /home/cb/sis2/data/tfrecords256/00041_4971x7581.tfrecord is new\n",
      "File /home/cb/sis2/data/tfrecords256/00041_5232x12.tfrecord is new\n",
      "File /home/cb/sis2/data/tfrecords256/00041_5232x1056.tfrecord is new\n",
      "File /home/cb/sis2/data/tfrecords256/00041_5232x1317.tfrecord is new\n",
      "File /home/cb/sis2/data/tfrecords256/00041_5232x1839.tfrecord is new\n",
      "File /home/cb/sis2/data/tfrecords256/00041_5232x2100.tfrecord is new\n",
      "File /home/cb/sis2/data/tfrecords256/00041_5232x6537.tfrecord is new\n",
      "File /home/cb/sis2/data/tfrecords256/00041_5232x6798.tfrecord is new\n",
      "File /home/cb/sis2/data/tfrecords256/00041_5232x7059.tfrecord is new\n",
      "File /home/cb/sis2/data/tfrecords256/00041_5232x7320.tfrecord is new\n",
      "File /home/cb/sis2/data/tfrecords256/00041_5493x534.tfrecord is new\n",
      "File /home/cb/sis2/data/tfrecords256/00041_5493x1056.tfrecord is new\n",
      "File /home/cb/sis2/data/tfrecords256/00041_5493x1317.tfrecord is new\n",
      "File /home/cb/sis2/data/tfrecords256/00041_5493x1578.tfrecord is new\n",
      "File /home/cb/sis2/data/tfrecords256/00041_5493x1839.tfrecord is new\n",
      "File /home/cb/sis2/data/tfrecords256/00041_5493x2100.tfrecord is new\n",
      "File /home/cb/sis2/data/tfrecords256/00041_5493x2361.tfrecord is new\n",
      "File /home/cb/sis2/data/tfrecords256/00041_5493x2622.tfrecord is new\n",
      "File /home/cb/sis2/data/tfrecords256/00041_5493x7320.tfrecord is new\n",
      "File /home/cb/sis2/data/tfrecords256/00041_5493x8364.tfrecord is new\n",
      "File /home/cb/sis2/data/tfrecords256/00041_5493x8886.tfrecord is new\n",
      "File /home/cb/sis2/data/tfrecords256/00041_5754x12.tfrecord is new\n",
      "File /home/cb/sis2/data/tfrecords256/00041_5754x1056.tfrecord is new\n",
      "File /home/cb/sis2/data/tfrecords256/00041_5754x1317.tfrecord is new\n",
      "File /home/cb/sis2/data/tfrecords256/00041_5754x1578.tfrecord is new\n",
      "File /home/cb/sis2/data/tfrecords256/00041_5754x1839.tfrecord is new\n",
      "File /home/cb/sis2/data/tfrecords256/00041_5754x2100.tfrecord is new\n",
      "File /home/cb/sis2/data/tfrecords256/00041_5754x2361.tfrecord is new\n",
      "File /home/cb/sis2/data/tfrecords256/00041_5754x2622.tfrecord is new\n",
      "File /home/cb/sis2/data/tfrecords256/00041_5754x2883.tfrecord is new\n",
      "File /home/cb/sis2/data/tfrecords256/00041_5754x3144.tfrecord is new\n",
      "File /home/cb/sis2/data/tfrecords256/00041_5754x3405.tfrecord is new\n",
      "File /home/cb/sis2/data/tfrecords256/00041_5754x7059.tfrecord is new\n",
      "File /home/cb/sis2/data/tfrecords256/00041_5754x7842.tfrecord is new\n",
      "File /home/cb/sis2/data/tfrecords256/00041_5754x8103.tfrecord is new\n",
      "File /home/cb/sis2/data/tfrecords256/00041_5754x8364.tfrecord is new\n",
      "File /home/cb/sis2/data/tfrecords256/00041_5754x8886.tfrecord is new\n",
      "File /home/cb/sis2/data/tfrecords256/00041_5754x9147.tfrecord is new\n",
      "File /home/cb/sis2/data/tfrecords256/00041_6015x12.tfrecord is new\n",
      "File /home/cb/sis2/data/tfrecords256/00041_6015x534.tfrecord is new\n",
      "File /home/cb/sis2/data/tfrecords256/00041_6015x795.tfrecord is new\n",
      "File /home/cb/sis2/data/tfrecords256/00041_6015x1056.tfrecord is new\n",
      "File /home/cb/sis2/data/tfrecords256/00041_6015x1317.tfrecord is new\n",
      "File /home/cb/sis2/data/tfrecords256/00041_6015x1578.tfrecord is new\n",
      "File /home/cb/sis2/data/tfrecords256/00041_6015x1839.tfrecord is new\n",
      "File /home/cb/sis2/data/tfrecords256/00041_6015x2100.tfrecord is new\n",
      "File /home/cb/sis2/data/tfrecords256/00041_6015x2361.tfrecord is new\n",
      "File /home/cb/sis2/data/tfrecords256/00041_6015x2622.tfrecord is new\n",
      "File /home/cb/sis2/data/tfrecords256/00041_6015x2883.tfrecord is new\n",
      "File /home/cb/sis2/data/tfrecords256/00041_6015x3144.tfrecord is new\n",
      "File /home/cb/sis2/data/tfrecords256/00041_6015x3405.tfrecord is new\n",
      "File /home/cb/sis2/data/tfrecords256/00041_6015x3666.tfrecord is new\n",
      "File /home/cb/sis2/data/tfrecords256/00041_6015x7842.tfrecord is new\n",
      "File /home/cb/sis2/data/tfrecords256/00041_6015x8103.tfrecord is new\n",
      "File /home/cb/sis2/data/tfrecords256/00041_6015x8364.tfrecord is new\n",
      "File /home/cb/sis2/data/tfrecords256/00041_6015x9147.tfrecord is new\n",
      "File /home/cb/sis2/data/tfrecords256/00041_6276x12.tfrecord is new\n",
      "File /home/cb/sis2/data/tfrecords256/00041_6276x795.tfrecord is new\n",
      "File /home/cb/sis2/data/tfrecords256/00041_6276x1056.tfrecord is new\n",
      "File /home/cb/sis2/data/tfrecords256/00041_6276x1317.tfrecord is new\n",
      "File /home/cb/sis2/data/tfrecords256/00041_6276x1578.tfrecord is new\n",
      "File /home/cb/sis2/data/tfrecords256/00041_6276x1839.tfrecord is new\n",
      "File /home/cb/sis2/data/tfrecords256/00041_6276x2100.tfrecord is new\n",
      "File /home/cb/sis2/data/tfrecords256/00041_6276x2361.tfrecord is new\n",
      "File /home/cb/sis2/data/tfrecords256/00041_6276x2622.tfrecord is new\n",
      "File /home/cb/sis2/data/tfrecords256/00041_6276x2883.tfrecord is new\n",
      "File /home/cb/sis2/data/tfrecords256/00041_6276x3144.tfrecord is new\n",
      "File /home/cb/sis2/data/tfrecords256/00041_6276x3405.tfrecord is new\n",
      "File /home/cb/sis2/data/tfrecords256/00041_6276x3666.tfrecord is new\n",
      "File /home/cb/sis2/data/tfrecords256/00041_6276x7842.tfrecord is new\n",
      "File /home/cb/sis2/data/tfrecords256/00041_6276x8103.tfrecord is new\n",
      "File /home/cb/sis2/data/tfrecords256/00041_6276x8886.tfrecord is new\n",
      "File /home/cb/sis2/data/tfrecords256/00041_6276x9147.tfrecord is new\n",
      "File /home/cb/sis2/data/tfrecords256/00041_6537x12.tfrecord is new\n",
      "File /home/cb/sis2/data/tfrecords256/00041_6537x273.tfrecord is new\n",
      "File /home/cb/sis2/data/tfrecords256/00041_6537x534.tfrecord is new\n",
      "File /home/cb/sis2/data/tfrecords256/00041_6537x795.tfrecord is new\n",
      "File /home/cb/sis2/data/tfrecords256/00041_6537x1056.tfrecord is new\n",
      "File /home/cb/sis2/data/tfrecords256/00041_6537x1317.tfrecord is new\n",
      "File /home/cb/sis2/data/tfrecords256/00041_6537x1578.tfrecord is new\n",
      "File /home/cb/sis2/data/tfrecords256/00041_6537x1839.tfrecord is new\n",
      "File /home/cb/sis2/data/tfrecords256/00041_6537x2100.tfrecord is new\n",
      "File /home/cb/sis2/data/tfrecords256/00041_6537x2361.tfrecord is new\n",
      "File /home/cb/sis2/data/tfrecords256/00041_6537x2622.tfrecord is new\n",
      "File /home/cb/sis2/data/tfrecords256/00041_6537x2883.tfrecord is new\n",
      "File /home/cb/sis2/data/tfrecords256/00041_6537x3144.tfrecord is new\n",
      "File /home/cb/sis2/data/tfrecords256/00041_6537x3405.tfrecord is new\n",
      "File /home/cb/sis2/data/tfrecords256/00041_6537x3666.tfrecord is new\n",
      "File /home/cb/sis2/data/tfrecords256/00041_6537x7842.tfrecord is new\n",
      "File /home/cb/sis2/data/tfrecords256/00041_6537x8103.tfrecord is new\n",
      "File /home/cb/sis2/data/tfrecords256/00041_6537x9408.tfrecord is new\n",
      "File /home/cb/sis2/data/tfrecords256/00041_6537x9669.tfrecord is new\n",
      "File /home/cb/sis2/data/tfrecords256/00041_6798x12.tfrecord is new\n",
      "File /home/cb/sis2/data/tfrecords256/00041_6798x273.tfrecord is new\n",
      "File /home/cb/sis2/data/tfrecords256/00041_6798x534.tfrecord is new\n",
      "File /home/cb/sis2/data/tfrecords256/00041_6798x795.tfrecord is new\n",
      "File /home/cb/sis2/data/tfrecords256/00041_6798x1056.tfrecord is new\n",
      "File /home/cb/sis2/data/tfrecords256/00041_6798x1317.tfrecord is new\n",
      "File /home/cb/sis2/data/tfrecords256/00041_6798x1578.tfrecord is new\n",
      "File /home/cb/sis2/data/tfrecords256/00041_6798x1839.tfrecord is new\n",
      "File /home/cb/sis2/data/tfrecords256/00041_6798x2100.tfrecord is new\n",
      "File /home/cb/sis2/data/tfrecords256/00041_6798x2361.tfrecord is new\n",
      "File /home/cb/sis2/data/tfrecords256/00041_6798x2622.tfrecord is new\n",
      "File /home/cb/sis2/data/tfrecords256/00041_6798x2883.tfrecord is new\n",
      "File /home/cb/sis2/data/tfrecords256/00041_6798x3144.tfrecord is new\n",
      "File /home/cb/sis2/data/tfrecords256/00041_6798x3405.tfrecord is new\n",
      "File /home/cb/sis2/data/tfrecords256/00041_6798x3666.tfrecord is new\n",
      "File /home/cb/sis2/data/tfrecords256/00041_6798x7842.tfrecord is new\n",
      "File /home/cb/sis2/data/tfrecords256/00041_6798x8103.tfrecord is new\n",
      "File /home/cb/sis2/data/tfrecords256/00041_6798x8364.tfrecord is new\n",
      "File /home/cb/sis2/data/tfrecords256/00041_6798x8625.tfrecord is new\n",
      "File /home/cb/sis2/data/tfrecords256/00041_7059x12.tfrecord is new\n",
      "File /home/cb/sis2/data/tfrecords256/00041_7059x273.tfrecord is new\n",
      "File /home/cb/sis2/data/tfrecords256/00041_7059x534.tfrecord is new\n",
      "File /home/cb/sis2/data/tfrecords256/00041_7059x795.tfrecord is new\n",
      "File /home/cb/sis2/data/tfrecords256/00041_7059x1056.tfrecord is new\n",
      "File /home/cb/sis2/data/tfrecords256/00041_7059x1317.tfrecord is new\n",
      "File /home/cb/sis2/data/tfrecords256/00041_7059x1578.tfrecord is new\n",
      "File /home/cb/sis2/data/tfrecords256/00041_7059x1839.tfrecord is new\n",
      "File /home/cb/sis2/data/tfrecords256/00041_7059x2100.tfrecord is new\n",
      "File /home/cb/sis2/data/tfrecords256/00041_7059x2361.tfrecord is new\n",
      "File /home/cb/sis2/data/tfrecords256/00041_7059x2622.tfrecord is new\n",
      "File /home/cb/sis2/data/tfrecords256/00041_7059x2883.tfrecord is new\n",
      "File /home/cb/sis2/data/tfrecords256/00041_7059x3144.tfrecord is new\n",
      "File /home/cb/sis2/data/tfrecords256/00041_7059x3405.tfrecord is new\n",
      "File /home/cb/sis2/data/tfrecords256/00041_7059x3666.tfrecord is new\n",
      "File /home/cb/sis2/data/tfrecords256/00041_7059x8103.tfrecord is new\n",
      "File /home/cb/sis2/data/tfrecords256/00041_7059x8364.tfrecord is new\n",
      "File /home/cb/sis2/data/tfrecords256/00041_7059x8625.tfrecord is new\n",
      "File /home/cb/sis2/data/tfrecords256/00041_7059x9147.tfrecord is new\n",
      "File /home/cb/sis2/data/tfrecords256/00041_7059x9669.tfrecord is new\n",
      "File /home/cb/sis2/data/tfrecords256/00041_7320x12.tfrecord is new\n",
      "File /home/cb/sis2/data/tfrecords256/00041_7320x273.tfrecord is new\n",
      "File /home/cb/sis2/data/tfrecords256/00041_7320x534.tfrecord is new\n",
      "File /home/cb/sis2/data/tfrecords256/00041_7320x795.tfrecord is new\n",
      "File /home/cb/sis2/data/tfrecords256/00041_7320x1056.tfrecord is new\n",
      "File /home/cb/sis2/data/tfrecords256/00041_7320x1317.tfrecord is new\n",
      "File /home/cb/sis2/data/tfrecords256/00041_7320x1578.tfrecord is new\n",
      "File /home/cb/sis2/data/tfrecords256/00041_7320x1839.tfrecord is new\n",
      "File /home/cb/sis2/data/tfrecords256/00041_7320x2100.tfrecord is new\n",
      "File /home/cb/sis2/data/tfrecords256/00041_7320x2361.tfrecord is new\n",
      "File /home/cb/sis2/data/tfrecords256/00041_7320x2622.tfrecord is new\n",
      "File /home/cb/sis2/data/tfrecords256/00041_7320x2883.tfrecord is new\n",
      "File /home/cb/sis2/data/tfrecords256/00041_7320x3144.tfrecord is new\n",
      "File /home/cb/sis2/data/tfrecords256/00041_7320x3405.tfrecord is new\n",
      "File /home/cb/sis2/data/tfrecords256/00041_7320x3666.tfrecord is new\n",
      "File /home/cb/sis2/data/tfrecords256/00041_7320x7842.tfrecord is new\n",
      "File /home/cb/sis2/data/tfrecords256/00041_7320x8103.tfrecord is new\n",
      "File /home/cb/sis2/data/tfrecords256/00041_7320x8364.tfrecord is new\n",
      "File /home/cb/sis2/data/tfrecords256/00041_7320x8625.tfrecord is new\n",
      "File /home/cb/sis2/data/tfrecords256/00041_7320x9147.tfrecord is new\n",
      "File /home/cb/sis2/data/tfrecords256/00041_7320x9408.tfrecord is new\n",
      "File /home/cb/sis2/data/tfrecords256/00041_7320x9669.tfrecord is new\n",
      "File /home/cb/sis2/data/tfrecords256/00041_7581x12.tfrecord is new\n",
      "File /home/cb/sis2/data/tfrecords256/00041_7581x273.tfrecord is new\n",
      "File /home/cb/sis2/data/tfrecords256/00041_7581x534.tfrecord is new\n",
      "File /home/cb/sis2/data/tfrecords256/00041_7581x795.tfrecord is new\n",
      "File /home/cb/sis2/data/tfrecords256/00041_7581x1056.tfrecord is new\n",
      "File /home/cb/sis2/data/tfrecords256/00041_7581x1317.tfrecord is new\n",
      "File /home/cb/sis2/data/tfrecords256/00041_7581x1578.tfrecord is new\n",
      "File /home/cb/sis2/data/tfrecords256/00041_7581x1839.tfrecord is new\n",
      "File /home/cb/sis2/data/tfrecords256/00041_7581x2100.tfrecord is new\n",
      "File /home/cb/sis2/data/tfrecords256/00041_7581x2361.tfrecord is new\n",
      "File /home/cb/sis2/data/tfrecords256/00041_7581x2622.tfrecord is new\n",
      "File /home/cb/sis2/data/tfrecords256/00041_7581x2883.tfrecord is new\n",
      "File /home/cb/sis2/data/tfrecords256/00041_7581x3144.tfrecord is new\n",
      "File /home/cb/sis2/data/tfrecords256/00041_7581x3405.tfrecord is new\n",
      "File /home/cb/sis2/data/tfrecords256/00041_7581x3666.tfrecord is new\n",
      "File /home/cb/sis2/data/tfrecords256/00041_7581x3927.tfrecord is new\n",
      "File /home/cb/sis2/data/tfrecords256/00041_7581x8625.tfrecord is new\n",
      "File /home/cb/sis2/data/tfrecords256/00041_7581x8886.tfrecord is new\n",
      "File /home/cb/sis2/data/tfrecords256/00041_7581x9147.tfrecord is new\n",
      "File /home/cb/sis2/data/tfrecords256/00041_7581x9408.tfrecord is new\n",
      "File /home/cb/sis2/data/tfrecords256/00041_7581x9669.tfrecord is new\n",
      "File /home/cb/sis2/data/tfrecords256/00041_7842x12.tfrecord is new\n",
      "File /home/cb/sis2/data/tfrecords256/00041_7842x273.tfrecord is new\n",
      "File /home/cb/sis2/data/tfrecords256/00041_7842x534.tfrecord is new\n",
      "File /home/cb/sis2/data/tfrecords256/00041_7842x795.tfrecord is new\n",
      "File /home/cb/sis2/data/tfrecords256/00041_7842x1056.tfrecord is new\n",
      "File /home/cb/sis2/data/tfrecords256/00041_7842x1317.tfrecord is new\n",
      "File /home/cb/sis2/data/tfrecords256/00041_7842x1578.tfrecord is new\n",
      "File /home/cb/sis2/data/tfrecords256/00041_7842x1839.tfrecord is new\n",
      "File /home/cb/sis2/data/tfrecords256/00041_7842x2100.tfrecord is new\n",
      "File /home/cb/sis2/data/tfrecords256/00041_7842x2361.tfrecord is new\n",
      "File /home/cb/sis2/data/tfrecords256/00041_7842x2622.tfrecord is new\n",
      "File /home/cb/sis2/data/tfrecords256/00041_7842x2883.tfrecord is new\n",
      "File /home/cb/sis2/data/tfrecords256/00041_7842x3144.tfrecord is new\n",
      "File /home/cb/sis2/data/tfrecords256/00041_7842x3405.tfrecord is new\n",
      "File /home/cb/sis2/data/tfrecords256/00041_7842x3666.tfrecord is new\n",
      "File /home/cb/sis2/data/tfrecords256/00041_7842x3927.tfrecord is new\n",
      "File /home/cb/sis2/data/tfrecords256/00041_7842x7842.tfrecord is new\n",
      "File /home/cb/sis2/data/tfrecords256/00041_7842x8886.tfrecord is new\n",
      "File /home/cb/sis2/data/tfrecords256/00041_7842x9147.tfrecord is new\n",
      "File /home/cb/sis2/data/tfrecords256/00041_7842x9408.tfrecord is new\n",
      "File /home/cb/sis2/data/tfrecords256/00041_7842x9669.tfrecord is new\n",
      "File /home/cb/sis2/data/tfrecords256/00041_8103x12.tfrecord is new\n",
      "File /home/cb/sis2/data/tfrecords256/00041_8103x273.tfrecord is new\n",
      "File /home/cb/sis2/data/tfrecords256/00041_8103x534.tfrecord is new\n",
      "File /home/cb/sis2/data/tfrecords256/00041_8103x795.tfrecord is new\n",
      "File /home/cb/sis2/data/tfrecords256/00041_8103x1056.tfrecord is new\n",
      "File /home/cb/sis2/data/tfrecords256/00041_8103x1317.tfrecord is new\n",
      "File /home/cb/sis2/data/tfrecords256/00041_8103x1578.tfrecord is new\n",
      "File /home/cb/sis2/data/tfrecords256/00041_8103x1839.tfrecord is new\n",
      "File /home/cb/sis2/data/tfrecords256/00041_8103x2100.tfrecord is new\n",
      "File /home/cb/sis2/data/tfrecords256/00041_8103x2361.tfrecord is new\n",
      "File /home/cb/sis2/data/tfrecords256/00041_8103x2622.tfrecord is new\n",
      "File /home/cb/sis2/data/tfrecords256/00041_8103x2883.tfrecord is new\n",
      "File /home/cb/sis2/data/tfrecords256/00041_8103x3144.tfrecord is new\n",
      "File /home/cb/sis2/data/tfrecords256/00041_8103x3405.tfrecord is new\n",
      "File /home/cb/sis2/data/tfrecords256/00041_8103x3666.tfrecord is new\n",
      "File /home/cb/sis2/data/tfrecords256/00041_8103x3927.tfrecord is new\n",
      "File /home/cb/sis2/data/tfrecords256/00041_8103x4188.tfrecord is new\n",
      "File /home/cb/sis2/data/tfrecords256/00041_8103x8886.tfrecord is new\n",
      "File /home/cb/sis2/data/tfrecords256/00041_8103x9147.tfrecord is new\n",
      "File /home/cb/sis2/data/tfrecords256/00041_8103x9408.tfrecord is new\n",
      "File /home/cb/sis2/data/tfrecords256/00041_8364x12.tfrecord is new\n",
      "File /home/cb/sis2/data/tfrecords256/00041_8364x273.tfrecord is new\n",
      "File /home/cb/sis2/data/tfrecords256/00041_8364x534.tfrecord is new\n",
      "File /home/cb/sis2/data/tfrecords256/00041_8364x795.tfrecord is new\n",
      "File /home/cb/sis2/data/tfrecords256/00041_8364x1056.tfrecord is new\n",
      "File /home/cb/sis2/data/tfrecords256/00041_8364x1317.tfrecord is new\n",
      "File /home/cb/sis2/data/tfrecords256/00041_8364x1578.tfrecord is new\n",
      "File /home/cb/sis2/data/tfrecords256/00041_8364x1839.tfrecord is new\n",
      "File /home/cb/sis2/data/tfrecords256/00041_8364x2100.tfrecord is new\n",
      "File /home/cb/sis2/data/tfrecords256/00041_8364x2361.tfrecord is new\n",
      "File /home/cb/sis2/data/tfrecords256/00041_8364x2622.tfrecord is new\n",
      "File /home/cb/sis2/data/tfrecords256/00041_8364x2883.tfrecord is new\n",
      "File /home/cb/sis2/data/tfrecords256/00041_8364x3144.tfrecord is new\n",
      "File /home/cb/sis2/data/tfrecords256/00041_8364x3405.tfrecord is new\n",
      "File /home/cb/sis2/data/tfrecords256/00041_8364x3666.tfrecord is new\n",
      "File /home/cb/sis2/data/tfrecords256/00041_8364x3927.tfrecord is new\n",
      "File /home/cb/sis2/data/tfrecords256/00041_8364x4188.tfrecord is new\n",
      "File /home/cb/sis2/data/tfrecords256/00041_8364x8625.tfrecord is new\n",
      "File /home/cb/sis2/data/tfrecords256/00041_8625x12.tfrecord is new\n",
      "File /home/cb/sis2/data/tfrecords256/00041_8625x273.tfrecord is new\n",
      "File /home/cb/sis2/data/tfrecords256/00041_8625x534.tfrecord is new\n",
      "File /home/cb/sis2/data/tfrecords256/00041_8625x795.tfrecord is new\n",
      "File /home/cb/sis2/data/tfrecords256/00041_8625x1056.tfrecord is new\n",
      "File /home/cb/sis2/data/tfrecords256/00041_8625x1317.tfrecord is new\n",
      "File /home/cb/sis2/data/tfrecords256/00041_8625x1578.tfrecord is new\n",
      "File /home/cb/sis2/data/tfrecords256/00041_8625x1839.tfrecord is new\n",
      "File /home/cb/sis2/data/tfrecords256/00041_8625x2100.tfrecord is new\n",
      "File /home/cb/sis2/data/tfrecords256/00041_8625x2361.tfrecord is new\n",
      "File /home/cb/sis2/data/tfrecords256/00041_8625x2622.tfrecord is new\n",
      "File /home/cb/sis2/data/tfrecords256/00041_8625x2883.tfrecord is new\n",
      "File /home/cb/sis2/data/tfrecords256/00041_8625x3144.tfrecord is new\n",
      "File /home/cb/sis2/data/tfrecords256/00041_8625x3405.tfrecord is new\n",
      "File /home/cb/sis2/data/tfrecords256/00041_8625x3666.tfrecord is new\n",
      "File /home/cb/sis2/data/tfrecords256/00041_8625x3927.tfrecord is new\n",
      "File /home/cb/sis2/data/tfrecords256/00041_8625x4188.tfrecord is new\n",
      "File /home/cb/sis2/data/tfrecords256/00041_8625x4971.tfrecord is new\n",
      "File /home/cb/sis2/data/tfrecords256/00041_8625x5232.tfrecord is new\n",
      "File /home/cb/sis2/data/tfrecords256/00041_8625x5493.tfrecord is new\n",
      "File /home/cb/sis2/data/tfrecords256/00041_8625x8625.tfrecord is new\n",
      "File /home/cb/sis2/data/tfrecords256/00041_8886x12.tfrecord is new\n",
      "File /home/cb/sis2/data/tfrecords256/00041_8886x273.tfrecord is new\n",
      "File /home/cb/sis2/data/tfrecords256/00041_8886x534.tfrecord is new\n",
      "File /home/cb/sis2/data/tfrecords256/00041_8886x795.tfrecord is new\n",
      "File /home/cb/sis2/data/tfrecords256/00041_8886x1056.tfrecord is new\n",
      "File /home/cb/sis2/data/tfrecords256/00041_8886x1317.tfrecord is new\n",
      "File /home/cb/sis2/data/tfrecords256/00041_8886x1578.tfrecord is new\n",
      "File /home/cb/sis2/data/tfrecords256/00041_8886x1839.tfrecord is new\n",
      "File /home/cb/sis2/data/tfrecords256/00041_8886x2100.tfrecord is new\n",
      "File /home/cb/sis2/data/tfrecords256/00041_8886x2361.tfrecord is new\n",
      "File /home/cb/sis2/data/tfrecords256/00041_8886x2622.tfrecord is new\n",
      "File /home/cb/sis2/data/tfrecords256/00041_8886x2883.tfrecord is new\n",
      "File /home/cb/sis2/data/tfrecords256/00041_8886x3144.tfrecord is new\n",
      "File /home/cb/sis2/data/tfrecords256/00041_8886x3405.tfrecord is new\n",
      "File /home/cb/sis2/data/tfrecords256/00041_8886x3666.tfrecord is new\n",
      "File /home/cb/sis2/data/tfrecords256/00041_8886x3927.tfrecord is new\n",
      "File /home/cb/sis2/data/tfrecords256/00041_8886x4188.tfrecord is new\n",
      "File /home/cb/sis2/data/tfrecords256/00041_8886x4449.tfrecord is new\n",
      "File /home/cb/sis2/data/tfrecords256/00041_8886x4971.tfrecord is new\n",
      "File /home/cb/sis2/data/tfrecords256/00041_8886x5232.tfrecord is new\n",
      "File /home/cb/sis2/data/tfrecords256/00041_8886x5493.tfrecord is new\n",
      "File /home/cb/sis2/data/tfrecords256/00041_8886x5754.tfrecord is new\n",
      "File /home/cb/sis2/data/tfrecords256/00041_8886x6015.tfrecord is new\n",
      "File /home/cb/sis2/data/tfrecords256/00041_8886x6276.tfrecord is new\n",
      "File /home/cb/sis2/data/tfrecords256/00041_8886x6537.tfrecord is new\n",
      "File /home/cb/sis2/data/tfrecords256/00041_8886x8625.tfrecord is new\n",
      "File /home/cb/sis2/data/tfrecords256/00041_8886x9147.tfrecord is new\n",
      "File /home/cb/sis2/data/tfrecords256/00041_8886x9408.tfrecord is new\n",
      "File /home/cb/sis2/data/tfrecords256/00041_9147x273.tfrecord is new\n",
      "File /home/cb/sis2/data/tfrecords256/00041_9147x534.tfrecord is new\n",
      "File /home/cb/sis2/data/tfrecords256/00041_9147x795.tfrecord is new\n",
      "File /home/cb/sis2/data/tfrecords256/00041_9147x1056.tfrecord is new\n",
      "File /home/cb/sis2/data/tfrecords256/00041_9147x1317.tfrecord is new\n",
      "File /home/cb/sis2/data/tfrecords256/00041_9147x1578.tfrecord is new\n",
      "File /home/cb/sis2/data/tfrecords256/00041_9147x1839.tfrecord is new\n",
      "File /home/cb/sis2/data/tfrecords256/00041_9147x2100.tfrecord is new\n",
      "File /home/cb/sis2/data/tfrecords256/00041_9147x2361.tfrecord is new\n",
      "File /home/cb/sis2/data/tfrecords256/00041_9147x2622.tfrecord is new\n",
      "File /home/cb/sis2/data/tfrecords256/00041_9147x2883.tfrecord is new\n",
      "File /home/cb/sis2/data/tfrecords256/00041_9147x3144.tfrecord is new\n",
      "File /home/cb/sis2/data/tfrecords256/00041_9147x3405.tfrecord is new\n",
      "File /home/cb/sis2/data/tfrecords256/00041_9147x3666.tfrecord is new\n",
      "File /home/cb/sis2/data/tfrecords256/00041_9147x3927.tfrecord is new\n",
      "File /home/cb/sis2/data/tfrecords256/00041_9147x4188.tfrecord is new\n",
      "File /home/cb/sis2/data/tfrecords256/00041_9147x4449.tfrecord is new\n",
      "File /home/cb/sis2/data/tfrecords256/00041_9147x4710.tfrecord is new\n",
      "File /home/cb/sis2/data/tfrecords256/00041_9147x4971.tfrecord is new\n",
      "File /home/cb/sis2/data/tfrecords256/00041_9147x5232.tfrecord is new\n",
      "File /home/cb/sis2/data/tfrecords256/00041_9147x5493.tfrecord is new\n",
      "File /home/cb/sis2/data/tfrecords256/00041_9147x5754.tfrecord is new\n",
      "File /home/cb/sis2/data/tfrecords256/00041_9147x6015.tfrecord is new\n",
      "File /home/cb/sis2/data/tfrecords256/00041_9147x6276.tfrecord is new\n",
      "File /home/cb/sis2/data/tfrecords256/00041_9147x6537.tfrecord is new\n",
      "File /home/cb/sis2/data/tfrecords256/00041_9147x8625.tfrecord is new\n",
      "File /home/cb/sis2/data/tfrecords256/00041_9147x8886.tfrecord is new\n",
      "File /home/cb/sis2/data/tfrecords256/00041_9408x273.tfrecord is new\n",
      "File /home/cb/sis2/data/tfrecords256/00041_9408x534.tfrecord is new\n",
      "File /home/cb/sis2/data/tfrecords256/00041_9408x795.tfrecord is new\n",
      "File /home/cb/sis2/data/tfrecords256/00041_9408x1056.tfrecord is new\n",
      "File /home/cb/sis2/data/tfrecords256/00041_9408x1317.tfrecord is new\n",
      "File /home/cb/sis2/data/tfrecords256/00041_9408x1578.tfrecord is new\n",
      "File /home/cb/sis2/data/tfrecords256/00041_9408x1839.tfrecord is new\n",
      "File /home/cb/sis2/data/tfrecords256/00041_9408x2100.tfrecord is new\n",
      "File /home/cb/sis2/data/tfrecords256/00041_9408x2361.tfrecord is new\n",
      "File /home/cb/sis2/data/tfrecords256/00041_9408x2622.tfrecord is new\n",
      "File /home/cb/sis2/data/tfrecords256/00041_9408x2883.tfrecord is new\n",
      "File /home/cb/sis2/data/tfrecords256/00041_9408x3144.tfrecord is new\n",
      "File /home/cb/sis2/data/tfrecords256/00041_9408x3405.tfrecord is new\n",
      "File /home/cb/sis2/data/tfrecords256/00041_9408x3666.tfrecord is new\n",
      "File /home/cb/sis2/data/tfrecords256/00041_9408x3927.tfrecord is new\n",
      "File /home/cb/sis2/data/tfrecords256/00041_9408x4188.tfrecord is new\n",
      "File /home/cb/sis2/data/tfrecords256/00041_9408x4449.tfrecord is new\n",
      "File /home/cb/sis2/data/tfrecords256/00041_9408x4710.tfrecord is new\n",
      "File /home/cb/sis2/data/tfrecords256/00041_9408x4971.tfrecord is new\n",
      "File /home/cb/sis2/data/tfrecords256/00041_9408x5232.tfrecord is new\n",
      "File /home/cb/sis2/data/tfrecords256/00041_9408x5493.tfrecord is new\n",
      "File /home/cb/sis2/data/tfrecords256/00041_9408x5754.tfrecord is new\n",
      "File /home/cb/sis2/data/tfrecords256/00041_9408x6015.tfrecord is new\n",
      "File /home/cb/sis2/data/tfrecords256/00041_9408x6276.tfrecord is new\n",
      "File /home/cb/sis2/data/tfrecords256/00041_9408x6537.tfrecord is new\n",
      "File /home/cb/sis2/data/tfrecords256/00041_9408x8886.tfrecord is new\n",
      "File /home/cb/sis2/data/tfrecords256/00041_9408x9147.tfrecord is new\n",
      "File /home/cb/sis2/data/tfrecords256/00041_9669x12.tfrecord is new\n",
      "File /home/cb/sis2/data/tfrecords256/00041_9669x273.tfrecord is new\n",
      "File /home/cb/sis2/data/tfrecords256/00041_9669x534.tfrecord is new\n",
      "File /home/cb/sis2/data/tfrecords256/00041_9669x795.tfrecord is new\n",
      "File /home/cb/sis2/data/tfrecords256/00041_9669x1056.tfrecord is new\n",
      "File /home/cb/sis2/data/tfrecords256/00041_9669x1317.tfrecord is new\n",
      "File /home/cb/sis2/data/tfrecords256/00041_9669x1578.tfrecord is new\n",
      "File /home/cb/sis2/data/tfrecords256/00041_9669x1839.tfrecord is new\n",
      "File /home/cb/sis2/data/tfrecords256/00041_9669x2100.tfrecord is new\n",
      "File /home/cb/sis2/data/tfrecords256/00041_9669x2361.tfrecord is new\n",
      "File /home/cb/sis2/data/tfrecords256/00041_9669x2622.tfrecord is new\n",
      "File /home/cb/sis2/data/tfrecords256/00041_9669x2883.tfrecord is new\n",
      "File /home/cb/sis2/data/tfrecords256/00041_9669x3144.tfrecord is new\n",
      "File /home/cb/sis2/data/tfrecords256/00041_9669x3405.tfrecord is new\n",
      "File /home/cb/sis2/data/tfrecords256/00041_9669x3666.tfrecord is new\n",
      "File /home/cb/sis2/data/tfrecords256/00041_9669x3927.tfrecord is new\n",
      "File /home/cb/sis2/data/tfrecords256/00041_9669x4188.tfrecord is new\n",
      "File /home/cb/sis2/data/tfrecords256/00041_9669x4449.tfrecord is new\n",
      "File /home/cb/sis2/data/tfrecords256/00041_9669x4710.tfrecord is new\n",
      "File /home/cb/sis2/data/tfrecords256/00041_9669x4971.tfrecord is new\n",
      "File /home/cb/sis2/data/tfrecords256/00041_9669x5232.tfrecord is new\n",
      "File /home/cb/sis2/data/tfrecords256/00041_9669x5493.tfrecord is new\n",
      "File /home/cb/sis2/data/tfrecords256/00041_9669x5754.tfrecord is new\n",
      "File /home/cb/sis2/data/tfrecords256/00041_9669x6015.tfrecord is new\n",
      "File /home/cb/sis2/data/tfrecords256/00041_9669x6276.tfrecord is new\n",
      "File /home/cb/sis2/data/tfrecords256/00041_9669x6537.tfrecord is new\n",
      "File /home/cb/sis2/data/tfrecords256/00041_9669x6798.tfrecord is new\n",
      "File /home/cb/sis2/data/tfrecords256/00041_9669x8886.tfrecord is new\n",
      "File /home/cb/sis2/data/tfrecords256/00041_9669x9147.tfrecord is new\n",
      "File /home/cb/sis2/data/tfrecords256/00041_9669x9408.tfrecord is new\n",
      "File /home/cb/sis2/data/tfrecords256/00041_9669x9669.tfrecord is new\n",
      "File /home/cb/sis2/data/tfrecords256/00042_273x7842.tfrecord is new\n",
      "File /home/cb/sis2/data/tfrecords256/00042_1056x795.tfrecord is new\n",
      "File /home/cb/sis2/data/tfrecords256/00042_1056x1056.tfrecord is new\n",
      "File /home/cb/sis2/data/tfrecords256/00042_1056x1839.tfrecord is new\n",
      "File /home/cb/sis2/data/tfrecords256/00042_1056x2100.tfrecord is new\n",
      "File /home/cb/sis2/data/tfrecords256/00042_1317x1317.tfrecord is new\n",
      "File /home/cb/sis2/data/tfrecords256/00042_1317x1578.tfrecord is new\n",
      "File /home/cb/sis2/data/tfrecords256/00042_1317x1839.tfrecord is new\n",
      "File /home/cb/sis2/data/tfrecords256/00042_1578x8886.tfrecord is new\n",
      "File /home/cb/sis2/data/tfrecords256/00042_2100x1839.tfrecord is new\n",
      "File /home/cb/sis2/data/tfrecords256/00042_2100x2100.tfrecord is new\n",
      "File /home/cb/sis2/data/tfrecords256/00042_2361x1839.tfrecord is new\n",
      "File /home/cb/sis2/data/tfrecords256/00042_2361x2100.tfrecord is new\n",
      "File /home/cb/sis2/data/tfrecords256/00042_2622x8625.tfrecord is new\n",
      "File /home/cb/sis2/data/tfrecords256/00042_2883x2883.tfrecord is new\n",
      "File /home/cb/sis2/data/tfrecords256/00042_2883x8625.tfrecord is new\n",
      "File /home/cb/sis2/data/tfrecords256/00042_2883x9408.tfrecord is new\n",
      "File /home/cb/sis2/data/tfrecords256/00042_2883x9669.tfrecord is new\n",
      "File /home/cb/sis2/data/tfrecords256/00042_3144x2883.tfrecord is new\n",
      "File /home/cb/sis2/data/tfrecords256/00042_3144x3144.tfrecord is new\n",
      "File /home/cb/sis2/data/tfrecords256/00042_3144x4971.tfrecord is new\n",
      "File /home/cb/sis2/data/tfrecords256/00042_3144x9669.tfrecord is new\n",
      "File /home/cb/sis2/data/tfrecords256/00042_3405x3144.tfrecord is new\n",
      "File /home/cb/sis2/data/tfrecords256/00042_3405x8886.tfrecord is new\n",
      "File /home/cb/sis2/data/tfrecords256/00042_3405x9669.tfrecord is new\n",
      "File /home/cb/sis2/data/tfrecords256/00042_3666x9147.tfrecord is new\n",
      "File /home/cb/sis2/data/tfrecords256/00042_3666x9408.tfrecord is new\n",
      "File /home/cb/sis2/data/tfrecords256/00042_3927x3666.tfrecord is new\n",
      "File /home/cb/sis2/data/tfrecords256/00042_3927x9408.tfrecord is new\n",
      "File /home/cb/sis2/data/tfrecords256/00042_4188x9669.tfrecord is new\n",
      "File /home/cb/sis2/data/tfrecords256/00042_4449x1317.tfrecord is new\n",
      "File /home/cb/sis2/data/tfrecords256/00042_4449x5493.tfrecord is new\n",
      "File /home/cb/sis2/data/tfrecords256/00042_4449x6015.tfrecord is new\n",
      "File /home/cb/sis2/data/tfrecords256/00042_4449x6798.tfrecord is new\n",
      "File /home/cb/sis2/data/tfrecords256/00042_4449x7059.tfrecord is new\n",
      "File /home/cb/sis2/data/tfrecords256/00042_4449x7320.tfrecord is new\n",
      "File /home/cb/sis2/data/tfrecords256/00042_4710x12.tfrecord is new\n",
      "File /home/cb/sis2/data/tfrecords256/00042_4710x273.tfrecord is new\n",
      "File /home/cb/sis2/data/tfrecords256/00042_4710x534.tfrecord is new\n",
      "File /home/cb/sis2/data/tfrecords256/00042_4710x1317.tfrecord is new\n",
      "File /home/cb/sis2/data/tfrecords256/00042_4710x1578.tfrecord is new\n",
      "File /home/cb/sis2/data/tfrecords256/00042_4710x5754.tfrecord is new\n",
      "File /home/cb/sis2/data/tfrecords256/00042_4710x6798.tfrecord is new\n",
      "File /home/cb/sis2/data/tfrecords256/00042_4710x8103.tfrecord is new\n",
      "File /home/cb/sis2/data/tfrecords256/00042_4971x12.tfrecord is new\n",
      "File /home/cb/sis2/data/tfrecords256/00042_4971x1317.tfrecord is new\n",
      "File /home/cb/sis2/data/tfrecords256/00042_4971x1578.tfrecord is new\n",
      "File /home/cb/sis2/data/tfrecords256/00042_4971x1839.tfrecord is new\n",
      "File /home/cb/sis2/data/tfrecords256/00042_4971x6798.tfrecord is new\n",
      "File /home/cb/sis2/data/tfrecords256/00042_4971x7059.tfrecord is new\n",
      "File /home/cb/sis2/data/tfrecords256/00042_4971x7320.tfrecord is new\n",
      "File /home/cb/sis2/data/tfrecords256/00042_4971x7581.tfrecord is new\n",
      "File /home/cb/sis2/data/tfrecords256/00042_5232x12.tfrecord is new\n",
      "File /home/cb/sis2/data/tfrecords256/00042_5232x1056.tfrecord is new\n",
      "File /home/cb/sis2/data/tfrecords256/00042_5232x1317.tfrecord is new\n",
      "File /home/cb/sis2/data/tfrecords256/00042_5232x1839.tfrecord is new\n",
      "File /home/cb/sis2/data/tfrecords256/00042_5232x2100.tfrecord is new\n",
      "File /home/cb/sis2/data/tfrecords256/00042_5232x6537.tfrecord is new\n",
      "File /home/cb/sis2/data/tfrecords256/00042_5232x6798.tfrecord is new\n",
      "File /home/cb/sis2/data/tfrecords256/00042_5232x7059.tfrecord is new\n",
      "File /home/cb/sis2/data/tfrecords256/00042_5232x7320.tfrecord is new\n",
      "File /home/cb/sis2/data/tfrecords256/00042_5493x534.tfrecord is new\n",
      "File /home/cb/sis2/data/tfrecords256/00042_5493x1056.tfrecord is new\n",
      "File /home/cb/sis2/data/tfrecords256/00042_5493x1317.tfrecord is new\n",
      "File /home/cb/sis2/data/tfrecords256/00042_5493x1578.tfrecord is new\n",
      "File /home/cb/sis2/data/tfrecords256/00042_5493x1839.tfrecord is new\n",
      "File /home/cb/sis2/data/tfrecords256/00042_5493x2100.tfrecord is new\n",
      "File /home/cb/sis2/data/tfrecords256/00042_5493x2361.tfrecord is new\n",
      "File /home/cb/sis2/data/tfrecords256/00042_5493x2622.tfrecord is new\n",
      "File /home/cb/sis2/data/tfrecords256/00042_5493x7320.tfrecord is new\n",
      "File /home/cb/sis2/data/tfrecords256/00042_5493x8364.tfrecord is new\n",
      "File /home/cb/sis2/data/tfrecords256/00042_5493x8886.tfrecord is new\n",
      "File /home/cb/sis2/data/tfrecords256/00042_5754x12.tfrecord is new\n",
      "File /home/cb/sis2/data/tfrecords256/00042_5754x1056.tfrecord is new\n",
      "File /home/cb/sis2/data/tfrecords256/00042_5754x1317.tfrecord is new\n",
      "File /home/cb/sis2/data/tfrecords256/00042_5754x1578.tfrecord is new\n",
      "File /home/cb/sis2/data/tfrecords256/00042_5754x1839.tfrecord is new\n",
      "File /home/cb/sis2/data/tfrecords256/00042_5754x2100.tfrecord is new\n",
      "File /home/cb/sis2/data/tfrecords256/00042_5754x2361.tfrecord is new\n",
      "File /home/cb/sis2/data/tfrecords256/00042_5754x2622.tfrecord is new\n",
      "File /home/cb/sis2/data/tfrecords256/00042_5754x2883.tfrecord is new\n",
      "File /home/cb/sis2/data/tfrecords256/00042_5754x3144.tfrecord is new\n",
      "File /home/cb/sis2/data/tfrecords256/00042_5754x3405.tfrecord is new\n",
      "File /home/cb/sis2/data/tfrecords256/00042_5754x7059.tfrecord is new\n",
      "File /home/cb/sis2/data/tfrecords256/00042_5754x7842.tfrecord is new\n",
      "File /home/cb/sis2/data/tfrecords256/00042_5754x8103.tfrecord is new\n",
      "File /home/cb/sis2/data/tfrecords256/00042_5754x8364.tfrecord is new\n",
      "File /home/cb/sis2/data/tfrecords256/00042_5754x8886.tfrecord is new\n",
      "File /home/cb/sis2/data/tfrecords256/00042_5754x9147.tfrecord is new\n",
      "File /home/cb/sis2/data/tfrecords256/00042_6015x12.tfrecord is new\n",
      "File /home/cb/sis2/data/tfrecords256/00042_6015x534.tfrecord is new\n",
      "File /home/cb/sis2/data/tfrecords256/00042_6015x795.tfrecord is new\n",
      "File /home/cb/sis2/data/tfrecords256/00042_6015x1056.tfrecord is new\n",
      "File /home/cb/sis2/data/tfrecords256/00042_6015x1317.tfrecord is new\n",
      "File /home/cb/sis2/data/tfrecords256/00042_6015x1578.tfrecord is new\n",
      "File /home/cb/sis2/data/tfrecords256/00042_6015x1839.tfrecord is new\n",
      "File /home/cb/sis2/data/tfrecords256/00042_6015x2100.tfrecord is new\n",
      "File /home/cb/sis2/data/tfrecords256/00042_6015x2361.tfrecord is new\n",
      "File /home/cb/sis2/data/tfrecords256/00042_6015x2622.tfrecord is new\n",
      "File /home/cb/sis2/data/tfrecords256/00042_6015x2883.tfrecord is new\n",
      "File /home/cb/sis2/data/tfrecords256/00042_6015x3144.tfrecord is new\n",
      "File /home/cb/sis2/data/tfrecords256/00042_6015x3405.tfrecord is new\n",
      "File /home/cb/sis2/data/tfrecords256/00042_6015x3666.tfrecord is new\n",
      "File /home/cb/sis2/data/tfrecords256/00042_6015x7842.tfrecord is new\n",
      "File /home/cb/sis2/data/tfrecords256/00042_6015x8103.tfrecord is new\n",
      "File /home/cb/sis2/data/tfrecords256/00042_6015x8364.tfrecord is new\n",
      "File /home/cb/sis2/data/tfrecords256/00042_6015x9147.tfrecord is new\n",
      "File /home/cb/sis2/data/tfrecords256/00042_6276x12.tfrecord is new\n",
      "File /home/cb/sis2/data/tfrecords256/00042_6276x795.tfrecord is new\n",
      "File /home/cb/sis2/data/tfrecords256/00042_6276x1056.tfrecord is new\n",
      "File /home/cb/sis2/data/tfrecords256/00042_6276x1317.tfrecord is new\n",
      "File /home/cb/sis2/data/tfrecords256/00042_6276x1578.tfrecord is new\n",
      "File /home/cb/sis2/data/tfrecords256/00042_6276x1839.tfrecord is new\n",
      "File /home/cb/sis2/data/tfrecords256/00042_6276x2100.tfrecord is new\n",
      "File /home/cb/sis2/data/tfrecords256/00042_6276x2361.tfrecord is new\n",
      "File /home/cb/sis2/data/tfrecords256/00042_6276x2622.tfrecord is new\n",
      "File /home/cb/sis2/data/tfrecords256/00042_6276x2883.tfrecord is new\n",
      "File /home/cb/sis2/data/tfrecords256/00042_6276x3144.tfrecord is new\n",
      "File /home/cb/sis2/data/tfrecords256/00042_6276x3405.tfrecord is new\n",
      "File /home/cb/sis2/data/tfrecords256/00042_6276x3666.tfrecord is new\n",
      "File /home/cb/sis2/data/tfrecords256/00042_6276x7842.tfrecord is new\n",
      "File /home/cb/sis2/data/tfrecords256/00042_6276x8103.tfrecord is new\n",
      "File /home/cb/sis2/data/tfrecords256/00042_6276x8886.tfrecord is new\n",
      "File /home/cb/sis2/data/tfrecords256/00042_6276x9147.tfrecord is new\n",
      "File /home/cb/sis2/data/tfrecords256/00042_6537x12.tfrecord is new\n",
      "File /home/cb/sis2/data/tfrecords256/00042_6537x273.tfrecord is new\n",
      "File /home/cb/sis2/data/tfrecords256/00042_6537x534.tfrecord is new\n",
      "File /home/cb/sis2/data/tfrecords256/00042_6537x795.tfrecord is new\n",
      "File /home/cb/sis2/data/tfrecords256/00042_6537x1056.tfrecord is new\n",
      "File /home/cb/sis2/data/tfrecords256/00042_6537x1317.tfrecord is new\n",
      "File /home/cb/sis2/data/tfrecords256/00042_6537x1578.tfrecord is new\n",
      "File /home/cb/sis2/data/tfrecords256/00042_6537x1839.tfrecord is new\n",
      "File /home/cb/sis2/data/tfrecords256/00042_6537x2100.tfrecord is new\n",
      "File /home/cb/sis2/data/tfrecords256/00042_6537x2361.tfrecord is new\n",
      "File /home/cb/sis2/data/tfrecords256/00042_6537x2622.tfrecord is new\n",
      "File /home/cb/sis2/data/tfrecords256/00042_6537x2883.tfrecord is new\n",
      "File /home/cb/sis2/data/tfrecords256/00042_6537x3144.tfrecord is new\n",
      "File /home/cb/sis2/data/tfrecords256/00042_6537x3405.tfrecord is new\n",
      "File /home/cb/sis2/data/tfrecords256/00042_6537x3666.tfrecord is new\n",
      "File /home/cb/sis2/data/tfrecords256/00042_6537x7842.tfrecord is new\n",
      "File /home/cb/sis2/data/tfrecords256/00042_6537x8103.tfrecord is new\n",
      "File /home/cb/sis2/data/tfrecords256/00042_6537x9408.tfrecord is new\n",
      "File /home/cb/sis2/data/tfrecords256/00042_6537x9669.tfrecord is new\n",
      "File /home/cb/sis2/data/tfrecords256/00042_6798x12.tfrecord is new\n",
      "File /home/cb/sis2/data/tfrecords256/00042_6798x273.tfrecord is new\n",
      "File /home/cb/sis2/data/tfrecords256/00042_6798x534.tfrecord is new\n",
      "File /home/cb/sis2/data/tfrecords256/00042_6798x795.tfrecord is new\n",
      "File /home/cb/sis2/data/tfrecords256/00042_6798x1056.tfrecord is new\n",
      "File /home/cb/sis2/data/tfrecords256/00042_6798x1317.tfrecord is new\n",
      "File /home/cb/sis2/data/tfrecords256/00042_6798x1578.tfrecord is new\n",
      "File /home/cb/sis2/data/tfrecords256/00042_6798x1839.tfrecord is new\n",
      "File /home/cb/sis2/data/tfrecords256/00042_6798x2100.tfrecord is new\n",
      "File /home/cb/sis2/data/tfrecords256/00042_6798x2361.tfrecord is new\n",
      "File /home/cb/sis2/data/tfrecords256/00042_6798x2622.tfrecord is new\n",
      "File /home/cb/sis2/data/tfrecords256/00042_6798x2883.tfrecord is new\n",
      "File /home/cb/sis2/data/tfrecords256/00042_6798x3144.tfrecord is new\n",
      "File /home/cb/sis2/data/tfrecords256/00042_6798x3405.tfrecord is new\n",
      "File /home/cb/sis2/data/tfrecords256/00042_6798x3666.tfrecord is new\n",
      "File /home/cb/sis2/data/tfrecords256/00042_6798x7842.tfrecord is new\n",
      "File /home/cb/sis2/data/tfrecords256/00042_6798x8103.tfrecord is new\n",
      "File /home/cb/sis2/data/tfrecords256/00042_6798x8364.tfrecord is new\n",
      "File /home/cb/sis2/data/tfrecords256/00042_6798x8625.tfrecord is new\n",
      "File /home/cb/sis2/data/tfrecords256/00042_7059x12.tfrecord is new\n",
      "File /home/cb/sis2/data/tfrecords256/00042_7059x273.tfrecord is new\n",
      "File /home/cb/sis2/data/tfrecords256/00042_7059x534.tfrecord is new\n",
      "File /home/cb/sis2/data/tfrecords256/00042_7059x795.tfrecord is new\n",
      "File /home/cb/sis2/data/tfrecords256/00042_7059x1056.tfrecord is new\n",
      "File /home/cb/sis2/data/tfrecords256/00042_7059x1317.tfrecord is new\n",
      "File /home/cb/sis2/data/tfrecords256/00042_7059x1578.tfrecord is new\n",
      "File /home/cb/sis2/data/tfrecords256/00042_7059x1839.tfrecord is new\n",
      "File /home/cb/sis2/data/tfrecords256/00042_7059x2100.tfrecord is new\n",
      "File /home/cb/sis2/data/tfrecords256/00042_7059x2361.tfrecord is new\n",
      "File /home/cb/sis2/data/tfrecords256/00042_7059x2622.tfrecord is new\n",
      "File /home/cb/sis2/data/tfrecords256/00042_7059x2883.tfrecord is new\n",
      "File /home/cb/sis2/data/tfrecords256/00042_7059x3144.tfrecord is new\n",
      "File /home/cb/sis2/data/tfrecords256/00042_7059x3405.tfrecord is new\n",
      "File /home/cb/sis2/data/tfrecords256/00042_7059x3666.tfrecord is new\n",
      "File /home/cb/sis2/data/tfrecords256/00042_7059x8103.tfrecord is new\n",
      "File /home/cb/sis2/data/tfrecords256/00042_7059x8364.tfrecord is new\n",
      "File /home/cb/sis2/data/tfrecords256/00042_7059x8625.tfrecord is new\n",
      "File /home/cb/sis2/data/tfrecords256/00042_7059x9147.tfrecord is new\n",
      "File /home/cb/sis2/data/tfrecords256/00042_7059x9669.tfrecord is new\n",
      "File /home/cb/sis2/data/tfrecords256/00042_7320x12.tfrecord is new\n",
      "File /home/cb/sis2/data/tfrecords256/00042_7320x273.tfrecord is new\n",
      "File /home/cb/sis2/data/tfrecords256/00042_7320x534.tfrecord is new\n",
      "File /home/cb/sis2/data/tfrecords256/00042_7320x795.tfrecord is new\n",
      "File /home/cb/sis2/data/tfrecords256/00042_7320x1056.tfrecord is new\n",
      "File /home/cb/sis2/data/tfrecords256/00042_7320x1317.tfrecord is new\n",
      "File /home/cb/sis2/data/tfrecords256/00042_7320x1578.tfrecord is new\n",
      "File /home/cb/sis2/data/tfrecords256/00042_7320x1839.tfrecord is new\n",
      "File /home/cb/sis2/data/tfrecords256/00042_7320x2100.tfrecord is new\n",
      "File /home/cb/sis2/data/tfrecords256/00042_7320x2361.tfrecord is new\n",
      "File /home/cb/sis2/data/tfrecords256/00042_7320x2622.tfrecord is new\n",
      "File /home/cb/sis2/data/tfrecords256/00042_7320x2883.tfrecord is new\n",
      "File /home/cb/sis2/data/tfrecords256/00042_7320x3144.tfrecord is new\n",
      "File /home/cb/sis2/data/tfrecords256/00042_7320x3405.tfrecord is new\n",
      "File /home/cb/sis2/data/tfrecords256/00042_7320x3666.tfrecord is new\n",
      "File /home/cb/sis2/data/tfrecords256/00042_7320x7842.tfrecord is new\n",
      "File /home/cb/sis2/data/tfrecords256/00042_7320x8103.tfrecord is new\n",
      "File /home/cb/sis2/data/tfrecords256/00042_7320x8364.tfrecord is new\n",
      "File /home/cb/sis2/data/tfrecords256/00042_7320x8625.tfrecord is new\n",
      "File /home/cb/sis2/data/tfrecords256/00042_7320x9147.tfrecord is new\n",
      "File /home/cb/sis2/data/tfrecords256/00042_7581x12.tfrecord is new\n",
      "File /home/cb/sis2/data/tfrecords256/00042_7581x273.tfrecord is new\n",
      "File /home/cb/sis2/data/tfrecords256/00042_7581x534.tfrecord is new\n",
      "File /home/cb/sis2/data/tfrecords256/00042_7581x795.tfrecord is new\n",
      "File /home/cb/sis2/data/tfrecords256/00042_7581x1056.tfrecord is new\n",
      "File /home/cb/sis2/data/tfrecords256/00042_7581x1317.tfrecord is new\n",
      "File /home/cb/sis2/data/tfrecords256/00042_7581x1578.tfrecord is new\n",
      "File /home/cb/sis2/data/tfrecords256/00042_7581x1839.tfrecord is new\n",
      "File /home/cb/sis2/data/tfrecords256/00042_7581x2100.tfrecord is new\n",
      "File /home/cb/sis2/data/tfrecords256/00042_7581x2361.tfrecord is new\n",
      "File /home/cb/sis2/data/tfrecords256/00042_7581x2622.tfrecord is new\n",
      "File /home/cb/sis2/data/tfrecords256/00042_7581x2883.tfrecord is new\n",
      "File /home/cb/sis2/data/tfrecords256/00042_7581x3144.tfrecord is new\n",
      "File /home/cb/sis2/data/tfrecords256/00042_7581x3405.tfrecord is new\n",
      "File /home/cb/sis2/data/tfrecords256/00042_7581x3666.tfrecord is new\n",
      "File /home/cb/sis2/data/tfrecords256/00042_7581x3927.tfrecord is new\n",
      "File /home/cb/sis2/data/tfrecords256/00042_7581x8625.tfrecord is new\n",
      "File /home/cb/sis2/data/tfrecords256/00042_7581x8886.tfrecord is new\n",
      "File /home/cb/sis2/data/tfrecords256/00042_7581x9147.tfrecord is new\n",
      "File /home/cb/sis2/data/tfrecords256/00042_7581x9408.tfrecord is new\n",
      "File /home/cb/sis2/data/tfrecords256/00042_7581x9669.tfrecord is new\n",
      "File /home/cb/sis2/data/tfrecords256/00042_7842x12.tfrecord is new\n",
      "File /home/cb/sis2/data/tfrecords256/00042_7842x273.tfrecord is new\n",
      "File /home/cb/sis2/data/tfrecords256/00042_7842x534.tfrecord is new\n",
      "File /home/cb/sis2/data/tfrecords256/00042_7842x795.tfrecord is new\n",
      "File /home/cb/sis2/data/tfrecords256/00042_7842x1056.tfrecord is new\n",
      "File /home/cb/sis2/data/tfrecords256/00042_7842x1317.tfrecord is new\n",
      "File /home/cb/sis2/data/tfrecords256/00042_7842x1578.tfrecord is new\n",
      "File /home/cb/sis2/data/tfrecords256/00042_7842x1839.tfrecord is new\n",
      "File /home/cb/sis2/data/tfrecords256/00042_7842x2100.tfrecord is new\n",
      "File /home/cb/sis2/data/tfrecords256/00042_7842x2361.tfrecord is new\n",
      "File /home/cb/sis2/data/tfrecords256/00042_7842x2622.tfrecord is new\n",
      "File /home/cb/sis2/data/tfrecords256/00042_7842x2883.tfrecord is new\n",
      "File /home/cb/sis2/data/tfrecords256/00042_7842x3144.tfrecord is new\n",
      "File /home/cb/sis2/data/tfrecords256/00042_7842x3405.tfrecord is new\n",
      "File /home/cb/sis2/data/tfrecords256/00042_7842x3666.tfrecord is new\n",
      "File /home/cb/sis2/data/tfrecords256/00042_7842x3927.tfrecord is new\n",
      "File /home/cb/sis2/data/tfrecords256/00042_7842x7842.tfrecord is new\n",
      "File /home/cb/sis2/data/tfrecords256/00042_7842x8886.tfrecord is new\n",
      "File /home/cb/sis2/data/tfrecords256/00042_7842x9147.tfrecord is new\n",
      "File /home/cb/sis2/data/tfrecords256/00042_7842x9408.tfrecord is new\n",
      "File /home/cb/sis2/data/tfrecords256/00042_7842x9669.tfrecord is new\n",
      "File /home/cb/sis2/data/tfrecords256/00042_8103x12.tfrecord is new\n",
      "File /home/cb/sis2/data/tfrecords256/00042_8103x273.tfrecord is new\n",
      "File /home/cb/sis2/data/tfrecords256/00042_8103x534.tfrecord is new\n",
      "File /home/cb/sis2/data/tfrecords256/00042_8103x795.tfrecord is new\n",
      "File /home/cb/sis2/data/tfrecords256/00042_8103x1056.tfrecord is new\n",
      "File /home/cb/sis2/data/tfrecords256/00042_8103x1317.tfrecord is new\n",
      "File /home/cb/sis2/data/tfrecords256/00042_8103x1578.tfrecord is new\n",
      "File /home/cb/sis2/data/tfrecords256/00042_8103x1839.tfrecord is new\n",
      "File /home/cb/sis2/data/tfrecords256/00042_8103x2100.tfrecord is new\n",
      "File /home/cb/sis2/data/tfrecords256/00042_8103x2361.tfrecord is new\n",
      "File /home/cb/sis2/data/tfrecords256/00042_8103x2622.tfrecord is new\n",
      "File /home/cb/sis2/data/tfrecords256/00042_8103x2883.tfrecord is new\n",
      "File /home/cb/sis2/data/tfrecords256/00042_8103x3144.tfrecord is new\n",
      "File /home/cb/sis2/data/tfrecords256/00042_8103x3405.tfrecord is new\n",
      "File /home/cb/sis2/data/tfrecords256/00042_8103x3666.tfrecord is new\n",
      "File /home/cb/sis2/data/tfrecords256/00042_8103x3927.tfrecord is new\n",
      "File /home/cb/sis2/data/tfrecords256/00042_8103x4188.tfrecord is new\n",
      "File /home/cb/sis2/data/tfrecords256/00042_8103x8886.tfrecord is new\n",
      "File /home/cb/sis2/data/tfrecords256/00042_8103x9147.tfrecord is new\n",
      "File /home/cb/sis2/data/tfrecords256/00042_8103x9408.tfrecord is new\n",
      "File /home/cb/sis2/data/tfrecords256/00042_8364x12.tfrecord is new\n",
      "File /home/cb/sis2/data/tfrecords256/00042_8364x273.tfrecord is new\n",
      "File /home/cb/sis2/data/tfrecords256/00042_8364x534.tfrecord is new\n",
      "File /home/cb/sis2/data/tfrecords256/00042_8364x795.tfrecord is new\n",
      "File /home/cb/sis2/data/tfrecords256/00042_8364x1056.tfrecord is new\n",
      "File /home/cb/sis2/data/tfrecords256/00042_8364x1317.tfrecord is new\n",
      "File /home/cb/sis2/data/tfrecords256/00042_8364x1578.tfrecord is new\n",
      "File /home/cb/sis2/data/tfrecords256/00042_8364x1839.tfrecord is new\n",
      "File /home/cb/sis2/data/tfrecords256/00042_8364x2100.tfrecord is new\n",
      "File /home/cb/sis2/data/tfrecords256/00042_8364x2361.tfrecord is new\n",
      "File /home/cb/sis2/data/tfrecords256/00042_8364x2622.tfrecord is new\n",
      "File /home/cb/sis2/data/tfrecords256/00042_8364x2883.tfrecord is new\n",
      "File /home/cb/sis2/data/tfrecords256/00042_8364x3144.tfrecord is new\n",
      "File /home/cb/sis2/data/tfrecords256/00042_8364x3405.tfrecord is new\n",
      "File /home/cb/sis2/data/tfrecords256/00042_8364x3666.tfrecord is new\n",
      "File /home/cb/sis2/data/tfrecords256/00042_8364x3927.tfrecord is new\n",
      "File /home/cb/sis2/data/tfrecords256/00042_8364x4188.tfrecord is new\n",
      "File /home/cb/sis2/data/tfrecords256/00042_8364x8625.tfrecord is new\n",
      "File /home/cb/sis2/data/tfrecords256/00042_8625x12.tfrecord is new\n",
      "File /home/cb/sis2/data/tfrecords256/00042_8625x273.tfrecord is new\n",
      "File /home/cb/sis2/data/tfrecords256/00042_8625x534.tfrecord is new\n",
      "File /home/cb/sis2/data/tfrecords256/00042_8625x795.tfrecord is new\n",
      "File /home/cb/sis2/data/tfrecords256/00042_8625x1056.tfrecord is new\n",
      "File /home/cb/sis2/data/tfrecords256/00042_8625x1317.tfrecord is new\n",
      "File /home/cb/sis2/data/tfrecords256/00042_8625x1578.tfrecord is new\n",
      "File /home/cb/sis2/data/tfrecords256/00042_8625x1839.tfrecord is new\n",
      "File /home/cb/sis2/data/tfrecords256/00042_8625x2100.tfrecord is new\n",
      "File /home/cb/sis2/data/tfrecords256/00042_8625x2361.tfrecord is new\n",
      "File /home/cb/sis2/data/tfrecords256/00042_8625x2622.tfrecord is new\n",
      "File /home/cb/sis2/data/tfrecords256/00042_8625x2883.tfrecord is new\n",
      "File /home/cb/sis2/data/tfrecords256/00042_8625x3144.tfrecord is new\n",
      "File /home/cb/sis2/data/tfrecords256/00042_8625x3405.tfrecord is new\n",
      "File /home/cb/sis2/data/tfrecords256/00042_8625x3666.tfrecord is new\n",
      "File /home/cb/sis2/data/tfrecords256/00042_8625x3927.tfrecord is new\n",
      "File /home/cb/sis2/data/tfrecords256/00042_8625x4188.tfrecord is new\n",
      "File /home/cb/sis2/data/tfrecords256/00042_8625x4971.tfrecord is new\n",
      "File /home/cb/sis2/data/tfrecords256/00042_8625x5232.tfrecord is new\n",
      "File /home/cb/sis2/data/tfrecords256/00042_8625x5493.tfrecord is new\n",
      "File /home/cb/sis2/data/tfrecords256/00042_8625x8625.tfrecord is new\n",
      "File /home/cb/sis2/data/tfrecords256/00042_8886x12.tfrecord is new\n",
      "File /home/cb/sis2/data/tfrecords256/00042_8886x273.tfrecord is new\n",
      "File /home/cb/sis2/data/tfrecords256/00042_8886x534.tfrecord is new\n",
      "File /home/cb/sis2/data/tfrecords256/00042_8886x795.tfrecord is new\n",
      "File /home/cb/sis2/data/tfrecords256/00042_8886x1056.tfrecord is new\n",
      "File /home/cb/sis2/data/tfrecords256/00042_8886x1317.tfrecord is new\n",
      "File /home/cb/sis2/data/tfrecords256/00042_8886x1578.tfrecord is new\n",
      "File /home/cb/sis2/data/tfrecords256/00042_8886x1839.tfrecord is new\n",
      "File /home/cb/sis2/data/tfrecords256/00042_8886x2100.tfrecord is new\n",
      "File /home/cb/sis2/data/tfrecords256/00042_8886x2361.tfrecord is new\n",
      "File /home/cb/sis2/data/tfrecords256/00042_8886x2622.tfrecord is new\n",
      "File /home/cb/sis2/data/tfrecords256/00042_8886x2883.tfrecord is new\n",
      "File /home/cb/sis2/data/tfrecords256/00042_8886x3144.tfrecord is new\n",
      "File /home/cb/sis2/data/tfrecords256/00042_8886x3405.tfrecord is new\n",
      "File /home/cb/sis2/data/tfrecords256/00042_8886x3666.tfrecord is new\n",
      "File /home/cb/sis2/data/tfrecords256/00042_8886x3927.tfrecord is new\n",
      "File /home/cb/sis2/data/tfrecords256/00042_8886x4188.tfrecord is new\n",
      "File /home/cb/sis2/data/tfrecords256/00042_8886x4449.tfrecord is new\n",
      "File /home/cb/sis2/data/tfrecords256/00042_8886x4971.tfrecord is new\n",
      "File /home/cb/sis2/data/tfrecords256/00042_8886x5232.tfrecord is new\n",
      "File /home/cb/sis2/data/tfrecords256/00042_8886x5493.tfrecord is new\n",
      "File /home/cb/sis2/data/tfrecords256/00042_8886x5754.tfrecord is new\n",
      "File /home/cb/sis2/data/tfrecords256/00042_8886x6015.tfrecord is new\n",
      "File /home/cb/sis2/data/tfrecords256/00042_8886x6276.tfrecord is new\n",
      "File /home/cb/sis2/data/tfrecords256/00042_8886x6537.tfrecord is new\n",
      "File /home/cb/sis2/data/tfrecords256/00042_8886x8625.tfrecord is new\n",
      "File /home/cb/sis2/data/tfrecords256/00042_8886x9147.tfrecord is new\n",
      "File /home/cb/sis2/data/tfrecords256/00042_8886x9408.tfrecord is new\n",
      "File /home/cb/sis2/data/tfrecords256/00042_9147x273.tfrecord is new\n",
      "File /home/cb/sis2/data/tfrecords256/00042_9147x534.tfrecord is new\n",
      "File /home/cb/sis2/data/tfrecords256/00042_9147x795.tfrecord is new\n",
      "File /home/cb/sis2/data/tfrecords256/00042_9147x1056.tfrecord is new\n",
      "File /home/cb/sis2/data/tfrecords256/00042_9147x1317.tfrecord is new\n",
      "File /home/cb/sis2/data/tfrecords256/00042_9147x1578.tfrecord is new\n",
      "File /home/cb/sis2/data/tfrecords256/00042_9147x1839.tfrecord is new\n",
      "File /home/cb/sis2/data/tfrecords256/00042_9147x2100.tfrecord is new\n",
      "File /home/cb/sis2/data/tfrecords256/00042_9147x2361.tfrecord is new\n",
      "File /home/cb/sis2/data/tfrecords256/00042_9147x2622.tfrecord is new\n",
      "File /home/cb/sis2/data/tfrecords256/00042_9147x2883.tfrecord is new\n",
      "File /home/cb/sis2/data/tfrecords256/00042_9147x3144.tfrecord is new\n",
      "File /home/cb/sis2/data/tfrecords256/00042_9147x3405.tfrecord is new\n",
      "File /home/cb/sis2/data/tfrecords256/00042_9147x3666.tfrecord is new\n",
      "File /home/cb/sis2/data/tfrecords256/00042_9147x3927.tfrecord is new\n",
      "File /home/cb/sis2/data/tfrecords256/00042_9147x4188.tfrecord is new\n",
      "File /home/cb/sis2/data/tfrecords256/00042_9147x4449.tfrecord is new\n",
      "File /home/cb/sis2/data/tfrecords256/00042_9147x4710.tfrecord is new\n",
      "File /home/cb/sis2/data/tfrecords256/00042_9147x4971.tfrecord is new\n",
      "File /home/cb/sis2/data/tfrecords256/00042_9147x5232.tfrecord is new\n",
      "File /home/cb/sis2/data/tfrecords256/00042_9147x5493.tfrecord is new\n",
      "File /home/cb/sis2/data/tfrecords256/00042_9147x5754.tfrecord is new\n",
      "File /home/cb/sis2/data/tfrecords256/00042_9147x6015.tfrecord is new\n",
      "File /home/cb/sis2/data/tfrecords256/00042_9147x6276.tfrecord is new\n",
      "File /home/cb/sis2/data/tfrecords256/00042_9147x6537.tfrecord is new\n",
      "File /home/cb/sis2/data/tfrecords256/00042_9147x8625.tfrecord is new\n",
      "File /home/cb/sis2/data/tfrecords256/00042_9147x8886.tfrecord is new\n",
      "File /home/cb/sis2/data/tfrecords256/00042_9408x273.tfrecord is new\n",
      "File /home/cb/sis2/data/tfrecords256/00042_9408x534.tfrecord is new\n",
      "File /home/cb/sis2/data/tfrecords256/00042_9408x795.tfrecord is new\n",
      "File /home/cb/sis2/data/tfrecords256/00042_9408x1056.tfrecord is new\n",
      "File /home/cb/sis2/data/tfrecords256/00042_9408x1317.tfrecord is new\n",
      "File /home/cb/sis2/data/tfrecords256/00042_9408x1578.tfrecord is new\n",
      "File /home/cb/sis2/data/tfrecords256/00042_9408x1839.tfrecord is new\n",
      "File /home/cb/sis2/data/tfrecords256/00042_9408x2100.tfrecord is new\n",
      "File /home/cb/sis2/data/tfrecords256/00042_9408x2361.tfrecord is new\n",
      "File /home/cb/sis2/data/tfrecords256/00042_9408x2622.tfrecord is new\n",
      "File /home/cb/sis2/data/tfrecords256/00042_9408x2883.tfrecord is new\n",
      "File /home/cb/sis2/data/tfrecords256/00042_9408x3144.tfrecord is new\n",
      "File /home/cb/sis2/data/tfrecords256/00042_9408x3405.tfrecord is new\n",
      "File /home/cb/sis2/data/tfrecords256/00042_9408x3666.tfrecord is new\n",
      "File /home/cb/sis2/data/tfrecords256/00042_9408x3927.tfrecord is new\n",
      "File /home/cb/sis2/data/tfrecords256/00042_9408x4188.tfrecord is new\n",
      "File /home/cb/sis2/data/tfrecords256/00042_9408x4449.tfrecord is new\n",
      "File /home/cb/sis2/data/tfrecords256/00042_9408x4710.tfrecord is new\n",
      "File /home/cb/sis2/data/tfrecords256/00042_9408x4971.tfrecord is new\n",
      "File /home/cb/sis2/data/tfrecords256/00042_9408x5232.tfrecord is new\n",
      "File /home/cb/sis2/data/tfrecords256/00042_9408x5493.tfrecord is new\n",
      "File /home/cb/sis2/data/tfrecords256/00042_9408x5754.tfrecord is new\n",
      "File /home/cb/sis2/data/tfrecords256/00042_9408x6015.tfrecord is new\n",
      "File /home/cb/sis2/data/tfrecords256/00042_9408x6276.tfrecord is new\n",
      "File /home/cb/sis2/data/tfrecords256/00042_9408x6537.tfrecord is new\n",
      "File /home/cb/sis2/data/tfrecords256/00042_9408x8886.tfrecord is new\n",
      "File /home/cb/sis2/data/tfrecords256/00042_9408x9147.tfrecord is new\n",
      "File /home/cb/sis2/data/tfrecords256/00042_9669x12.tfrecord is new\n",
      "File /home/cb/sis2/data/tfrecords256/00042_9669x273.tfrecord is new\n",
      "File /home/cb/sis2/data/tfrecords256/00042_9669x534.tfrecord is new\n",
      "File /home/cb/sis2/data/tfrecords256/00042_9669x795.tfrecord is new\n",
      "File /home/cb/sis2/data/tfrecords256/00042_9669x1056.tfrecord is new\n",
      "File /home/cb/sis2/data/tfrecords256/00042_9669x1317.tfrecord is new\n",
      "File /home/cb/sis2/data/tfrecords256/00042_9669x1578.tfrecord is new\n",
      "File /home/cb/sis2/data/tfrecords256/00042_9669x1839.tfrecord is new\n",
      "File /home/cb/sis2/data/tfrecords256/00042_9669x2100.tfrecord is new\n",
      "File /home/cb/sis2/data/tfrecords256/00042_9669x2361.tfrecord is new\n",
      "File /home/cb/sis2/data/tfrecords256/00042_9669x2622.tfrecord is new\n",
      "File /home/cb/sis2/data/tfrecords256/00042_9669x2883.tfrecord is new\n",
      "File /home/cb/sis2/data/tfrecords256/00042_9669x3144.tfrecord is new\n",
      "File /home/cb/sis2/data/tfrecords256/00042_9669x3405.tfrecord is new\n",
      "File /home/cb/sis2/data/tfrecords256/00042_9669x3666.tfrecord is new\n",
      "File /home/cb/sis2/data/tfrecords256/00042_9669x3927.tfrecord is new\n",
      "File /home/cb/sis2/data/tfrecords256/00042_9669x4188.tfrecord is new\n",
      "File /home/cb/sis2/data/tfrecords256/00042_9669x4449.tfrecord is new\n",
      "File /home/cb/sis2/data/tfrecords256/00042_9669x4710.tfrecord is new\n",
      "File /home/cb/sis2/data/tfrecords256/00042_9669x4971.tfrecord is new\n",
      "File /home/cb/sis2/data/tfrecords256/00042_9669x5232.tfrecord is new\n",
      "File /home/cb/sis2/data/tfrecords256/00042_9669x5493.tfrecord is new\n",
      "File /home/cb/sis2/data/tfrecords256/00042_9669x5754.tfrecord is new\n",
      "File /home/cb/sis2/data/tfrecords256/00042_9669x6015.tfrecord is new\n",
      "File /home/cb/sis2/data/tfrecords256/00042_9669x6276.tfrecord is new\n",
      "File /home/cb/sis2/data/tfrecords256/00042_9669x6537.tfrecord is new\n",
      "File /home/cb/sis2/data/tfrecords256/00042_9669x6798.tfrecord is new\n",
      "File /home/cb/sis2/data/tfrecords256/00042_9669x8886.tfrecord is new\n",
      "File /home/cb/sis2/data/tfrecords256/00042_9669x9147.tfrecord is new\n",
      "File /home/cb/sis2/data/tfrecords256/00042_9669x9408.tfrecord is new\n",
      "File /home/cb/sis2/data/tfrecords256/00042_9669x9669.tfrecord is new\n",
      "File /home/cb/sis2/data/tfrecords256/00044_2883x9669.tfrecord is new\n",
      "File /home/cb/sis2/data/tfrecords256/00044_3927x7320.tfrecord is new\n",
      "File /home/cb/sis2/data/tfrecords256/00044_4188x8103.tfrecord is new\n",
      "File /home/cb/sis2/data/tfrecords256/00044_4449x8103.tfrecord is new\n",
      "File /home/cb/sis2/data/tfrecords256/00044_4710x5754.tfrecord is new\n",
      "File /home/cb/sis2/data/tfrecords256/00044_4710x8103.tfrecord is new\n",
      "File /home/cb/sis2/data/tfrecords256/00044_5232x8103.tfrecord is new\n",
      "File /home/cb/sis2/data/tfrecords256/00044_5493x9147.tfrecord is new\n",
      "File /home/cb/sis2/data/tfrecords256/00044_6276x9669.tfrecord is new\n",
      "File /home/cb/sis2/data/tfrecords256/00044_6537x9408.tfrecord is new\n",
      "File /home/cb/sis2/data/tfrecords256/00044_6798x273.tfrecord is new\n",
      "File /home/cb/sis2/data/tfrecords256/00044_6798x534.tfrecord is new\n",
      "File /home/cb/sis2/data/tfrecords256/00044_6798x795.tfrecord is new\n",
      "File /home/cb/sis2/data/tfrecords256/00044_6798x1056.tfrecord is new\n",
      "File /home/cb/sis2/data/tfrecords256/00044_6798x1317.tfrecord is new\n",
      "File /home/cb/sis2/data/tfrecords256/00044_6798x8103.tfrecord is new\n",
      "File /home/cb/sis2/data/tfrecords256/00044_7059x795.tfrecord is new\n",
      "File /home/cb/sis2/data/tfrecords256/00044_7059x1056.tfrecord is new\n",
      "File /home/cb/sis2/data/tfrecords256/00044_7059x1317.tfrecord is new\n",
      "File /home/cb/sis2/data/tfrecords256/00044_7059x1578.tfrecord is new\n",
      "File /home/cb/sis2/data/tfrecords256/00044_7059x8364.tfrecord is new\n",
      "File /home/cb/sis2/data/tfrecords256/00044_7320x795.tfrecord is new\n",
      "File /home/cb/sis2/data/tfrecords256/00044_7320x1056.tfrecord is new\n",
      "File /home/cb/sis2/data/tfrecords256/00044_7320x1317.tfrecord is new\n",
      "File /home/cb/sis2/data/tfrecords256/00044_7320x1578.tfrecord is new\n",
      "File /home/cb/sis2/data/tfrecords256/00044_7320x1839.tfrecord is new\n",
      "File /home/cb/sis2/data/tfrecords256/00044_7320x9669.tfrecord is new\n",
      "File /home/cb/sis2/data/tfrecords256/00044_7581x1056.tfrecord is new\n",
      "File /home/cb/sis2/data/tfrecords256/00044_7581x1317.tfrecord is new\n",
      "File /home/cb/sis2/data/tfrecords256/00044_7581x1839.tfrecord is new\n",
      "File /home/cb/sis2/data/tfrecords256/00044_7581x9408.tfrecord is new\n",
      "File /home/cb/sis2/data/tfrecords256/00044_7581x9669.tfrecord is new\n",
      "File /home/cb/sis2/data/tfrecords256/00044_7842x1056.tfrecord is new\n",
      "File /home/cb/sis2/data/tfrecords256/00044_7842x1839.tfrecord is new\n",
      "File /home/cb/sis2/data/tfrecords256/00044_7842x2100.tfrecord is new\n",
      "File /home/cb/sis2/data/tfrecords256/00044_7842x9147.tfrecord is new\n",
      "File /home/cb/sis2/data/tfrecords256/00044_7842x9408.tfrecord is new\n",
      "File /home/cb/sis2/data/tfrecords256/00044_8103x1056.tfrecord is new\n",
      "File /home/cb/sis2/data/tfrecords256/00044_8103x1317.tfrecord is new\n",
      "File /home/cb/sis2/data/tfrecords256/00044_8103x1839.tfrecord is new\n",
      "File /home/cb/sis2/data/tfrecords256/00044_8103x2100.tfrecord is new\n",
      "File /home/cb/sis2/data/tfrecords256/00044_8103x2361.tfrecord is new\n",
      "File /home/cb/sis2/data/tfrecords256/00044_8364x1056.tfrecord is new\n",
      "File /home/cb/sis2/data/tfrecords256/00044_8364x1317.tfrecord is new\n",
      "File /home/cb/sis2/data/tfrecords256/00044_8364x1839.tfrecord is new\n",
      "File /home/cb/sis2/data/tfrecords256/00044_8364x2100.tfrecord is new\n",
      "File /home/cb/sis2/data/tfrecords256/00044_8364x2361.tfrecord is new\n",
      "File /home/cb/sis2/data/tfrecords256/00044_8364x2622.tfrecord is new\n",
      "File /home/cb/sis2/data/tfrecords256/00044_8625x1317.tfrecord is new\n",
      "File /home/cb/sis2/data/tfrecords256/00044_8625x1578.tfrecord is new\n",
      "File /home/cb/sis2/data/tfrecords256/00044_8625x2100.tfrecord is new\n",
      "File /home/cb/sis2/data/tfrecords256/00044_8625x2361.tfrecord is new\n",
      "File /home/cb/sis2/data/tfrecords256/00044_8625x2622.tfrecord is new\n",
      "File /home/cb/sis2/data/tfrecords256/00044_8625x2883.tfrecord is new\n",
      "File /home/cb/sis2/data/tfrecords256/00044_8886x1578.tfrecord is new\n",
      "File /home/cb/sis2/data/tfrecords256/00044_8886x2361.tfrecord is new\n",
      "File /home/cb/sis2/data/tfrecords256/00044_8886x2622.tfrecord is new\n",
      "File /home/cb/sis2/data/tfrecords256/00044_8886x2883.tfrecord is new\n",
      "File /home/cb/sis2/data/tfrecords256/00044_9147x2100.tfrecord is new\n",
      "File /home/cb/sis2/data/tfrecords256/00044_9147x2361.tfrecord is new\n",
      "File /home/cb/sis2/data/tfrecords256/00044_9147x2883.tfrecord is new\n",
      "File /home/cb/sis2/data/tfrecords256/00045_2883x9669.tfrecord is new\n",
      "File /home/cb/sis2/data/tfrecords256/00045_3927x7320.tfrecord is new\n",
      "File /home/cb/sis2/data/tfrecords256/00045_4188x8103.tfrecord is new\n",
      "File /home/cb/sis2/data/tfrecords256/00045_4449x8103.tfrecord is new\n",
      "File /home/cb/sis2/data/tfrecords256/00045_4710x5754.tfrecord is new\n",
      "File /home/cb/sis2/data/tfrecords256/00045_4710x8103.tfrecord is new\n",
      "File /home/cb/sis2/data/tfrecords256/00045_5232x8103.tfrecord is new\n",
      "File /home/cb/sis2/data/tfrecords256/00045_5493x9147.tfrecord is new\n",
      "File /home/cb/sis2/data/tfrecords256/00045_6276x9669.tfrecord is new\n",
      "File /home/cb/sis2/data/tfrecords256/00045_6537x9408.tfrecord is new\n",
      "File /home/cb/sis2/data/tfrecords256/00045_6798x273.tfrecord is new\n",
      "File /home/cb/sis2/data/tfrecords256/00045_6798x534.tfrecord is new\n",
      "File /home/cb/sis2/data/tfrecords256/00045_6798x795.tfrecord is new\n",
      "File /home/cb/sis2/data/tfrecords256/00045_6798x1056.tfrecord is new\n",
      "File /home/cb/sis2/data/tfrecords256/00045_6798x1317.tfrecord is new\n",
      "File /home/cb/sis2/data/tfrecords256/00045_6798x8103.tfrecord is new\n",
      "File /home/cb/sis2/data/tfrecords256/00045_7059x795.tfrecord is new\n",
      "File /home/cb/sis2/data/tfrecords256/00045_7059x1056.tfrecord is new\n",
      "File /home/cb/sis2/data/tfrecords256/00045_7059x1317.tfrecord is new\n",
      "File /home/cb/sis2/data/tfrecords256/00045_7059x1578.tfrecord is new\n",
      "File /home/cb/sis2/data/tfrecords256/00045_7059x8364.tfrecord is new\n",
      "File /home/cb/sis2/data/tfrecords256/00045_7320x795.tfrecord is new\n",
      "File /home/cb/sis2/data/tfrecords256/00045_7320x1056.tfrecord is new\n",
      "File /home/cb/sis2/data/tfrecords256/00045_7320x1317.tfrecord is new\n",
      "File /home/cb/sis2/data/tfrecords256/00045_7320x1578.tfrecord is new\n",
      "File /home/cb/sis2/data/tfrecords256/00045_7320x1839.tfrecord is new\n",
      "File /home/cb/sis2/data/tfrecords256/00045_7320x9669.tfrecord is new\n",
      "File /home/cb/sis2/data/tfrecords256/00045_7581x1056.tfrecord is new\n",
      "File /home/cb/sis2/data/tfrecords256/00045_7581x1317.tfrecord is new\n",
      "File /home/cb/sis2/data/tfrecords256/00045_7581x1839.tfrecord is new\n",
      "File /home/cb/sis2/data/tfrecords256/00045_7581x9408.tfrecord is new\n",
      "File /home/cb/sis2/data/tfrecords256/00045_7581x9669.tfrecord is new\n",
      "File /home/cb/sis2/data/tfrecords256/00045_7842x1056.tfrecord is new\n",
      "File /home/cb/sis2/data/tfrecords256/00045_7842x1839.tfrecord is new\n",
      "File /home/cb/sis2/data/tfrecords256/00045_7842x2100.tfrecord is new\n",
      "File /home/cb/sis2/data/tfrecords256/00045_7842x9147.tfrecord is new\n",
      "File /home/cb/sis2/data/tfrecords256/00045_7842x9408.tfrecord is new\n",
      "File /home/cb/sis2/data/tfrecords256/00045_8103x1056.tfrecord is new\n",
      "File /home/cb/sis2/data/tfrecords256/00045_8103x1317.tfrecord is new\n",
      "File /home/cb/sis2/data/tfrecords256/00045_8103x1839.tfrecord is new\n",
      "File /home/cb/sis2/data/tfrecords256/00045_8103x2100.tfrecord is new\n",
      "File /home/cb/sis2/data/tfrecords256/00045_8103x2361.tfrecord is new\n",
      "File /home/cb/sis2/data/tfrecords256/00045_8364x1056.tfrecord is new\n",
      "File /home/cb/sis2/data/tfrecords256/00045_8364x1317.tfrecord is new\n",
      "File /home/cb/sis2/data/tfrecords256/00045_8364x1839.tfrecord is new\n",
      "File /home/cb/sis2/data/tfrecords256/00045_8364x2100.tfrecord is new\n",
      "File /home/cb/sis2/data/tfrecords256/00045_8364x2361.tfrecord is new\n",
      "File /home/cb/sis2/data/tfrecords256/00045_8364x2622.tfrecord is new\n",
      "File /home/cb/sis2/data/tfrecords256/00045_8625x1317.tfrecord is new\n",
      "File /home/cb/sis2/data/tfrecords256/00045_8625x1578.tfrecord is new\n",
      "File /home/cb/sis2/data/tfrecords256/00045_8625x2100.tfrecord is new\n",
      "File /home/cb/sis2/data/tfrecords256/00045_8625x2361.tfrecord is new\n",
      "File /home/cb/sis2/data/tfrecords256/00045_8625x2622.tfrecord is new\n",
      "File /home/cb/sis2/data/tfrecords256/00045_8625x2883.tfrecord is new\n",
      "File /home/cb/sis2/data/tfrecords256/00045_8886x1578.tfrecord is new\n",
      "File /home/cb/sis2/data/tfrecords256/00045_8886x2361.tfrecord is new\n",
      "File /home/cb/sis2/data/tfrecords256/00045_8886x2622.tfrecord is new\n",
      "File /home/cb/sis2/data/tfrecords256/00045_8886x2883.tfrecord is new\n",
      "File /home/cb/sis2/data/tfrecords256/00045_9147x2100.tfrecord is new\n",
      "File /home/cb/sis2/data/tfrecords256/00045_9147x2361.tfrecord is new\n",
      "File /home/cb/sis2/data/tfrecords256/00045_9147x2883.tfrecord is new\n",
      "File /home/cb/sis2/data/tfrecords256/00048_2883x9669.tfrecord is new\n",
      "File /home/cb/sis2/data/tfrecords256/00048_3927x7320.tfrecord is new\n",
      "File /home/cb/sis2/data/tfrecords256/00048_4188x8103.tfrecord is new\n",
      "File /home/cb/sis2/data/tfrecords256/00048_4449x8103.tfrecord is new\n",
      "File /home/cb/sis2/data/tfrecords256/00048_4710x5754.tfrecord is new\n",
      "File /home/cb/sis2/data/tfrecords256/00048_4710x8103.tfrecord is new\n",
      "File /home/cb/sis2/data/tfrecords256/00048_5232x8103.tfrecord is new\n",
      "File /home/cb/sis2/data/tfrecords256/00048_5493x9147.tfrecord is new\n",
      "File /home/cb/sis2/data/tfrecords256/00048_6276x9669.tfrecord is new\n",
      "File /home/cb/sis2/data/tfrecords256/00048_6537x9408.tfrecord is new\n",
      "File /home/cb/sis2/data/tfrecords256/00048_6798x8103.tfrecord is new\n",
      "File /home/cb/sis2/data/tfrecords256/00048_7059x8364.tfrecord is new\n",
      "File /home/cb/sis2/data/tfrecords256/00048_7320x9669.tfrecord is new\n",
      "File /home/cb/sis2/data/tfrecords256/00048_7581x9408.tfrecord is new\n",
      "File /home/cb/sis2/data/tfrecords256/00048_7581x9669.tfrecord is new\n",
      "File /home/cb/sis2/data/tfrecords256/00048_7842x9147.tfrecord is new\n",
      "File /home/cb/sis2/data/tfrecords256/00048_7842x9408.tfrecord is new\n",
      "File /home/cb/sis2/data/tfrecords256/00049_6798x273.tfrecord is new\n",
      "File /home/cb/sis2/data/tfrecords256/00049_6798x534.tfrecord is new\n",
      "File /home/cb/sis2/data/tfrecords256/00049_6798x795.tfrecord is new\n",
      "File /home/cb/sis2/data/tfrecords256/00049_6798x1056.tfrecord is new\n",
      "File /home/cb/sis2/data/tfrecords256/00049_6798x1317.tfrecord is new\n",
      "File /home/cb/sis2/data/tfrecords256/00049_7059x795.tfrecord is new\n",
      "File /home/cb/sis2/data/tfrecords256/00049_7059x1056.tfrecord is new\n",
      "File /home/cb/sis2/data/tfrecords256/00049_7059x1317.tfrecord is new\n",
      "File /home/cb/sis2/data/tfrecords256/00049_7059x1578.tfrecord is new\n",
      "File /home/cb/sis2/data/tfrecords256/00049_7320x795.tfrecord is new\n",
      "File /home/cb/sis2/data/tfrecords256/00049_7320x1056.tfrecord is new\n",
      "File /home/cb/sis2/data/tfrecords256/00049_7320x1317.tfrecord is new\n",
      "File /home/cb/sis2/data/tfrecords256/00049_7320x1578.tfrecord is new\n",
      "File /home/cb/sis2/data/tfrecords256/00049_7320x1839.tfrecord is new\n",
      "File /home/cb/sis2/data/tfrecords256/00049_7581x1056.tfrecord is new\n",
      "File /home/cb/sis2/data/tfrecords256/00049_7581x1317.tfrecord is new\n",
      "File /home/cb/sis2/data/tfrecords256/00049_7581x1839.tfrecord is new\n",
      "File /home/cb/sis2/data/tfrecords256/00049_7842x1056.tfrecord is new\n",
      "File /home/cb/sis2/data/tfrecords256/00049_7842x1839.tfrecord is new\n",
      "File /home/cb/sis2/data/tfrecords256/00049_7842x2100.tfrecord is new\n",
      "File /home/cb/sis2/data/tfrecords256/00049_8103x1056.tfrecord is new\n",
      "File /home/cb/sis2/data/tfrecords256/00049_8103x1317.tfrecord is new\n",
      "File /home/cb/sis2/data/tfrecords256/00049_8103x1839.tfrecord is new\n",
      "File /home/cb/sis2/data/tfrecords256/00049_8103x2100.tfrecord is new\n",
      "File /home/cb/sis2/data/tfrecords256/00049_8103x2361.tfrecord is new\n",
      "File /home/cb/sis2/data/tfrecords256/00049_8364x1056.tfrecord is new\n",
      "File /home/cb/sis2/data/tfrecords256/00049_8364x1317.tfrecord is new\n",
      "File /home/cb/sis2/data/tfrecords256/00049_8364x1839.tfrecord is new\n",
      "File /home/cb/sis2/data/tfrecords256/00049_8364x2100.tfrecord is new\n",
      "File /home/cb/sis2/data/tfrecords256/00049_8364x2361.tfrecord is new\n",
      "File /home/cb/sis2/data/tfrecords256/00049_8364x2622.tfrecord is new\n",
      "File /home/cb/sis2/data/tfrecords256/00049_8625x1317.tfrecord is new\n",
      "File /home/cb/sis2/data/tfrecords256/00049_8625x1578.tfrecord is new\n",
      "File /home/cb/sis2/data/tfrecords256/00049_8625x2100.tfrecord is new\n",
      "File /home/cb/sis2/data/tfrecords256/00049_8625x2361.tfrecord is new\n",
      "File /home/cb/sis2/data/tfrecords256/00049_8625x2622.tfrecord is new\n",
      "File /home/cb/sis2/data/tfrecords256/00049_8625x2883.tfrecord is new\n",
      "File /home/cb/sis2/data/tfrecords256/00049_8886x1578.tfrecord is new\n",
      "File /home/cb/sis2/data/tfrecords256/00049_8886x2361.tfrecord is new\n",
      "File /home/cb/sis2/data/tfrecords256/00049_8886x2622.tfrecord is new\n",
      "File /home/cb/sis2/data/tfrecords256/00049_8886x2883.tfrecord is new\n",
      "File /home/cb/sis2/data/tfrecords256/00049_9147x2100.tfrecord is new\n",
      "File /home/cb/sis2/data/tfrecords256/00049_9147x2361.tfrecord is new\n",
      "File /home/cb/sis2/data/tfrecords256/00049_9147x2883.tfrecord is new\n",
      "File /home/cb/sis2/data/tfrecords256/00052_2622x3144.tfrecord is new\n",
      "File /home/cb/sis2/data/tfrecords256/00056_2622x3144.tfrecord is new\n",
      "File /home/cb/sis2/data/tfrecords256/00064_9669x9669.tfrecord is new\n",
      "File /home/cb/sis2/data/tfrecords256/00065_9147x8886.tfrecord is new\n",
      "File /home/cb/sis2/data/tfrecords256/00065_9669x8886.tfrecord is new\n",
      "File /home/cb/sis2/data/tfrecords256/00068_9147x8886.tfrecord is new\n",
      "File /home/cb/sis2/data/tfrecords256/00068_9669x8886.tfrecord is new\n",
      "File /home/cb/sis2/data/tfrecords256/00068_9669x9669.tfrecord is new\n",
      "File /home/cb/sis2/data/tfrecords256/00072_9147x8886.tfrecord is new\n",
      "File /home/cb/sis2/data/tfrecords256/00072_9669x8886.tfrecord is new\n",
      "File /home/cb/sis2/data/tfrecords256/00072_9669x9669.tfrecord is new\n",
      "File /home/cb/sis2/data/tfrecords256/00074_2622x9669.tfrecord is new\n",
      "File /home/cb/sis2/data/tfrecords256/00074_2883x9669.tfrecord is new\n",
      "File /home/cb/sis2/data/tfrecords256/00074_3144x6798.tfrecord is new\n",
      "File /home/cb/sis2/data/tfrecords256/00074_3144x9669.tfrecord is new\n",
      "File /home/cb/sis2/data/tfrecords256/00074_3405x6798.tfrecord is new\n",
      "File /home/cb/sis2/data/tfrecords256/00074_3666x7320.tfrecord is new\n",
      "File /home/cb/sis2/data/tfrecords256/00074_3666x7581.tfrecord is new\n",
      "File /home/cb/sis2/data/tfrecords256/00074_3666x7842.tfrecord is new\n",
      "File /home/cb/sis2/data/tfrecords256/00074_3927x7320.tfrecord is new\n",
      "File /home/cb/sis2/data/tfrecords256/00074_3927x7581.tfrecord is new\n",
      "File /home/cb/sis2/data/tfrecords256/00074_3927x7842.tfrecord is new\n",
      "File /home/cb/sis2/data/tfrecords256/00074_3927x8103.tfrecord is new\n",
      "File /home/cb/sis2/data/tfrecords256/00074_4188x7842.tfrecord is new\n",
      "File /home/cb/sis2/data/tfrecords256/00074_4188x8103.tfrecord is new\n",
      "File /home/cb/sis2/data/tfrecords256/00074_4449x5493.tfrecord is new\n",
      "File /home/cb/sis2/data/tfrecords256/00074_4449x6015.tfrecord is new\n",
      "File /home/cb/sis2/data/tfrecords256/00074_4449x8103.tfrecord is new\n",
      "File /home/cb/sis2/data/tfrecords256/00074_4710x5754.tfrecord is new\n",
      "File /home/cb/sis2/data/tfrecords256/00074_4710x8103.tfrecord is new\n",
      "File /home/cb/sis2/data/tfrecords256/00074_4971x7581.tfrecord is new\n",
      "File /home/cb/sis2/data/tfrecords256/00074_5232x8103.tfrecord is new\n",
      "File /home/cb/sis2/data/tfrecords256/00074_5232x8625.tfrecord is new\n",
      "File /home/cb/sis2/data/tfrecords256/00074_5493x9147.tfrecord is new\n",
      "File /home/cb/sis2/data/tfrecords256/00074_5754x9147.tfrecord is new\n",
      "File /home/cb/sis2/data/tfrecords256/00074_5754x9408.tfrecord is new\n",
      "File /home/cb/sis2/data/tfrecords256/00074_6015x9147.tfrecord is new\n",
      "File /home/cb/sis2/data/tfrecords256/00074_6015x9408.tfrecord is new\n",
      "File /home/cb/sis2/data/tfrecords256/00074_6015x9669.tfrecord is new\n",
      "File /home/cb/sis2/data/tfrecords256/00074_6276x8886.tfrecord is new\n",
      "File /home/cb/sis2/data/tfrecords256/00074_6276x9147.tfrecord is new\n",
      "File /home/cb/sis2/data/tfrecords256/00074_6276x9408.tfrecord is new\n",
      "File /home/cb/sis2/data/tfrecords256/00074_6276x9669.tfrecord is new\n",
      "File /home/cb/sis2/data/tfrecords256/00074_6537x1056.tfrecord is new\n",
      "File /home/cb/sis2/data/tfrecords256/00074_6537x1317.tfrecord is new\n",
      "File /home/cb/sis2/data/tfrecords256/00074_6537x6798.tfrecord is new\n",
      "File /home/cb/sis2/data/tfrecords256/00074_6537x7059.tfrecord is new\n",
      "File /home/cb/sis2/data/tfrecords256/00074_6537x7320.tfrecord is new\n",
      "File /home/cb/sis2/data/tfrecords256/00074_6537x8886.tfrecord is new\n",
      "File /home/cb/sis2/data/tfrecords256/00074_6537x9408.tfrecord is new\n",
      "File /home/cb/sis2/data/tfrecords256/00074_6798x273.tfrecord is new\n",
      "File /home/cb/sis2/data/tfrecords256/00074_6798x534.tfrecord is new\n",
      "File /home/cb/sis2/data/tfrecords256/00074_6798x1056.tfrecord is new\n",
      "File /home/cb/sis2/data/tfrecords256/00074_6798x1317.tfrecord is new\n",
      "File /home/cb/sis2/data/tfrecords256/00074_6798x8103.tfrecord is new\n",
      "File /home/cb/sis2/data/tfrecords256/00074_6798x8364.tfrecord is new\n",
      "File /home/cb/sis2/data/tfrecords256/00074_6798x8625.tfrecord is new\n",
      "File /home/cb/sis2/data/tfrecords256/00074_6798x8886.tfrecord is new\n",
      "File /home/cb/sis2/data/tfrecords256/00074_7059x273.tfrecord is new\n",
      "File /home/cb/sis2/data/tfrecords256/00074_7059x1317.tfrecord is new\n",
      "File /home/cb/sis2/data/tfrecords256/00074_7059x1578.tfrecord is new\n",
      "File /home/cb/sis2/data/tfrecords256/00074_7059x8103.tfrecord is new\n",
      "File /home/cb/sis2/data/tfrecords256/00074_7059x8364.tfrecord is new\n",
      "File /home/cb/sis2/data/tfrecords256/00074_7320x1578.tfrecord is new\n",
      "File /home/cb/sis2/data/tfrecords256/00074_7320x2622.tfrecord is new\n",
      "File /home/cb/sis2/data/tfrecords256/00074_7320x7842.tfrecord is new\n",
      "File /home/cb/sis2/data/tfrecords256/00074_7320x8103.tfrecord is new\n",
      "File /home/cb/sis2/data/tfrecords256/00074_7320x8364.tfrecord is new\n",
      "File /home/cb/sis2/data/tfrecords256/00074_7320x9669.tfrecord is new\n",
      "File /home/cb/sis2/data/tfrecords256/00074_7581x1578.tfrecord is new\n",
      "File /home/cb/sis2/data/tfrecords256/00074_7581x1839.tfrecord is new\n",
      "File /home/cb/sis2/data/tfrecords256/00074_7581x2100.tfrecord is new\n",
      "File /home/cb/sis2/data/tfrecords256/00074_7581x9408.tfrecord is new\n",
      "File /home/cb/sis2/data/tfrecords256/00074_7581x9669.tfrecord is new\n",
      "File /home/cb/sis2/data/tfrecords256/00074_7842x12.tfrecord is new\n",
      "File /home/cb/sis2/data/tfrecords256/00074_7842x273.tfrecord is new\n",
      "File /home/cb/sis2/data/tfrecords256/00074_7842x1839.tfrecord is new\n",
      "File /home/cb/sis2/data/tfrecords256/00074_7842x2100.tfrecord is new\n",
      "File /home/cb/sis2/data/tfrecords256/00074_7842x9147.tfrecord is new\n",
      "File /home/cb/sis2/data/tfrecords256/00074_7842x9408.tfrecord is new\n",
      "File /home/cb/sis2/data/tfrecords256/00074_7842x9669.tfrecord is new\n",
      "File /home/cb/sis2/data/tfrecords256/00074_8103x12.tfrecord is new\n",
      "File /home/cb/sis2/data/tfrecords256/00074_8103x273.tfrecord is new\n",
      "File /home/cb/sis2/data/tfrecords256/00074_8103x534.tfrecord is new\n",
      "File /home/cb/sis2/data/tfrecords256/00005_12x3405.tfrecord already exists\n",
      "File /home/cb/sis2/data/tfrecords256/00074_8103x2361.tfrecord is new\n"
     ]
    }
   ],
   "source": [
    "#TODO: check for \"black\" tiffs and rename them first / do not create tfrecords\n",
    "\n",
    "# tif_files = [os.path.join(PATH, f'tif{TILESIZE}/00005_12x3405.tif')]\n",
    "tif_files = glob.glob(os.path.join(PATH, f'tif{TILESIZE}/*.tif'))\n",
    "for tif_file in tif_files:\n",
    "    tif_filename = os.path.splitext(os.path.basename(tif_file))[0]\n",
    "    tensor_filename = os.path.join(PATH, f'tfrecords{TILESIZE}/{tif_filename}.tfrecord')\n",
    "\n",
    "    if os.path.exists(tensor_filename):\n",
    "        print(f'File {tensor_filename} already exists')\n",
    "        os.rename(tif_file, f'{tif_file}_tfexisting')\n",
    "        continue\n",
    "    print(f'File {tensor_filename} is new')\n",
    "\n",
    "    raw_tiff = rasterio.open(tif_file)\n",
    "    helper.save_tfrecord(raw_tiff, tensor_filename)\n",
    "    os.rename(tif_file, f'{tif_file}_tfcreated')\n"
   ]
  },
  {
   "cell_type": "code",
   "execution_count": null,
   "metadata": {},
   "outputs": [],
   "source": [
    "# Tests with one example only\n",
    "\n",
    "# raw_tiff = rasterio.open(os.path.join(PATH, 'collocated/tile_5x5.tif'))\n",
    "# tensorpath = os.path.join(PATH, 'tfrecords/test2.tfrecord')\n",
    "# helper.save_tfrecord(raw_tiff, tensorpath)\n"
   ]
  },
  {
   "cell_type": "code",
   "execution_count": null,
   "metadata": {},
   "outputs": [],
   "source": [
    "helper.plot_raw_tiff(raw_tiff, RGBProfile.S2)"
   ]
  },
  {
   "attachments": {},
   "cell_type": "markdown",
   "metadata": {},
   "source": [
    "#### Validation: Read and display tfrecords"
   ]
  },
  {
   "cell_type": "code",
   "execution_count": null,
   "metadata": {},
   "outputs": [],
   "source": [
    "# Create a TFRecordDataset\n",
    "dataset = tf.data.TFRecordDataset(os.path.join(PATH, 'tfrecords/test.tfrecord'))\n",
    "parsed_dataset = dataset.map(helper.parse_tfrecord)\n",
    "\n",
    "first_example = next(iter(parsed_dataset))\n",
    "\n",
    "# import importlib\n",
    "# importlib.reload(helper)\n",
    "\n",
    "# first_example[0].numpy()[:,:,0].shape\n",
    "\n",
    "fig, ax = plt.subplots(1, 2)\n",
    "helper.plot_tensor(first_example[0], RGBProfile.S2, ax=ax[0])\n",
    "helper.plot_tensor(first_example[1], RGBProfile.S3, ax=ax[1])\n",
    "plt.show()"
   ]
  },
  {
   "cell_type": "code",
   "execution_count": null,
   "metadata": {},
   "outputs": [],
   "source": [
    "\n",
    "# Directory containing the TFRecord files\n",
    "data_dir = os.path.join(PATH, 'tfrecords/')\n",
    "\n",
    "# Get a list of all TFRecord files in the directory\n",
    "file_list = [os.path.join(data_dir, file) for file in os.listdir(data_dir) if file.endswith('.tfrecord')]\n",
    "\n",
    "for sample_file in file_list:\n",
    "\n",
    "    sample_dataset = tf.data.TFRecordDataset(sample_file)\n",
    "    for element in sample_dataset:\n",
    "        inp, re = helper.parse_tfrecord(element)\n",
    "        \n",
    "        fig, ax = plt.subplots(1, 2, figsize=(10,5))\n",
    "        fig.suptitle(sample_file)\n",
    "        helper.plot_tensor(inp, RGBProfile.S2, ax=ax[0])\n",
    "        helper.plot_tensor(re, RGBProfile.S3, ax=ax[1])\n",
    "        ax[0].set_title('Sentinel-2')\n",
    "        ax[1].set_title('Sentinel-3')\n",
    "        plt.tight_layout()\n",
    "        plt.show()\n",
    "\n"
   ]
  },
  {
   "cell_type": "code",
   "execution_count": null,
   "metadata": {},
   "outputs": [],
   "source": [
    "# tfrecord_files = glob.glob(os.path.join(PATH, 'tfrecords/*.tfrecord'))\n",
    "# for tfrecord_file in tfrecord_files:\n",
    "#     print(tfrecord_file)\n",
    "#     dataset = tf.data.TFRecordDataset(tfrecord_file)\n",
    "#     # parsed_dataset = dataset.map(helper.parse_tfrecord)\n",
    "\n",
    "#     for sample in dataset:\n",
    "#         print(sample)\n",
    "#         # # first_example = next(iter(parsed_dataset))\n",
    "#         # s2_sample, s3_sample = helper.parse_tfrecord(sample)\n",
    "#         # helper.plot_tensor(s2_sample, RGBProfile.S2)\n",
    "#         # helper.plot_tensor(s3_sample, RGBProfile.S3)\n",
    "\n"
   ]
  },
  {
   "cell_type": "code",
   "execution_count": null,
   "metadata": {},
   "outputs": [],
   "source": [
    "# # Directory containing the TFRecord files\n",
    "# data_dir = '/home/cb/sis/data/tfrecords'\n",
    "\n",
    "# # Get a list of all TFRecord files in the directory\n",
    "# file_list = [os.path.join(data_dir, file) for file in os.listdir(data_dir) if file.endswith('.tfrecord')]\n",
    "\n",
    "# dataset = tf.data.TFRecordDataset(file_list)\n",
    "# # dataset = tf.data.TFRecordDataset.list_files(data_dir + '/*.tfrecord')\n",
    "\n",
    "\n",
    "# dataset = dataset.map(helper.parse_tfrecord)\n",
    "# # dataset = dataset.shuffle(...)\n",
    "# # dataset = dataset.batch(...)\n",
    "\n",
    "# for sample_file in file_list:\n",
    "#     print(sample_file)\n",
    "\n",
    "#     sample_dataset = tf.data.TFRecordDataset(sample_file)\n",
    "#     for element in sample_dataset:\n",
    "#         s2_tensor, s3_tensor = helper.parse_tfrecord(element)\n",
    "        \n",
    "#         helper.plot_tensor(s2_tensor, RGBProfile.S2)\n",
    "#         helper.plot_tensor(s3_tensor, RGBProfile.S3)\n"
   ]
  },
  {
   "cell_type": "code",
   "execution_count": null,
   "metadata": {},
   "outputs": [],
   "source": [
    "# dataset = tf.data.TFRecordDataset.list_files(os.path.join(PATH, 'tfrecords/'))\n",
    "# parsed_dataset = dataset.map(helper.parse_tfrecord)\n",
    "\n",
    "# for raw_s2, raw_s3 in parsed_dataset:\n",
    "#     # Use the arrays for training\n",
    "#     # model.train(array_256, array_128, ...)\n",
    "#     print(raw_s2.shape)\n",
    "#     print(raw_s3.shape)\n",
    "#     # plot_feature_rgb(array_256.numpy())"
   ]
  },
  {
   "cell_type": "code",
   "execution_count": null,
   "metadata": {},
   "outputs": [],
   "source": [
    "# import tifffile\n",
    "\n",
    "# train_feature_file = os.path.join(PATH, 'collocated/tile_5x5.tif')\n",
    "# train_feature = tifffile.imread(train_feature_file)\n",
    "\n",
    "# print(train_feature.shape)\n",
    "\n",
    "# print(np.amax(train_feature[0]))\n",
    "# print(np.amax(train_feature[1]))\n",
    "# print(np.amax(train_feature[2]))\n",
    "# print(np.amax(train_feature[3]))\n",
    "# print(np.amax(train_feature))\n"
   ]
  },
  {
   "cell_type": "code",
   "execution_count": null,
   "metadata": {},
   "outputs": [],
   "source": [
    "# gdal_dataset = gdal.Open(os.path.join(PATH, 'collocated/collocate.tif'))\n",
    "\n",
    "# red_band = helper.normalize_numpy(gdal_dataset.GetRasterBand(2).ReadAsArray())\n",
    "# green_band = helper.normalize_numpy(gdal_dataset.GetRasterBand(40).ReadAsArray())\n",
    "# blue_band = helper.normalize_numpy(gdal_dataset.GetRasterBand(40).ReadAsArray())\n",
    "\n",
    "# # Stack the bands to create the RGB image\n",
    "# rgb_image = np.stack([red_band, green_band, blue_band], axis=-1)\n",
    "\n",
    "# # Display the RGB image\n",
    "# plt.figure(figsize=(10,10))\n",
    "# plt.imshow(rgb_image)\n",
    "# plt.axis('off')\n",
    "# plt.show()\n",
    "\n",
    "# # Get the number of bands (layers)\n",
    "# num_bands = gdal_dataset.RasterCount\n",
    "\n",
    "# # Get a list of band names\n",
    "# band_names = []\n",
    "# for i in range(1, num_bands + 1):\n",
    "#     band = gdal_dataset.GetRasterBand(i)\n",
    "#     band_name = band.GetDescription()\n",
    "#     band_names.append(band_name)\n",
    "\n",
    "# # Print the list of band names\n",
    "# print(\"Band Names (GDAL):\", band_names)"
   ]
  }
 ],
 "metadata": {
  "kernelspec": {
   "display_name": "pygdal38",
   "language": "python",
   "name": "python3"
  },
  "language_info": {
   "codemirror_mode": {
    "name": "ipython",
    "version": 3
   },
   "file_extension": ".py",
   "mimetype": "text/x-python",
   "name": "python",
   "nbconvert_exporter": "python",
   "pygments_lexer": "ipython3",
   "version": "3.8.16"
  },
  "orig_nbformat": 4
 },
 "nbformat": 4,
 "nbformat_minor": 2
}
