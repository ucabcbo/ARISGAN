{
 "cells": [
  {
   "cell_type": "code",
   "execution_count": null,
   "metadata": {},
   "outputs": [],
   "source": [
    "# import snappy\n",
    "# from snappy import GPF\n",
    "# from snappy import ProductIO\n",
    "\n",
    "import os\n",
    "import glob\n",
    "import matplotlib.pyplot as plt\n",
    "import numpy as np\n",
    "import rasterio\n",
    "import tensorflow as tf\n",
    "\n",
    "import sys\n",
    "sys.path.append('../')\n",
    "import sis_toolbox as tbx\n",
    "from sis_toolbox import RGBProfile as rgb\n",
    "\n",
    "# PATH = '/Users/christianboehm/projects/sis2/data'\n",
    "PATH = '/home/cb/sis2/data/'\n",
    "TILESIZE = 256\n"
   ]
  },
  {
   "cell_type": "code",
   "execution_count": null,
   "metadata": {},
   "outputs": [],
   "source": [
    "# tif_files = [os.path.join(PATH, f'tif{TILESIZE}/00005_12x3405.tif')]\n",
    "tif_files = glob.glob(os.path.join(PATH, f'tif{TILESIZE}/*.tif'))\n",
    "for tif_file in tif_files:\n",
    "    tif_filename = os.path.splitext(os.path.basename(tif_file))[0]\n",
    "    tensor_filename = os.path.join(PATH, f'tfrecords{TILESIZE}/{tif_filename}.tfrecord')\n",
    "\n",
    "    if os.path.exists(tensor_filename):\n",
    "        print(f'File {tensor_filename} already exists')\n",
    "        os.rename(tif_file, f'{tif_file}_tfexisting')\n",
    "        continue\n",
    "    print(f'File {tensor_filename} is new')\n",
    "\n",
    "    raw_tiff = rasterio.open(tif_file)\n",
    "    tbx.save_tfrecord(raw_tiff, tensor_filename)\n",
    "    os.rename(tif_file, f'{tif_file}_tfcreated')\n"
   ]
  },
  {
   "cell_type": "code",
   "execution_count": null,
   "metadata": {},
   "outputs": [],
   "source": [
    "# Tests with one example only\n",
    "\n",
    "# raw_tiff = rasterio.open(os.path.join(PATH, 'collocated/tile_5x5.tif'))\n",
    "# tensorpath = os.path.join(PATH, 'tfrecords/test2.tfrecord')\n",
    "# helper.save_tfrecord(raw_tiff, tensorpath)\n"
   ]
  },
  {
   "cell_type": "code",
   "execution_count": null,
   "metadata": {},
   "outputs": [],
   "source": [
    "tbx.plot_raw_tiff(raw_tiff, RGBProfile.S2)"
   ]
  },
  {
   "attachments": {},
   "cell_type": "markdown",
   "metadata": {},
   "source": [
    "#### Validation: Read and display tfrecords"
   ]
  },
  {
   "cell_type": "code",
   "execution_count": null,
   "metadata": {},
   "outputs": [],
   "source": [
    "# Create a TFRecordDataset\n",
    "dataset = tf.data.TFRecordDataset(os.path.join(PATH, 'tfrecords/test.tfrecord'))\n",
    "parsed_dataset = dataset.map(tbx.parse_tfrecord)\n",
    "\n",
    "first_example = next(iter(parsed_dataset))\n",
    "\n",
    "# import importlib\n",
    "# importlib.reload(helper)\n",
    "\n",
    "# first_example[0].numpy()[:,:,0].shape\n",
    "\n",
    "fig, ax = plt.subplots(1, 2)\n",
    "tbx.plot_tensor(first_example[0], RGBProfile.S2, ax=ax[0])\n",
    "tbx.plot_tensor(first_example[1], RGBProfile.S3, ax=ax[1])\n",
    "plt.show()"
   ]
  },
  {
   "cell_type": "code",
   "execution_count": null,
   "metadata": {},
   "outputs": [],
   "source": [
    "\n",
    "# Directory containing the TFRecord files\n",
    "data_dir = os.path.join(PATH, 'tfrecords/')\n",
    "\n",
    "# Get a list of all TFRecord files in the directory\n",
    "file_list = [os.path.join(data_dir, file) for file in os.listdir(data_dir) if file.endswith('.tfrecord')]\n",
    "\n",
    "for sample_file in file_list:\n",
    "\n",
    "    sample_dataset = tf.data.TFRecordDataset(sample_file)\n",
    "    for element in sample_dataset:\n",
    "        inp, re = tbx.parse_tfrecord(element)\n",
    "        \n",
    "        fig, ax = plt.subplots(1, 2, figsize=(10,5))\n",
    "        fig.suptitle(sample_file)\n",
    "        tbx.plot_tensor(inp, RGBProfile.S2, ax=ax[0])\n",
    "        tbx.plot_tensor(re, RGBProfile.S3, ax=ax[1])\n",
    "        ax[0].set_title('Sentinel-2')\n",
    "        ax[1].set_title('Sentinel-3')\n",
    "        plt.tight_layout()\n",
    "        plt.show()\n",
    "\n"
   ]
  },
  {
   "cell_type": "code",
   "execution_count": null,
   "metadata": {},
   "outputs": [],
   "source": [
    "# tfrecord_files = glob.glob(os.path.join(PATH, 'tfrecords/*.tfrecord'))\n",
    "# for tfrecord_file in tfrecord_files:\n",
    "#     print(tfrecord_file)\n",
    "#     dataset = tf.data.TFRecordDataset(tfrecord_file)\n",
    "#     # parsed_dataset = dataset.map(helper.parse_tfrecord)\n",
    "\n",
    "#     for sample in dataset:\n",
    "#         print(sample)\n",
    "#         # # first_example = next(iter(parsed_dataset))\n",
    "#         # s2_sample, s3_sample = helper.parse_tfrecord(sample)\n",
    "#         # helper.plot_tensor(s2_sample, RGBProfile.S2)\n",
    "#         # helper.plot_tensor(s3_sample, RGBProfile.S3)\n",
    "\n"
   ]
  },
  {
   "cell_type": "code",
   "execution_count": null,
   "metadata": {},
   "outputs": [],
   "source": [
    "# # Directory containing the TFRecord files\n",
    "# data_dir = '/home/cb/sis/data/tfrecords'\n",
    "\n",
    "# # Get a list of all TFRecord files in the directory\n",
    "# file_list = [os.path.join(data_dir, file) for file in os.listdir(data_dir) if file.endswith('.tfrecord')]\n",
    "\n",
    "# dataset = tf.data.TFRecordDataset(file_list)\n",
    "# # dataset = tf.data.TFRecordDataset.list_files(data_dir + '/*.tfrecord')\n",
    "\n",
    "\n",
    "# dataset = dataset.map(helper.parse_tfrecord)\n",
    "# # dataset = dataset.shuffle(...)\n",
    "# # dataset = dataset.batch(...)\n",
    "\n",
    "# for sample_file in file_list:\n",
    "#     print(sample_file)\n",
    "\n",
    "#     sample_dataset = tf.data.TFRecordDataset(sample_file)\n",
    "#     for element in sample_dataset:\n",
    "#         s2_tensor, s3_tensor = helper.parse_tfrecord(element)\n",
    "        \n",
    "#         helper.plot_tensor(s2_tensor, RGBProfile.S2)\n",
    "#         helper.plot_tensor(s3_tensor, RGBProfile.S3)\n"
   ]
  },
  {
   "cell_type": "code",
   "execution_count": null,
   "metadata": {},
   "outputs": [],
   "source": [
    "# dataset = tf.data.TFRecordDataset.list_files(os.path.join(PATH, 'tfrecords/'))\n",
    "# parsed_dataset = dataset.map(helper.parse_tfrecord)\n",
    "\n",
    "# for raw_s2, raw_s3 in parsed_dataset:\n",
    "#     # Use the arrays for training\n",
    "#     # model.train(array_256, array_128, ...)\n",
    "#     print(raw_s2.shape)\n",
    "#     print(raw_s3.shape)\n",
    "#     # plot_feature_rgb(array_256.numpy())"
   ]
  },
  {
   "cell_type": "code",
   "execution_count": null,
   "metadata": {},
   "outputs": [],
   "source": [
    "# import tifffile\n",
    "\n",
    "# train_feature_file = os.path.join(PATH, 'collocated/tile_5x5.tif')\n",
    "# train_feature = tifffile.imread(train_feature_file)\n",
    "\n",
    "# print(train_feature.shape)\n",
    "\n",
    "# print(np.amax(train_feature[0]))\n",
    "# print(np.amax(train_feature[1]))\n",
    "# print(np.amax(train_feature[2]))\n",
    "# print(np.amax(train_feature[3]))\n",
    "# print(np.amax(train_feature))\n"
   ]
  },
  {
   "cell_type": "code",
   "execution_count": null,
   "metadata": {},
   "outputs": [],
   "source": [
    "# gdal_dataset = gdal.Open(os.path.join(PATH, 'collocated/collocate.tif'))\n",
    "\n",
    "# red_band = helper.normalize_numpy(gdal_dataset.GetRasterBand(2).ReadAsArray())\n",
    "# green_band = helper.normalize_numpy(gdal_dataset.GetRasterBand(40).ReadAsArray())\n",
    "# blue_band = helper.normalize_numpy(gdal_dataset.GetRasterBand(40).ReadAsArray())\n",
    "\n",
    "# # Stack the bands to create the RGB image\n",
    "# rgb_image = np.stack([red_band, green_band, blue_band], axis=-1)\n",
    "\n",
    "# # Display the RGB image\n",
    "# plt.figure(figsize=(10,10))\n",
    "# plt.imshow(rgb_image)\n",
    "# plt.axis('off')\n",
    "# plt.show()\n",
    "\n",
    "# # Get the number of bands (layers)\n",
    "# num_bands = gdal_dataset.RasterCount\n",
    "\n",
    "# # Get a list of band names\n",
    "# band_names = []\n",
    "# for i in range(1, num_bands + 1):\n",
    "#     band = gdal_dataset.GetRasterBand(i)\n",
    "#     band_name = band.GetDescription()\n",
    "#     band_names.append(band_name)\n",
    "\n",
    "# # Print the list of band names\n",
    "# print(\"Band Names (GDAL):\", band_names)"
   ]
  }
 ],
 "metadata": {
  "kernelspec": {
   "display_name": "pygdal38",
   "language": "python",
   "name": "python3"
  },
  "language_info": {
   "codemirror_mode": {
    "name": "ipython",
    "version": 3
   },
   "file_extension": ".py",
   "mimetype": "text/x-python",
   "name": "python",
   "nbconvert_exporter": "python",
   "pygments_lexer": "ipython3",
   "version": "3.8.16"
  },
  "orig_nbformat": 4
 },
 "nbformat": 4,
 "nbformat_minor": 2
}
