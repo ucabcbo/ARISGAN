{
 "cells": [
  {
   "cell_type": "code",
   "execution_count": 2,
   "metadata": {},
   "outputs": [],
   "source": [
    "INVENTORY = 'inv_T17XNA_10h'\n",
    "DATASET = 'masked'\n",
    "TRAIN_RATIO = 0.95\n",
    "TILESIZE = 256\n"
   ]
  },
  {
   "cell_type": "code",
   "execution_count": 3,
   "metadata": {},
   "outputs": [
    {
     "name": "stdout",
     "output_type": "stream",
     "text": [
      "environment loaded\n"
     ]
    }
   ],
   "source": [
    "import os\n",
    "import rasterio\n",
    "\n",
    "import sys\n",
    "sys.path.append('../')\n",
    "from environment import Environment\n",
    "import toolbox as tbx\n",
    "\n",
    "import random\n",
    "\n",
    "env = Environment()\n"
   ]
  },
  {
   "cell_type": "code",
   "execution_count": 4,
   "metadata": {},
   "outputs": [],
   "source": [
    "tifdir = os.path.join(env.DATA_ROOT, '_tif', INVENTORY, str(TILESIZE))\n",
    "files = os.listdir(tifdir)\n",
    "\n",
    "outputdir_cur = os.path.join(env.DATA_ROOT, f'cur_{DATASET}', str(TILESIZE))\n",
    "outputdir_alt3 = os.path.join(env.DATA_ROOT, f'alt3_{DATASET}', str(TILESIZE))\n",
    "outputdir_alt6 = os.path.join(env.DATA_ROOT, f'alt6_{DATASET}', str(TILESIZE))\n",
    "outputdir_alt12 = os.path.join(env.DATA_ROOT, f'alt12_{DATASET}', str(TILESIZE))\n",
    "outputdir_alt30 = os.path.join(env.DATA_ROOT, f'alt30_{DATASET}', str(TILESIZE))\n",
    "\n",
    "outputdirs = [outputdir_cur, outputdir_alt3, outputdir_alt6, outputdir_alt12, outputdir_alt30]\n",
    "\n",
    "for outputdir in outputdirs:\n",
    "    if not os.path.exists(os.path.join(outputdir, 'train')):\n",
    "        os.makedirs(os.path.join(outputdir, 'train'))\n",
    "    if not os.path.exists(os.path.join(outputdir, 'val')):\n",
    "        os.makedirs(os.path.join(outputdir, 'val'))\n"
   ]
  },
  {
   "cell_type": "code",
   "execution_count": 5,
   "metadata": {},
   "outputs": [
    {
     "name": "stdout",
     "output_type": "stream",
     "text": [
      "Filename: 00017_3029x7540_notinmask\n",
      "Suffix: train\n"
     ]
    }
   ],
   "source": [
    "file = files[0]\n",
    "\n",
    "filename = os.path.splitext(file)[0]\n",
    "print('Filename:', filename)\n",
    "\n",
    "trainval = random.choices(['train', 'val'], [TRAIN_RATIO, (1-TRAIN_RATIO)])[0]\n",
    "print('Suffix:', trainval)\n"
   ]
  },
  {
   "cell_type": "code",
   "execution_count": 6,
   "metadata": {},
   "outputs": [],
   "source": [
    "raw_tiff = rasterio.open(os.path.join(tifdir, file))\n"
   ]
  },
  {
   "cell_type": "code",
   "execution_count": 7,
   "metadata": {},
   "outputs": [
    {
     "name": "stdout",
     "output_type": "stream",
     "text": [
      "Already exists: 00017_3029x7540_notinmask.tfrecord\n"
     ]
    }
   ],
   "source": [
    "\n",
    "if os.path.exists(os.path.join(outputdir_cur, 'train', f'{filename}.tfrecord')) or os.path.exists(os.path.join(outputdir_cur, 'val', f'{filename}.tfrecord')):\n",
    "    print(f'Already exists: {filename}.tfrecord')\n",
    "else:\n",
    "    tbx.save_tfrecord(raw_tiff, os.path.join(outputdir_cur, trainval, f'{filename}.tfrecord'))\n",
    "    tbx.save_tfrecord_alt(raw_tiff, os.path.join(outputdir_alt3, trainval, f'{filename}.tfrecord'), downsample=3)\n",
    "    tbx.save_tfrecord_alt(raw_tiff, os.path.join(outputdir_alt6, trainval, f'{filename}.tfrecord'), downsample=6)\n",
    "    tbx.save_tfrecord_alt(raw_tiff, os.path.join(outputdir_alt12, trainval, f'{filename}.tfrecord'), downsample=12)\n",
    "    tbx.save_tfrecord_alt(raw_tiff, os.path.join(outputdir_alt30, trainval, f'{filename}.tfrecord'), downsample=30)\n"
   ]
  }
 ],
 "metadata": {
  "kernelspec": {
   "display_name": "pysnap36",
   "language": "python",
   "name": "python3"
  },
  "language_info": {
   "codemirror_mode": {
    "name": "ipython",
    "version": 3
   },
   "file_extension": ".py",
   "mimetype": "text/x-python",
   "name": "python",
   "nbconvert_exporter": "python",
   "pygments_lexer": "ipython3",
   "version": "3.8.16"
  },
  "orig_nbformat": 4
 },
 "nbformat": 4,
 "nbformat_minor": 2
}
