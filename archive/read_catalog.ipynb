{
 "cells": [
  {
   "cell_type": "code",
   "execution_count": 4,
   "metadata": {
    "collapsed": true,
    "ExecuteTime": {
     "end_time": "2023-06-14T08:54:00.726784901Z",
     "start_time": "2023-06-14T08:50:31.057149136Z"
    }
   },
   "outputs": [
    {
     "name": "stdout",
     "output_type": "stream",
     "text": [
      "Server: li3.cpom.ucl.ac.uk\n",
      "Executable: /home/cb/.virtualenvs/sis/bin/python\n"
     ]
    }
   ],
   "source": [
    "import socket\n",
    "import sys\n",
    "import pandas as pd\n",
    "\n",
    "print(f'Server: {socket.gethostname()}')\n",
    "print(f'Executable: {sys.executable}')\n",
    "\n",
    "s2catalog_file = '/cpnet/projects/sikuttiaq/pond_inlet/Sentinel_2/CATALOG/index_Sentinel.csv'\n",
    "s2catalog = pd.read_csv(s2catalog_file)\n"
   ]
  },
  {
   "cell_type": "code",
   "execution_count": 9,
   "outputs": [
    {
     "data": {
      "text/plain": "(24150305, 14)"
     },
     "execution_count": 9,
     "metadata": {},
     "output_type": "execute_result"
    }
   ],
   "source": [
    "s2snapshot = s2catalog.head(100)\n",
    "s2catalog.shape\n"
   ],
   "metadata": {
    "collapsed": false,
    "ExecuteTime": {
     "end_time": "2023-06-14T09:09:58.542413693Z",
     "start_time": "2023-06-14T09:09:58.537472198Z"
    }
   }
  },
  {
   "cell_type": "code",
   "execution_count": 14,
   "outputs": [],
   "source": [
    "s2snapshot.to_csv('./s2snapshot.csv', index=False)\n"
   ],
   "metadata": {
    "collapsed": false,
    "ExecuteTime": {
     "end_time": "2023-06-14T09:21:14.000771241Z",
     "start_time": "2023-06-14T09:21:13.969617931Z"
    }
   }
  },
  {
   "cell_type": "code",
   "execution_count": 15,
   "outputs": [
    {
     "data": {
      "text/plain": "                            GRANULE_ID  \\\n0   L1C_T47NKE_A027843_20201021T040111   \n1   L1C_T20MMV_A005270_20180310T144118   \n2   L1C_T45QUU_A010684_20190324T050231   \n3   L1C_T37XCD_A027161_20200903T110624   \n4   L1C_T25XEB_A029737_20210302T143116   \n..                                 ...   \n95  L1C_T11SQV_A015983_20200328T181454   \n96  L1C_T23LLG_A008358_20181012T132229   \n97  L1C_T48PXA_A014987_20180506T032150   \n98  L1C_T20XNR_A020387_20190518T180920   \n99  L1C_T42SXE_A028159_20201112T061104   \n\n                                           PRODUCT_ID  \\\n0   S2A_MSIL1C_20201021T034811_N0209_R104_T47NKE_2...   \n1   S2B_MSIL1C_20180310T143739_N0206_R096_T20MMV_2...   \n2   S2B_MSIL1C_20190324T044659_N0207_R076_T45QUU_2...   \n3   S2A_MSIL1C_20200903T110621_N0209_R137_T37XCD_2...   \n4   S2A_MSIL1C_20210302T143121_N0209_R139_T25XEB_2...   \n..                                                ...   \n95  S2B_MSIL1C_20200328T180909_N0209_R084_T11SQV_2...   \n96  S2B_MSIL1C_20181012T132229_N0206_R038_T23LLG_2...   \n97  S2A_MSIL1C_20180506T031541_N0206_R118_T48PXA_2...   \n98  S2A_MSIL1C_20190518T180921_N0207_R084_T20XNR_2...   \n99  S2A_MSIL1C_20201112T061101_N0209_R134_T42SXE_2...   \n\n                   DATATAKE_IDENTIFIER MGRS_TILE                 SENSING_TIME  \\\n0   GS2A_20201021T034811_027843_N02.09     47NKE  2020-10-21T04:07:19.355000Z   \n1   GS2B_20180310T143739_005270_N02.06     20MMV  2018-03-10T14:41:18.930000Z   \n2   GS2B_20190324T044659_010684_N02.07     45QUU  2019-03-24T05:04:01.000000Z   \n3   GS2A_20200903T110621_027161_N02.09     37XCD  2020-09-03T11:09:23.387000Z   \n4   GS2A_20210302T143121_029737_N02.09     25XEB  2021-03-02T14:31:47.337000Z   \n..                                 ...       ...                          ...   \n95  GS2B_20200328T180909_015983_N02.09     11SQV  2020-03-28T18:24:25.239000Z   \n96  GS2B_20181012T132229_008358_N02.06     23LLG  2018-10-12T13:22:29.460000Z   \n97  GS2A_20180506T031541_014987_N02.06     48PXA  2018-05-06T03:21:50.450000Z   \n98  GS2A_20190518T180921_020387_N02.07     20XNR  2019-05-18T18:10:41.000000Z   \n99  GS2A_20201112T061101_028159_N02.09     42SXE  2020-11-12T06:19:17.218000Z   \n\n     TOTAL_SIZE  CLOUD_COVER GEOMETRIC_QUALITY_FLAG  \\\n0   703385864.0      98.8961                    NaN   \n1   617027230.0      97.2867                    NaN   \n2   279988378.0       0.0032                    NaN   \n3    37381844.0     100.0000                    NaN   \n4   749866857.0      99.8583                    NaN   \n..          ...          ...                    ...   \n95  382275309.0       0.0928                    NaN   \n96  793467573.0       0.0014                    NaN   \n97  784273139.0      70.9729                    NaN   \n98  243300224.0      51.4334                    NaN   \n99  259885829.0      98.1705                    NaN   \n\n                GENERATION_TIME  NORTH_LAT  SOUTH_LAT    WEST_LON    EAST_LON  \\\n0   2020-10-21T06:50:38.000000Z   4.521984   3.526733   96.296352   97.287480   \n1   2018-03-10T18:02:22.000000Z  -4.522730  -5.516609  -63.903242  -62.912046   \n2   2019-03-24T08:30:05.000000Z  17.180253  16.184281   85.119484   85.604142   \n3   2020-09-03T11:37:48.000000Z  75.606867  75.341673   31.790500   32.911206   \n4   2021-03-02T16:39:31.000000Z  73.892365  72.880681  -33.000970  -29.459758   \n..                          ...        ...        ...         ...         ...   \n95  2020-03-28T21:43:29.000000Z  36.105927  35.107314 -114.213889 -113.559692   \n96  2018-10-12T16:43:56.000000Z -11.753509 -12.751050  -46.842262  -45.827929   \n97  2018-05-06T06:00:24.000000Z  14.471090  13.472632  105.923831  106.946312   \n98  2019-05-18T21:48:57.000000Z  81.625906  80.920406  -62.707072  -56.234084   \n99  2020-11-12T07:29:01.000000Z  36.139831  35.147279   70.097746   70.674043   \n\n                                             BASE_URL  \n0   gs://gcp-public-data-sentinel-2/tiles/47/N/KE/...  \n1   gs://gcp-public-data-sentinel-2/tiles/20/M/MV/...  \n2   gs://gcp-public-data-sentinel-2/tiles/45/Q/UU/...  \n3   gs://gcp-public-data-sentinel-2/tiles/37/X/CD/...  \n4   gs://gcp-public-data-sentinel-2/tiles/25/X/EB/...  \n..                                                ...  \n95  gs://gcp-public-data-sentinel-2/tiles/11/S/QV/...  \n96  gs://gcp-public-data-sentinel-2/tiles/23/L/LG/...  \n97  gs://gcp-public-data-sentinel-2/tiles/48/P/XA/...  \n98  gs://gcp-public-data-sentinel-2/tiles/20/X/NR/...  \n99  gs://gcp-public-data-sentinel-2/tiles/42/S/XE/...  \n\n[100 rows x 14 columns]",
      "text/html": "<div>\n<style scoped>\n    .dataframe tbody tr th:only-of-type {\n        vertical-align: middle;\n    }\n\n    .dataframe tbody tr th {\n        vertical-align: top;\n    }\n\n    .dataframe thead th {\n        text-align: right;\n    }\n</style>\n<table border=\"1\" class=\"dataframe\">\n  <thead>\n    <tr style=\"text-align: right;\">\n      <th></th>\n      <th>GRANULE_ID</th>\n      <th>PRODUCT_ID</th>\n      <th>DATATAKE_IDENTIFIER</th>\n      <th>MGRS_TILE</th>\n      <th>SENSING_TIME</th>\n      <th>TOTAL_SIZE</th>\n      <th>CLOUD_COVER</th>\n      <th>GEOMETRIC_QUALITY_FLAG</th>\n      <th>GENERATION_TIME</th>\n      <th>NORTH_LAT</th>\n      <th>SOUTH_LAT</th>\n      <th>WEST_LON</th>\n      <th>EAST_LON</th>\n      <th>BASE_URL</th>\n    </tr>\n  </thead>\n  <tbody>\n    <tr>\n      <th>0</th>\n      <td>L1C_T47NKE_A027843_20201021T040111</td>\n      <td>S2A_MSIL1C_20201021T034811_N0209_R104_T47NKE_2...</td>\n      <td>GS2A_20201021T034811_027843_N02.09</td>\n      <td>47NKE</td>\n      <td>2020-10-21T04:07:19.355000Z</td>\n      <td>703385864.0</td>\n      <td>98.8961</td>\n      <td>NaN</td>\n      <td>2020-10-21T06:50:38.000000Z</td>\n      <td>4.521984</td>\n      <td>3.526733</td>\n      <td>96.296352</td>\n      <td>97.287480</td>\n      <td>gs://gcp-public-data-sentinel-2/tiles/47/N/KE/...</td>\n    </tr>\n    <tr>\n      <th>1</th>\n      <td>L1C_T20MMV_A005270_20180310T144118</td>\n      <td>S2B_MSIL1C_20180310T143739_N0206_R096_T20MMV_2...</td>\n      <td>GS2B_20180310T143739_005270_N02.06</td>\n      <td>20MMV</td>\n      <td>2018-03-10T14:41:18.930000Z</td>\n      <td>617027230.0</td>\n      <td>97.2867</td>\n      <td>NaN</td>\n      <td>2018-03-10T18:02:22.000000Z</td>\n      <td>-4.522730</td>\n      <td>-5.516609</td>\n      <td>-63.903242</td>\n      <td>-62.912046</td>\n      <td>gs://gcp-public-data-sentinel-2/tiles/20/M/MV/...</td>\n    </tr>\n    <tr>\n      <th>2</th>\n      <td>L1C_T45QUU_A010684_20190324T050231</td>\n      <td>S2B_MSIL1C_20190324T044659_N0207_R076_T45QUU_2...</td>\n      <td>GS2B_20190324T044659_010684_N02.07</td>\n      <td>45QUU</td>\n      <td>2019-03-24T05:04:01.000000Z</td>\n      <td>279988378.0</td>\n      <td>0.0032</td>\n      <td>NaN</td>\n      <td>2019-03-24T08:30:05.000000Z</td>\n      <td>17.180253</td>\n      <td>16.184281</td>\n      <td>85.119484</td>\n      <td>85.604142</td>\n      <td>gs://gcp-public-data-sentinel-2/tiles/45/Q/UU/...</td>\n    </tr>\n    <tr>\n      <th>3</th>\n      <td>L1C_T37XCD_A027161_20200903T110624</td>\n      <td>S2A_MSIL1C_20200903T110621_N0209_R137_T37XCD_2...</td>\n      <td>GS2A_20200903T110621_027161_N02.09</td>\n      <td>37XCD</td>\n      <td>2020-09-03T11:09:23.387000Z</td>\n      <td>37381844.0</td>\n      <td>100.0000</td>\n      <td>NaN</td>\n      <td>2020-09-03T11:37:48.000000Z</td>\n      <td>75.606867</td>\n      <td>75.341673</td>\n      <td>31.790500</td>\n      <td>32.911206</td>\n      <td>gs://gcp-public-data-sentinel-2/tiles/37/X/CD/...</td>\n    </tr>\n    <tr>\n      <th>4</th>\n      <td>L1C_T25XEB_A029737_20210302T143116</td>\n      <td>S2A_MSIL1C_20210302T143121_N0209_R139_T25XEB_2...</td>\n      <td>GS2A_20210302T143121_029737_N02.09</td>\n      <td>25XEB</td>\n      <td>2021-03-02T14:31:47.337000Z</td>\n      <td>749866857.0</td>\n      <td>99.8583</td>\n      <td>NaN</td>\n      <td>2021-03-02T16:39:31.000000Z</td>\n      <td>73.892365</td>\n      <td>72.880681</td>\n      <td>-33.000970</td>\n      <td>-29.459758</td>\n      <td>gs://gcp-public-data-sentinel-2/tiles/25/X/EB/...</td>\n    </tr>\n    <tr>\n      <th>...</th>\n      <td>...</td>\n      <td>...</td>\n      <td>...</td>\n      <td>...</td>\n      <td>...</td>\n      <td>...</td>\n      <td>...</td>\n      <td>...</td>\n      <td>...</td>\n      <td>...</td>\n      <td>...</td>\n      <td>...</td>\n      <td>...</td>\n      <td>...</td>\n    </tr>\n    <tr>\n      <th>95</th>\n      <td>L1C_T11SQV_A015983_20200328T181454</td>\n      <td>S2B_MSIL1C_20200328T180909_N0209_R084_T11SQV_2...</td>\n      <td>GS2B_20200328T180909_015983_N02.09</td>\n      <td>11SQV</td>\n      <td>2020-03-28T18:24:25.239000Z</td>\n      <td>382275309.0</td>\n      <td>0.0928</td>\n      <td>NaN</td>\n      <td>2020-03-28T21:43:29.000000Z</td>\n      <td>36.105927</td>\n      <td>35.107314</td>\n      <td>-114.213889</td>\n      <td>-113.559692</td>\n      <td>gs://gcp-public-data-sentinel-2/tiles/11/S/QV/...</td>\n    </tr>\n    <tr>\n      <th>96</th>\n      <td>L1C_T23LLG_A008358_20181012T132229</td>\n      <td>S2B_MSIL1C_20181012T132229_N0206_R038_T23LLG_2...</td>\n      <td>GS2B_20181012T132229_008358_N02.06</td>\n      <td>23LLG</td>\n      <td>2018-10-12T13:22:29.460000Z</td>\n      <td>793467573.0</td>\n      <td>0.0014</td>\n      <td>NaN</td>\n      <td>2018-10-12T16:43:56.000000Z</td>\n      <td>-11.753509</td>\n      <td>-12.751050</td>\n      <td>-46.842262</td>\n      <td>-45.827929</td>\n      <td>gs://gcp-public-data-sentinel-2/tiles/23/L/LG/...</td>\n    </tr>\n    <tr>\n      <th>97</th>\n      <td>L1C_T48PXA_A014987_20180506T032150</td>\n      <td>S2A_MSIL1C_20180506T031541_N0206_R118_T48PXA_2...</td>\n      <td>GS2A_20180506T031541_014987_N02.06</td>\n      <td>48PXA</td>\n      <td>2018-05-06T03:21:50.450000Z</td>\n      <td>784273139.0</td>\n      <td>70.9729</td>\n      <td>NaN</td>\n      <td>2018-05-06T06:00:24.000000Z</td>\n      <td>14.471090</td>\n      <td>13.472632</td>\n      <td>105.923831</td>\n      <td>106.946312</td>\n      <td>gs://gcp-public-data-sentinel-2/tiles/48/P/XA/...</td>\n    </tr>\n    <tr>\n      <th>98</th>\n      <td>L1C_T20XNR_A020387_20190518T180920</td>\n      <td>S2A_MSIL1C_20190518T180921_N0207_R084_T20XNR_2...</td>\n      <td>GS2A_20190518T180921_020387_N02.07</td>\n      <td>20XNR</td>\n      <td>2019-05-18T18:10:41.000000Z</td>\n      <td>243300224.0</td>\n      <td>51.4334</td>\n      <td>NaN</td>\n      <td>2019-05-18T21:48:57.000000Z</td>\n      <td>81.625906</td>\n      <td>80.920406</td>\n      <td>-62.707072</td>\n      <td>-56.234084</td>\n      <td>gs://gcp-public-data-sentinel-2/tiles/20/X/NR/...</td>\n    </tr>\n    <tr>\n      <th>99</th>\n      <td>L1C_T42SXE_A028159_20201112T061104</td>\n      <td>S2A_MSIL1C_20201112T061101_N0209_R134_T42SXE_2...</td>\n      <td>GS2A_20201112T061101_028159_N02.09</td>\n      <td>42SXE</td>\n      <td>2020-11-12T06:19:17.218000Z</td>\n      <td>259885829.0</td>\n      <td>98.1705</td>\n      <td>NaN</td>\n      <td>2020-11-12T07:29:01.000000Z</td>\n      <td>36.139831</td>\n      <td>35.147279</td>\n      <td>70.097746</td>\n      <td>70.674043</td>\n      <td>gs://gcp-public-data-sentinel-2/tiles/42/S/XE/...</td>\n    </tr>\n  </tbody>\n</table>\n<p>100 rows × 14 columns</p>\n</div>"
     },
     "execution_count": 15,
     "metadata": {},
     "output_type": "execute_result"
    }
   ],
   "source": [
    "s2snapshot"
   ],
   "metadata": {
    "collapsed": false,
    "ExecuteTime": {
     "end_time": "2023-06-14T09:49:08.074206746Z",
     "start_time": "2023-06-14T09:49:08.033238385Z"
    }
   }
  }
 ],
 "metadata": {
  "kernelspec": {
   "display_name": "Python 3",
   "language": "python",
   "name": "python3"
  },
  "language_info": {
   "codemirror_mode": {
    "name": "ipython",
    "version": 2
   },
   "file_extension": ".py",
   "mimetype": "text/x-python",
   "name": "python",
   "nbconvert_exporter": "python",
   "pygments_lexer": "ipython2",
   "version": "2.7.6"
  }
 },
 "nbformat": 4,
 "nbformat_minor": 0
}
